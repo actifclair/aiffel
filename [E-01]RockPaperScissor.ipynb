{
 "cells": [
  {
   "cell_type": "markdown",
   "id": "24217261",
   "metadata": {},
   "source": [
    "# 가위바위보 분류기 만들기"
   ]
  },
  {
   "cell_type": "markdown",
   "id": "4bacb630",
   "metadata": {},
   "source": [
    "데이터 불러오기, resize 해주기"
   ]
  },
  {
   "cell_type": "code",
   "execution_count": 1,
   "id": "7bfeb7f8",
   "metadata": {},
   "outputs": [
    {
     "name": "stdout",
     "output_type": "stream",
     "text": [
      "PIL 라이브러리 import 완료!\n"
     ]
    }
   ],
   "source": [
    "from PIL import Image\n",
    "import glob\n",
    "import os\n",
    "\n",
    "print(\"PIL 라이브러리 import 완료!\") #PIL 라이브러리 불러오기"
   ]
  },
  {
   "cell_type": "code",
   "execution_count": 2,
   "id": "85862569",
   "metadata": {},
   "outputs": [
    {
     "name": "stdout",
     "output_type": "stream",
     "text": [
      "101  images to be resized.\n",
      "101  images resized.\n",
      "가위 이미지 resize 완료!\n"
     ]
    }
   ],
   "source": [
    "# 가위 이미지 사이즈 변경\n",
    "\n",
    "def resize_images(img_path):\n",
    "    images=glob.glob(img_path + \"/*.jpg\")  \n",
    "    \n",
    "    print(len(images), \" images to be resized.\")\n",
    "\n",
    "  # 이미지를 불러와 파일마다 모두 28x28 사이즈로 바꾸어 저장\n",
    "    target_size=(28,28)\n",
    "    for img in images:\n",
    "        old_img=Image.open(img)\n",
    "        new_img=old_img.resize(target_size,Image.ANTIALIAS)\n",
    "        new_img.save(img, \"JPEG\")\n",
    "    \n",
    "    print(len(images), \" images resized.\")\n",
    "\n",
    "image_dir_path = os.getenv(\"HOME\") + \"/aiffel/rock_scissor_paper/test/scissor\"\n",
    "resize_images(image_dir_path)\n",
    "\n",
    "print(\"가위 이미지 resize 완료!\")"
   ]
  },
  {
   "cell_type": "code",
   "execution_count": 3,
   "id": "55ed64f7",
   "metadata": {},
   "outputs": [
    {
     "name": "stdout",
     "output_type": "stream",
     "text": [
      "101  images to be resized.\n",
      "101  images resized.\n",
      "바위 이미지 resize 완료!\n"
     ]
    }
   ],
   "source": [
    "# 바위 이미지 사이즈 변경\n",
    "\n",
    "image_dir_path = os.getenv(\"HOME\") + \"/aiffel/rock_scissor_paper/test/rock\"\n",
    "resize_images(image_dir_path)\n",
    "\n",
    "print(\"바위 이미지 resize 완료!\")"
   ]
  },
  {
   "cell_type": "code",
   "execution_count": 4,
   "id": "f81a24e0",
   "metadata": {},
   "outputs": [
    {
     "name": "stdout",
     "output_type": "stream",
     "text": [
      "101  images to be resized.\n",
      "101  images resized.\n",
      "보 이미지 resize 완료!\n"
     ]
    }
   ],
   "source": [
    "# 보 이미지 사이즈 변경\n",
    "\n",
    "image_dir_path = os.getenv(\"HOME\") + \"/aiffel/rock_scissor_paper/test/paper\"\n",
    "resize_images(image_dir_path)\n",
    "\n",
    "print(\"보 이미지 resize 완료!\")"
   ]
  },
  {
   "cell_type": "code",
   "execution_count": 5,
   "id": "ac436f04",
   "metadata": {},
   "outputs": [
    {
     "name": "stdout",
     "output_type": "stream",
     "text": [
      "학습데이터(x_train)의 이미지 개수는 303 입니다.\n",
      "x_train shape: (900, 28, 28, 3)\n",
      "y_train shape: (900,)\n"
     ]
    }
   ],
   "source": [
    "import numpy as np\n",
    "\n",
    "def load_data(img_path, number_of_data=900):  # 가위바위보 이미지 개수 총합에 주의하세요.\n",
    "    # 가위 : 0, 바위 : 1, 보 : 2\n",
    "    img_size=28\n",
    "    color=3\n",
    "    #이미지 데이터와 라벨(가위 : 0, 바위 : 1, 보 : 2) 데이터를 담을 행렬(matrix) 영역을 생성합니다.\n",
    "    imgs=np.zeros(number_of_data*img_size*img_size*color,dtype=np.int32).reshape(number_of_data,img_size,img_size,color)\n",
    "    labels=np.zeros(number_of_data,dtype=np.int32)\n",
    "\n",
    "    idx=0\n",
    "    for file in glob.iglob(img_path+'/scissor/*.jpg'):\n",
    "        img = np.array(Image.open(file),dtype=np.int32)\n",
    "        imgs[idx,:,:,:]=img    # 데이터 영역에 이미지 행렬을 복사\n",
    "        labels[idx]=0   # 가위 : 0\n",
    "        idx=idx+1\n",
    "\n",
    "    for file in glob.iglob(img_path+'/rock/*.jpg'):\n",
    "        img = np.array(Image.open(file),dtype=np.int32)\n",
    "        imgs[idx,:,:,:]=img    # 데이터 영역에 이미지 행렬을 복사\n",
    "        labels[idx]=1   # 바위 : 1\n",
    "        idx=idx+1  \n",
    "    \n",
    "    for file in glob.iglob(img_path+'/paper/*.jpg'):\n",
    "        img = np.array(Image.open(file),dtype=np.int32)\n",
    "        imgs[idx,:,:,:]=img    # 데이터 영역에 이미지 행렬을 복사\n",
    "        labels[idx]=2   # 보 : 2\n",
    "        idx=idx+1\n",
    "        \n",
    "    print(\"학습데이터(x_train)의 이미지 개수는\", idx,\"입니다.\")\n",
    "    return imgs, labels\n",
    "\n",
    "image_dir_path = os.getenv(\"HOME\") + \"/aiffel/rock_scissor_paper/test\"\n",
    "(x_train, y_train)=load_data(image_dir_path) # x_train 문제지(입력이미지), y_train 정답지(출력라벨)\n",
    "x_train_norm = x_train/255.0\n",
    "\n",
    "print(\"x_train shape: {}\".format(x_train.shape))\n",
    "print(\"y_train shape: {}\".format(y_train.shape))\n"
   ]
  },
  {
   "cell_type": "code",
   "execution_count": 6,
   "id": "7f0941bd",
   "metadata": {},
   "outputs": [
    {
     "name": "stdout",
     "output_type": "stream",
     "text": [
      "라벨:  0\n"
     ]
    },
    {
     "data": {
      "image/png": "[encoded data removed]",
      "text/plain": [
       "<Figure size 432x288 with 1 Axes>"
      ]
     },
     "metadata": {
      "needs_background": "light"
     },
     "output_type": "display_data"
    }
   ],
   "source": [
    "import matplotlib.pyplot as plt\n",
    "\n",
    "plt.imshow(x_train[0])\n",
    "print('라벨: ', y_train[0])"
   ]
  },
  {
   "cell_type": "markdown",
   "id": "300ce17b",
   "metadata": {},
   "source": [
    "# 네트워크 설계"
   ]
  },
  {
   "cell_type": "code",
   "execution_count": 7,
   "id": "27bb615d",
   "metadata": {},
   "outputs": [
    {
     "name": "stdout",
     "output_type": "stream",
     "text": [
      "Model: \"sequential\"\n",
      "_________________________________________________________________\n",
      "Layer (type)                 Output Shape              Param #   \n",
      "=================================================================\n",
      "conv2d (Conv2D)              (None, 26, 26, 16)        448       \n",
      "_________________________________________________________________\n",
      "max_pooling2d (MaxPooling2D) (None, 13, 13, 16)        0         \n",
      "_________________________________________________________________\n",
      "conv2d_1 (Conv2D)            (None, 11, 11, 32)        4640      \n",
      "_________________________________________________________________\n",
      "max_pooling2d_1 (MaxPooling2 (None, 5, 5, 32)          0         \n",
      "_________________________________________________________________\n",
      "flatten (Flatten)            (None, 800)               0         \n",
      "_________________________________________________________________\n",
      "dense (Dense)                (None, 32)                25632     \n",
      "_________________________________________________________________\n",
      "dense_1 (Dense)              (None, 3)                 99        \n",
      "=================================================================\n",
      "Total params: 30,819\n",
      "Trainable params: 30,819\n",
      "Non-trainable params: 0\n",
      "_________________________________________________________________\n"
     ]
    }
   ],
   "source": [
    "import tensorflow as tf\n",
    "from tensorflow import keras\n",
    "import numpy as np\n",
    "\n",
    "model = keras.models.Sequential()\n",
    "model.add(keras.layers.Conv2D(16, (3, 3), activation = 'relu', input_shape=(28, 28, 3)))\n",
    "model.add(keras.layers.MaxPooling2D(2, 2))\n",
    "model.add(keras.layers.Conv2D(32, (3, 3), activation = 'relu'))\n",
    "model.add(keras.layers.MaxPooling2D(2, 2))\n",
    "model.add(keras.layers.Flatten())\n",
    "model.add(keras.layers.Dense(32, activation = 'relu')) \n",
    "model.add(keras.layers.Dense(3, activation = 'softmax')) #가위,바위,보 3개니까 3\n",
    "\n",
    "model.summary()"
   ]
  },
  {
   "cell_type": "code",
   "execution_count": 8,
   "id": "c623f1c6",
   "metadata": {},
   "outputs": [
    {
     "name": "stdout",
     "output_type": "stream",
     "text": [
      "Epoch 1/15\n",
      "29/29 [==============================] - 3s 5ms/step - loss: 1.0146 - accuracy: 0.7744\n",
      "Epoch 2/15\n",
      "29/29 [==============================] - 0s 3ms/step - loss: 0.4900 - accuracy: 0.8278\n",
      "Epoch 3/15\n",
      "29/29 [==============================] - 0s 3ms/step - loss: 0.3489 - accuracy: 0.8533\n",
      "Epoch 4/15\n",
      "29/29 [==============================] - 0s 3ms/step - loss: 0.3211 - accuracy: 0.8744\n",
      "Epoch 5/15\n",
      "29/29 [==============================] - 0s 3ms/step - loss: 0.2959 - accuracy: 0.8933\n",
      "Epoch 6/15\n",
      "29/29 [==============================] - 0s 3ms/step - loss: 0.2420 - accuracy: 0.9278\n",
      "Epoch 7/15\n",
      "29/29 [==============================] - 0s 3ms/step - loss: 0.2101 - accuracy: 0.9222\n",
      "Epoch 8/15\n",
      "29/29 [==============================] - 0s 3ms/step - loss: 0.1779 - accuracy: 0.9256\n",
      "Epoch 9/15\n",
      "29/29 [==============================] - 0s 3ms/step - loss: 0.1629 - accuracy: 0.9389\n",
      "Epoch 10/15\n",
      "29/29 [==============================] - 0s 3ms/step - loss: 0.1399 - accuracy: 0.9411\n",
      "Epoch 11/15\n",
      "29/29 [==============================] - 0s 3ms/step - loss: 0.1142 - accuracy: 0.9800\n",
      "Epoch 12/15\n",
      "29/29 [==============================] - 0s 3ms/step - loss: 0.1024 - accuracy: 0.9756\n",
      "Epoch 13/15\n",
      "29/29 [==============================] - 0s 3ms/step - loss: 0.0764 - accuracy: 0.9900\n",
      "Epoch 14/15\n",
      "29/29 [==============================] - 0s 3ms/step - loss: 0.0621 - accuracy: 0.9944\n",
      "Epoch 15/15\n",
      "29/29 [==============================] - 0s 3ms/step - loss: 0.0480 - accuracy: 0.9967\n"
     ]
    },
    {
     "data": {
      "text/plain": [
       "<keras.callbacks.History at 0x7f59cc2a91f0>"
      ]
     },
     "execution_count": 8,
     "metadata": {},
     "output_type": "execute_result"
    }
   ],
   "source": [
    "model.compile(optimizer = 'adam', \n",
    "              loss = 'sparse_categorical_crossentropy', \n",
    "              metrics = ['accuracy'])\n",
    "\n",
    "# 모델 훈련\n",
    "model.fit(x_train_norm, y_train, epochs = 15) #번반복"
   ]
  },
  {
   "cell_type": "markdown",
   "id": "247f87a4",
   "metadata": {},
   "source": [
    "# 성능 평가 테스트"
   ]
  },
  {
   "cell_type": "code",
   "execution_count": 9,
   "id": "d2f28a4a",
   "metadata": {},
   "outputs": [
    {
     "name": "stdout",
     "output_type": "stream",
     "text": [
      "100  images to be resized.\n",
      "100  images resized.\n",
      "가위 샘플 이미지 resize 완료!\n"
     ]
    }
   ],
   "source": [
    "#샘플 가위 이미지 사이즈 변경(28x28)\n",
    "image_dir_path = os.getenv(\"HOME\") + \"/aiffel/rock_scissor_paper/scissor\"\n",
    "resize_images(image_dir_path)  \n",
    "\n",
    "print(\"가위 샘플 이미지 resize 완료!\")"
   ]
  },
  {
   "cell_type": "code",
   "execution_count": 10,
   "id": "f46a4eeb",
   "metadata": {},
   "outputs": [
    {
     "name": "stdout",
     "output_type": "stream",
     "text": [
      "100  images to be resized.\n",
      "100  images resized.\n",
      "바위 샘플 이미지 resize 완료!\n"
     ]
    }
   ],
   "source": [
    "#샘플 바위 이미지 사이즈 변경(28x28)\n",
    "image_dir_path = os.getenv(\"HOME\") + \"/aiffel/rock_scissor_paper/rock\"\n",
    "resize_images(image_dir_path)\n",
    "\n",
    "print(\"바위 샘플 이미지 resize 완료!\")"
   ]
  },
  {
   "cell_type": "code",
   "execution_count": 11,
   "id": "ddb5e396",
   "metadata": {},
   "outputs": [
    {
     "name": "stdout",
     "output_type": "stream",
     "text": [
      "100  images to be resized.\n",
      "100  images resized.\n",
      "보 샘플 이미지 resize 완료!\n"
     ]
    }
   ],
   "source": [
    "#샘플 보 이미지 사이즈 변경(28x28)\n",
    "image_dir_path = os.getenv(\"HOME\") + \"/aiffel/rock_scissor_paper/paper\"\n",
    "resize_images(image_dir_path)\n",
    "\n",
    "print(\"보 샘플 이미지 resize 완료!\")"
   ]
  },
  {
   "cell_type": "code",
   "execution_count": 12,
   "id": "d15342ad",
   "metadata": {},
   "outputs": [
    {
     "name": "stdout",
     "output_type": "stream",
     "text": [
      "학습데이터(x_train)의 이미지 개수는 300 입니다.\n",
      "x_test shape: (303, 28, 28, 3)\n",
      "y_test shape: (303,)\n"
     ]
    }
   ],
   "source": [
    "#가위, 바위, 보 데이터를 읽을 수 있는 load_data() 함수로 데이터 불러오기\n",
    "image_dir_path = os.getenv(\"HOME\") + \"/aiffel/rock_scissor_paper\"\n",
    "(x_test, y_test)=load_data(image_dir_path, 303) #x_test,y_test만들기, 이미지 개수 정확하게 적어주어야 함\n",
    "x_test_norm = x_test/255.0 \n",
    "\n",
    "print(\"x_test shape: {}\".format(x_test.shape))\n",
    "print(\"y_test shape: {}\".format(y_test.shape))"
   ]
  },
  {
   "cell_type": "code",
   "execution_count": 13,
   "id": "cacb258e",
   "metadata": {},
   "outputs": [
    {
     "name": "stdout",
     "output_type": "stream",
     "text": [
      "라벨:  0\n"
     ]
    },
    {
     "data": {
      "image/png": "[encoded data removed]",
      "text/plain": [
       "<Figure size 432x288 with 1 Axes>"
      ]
     },
     "metadata": {
      "needs_background": "light"
     },
     "output_type": "display_data"
    }
   ],
   "source": [
    "#이미지 불러오기\n",
    "import matplotlib.pyplot as plt\n",
    "\n",
    "plt.imshow(x_test_norm[0])\n",
    "print('라벨: ', y_test[0])"
   ]
  },
  {
   "cell_type": "code",
   "execution_count": 14,
   "id": "d2790ead",
   "metadata": {},
   "outputs": [
    {
     "name": "stdout",
     "output_type": "stream",
     "text": [
      "10/10 - 0s - loss: 307.8369 - accuracy: 0.5248\n",
      "test_loss : 307.8369140625\n",
      "test_accuracy : 0.5247524976730347\n"
     ]
    }
   ],
   "source": [
    "test_loss, test_accuracy = model.evaluate(x_test, y_test, verbose = 2)\n",
    "\n",
    "print(\"test_loss : {}\".format(test_loss))\n",
    "print(\"test_accuracy : {}\".format(test_accuracy))"
   ]
  },
  {
   "cell_type": "code",
   "execution_count": 15,
   "id": "a2b72de5",
   "metadata": {},
   "outputs": [],
   "source": [
    "predicted_result = model.predict(x_test)  \n",
    "predicted_labels = np.argmax(predicted_result, axis=1)"
   ]
  },
  {
   "cell_type": "code",
   "execution_count": 16,
   "id": "b0f57e7f",
   "metadata": {},
   "outputs": [
    {
     "name": "stdout",
     "output_type": "stream",
     "text": [
      "예측확률분포: [0. 0. 1.]\n",
      "라벨: 1, 예측결과: 2\n"
     ]
    },
    {
     "data": {
      "image/png": "[encoded data removed]",
      "text/plain": [
       "<Figure size 432x288 with 1 Axes>"
      ]
     },
     "metadata": {
      "needs_background": "light"
     },
     "output_type": "display_data"
    },
    {
     "name": "stdout",
     "output_type": "stream",
     "text": [
      "예측확률분포: [0. 1. 0.]\n",
      "라벨: 0, 예측결과: 1\n"
     ]
    },
    {
     "data": {
      "image/png": "[encoded data removed]",
      "text/plain": [
       "<Figure size 432x288 with 1 Axes>"
      ]
     },
     "metadata": {
      "needs_background": "light"
     },
     "output_type": "display_data"
    },
    {
     "name": "stdout",
     "output_type": "stream",
     "text": [
      "예측확률분포: [0.000000e+00 8.388915e-15 1.000000e+00]\n",
      "라벨: 0, 예측결과: 2\n"
     ]
    },
    {
     "data": {
      "image/png": "[encoded data removed]",
      "text/plain": [
       "<Figure size 432x288 with 1 Axes>"
      ]
     },
     "metadata": {
      "needs_background": "light"
     },
     "output_type": "display_data"
    },
    {
     "name": "stdout",
     "output_type": "stream",
     "text": [
      "예측확률분포: [0.9893755  0.         0.01062457]\n",
      "라벨: 1, 예측결과: 0\n"
     ]
    },
    {
     "data": {
      "image/png": "[encoded data removed]",
      "text/plain": [
       "<Figure size 432x288 with 1 Axes>"
      ]
     },
     "metadata": {
      "needs_background": "light"
     },
     "output_type": "display_data"
    },
    {
     "name": "stdout",
     "output_type": "stream",
     "text": [
      "예측확률분포: [0.000000e+00 1.000000e+00 4.622379e-17]\n",
      "라벨: 0, 예측결과: 1\n"
     ]
    },
    {
     "data": {
      "image/png": "[encoded data removed]",
      "text/plain": [
       "<Figure size 432x288 with 1 Axes>"
      ]
     },
     "metadata": {
      "needs_background": "light"
     },
     "output_type": "display_data"
    }
   ],
   "source": [
    "import random\n",
    "wrong_predict_list=[]\n",
    "for i, _ in enumerate(predicted_labels):\n",
    "    # i번째 test_labels과 y_test이 다른 경우만 모아 봅시다. \n",
    "    if predicted_labels[i] != y_test[i]:\n",
    "        wrong_predict_list.append(i)\n",
    "\n",
    "# wrong_predict_list 에서 랜덤하게 5개만 뽑아봅시다.\n",
    "samples = random.choices(population=wrong_predict_list, k=5)\n",
    "\n",
    "for n in samples:\n",
    "    print(\"예측확률분포: \" + str(predicted_result[n]))\n",
    "    print(\"라벨: \" + str(y_test[n]) + \", 예측결과: \" + str(predicted_labels[n]))\n",
    "    plt.imshow(x_test[n], cmap=plt.cm.binary)\n",
    "    plt.show()"
   ]
  },
  {
   "cell_type": "markdown",
   "id": "9af71f2b",
   "metadata": {},
   "source": [
    "약 57%의 정확도가 나왔다. 리스타트 할 때마다 떨어졌다;;"
   ]
  },
  {
   "cell_type": "markdown",
   "id": "7ec10571",
   "metadata": {},
   "source": [
    "# [E-01] 회고\n",
    "\n",
    "이번 프로젝트를 하면서 정확히 알고 넘어가야겠다는 생각이 들었습니다. 예를들어 A라는 것에 대해서 설명과 정리를 해주셨는데, 이걸 제 딴에는 요약하고 기억을 했다고 넘어갔는데 후에 이게 기억이 나지 않아서 노드와 노트 정리를 여러번 찾아봤었습니다.\n",
    "\n",
    "노드와 노트 정리를 봤음에도 불구하고 기억이 안 나거나 이해가 되지 않았던 부분은 구글링을 통해서 여러가지 자료를 찾아봤었는데, 이론에서는 도움이 되었지만 실제 프로젝트에 들어갔을 때는 저 혼자 함정을 파고 거기에 빠지는 일이 생겼습니다.\n",
    "\n",
    "구글링과 노드의 조합으로 쓸 것만 뽑아서 사용해야 하는데, 이것 저것 다 집어넣어 대환장파티를 만들었습니다.ㅎㅎ;; def(define)을 사용함으로써 코드를 더 간결하고 수월하게 작성할 수 있는데, 어찌할 줄 몰라서 다급한 마음에 정신없이 코드를 반복하고 남발을 하다보니 저도 어지러운데 프로그램은 오죽했을까요?\n",
    "\n",
    "그래서 프로그램이 정확도 33%라는 결과를 보여줬습니다.\n",
    "\n",
    "은서님의 도움으로 코드를 정리하는데 위에 적었듯이 지저분한 코드를 정리하고, 훈련을 300번, 테스트를 900번을 하는 기이한 코드를 고쳤고 그 덕분에 60%까지 올라가지 못 했더라도 57%까지 올라갈 수 있었습니다.\n",
    "\n",
    "이번 프로젝트를 통해서 제가 뭐가 부족하고 어떤 점이 약한지, 뭐를 잘못하고 있었는지 알게 되었고 LMS시간동안 어떤 방식으로 공부를 하는 것이 저에게 좋을지 감이 잡혔습니다.\n",
    "\n",
    "\n",
    "제가 잘 몰랐고 잘 못 찾아본 것이기에 루브릭 평가 지표를 달성하지 못한 것이라고 생각합니다.\n",
    "\n",
    "다행히 이번에는 엉망진창이었던 노트를 한 번더 수정할 수 있는 기회를 받아서 이렇게 정리할 수 있었습니다. 다음에는 보기 쉽도록 깔끔하게 코드를 적어 루브릭 평가 지표를 달성할 수 있게 만들고, 구글링을 통해 찾은 자료를 통해 코드를 남발하지 않도록 주의해야겠습니다."
   ]
  }
 ],
 "metadata": {
  "kernelspec": {
   "display_name": "Python 3 (ipykernel)",
   "language": "python",
   "name": "python3"
  },
  "language_info": {
   "codemirror_mode": {
    "name": "ipython",
    "version": 3
   },
   "file_extension": ".py",
   "mimetype": "text/x-python",
   "name": "python",
   "nbconvert_exporter": "python",
   "pygments_lexer": "ipython3",
   "version": "3.9.7"
  }
 },
 "nbformat": 4,
 "nbformat_minor": 5
}
