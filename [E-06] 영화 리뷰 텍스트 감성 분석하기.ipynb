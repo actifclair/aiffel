{
 "cells": [
  {
   "cell_type": "markdown",
   "id": "629a050c",
   "metadata": {},
   "source": [
    "# 1. 데이터 준비와 확인"
   ]
  },
  {
   "cell_type": "code",
   "execution_count": 1,
   "id": "e68d8b94",
   "metadata": {},
   "outputs": [],
   "source": [
    "import os\n",
    "import re\n",
    "import pandas as pd\n",
    "import numpy as np\n",
    "\n",
    "import urllib.request\n",
    "import matplotlib.pyplot as plt\n",
    "%matplotlib inline\n",
    "\n",
    "\n",
    "from konlpy.tag import Okt\n",
    "from konlpy.tag import Mecab\n",
    "\n",
    "from tensorflow import keras\n",
    "from tensorflow.keras.preprocessing.text import Tokenizer\n",
    "from tensorflow.keras.preprocessing.sequence import pad_sequences\n",
    "from tensorflow.keras.initializers import Constant\n",
    "from tensorflow.keras.callbacks import EarlyStopping, ModelCheckpoint\n",
    "from tensorflow.keras.models import load_model\n",
    "\n",
    "from collections import Counter\n",
    "import gensim\n",
    "from gensim.models import KeyedVectors\n",
    "from gensim.models.keyedvectors import Word2VecKeyedVectors"
   ]
  },
  {
   "cell_type": "code",
   "execution_count": 2,
   "id": "72f13eb5",
   "metadata": {},
   "outputs": [
    {
     "name": "stdout",
     "output_type": "stream",
     "text": [
      "Requirement already satisfied: gensim in /opt/conda/lib/python3.9/site-packages (3.8.3)\n",
      "Requirement already satisfied: numpy>=1.11.3 in /opt/conda/lib/python3.9/site-packages (from gensim) (1.21.4)\n",
      "Requirement already satisfied: smart-open>=1.8.1 in /opt/conda/lib/python3.9/site-packages (from gensim) (5.2.1)\n",
      "Requirement already satisfied: scipy>=0.18.1 in /opt/conda/lib/python3.9/site-packages (from gensim) (1.7.1)\n",
      "Requirement already satisfied: six>=1.5.0 in /opt/conda/lib/python3.9/site-packages (from gensim) (1.16.0)\n",
      "\u001b[33mWARNING: Running pip as the 'root' user can result in broken permissions and conflicting behaviour with the system package manager. It is recommended to use a virtual environment instead: https://pip.pypa.io/warnings/venv\u001b[0m\n",
      "Requirement already satisfied: gensim==3.8.3 in /opt/conda/lib/python3.9/site-packages (3.8.3)\n",
      "Requirement already satisfied: smart-open>=1.8.1 in /opt/conda/lib/python3.9/site-packages (from gensim==3.8.3) (5.2.1)\n",
      "Requirement already satisfied: scipy>=0.18.1 in /opt/conda/lib/python3.9/site-packages (from gensim==3.8.3) (1.7.1)\n",
      "Requirement already satisfied: numpy>=1.11.3 in /opt/conda/lib/python3.9/site-packages (from gensim==3.8.3) (1.21.4)\n",
      "Requirement already satisfied: six>=1.5.0 in /opt/conda/lib/python3.9/site-packages (from gensim==3.8.3) (1.16.0)\n",
      "\u001b[33mWARNING: Running pip as the 'root' user can result in broken permissions and conflicting behaviour with the system package manager. It is recommended to use a virtual environment instead: https://pip.pypa.io/warnings/venv\u001b[0m\n"
     ]
    }
   ],
   "source": [
    "! pip install gensim\n",
    "\n",
    "! pip install --upgrade gensim==3.8.3"
   ]
  },
  {
   "cell_type": "markdown",
   "id": "33b98da4",
   "metadata": {},
   "source": [
    "# 2. 데이터로더 구성"
   ]
  },
  {
   "cell_type": "code",
   "execution_count": 3,
   "id": "ff5dda81",
   "metadata": {},
   "outputs": [
    {
     "data": {
      "text/html": [
       "<div>\n",
       "<style scoped>\n",
       "    .dataframe tbody tr th:only-of-type {\n",
       "        vertical-align: middle;\n",
       "    }\n",
       "\n",
       "    .dataframe tbody tr th {\n",
       "        vertical-align: top;\n",
       "    }\n",
       "\n",
       "    .dataframe thead th {\n",
       "        text-align: right;\n",
       "    }\n",
       "</style>\n",
       "<table border=\"1\" class=\"dataframe\">\n",
       "  <thead>\n",
       "    <tr style=\"text-align: right;\">\n",
       "      <th></th>\n",
       "      <th>id</th>\n",
       "      <th>document</th>\n",
       "      <th>label</th>\n",
       "    </tr>\n",
       "  </thead>\n",
       "  <tbody>\n",
       "    <tr>\n",
       "      <th>0</th>\n",
       "      <td>9976970</td>\n",
       "      <td>아 더빙.. 진짜 짜증나네요 목소리</td>\n",
       "      <td>0</td>\n",
       "    </tr>\n",
       "    <tr>\n",
       "      <th>1</th>\n",
       "      <td>3819312</td>\n",
       "      <td>흠...포스터보고 초딩영화줄....오버연기조차 가볍지 않구나</td>\n",
       "      <td>1</td>\n",
       "    </tr>\n",
       "    <tr>\n",
       "      <th>2</th>\n",
       "      <td>10265843</td>\n",
       "      <td>너무재밓었다그래서보는것을추천한다</td>\n",
       "      <td>0</td>\n",
       "    </tr>\n",
       "    <tr>\n",
       "      <th>3</th>\n",
       "      <td>9045019</td>\n",
       "      <td>교도소 이야기구먼 ..솔직히 재미는 없다..평점 조정</td>\n",
       "      <td>0</td>\n",
       "    </tr>\n",
       "    <tr>\n",
       "      <th>4</th>\n",
       "      <td>6483659</td>\n",
       "      <td>사이몬페그의 익살스런 연기가 돋보였던 영화!스파이더맨에서 늙어보이기만 했던 커스틴 ...</td>\n",
       "      <td>1</td>\n",
       "    </tr>\n",
       "  </tbody>\n",
       "</table>\n",
       "</div>"
      ],
      "text/plain": [
       "         id                                           document  label\n",
       "0   9976970                                아 더빙.. 진짜 짜증나네요 목소리      0\n",
       "1   3819312                  흠...포스터보고 초딩영화줄....오버연기조차 가볍지 않구나      1\n",
       "2  10265843                                  너무재밓었다그래서보는것을추천한다      0\n",
       "3   9045019                      교도소 이야기구먼 ..솔직히 재미는 없다..평점 조정      0\n",
       "4   6483659  사이몬페그의 익살스런 연기가 돋보였던 영화!스파이더맨에서 늙어보이기만 했던 커스틴 ...      1"
      ]
     },
     "execution_count": 3,
     "metadata": {},
     "output_type": "execute_result"
    }
   ],
   "source": [
    "# 데이터를 읽어봅시다. \n",
    "train_data = pd.read_table('~/aiffel/sentiment_classification/data/ratings_train.txt')\n",
    "test_data = pd.read_table('~/aiffel/sentiment_classification/data/ratings_test.txt')\n",
    "\n",
    "train_data.head()"
   ]
  },
  {
   "cell_type": "code",
   "execution_count": 4,
   "id": "40ff1b76",
   "metadata": {},
   "outputs": [],
   "source": [
    "tokenizer = Mecab()\n",
    "stopwords = ['의','가','이','은','들','는','좀','잘','걍','과','도','를','으로','자','에','와','한','하다']"
   ]
  },
  {
   "cell_type": "code",
   "execution_count": 5,
   "id": "73181d69",
   "metadata": {},
   "outputs": [],
   "source": [
    "def load_data(train_data, test_data, num_words=10000):\n",
    "    # [[YOUR CODE]]\n",
    "    train_data.drop_duplicates(subset=['document'], inplace=True)\n",
    "    train_data = train_data.dropna(how = 'any') \n",
    "    test_data.drop_duplicates(subset=['document'], inplace=True)\n",
    "    test_data = test_data.dropna(how = 'any') \n",
    "\n",
    "    X_train = []\n",
    "    for sentence in train_data['document']:\n",
    "        temp_X = tokenizer.morphs(sentence)\n",
    "        temp_X = [word for word in temp_X if not word in stopwords]\n",
    "        X_train.append(temp_X)\n",
    "\n",
    "    X_test = []\n",
    "    for sentence in test_data['document']:\n",
    "        temp_X = tokenizer.morphs(sentence)\n",
    "        temp_X = [word for word in temp_X if not word in stopwords]\n",
    "        X_test.append(temp_X)\n",
    "\n",
    "    words = np.concatenate(X_train).tolist()\n",
    "    counter = Counter(words)\n",
    "    counter = counter.most_common(10000-4)\n",
    "    vocab = ['<PAD>', '<BOS>', '<UNK>', '<UNUSED>'] + [key for key, _ in counter]\n",
    "    word_to_index = {word:index for index, word in enumerate(vocab)}\n",
    "\n",
    "    def wordlist_to_indexlist(wordlist):\n",
    "        return [word_to_index[word] if word in word_to_index else word_to_index['<UNK>'] for word in wordlist]\n",
    "\n",
    "    X_train = list(map(wordlist_to_indexlist, X_train))\n",
    "    X_test = list(map(wordlist_to_indexlist, X_test))\n",
    "\n",
    "    return X_train, np.array(list(train_data['label'])), X_test, np.array(list(test_data['label'])), word_to_index"
   ]
  },
  {
   "cell_type": "code",
   "execution_count": 6,
   "id": "2360965e",
   "metadata": {},
   "outputs": [],
   "source": [
    "X_train, y_train, X_test, y_test, word_to_index = load_data(train_data, test_data)"
   ]
  },
  {
   "cell_type": "code",
   "execution_count": 7,
   "id": "fb456939",
   "metadata": {},
   "outputs": [],
   "source": [
    "index_to_word = {index:word for word, index in word_to_index.items()}"
   ]
  },
  {
   "cell_type": "code",
   "execution_count": 8,
   "id": "078dcffb",
   "metadata": {},
   "outputs": [
    {
     "data": {
      "text/plain": [
       "10000"
      ]
     },
     "execution_count": 8,
     "metadata": {},
     "output_type": "execute_result"
    }
   ],
   "source": [
    "len(word_to_index)"
   ]
  },
  {
   "cell_type": "code",
   "execution_count": 9,
   "id": "d8601d3e",
   "metadata": {},
   "outputs": [],
   "source": [
    "def get_encoded_sentence(sentence, word_to_index):\n",
    "    return [word_to_index['<BOS>']]+[word_to_index[word] if word in word_to_index else word_to_index['<UNK>'] for word in sentence.split()]\n",
    "\n",
    "def get_encoded_sentences(sentences, word_to_index):\n",
    "    return [get_encoded_sentence(sentence, word_to_index) for sentence in sentences]\n",
    "\n",
    "def get_decoded_sentence(encoded_sentence, index_to_word):\n",
    "    return ' '.join(index_to_word[index] if index in index_to_word else '<UNK>' for index in encoded_sentence[1:])  #[1:]를 통해 <BOS>를 제외\n",
    "\n",
    "def get_decoded_sentences(encoded_sentences, index_to_word):\n",
    "    return [get_decoded_sentence(encoded_sentence, index_to_word) for encoded_sentence in encoded_sentences]"
   ]
  },
  {
   "cell_type": "markdown",
   "id": "6c7cc6a0",
   "metadata": {},
   "source": [
    "# 3. 모델 구성을 위한 데이터 분석 및 가공"
   ]
  },
  {
   "cell_type": "code",
   "execution_count": 10,
   "id": "c872d2cb",
   "metadata": {},
   "outputs": [
    {
     "name": "stdout",
     "output_type": "stream",
     "text": [
      "문장길이 평균 :  15.96940191154864\n",
      "문장길이 최대 :  116\n",
      "문장길이 표준편차 :  12.843571191092\n"
     ]
    }
   ],
   "source": [
    "# 데이터셋 내 문장 길이 분포\n",
    "total_data_text = list(X_train) + list(X_test)\n",
    "\n",
    "num_tokens = [len(tokens) for tokens in total_data_text]\n",
    "num_tokens = np.array(num_tokens)\n",
    "\n",
    "print('문장길이 평균 : ', np.mean(num_tokens))\n",
    "print('문장길이 최대 : ', np.max(num_tokens))\n",
    "print('문장길이 표준편차 : ', np.std(num_tokens))"
   ]
  },
  {
   "cell_type": "code",
   "execution_count": 11,
   "id": "9ba5a512",
   "metadata": {},
   "outputs": [
    {
     "name": "stdout",
     "output_type": "stream",
     "text": [
      "pad_sequences maxlen :  48\n",
      "전체 문장의 0.9548784420929768%가 maxlen 설정값 이내에 포함됩니다. \n"
     ]
    }
   ],
   "source": [
    "# 적절한 최대 문장 길이 지정\n",
    "max_tokens = np.mean(num_tokens) + 2.5 * np.std(num_tokens)\n",
    "maxlen = int(max_tokens)\n",
    "print('pad_sequences maxlen : ', maxlen)\n",
    "print('전체 문장의 {}%가 maxlen 설정값 이내에 포함됩니다. '.format(np.sum(num_tokens < max_tokens) / len(num_tokens)))"
   ]
  },
  {
   "cell_type": "code",
   "execution_count": 12,
   "id": "4eed3632",
   "metadata": {},
   "outputs": [],
   "source": [
    "# keras.preprocessing.sequence.pad_sequences 을 활용한 패딩 추가\n",
    "X_train = keras.preprocessing.sequence.pad_sequences(X_train,\n",
    "                                                        value=word_to_index[\"<PAD>\"],\n",
    "                                                        padding='pre',\n",
    "                                                        maxlen=maxlen)\n",
    "\n",
    "X_test = keras.preprocessing.sequence.pad_sequences(X_test,\n",
    "                                                       value=word_to_index[\"<PAD>\"],\n",
    "                                                       padding='pre',\n",
    "                                                       maxlen=maxlen)"
   ]
  },
  {
   "cell_type": "code",
   "execution_count": 13,
   "id": "7c7964a0",
   "metadata": {},
   "outputs": [
    {
     "name": "stdout",
     "output_type": "stream",
     "text": [
      "(146182, 48)\n",
      "(49157, 48)\n"
     ]
    }
   ],
   "source": [
    "print(X_train.shape)\n",
    "print(X_test.shape)"
   ]
  },
  {
   "cell_type": "code",
   "execution_count": 14,
   "id": "609f0a8f",
   "metadata": {},
   "outputs": [],
   "source": [
    "# validation set 30000건 분리\n",
    "x_val = X_train[:30000]   \n",
    "y_val = y_train[:30000]\n",
    "\n",
    "# validation set을 제외한 나머지\n",
    "partial_x_train = X_train[30000:]  \n",
    "partial_y_train = y_train[30000:]"
   ]
  },
  {
   "cell_type": "code",
   "execution_count": 15,
   "id": "3a2d7926",
   "metadata": {},
   "outputs": [
    {
     "name": "stdout",
     "output_type": "stream",
     "text": [
      "(30000, 48)\n",
      "(30000,)\n",
      "(116182, 48)\n",
      "(116182,)\n"
     ]
    }
   ],
   "source": [
    "print(x_val.shape)\n",
    "print(y_val.shape)\n",
    "print(partial_x_train.shape)\n",
    "print(partial_y_train.shape)"
   ]
  },
  {
   "cell_type": "markdown",
   "id": "bfc2ea7f",
   "metadata": {},
   "source": [
    "# LSTM\n",
    "\n",
    "# Model"
   ]
  },
  {
   "cell_type": "code",
   "execution_count": 16,
   "id": "42bb7a53",
   "metadata": {},
   "outputs": [],
   "source": [
    "vocab_size = 10000\n",
    "word_vector_dim = 128\n",
    "\n",
    "LSTM_ = keras.Sequential()\n",
    "LSTM_.add(keras.layers.Embedding(vocab_size, word_vector_dim, input_shape=(None,)))\n",
    "LSTM_.add(keras.layers.LSTM(128))\n",
    "LSTM_.add(keras.layers.Dense(1, activation='sigmoid'))"
   ]
  },
  {
   "cell_type": "code",
   "execution_count": 17,
   "id": "6d72898c",
   "metadata": {},
   "outputs": [
    {
     "name": "stdout",
     "output_type": "stream",
     "text": [
      "Model: \"sequential\"\n",
      "_________________________________________________________________\n",
      "Layer (type)                 Output Shape              Param #   \n",
      "=================================================================\n",
      "embedding (Embedding)        (None, None, 128)         1280000   \n",
      "_________________________________________________________________\n",
      "lstm (LSTM)                  (None, 128)               131584    \n",
      "_________________________________________________________________\n",
      "dense (Dense)                (None, 1)                 129       \n",
      "=================================================================\n",
      "Total params: 1,411,713\n",
      "Trainable params: 1,411,713\n",
      "Non-trainable params: 0\n",
      "_________________________________________________________________\n"
     ]
    }
   ],
   "source": [
    "LSTM_.summary()"
   ]
  },
  {
   "cell_type": "markdown",
   "id": "78c5b2f7",
   "metadata": {},
   "source": [
    "# Train"
   ]
  },
  {
   "cell_type": "code",
   "execution_count": 18,
   "id": "5ef2f657",
   "metadata": {},
   "outputs": [],
   "source": [
    "LSTM_.compile(optimizer='adam',\n",
    "              loss='binary_crossentropy',\n",
    "              metrics=['accuracy'])"
   ]
  },
  {
   "cell_type": "code",
   "execution_count": 19,
   "id": "e0077712",
   "metadata": {},
   "outputs": [],
   "source": [
    "early = EarlyStopping(monitor='val_loss', mode='min', verbose=1, patience=5)\n",
    "check = ModelCheckpoint('best_model.h5', monitor='val_acc', mode='max', verbose=1, save_bast_only=True)"
   ]
  },
  {
   "cell_type": "code",
   "execution_count": 20,
   "id": "1053566c",
   "metadata": {},
   "outputs": [
    {
     "name": "stdout",
     "output_type": "stream",
     "text": [
      "Epoch 1/10\n",
      "3631/3631 [==============================] - 24s 6ms/step - loss: 0.3681 - accuracy: 0.8353 - val_loss: 0.3173 - val_accuracy: 0.8643\n",
      "\n",
      "Epoch 00001: saving model to best_model.h5\n",
      "Epoch 2/10\n",
      "3631/3631 [==============================] - 20s 6ms/step - loss: 0.2808 - accuracy: 0.8820 - val_loss: 0.3094 - val_accuracy: 0.8669\n",
      "\n",
      "Epoch 00002: saving model to best_model.h5\n",
      "Epoch 3/10\n",
      "3631/3631 [==============================] - 21s 6ms/step - loss: 0.2362 - accuracy: 0.9019 - val_loss: 0.3174 - val_accuracy: 0.8668\n",
      "\n",
      "Epoch 00003: saving model to best_model.h5\n",
      "Epoch 4/10\n",
      "3631/3631 [==============================] - 20s 6ms/step - loss: 0.1960 - accuracy: 0.9211 - val_loss: 0.3481 - val_accuracy: 0.8641\n",
      "\n",
      "Epoch 00004: saving model to best_model.h5\n",
      "Epoch 5/10\n",
      "3631/3631 [==============================] - 20s 6ms/step - loss: 0.1599 - accuracy: 0.9364 - val_loss: 0.3861 - val_accuracy: 0.8603\n",
      "\n",
      "Epoch 00005: saving model to best_model.h5\n",
      "Epoch 6/10\n",
      "3631/3631 [==============================] - 20s 6ms/step - loss: 0.1277 - accuracy: 0.9497 - val_loss: 0.4518 - val_accuracy: 0.8573\n",
      "\n",
      "Epoch 00006: saving model to best_model.h5\n",
      "Epoch 7/10\n",
      "3631/3631 [==============================] - 20s 6ms/step - loss: 0.1016 - accuracy: 0.9609 - val_loss: 0.5168 - val_accuracy: 0.8540\n",
      "\n",
      "Epoch 00007: saving model to best_model.h5\n",
      "Epoch 00007: early stopping\n"
     ]
    }
   ],
   "source": [
    "LSTM_history = LSTM_.fit(partial_x_train,\n",
    "                    partial_y_train,\n",
    "                    epochs=10,\n",
    "                    callbacks=[early, check],\n",
    "                    batch_size=32,\n",
    "                    validation_data=(x_val, y_val),\n",
    "                    verbose=1)"
   ]
  },
  {
   "cell_type": "code",
   "execution_count": 21,
   "id": "898bbcbb",
   "metadata": {},
   "outputs": [
    {
     "name": "stdout",
     "output_type": "stream",
     "text": [
      "1537/1537 - 3s - loss: 0.5205 - accuracy: 0.8501\n",
      "[0.5205153226852417, 0.8500925898551941]\n"
     ]
    }
   ],
   "source": [
    "loaded_model = load_model('best_model.h5')\n",
    "results = loaded_model.evaluate(X_test,  y_test, verbose=2)\n",
    "\n",
    "print(results)"
   ]
  },
  {
   "cell_type": "markdown",
   "id": "ed49cad9",
   "metadata": {},
   "source": [
    "# Visualization"
   ]
  },
  {
   "cell_type": "code",
   "execution_count": 22,
   "id": "7edd6abf",
   "metadata": {},
   "outputs": [],
   "source": [
    "LSTM_history_dict = LSTM_history.history"
   ]
  },
  {
   "cell_type": "code",
   "execution_count": 23,
   "id": "ddb3056e",
   "metadata": {},
   "outputs": [
    {
     "data": {
      "image/png": "[encoded data removed]",
      "text/plain": [
       "<Figure size 432x288 with 1 Axes>"
      ]
     },
     "metadata": {
      "needs_background": "light"
     },
     "output_type": "display_data"
    }
   ],
   "source": [
    "acc = LSTM_history_dict['accuracy']\n",
    "val_acc = LSTM_history_dict['val_accuracy']\n",
    "loss = LSTM_history_dict['loss']\n",
    "val_loss = LSTM_history_dict['val_loss']\n",
    "\n",
    "epochs = range(1, len(acc) + 1)\n",
    "\n",
    "plt.plot(epochs, loss, 'bo', label='Training loss')\n",
    "plt.plot(epochs, val_loss, 'b', label='Validation loss')\n",
    "plt.title('Training and validation loss')\n",
    "plt.xlabel('Epochs')\n",
    "plt.ylabel('Loss')\n",
    "plt.legend()\n",
    "\n",
    "plt.show()"
   ]
  },
  {
   "cell_type": "code",
   "execution_count": 24,
   "id": "83f1fc67",
   "metadata": {},
   "outputs": [
    {
     "data": {
      "image/png": "[encoded data removed]",
      "text/plain": [
       "<Figure size 432x288 with 1 Axes>"
      ]
     },
     "metadata": {
      "needs_background": "light"
     },
     "output_type": "display_data"
    }
   ],
   "source": [
    "plt.clf()\n",
    "\n",
    "plt.plot(epochs, acc, 'bo', label='Training acc')\n",
    "plt.plot(epochs, val_acc, 'b', label='Validation acc')\n",
    "plt.title('Training and validation accuracy')\n",
    "plt.xlabel('Epochs')\n",
    "plt.ylabel('Accuracy')\n",
    "plt.legend()\n",
    "\n",
    "plt.show()"
   ]
  },
  {
   "cell_type": "markdown",
   "id": "78496e38",
   "metadata": {},
   "source": [
    "# Embedding layer"
   ]
  },
  {
   "cell_type": "code",
   "execution_count": 25,
   "id": "528adf4d",
   "metadata": {},
   "outputs": [
    {
     "name": "stdout",
     "output_type": "stream",
     "text": [
      "(10000, 128)\n"
     ]
    }
   ],
   "source": [
    "embedding_layer = LSTM_.layers[0]\n",
    "weights = embedding_layer.get_weights()[0]\n",
    "print(weights.shape)"
   ]
  },
  {
   "cell_type": "code",
   "execution_count": 26,
   "id": "fbf0b171",
   "metadata": {},
   "outputs": [],
   "source": [
    "word2vec_file_path = os.getenv('HOME')+'/aiffel/sentiment_classification/LSTMword2vec.txt'\n",
    "f = open(word2vec_file_path, 'w')\n",
    "f.write('{} {}\\n'.format(vocab_size-4, word_vector_dim))\n",
    "\n",
    "vectors = LSTM_.get_weights()[0]\n",
    "for i in range(4,vocab_size):\n",
    "    f.write('{} {}\\n'.format(index_to_word[i], ' '.join(map(str, list(vectors[i, :])))))\n",
    "f.close()"
   ]
  },
  {
   "cell_type": "code",
   "execution_count": 27,
   "id": "2e8e6255",
   "metadata": {},
   "outputs": [
    {
     "data": {
      "text/plain": [
       "array([-0.17127553, -0.4733094 , -0.07626158, -0.37245145, -0.13116367,\n",
       "       -0.00843991, -0.37373605,  0.23766099,  0.06276471, -0.21232107,\n",
       "       -0.16553335,  0.2975028 ,  0.17545542,  0.17498845, -0.04006502,\n",
       "       -0.25294286,  0.09577604,  0.24753495, -0.16777459,  0.00320938,\n",
       "        0.3461972 ,  0.14610343, -0.04779609, -0.09452866, -0.01666315,\n",
       "        0.29597747, -0.05977822, -0.16265938,  0.4804364 ,  0.16963167,\n",
       "       -0.11016951,  0.35767964, -0.1689672 , -0.04007521, -0.3267729 ,\n",
       "       -0.12323989,  0.01290575, -0.08995771,  0.13564825, -0.26032546,\n",
       "       -0.04874568, -0.04495889, -0.11505584,  0.01859411,  0.0046567 ,\n",
       "       -0.08670555, -0.15720712, -0.04156595, -0.06455227,  0.05487248,\n",
       "        0.01505472,  0.03089325, -0.13294585, -0.16081627, -0.33589652,\n",
       "       -0.14384319, -0.2509509 , -0.16847579, -0.27082583, -0.03719793,\n",
       "        0.11961129, -0.39457503,  0.1144471 , -0.13236214,  0.10332991,\n",
       "        0.00600599, -0.0866747 , -0.14674878,  0.17265153,  0.08545687,\n",
       "       -0.14508344,  0.41681162, -0.02265616,  0.11136236, -0.03457586,\n",
       "       -0.02354838, -0.10321507,  0.14887325,  0.18296726, -0.30123562,\n",
       "        0.17504717,  0.18163185,  0.23901942,  0.11795516, -0.10073162,\n",
       "        0.37748617,  0.2553828 , -0.2980449 ,  0.05125639, -0.05897858,\n",
       "        0.07233027,  0.276923  , -0.40542617, -0.07434607,  0.16532542,\n",
       "        0.13220857,  0.07679179, -0.29787165, -0.11410522,  0.13883272,\n",
       "        0.0095375 ,  0.32882512, -0.03206927,  0.25127319, -0.10230949,\n",
       "       -0.15648808,  0.08467285,  0.37987623, -0.20731646,  0.24746269,\n",
       "        0.3195225 , -0.21285771,  0.08998114,  0.3482857 ,  0.21373636,\n",
       "        0.3177532 ,  0.09426548,  0.02422704,  0.17264137, -0.09581813,\n",
       "       -0.15812781,  0.18682438, -0.23553684, -0.00875609,  0.07323055,\n",
       "        0.13538997,  0.36220232, -0.08619823], dtype=float32)"
      ]
     },
     "execution_count": 27,
     "metadata": {},
     "output_type": "execute_result"
    }
   ],
   "source": [
    "word_vectors = Word2VecKeyedVectors.load_word2vec_format(word2vec_file_path, binary=False)\n",
    "vector = word_vectors['컴퓨터']\n",
    "vector"
   ]
  },
  {
   "cell_type": "code",
   "execution_count": 28,
   "id": "3231b8cc",
   "metadata": {},
   "outputs": [
    {
     "data": {
      "text/plain": [
       "[('색다르', 0.8788125514984131),\n",
       " ('빨려', 0.8681228160858154),\n",
       " ('김현주', 0.866858720779419),\n",
       " ('핫', 0.8664326667785645),\n",
       " ('왜냐하면', 0.8652523756027222),\n",
       " ('릴리', 0.8624348640441895),\n",
       " ('금성무', 0.8606399297714233),\n",
       " ('뜨거운', 0.8575854301452637),\n",
       " ('아담스', 0.8537447452545166),\n",
       " ('오래간만', 0.8518842458724976)]"
      ]
     },
     "execution_count": 28,
     "metadata": {},
     "output_type": "execute_result"
    }
   ],
   "source": [
    "word_vectors.similar_by_word(\"기쁨\")"
   ]
  },
  {
   "cell_type": "markdown",
   "id": "c394d9a4",
   "metadata": {},
   "source": [
    "# 한국어 Word2Vec"
   ]
  },
  {
   "cell_type": "code",
   "execution_count": 29,
   "id": "f271f630",
   "metadata": {},
   "outputs": [
    {
     "name": "stderr",
     "output_type": "stream",
     "text": [
      "/tmp/ipykernel_3345/3546430211.py:3: DeprecationWarning: Call to deprecated `__getitem__` (Method will be removed in 4.0.0, use self.wv.__getitem__() instead).\n",
      "  vector = word2vec['컴퓨터']\n"
     ]
    },
    {
     "data": {
      "text/plain": [
       "array([-1.517628  , -0.8935504 , -1.4352998 ,  1.5069847 , -1.5178334 ,\n",
       "        1.1542678 , -2.94064   ,  1.1850045 ,  0.19959009, -1.5288961 ,\n",
       "       -1.7067502 , -2.1892095 , -0.20728938, -2.2606812 , -2.2283888 ,\n",
       "        0.32318738, -0.2845471 , -0.07731772, -0.86269003, -1.1722927 ,\n",
       "       -0.91062415,  0.8440715 ,  0.903278  , -0.84685427,  0.7023384 ,\n",
       "       -2.1920419 , -0.47571626, -0.60159504, -0.68860835,  0.18944737,\n",
       "        0.5319404 ,  0.73058116, -0.9658133 , -1.0123725 , -0.36183038,\n",
       "        2.5851305 ,  0.66589296, -1.7231252 ,  1.7576753 ,  0.88845277,\n",
       "        1.5791365 , -4.430691  ,  0.36731872,  0.69481534, -0.46041563,\n",
       "        1.742655  , -1.5077016 ,  0.72209424, -0.04532204, -0.6557301 ,\n",
       "       -0.71276623,  0.26522732, -0.17656395, -2.4720876 , -0.845565  ,\n",
       "        0.23591152,  1.3414925 ,  0.77577615, -2.289371  , -0.8078124 ,\n",
       "        1.4359473 ,  0.22882733, -1.08867   ,  1.2607764 , -1.7469797 ,\n",
       "        0.06542054,  0.39896825, -0.3160832 , -1.7257563 ,  0.54638785,\n",
       "       -0.31753907, -0.48656994, -0.8225613 , -0.573065  ,  0.13175343,\n",
       "       -0.3924169 ,  0.55588305, -1.0773534 ,  0.55159163,  0.1352609 ,\n",
       "        0.88245326, -1.0127378 ,  0.14704451, -0.5254349 , -3.401769  ,\n",
       "       -0.42525592,  2.0031376 ,  0.36679608, -1.0043006 ,  1.3084906 ,\n",
       "        0.66252464, -0.48564675,  1.1390634 , -0.61399025, -0.50669813,\n",
       "        2.984564  ,  1.126494  ,  0.68590933, -0.2439008 , -1.317931  ,\n",
       "        0.826134  , -0.3985872 ,  0.509279  , -2.7423162 ,  2.1723568 ,\n",
       "        0.02191449, -0.16062206, -0.14502135, -0.32332814, -1.7890338 ,\n",
       "        1.8245052 , -1.3794106 ,  0.4879299 , -1.4982558 , -1.2389678 ,\n",
       "        1.1795257 , -1.54579   ,  0.07694028,  0.44653377,  0.27894926,\n",
       "       -1.9621123 ,  0.6149733 , -0.41162157, -1.0487087 , -1.7935017 ,\n",
       "        0.31845954,  0.14684801, -0.49587062,  1.6319822 ,  0.39944446,\n",
       "        0.434382  , -1.1794649 , -2.5206347 ,  0.6408292 , -0.62896025,\n",
       "        1.9872422 ,  1.2521076 , -0.21406372,  1.6773093 , -1.6608806 ,\n",
       "       -0.33801398, -0.88510543,  0.1943094 , -1.7670768 , -0.39440864,\n",
       "        1.5270631 , -1.1952105 , -0.60033166,  1.0510954 , -1.4626403 ,\n",
       "       -1.517039  ,  0.59476143,  0.36977595, -1.4121546 , -0.21997249,\n",
       "       -1.0658429 , -0.17150132,  0.8064618 ,  0.5093993 , -0.74832773,\n",
       "        1.2333933 , -1.9864655 , -0.8474578 , -1.1405545 , -3.6550071 ,\n",
       "       -1.556984  ,  1.8270527 ,  1.3725282 , -1.2329742 , -0.09723412,\n",
       "        0.34405386,  0.11565362, -0.9567215 ,  1.4773479 ,  2.169166  ,\n",
       "       -0.26613593, -1.4810696 ,  3.1457973 , -0.4415616 , -1.1940637 ,\n",
       "       -0.09637992, -0.05768079,  0.6716703 , -0.21914895,  0.56199044,\n",
       "       -1.129858  , -0.7972026 ,  0.73576796,  0.22356483,  0.9140782 ,\n",
       "       -1.4168789 ,  0.15810002, -0.79947495, -1.0691265 ,  1.4587201 ,\n",
       "       -0.5216996 ,  1.1812991 ,  0.37763026,  1.3513768 , -0.4241938 ],\n",
       "      dtype=float32)"
      ]
     },
     "execution_count": 29,
     "metadata": {},
     "output_type": "execute_result"
    }
   ],
   "source": [
    "word2vec_path = os.getenv('HOME')+'/aiffel/sentiment_classification/ko.bin'\n",
    "word2vec = gensim.models.Word2Vec.load(word2vec_path)\n",
    "vector = word2vec['컴퓨터']\n",
    "vector"
   ]
  },
  {
   "cell_type": "code",
   "execution_count": 30,
   "id": "e5932572",
   "metadata": {},
   "outputs": [
    {
     "name": "stderr",
     "output_type": "stream",
     "text": [
      "/tmp/ipykernel_3345/58648567.py:1: DeprecationWarning: Call to deprecated `similar_by_word` (Method will be removed in 4.0.0, use self.wv.similar_by_word() instead).\n",
      "  word2vec.similar_by_word(\"기쁨\")\n"
     ]
    },
    {
     "data": {
      "text/plain": [
       "[('즐거움', 0.7912124395370483),\n",
       " ('슬픔', 0.7767106294631958),\n",
       " ('아름다움', 0.6815950870513916),\n",
       " ('웃음', 0.681169331073761),\n",
       " ('괴로움', 0.6798388957977295),\n",
       " ('행운', 0.6609852313995361),\n",
       " ('인생', 0.657120406627655),\n",
       " ('젊음', 0.6522527933120728),\n",
       " ('영광', 0.6512227058410645),\n",
       " ('행복', 0.6493781805038452)]"
      ]
     },
     "execution_count": 30,
     "metadata": {},
     "output_type": "execute_result"
    }
   ],
   "source": [
    "word2vec.similar_by_word(\"기쁨\")"
   ]
  },
  {
   "cell_type": "code",
   "execution_count": 31,
   "id": "e85bab74",
   "metadata": {},
   "outputs": [
    {
     "name": "stderr",
     "output_type": "stream",
     "text": [
      "/tmp/ipykernel_3345/903695008.py:7: DeprecationWarning: Call to deprecated `__contains__` (Method will be removed in 4.0.0, use self.wv.__contains__() instead).\n",
      "  if index_to_word[i] in word2vec:\n",
      "/tmp/ipykernel_3345/903695008.py:8: DeprecationWarning: Call to deprecated `__getitem__` (Method will be removed in 4.0.0, use self.wv.__getitem__() instead).\n",
      "  embedding_matrix[i] = word2vec[index_to_word[i]]\n"
     ]
    }
   ],
   "source": [
    "vocab_size = 10000\n",
    "word_vector_dim = 200\n",
    "\n",
    "embedding_matrix = np.random.rand(vocab_size, word_vector_dim)\n",
    "\n",
    "for i in range(4,vocab_size):\n",
    "    if index_to_word[i] in word2vec:\n",
    "        embedding_matrix[i] = word2vec[index_to_word[i]]"
   ]
  },
  {
   "cell_type": "code",
   "execution_count": 32,
   "id": "d6a0e367",
   "metadata": {},
   "outputs": [],
   "source": [
    "vocab_size = 10000\n",
    "word_vector_dim = 200\n",
    "\n",
    "LSTM_ko = keras.Sequential()\n",
    "LSTM_ko.add(keras.layers.Embedding(vocab_size, \n",
    "                                 word_vector_dim, \n",
    "                                 embeddings_initializer=Constant(embedding_matrix),\n",
    "                                 input_length=maxlen, \n",
    "                                 trainable=True))\n",
    "LSTM_ko.add(keras.layers.LSTM(64))\n",
    "LSTM_ko.add(keras.layers.Dense(256, activation='relu'))\n",
    "LSTM_ko.add(keras.layers.Dense(1, activation='sigmoid'))"
   ]
  },
  {
   "cell_type": "code",
   "execution_count": 33,
   "id": "0bab7bf3",
   "metadata": {},
   "outputs": [
    {
     "name": "stdout",
     "output_type": "stream",
     "text": [
      "Model: \"sequential_1\"\n",
      "_________________________________________________________________\n",
      "Layer (type)                 Output Shape              Param #   \n",
      "=================================================================\n",
      "embedding_1 (Embedding)      (None, 48, 200)           2000000   \n",
      "_________________________________________________________________\n",
      "lstm_1 (LSTM)                (None, 64)                67840     \n",
      "_________________________________________________________________\n",
      "dense_1 (Dense)              (None, 256)               16640     \n",
      "_________________________________________________________________\n",
      "dense_2 (Dense)              (None, 1)                 257       \n",
      "=================================================================\n",
      "Total params: 2,084,737\n",
      "Trainable params: 2,084,737\n",
      "Non-trainable params: 0\n",
      "_________________________________________________________________\n"
     ]
    }
   ],
   "source": [
    "LSTM_ko.summary()"
   ]
  },
  {
   "cell_type": "code",
   "execution_count": 34,
   "id": "75b15198",
   "metadata": {},
   "outputs": [],
   "source": [
    "LSTM_ko.compile(optimizer='adam',\n",
    "              loss='binary_crossentropy',\n",
    "              metrics=['accuracy'])"
   ]
  },
  {
   "cell_type": "code",
   "execution_count": 35,
   "id": "a50f0086",
   "metadata": {},
   "outputs": [],
   "source": [
    "ealry_ko = EarlyStopping(monitor='val_loss', mode='min', verbose=1, patience=5)\n",
    "check_ko = ModelCheckpoint('best_model_ko.h5', monitor='val_acc', mode='max', verbose=1, save_bast_only=True)"
   ]
  },
  {
   "cell_type": "code",
   "execution_count": 36,
   "id": "597c792e",
   "metadata": {},
   "outputs": [
    {
     "name": "stdout",
     "output_type": "stream",
     "text": [
      "Epoch 1/10\n",
      "3631/3631 [==============================] - 22s 6ms/step - loss: 0.3865 - accuracy: 0.8243 - val_loss: 0.3328 - val_accuracy: 0.8536\n",
      "\n",
      "Epoch 00001: saving model to best_model_ko.h5\n",
      "Epoch 2/10\n",
      "3631/3631 [==============================] - 20s 6ms/step - loss: 0.2943 - accuracy: 0.8756 - val_loss: 0.3169 - val_accuracy: 0.8646\n",
      "\n",
      "Epoch 00002: saving model to best_model_ko.h5\n",
      "Epoch 3/10\n",
      "3631/3631 [==============================] - 20s 6ms/step - loss: 0.2523 - accuracy: 0.8945 - val_loss: 0.3233 - val_accuracy: 0.8647\n",
      "\n",
      "Epoch 00003: saving model to best_model_ko.h5\n",
      "Epoch 4/10\n",
      "3631/3631 [==============================] - 20s 6ms/step - loss: 0.2155 - accuracy: 0.9115 - val_loss: 0.3463 - val_accuracy: 0.8614\n",
      "\n",
      "Epoch 00004: saving model to best_model_ko.h5\n",
      "Epoch 5/10\n",
      "3631/3631 [==============================] - 20s 6ms/step - loss: 0.1806 - accuracy: 0.9276 - val_loss: 0.3719 - val_accuracy: 0.8635\n",
      "\n",
      "Epoch 00005: saving model to best_model_ko.h5\n",
      "Epoch 6/10\n",
      "3631/3631 [==============================] - 20s 6ms/step - loss: 0.1474 - accuracy: 0.9413 - val_loss: 0.4002 - val_accuracy: 0.8618\n",
      "\n",
      "Epoch 00006: saving model to best_model_ko.h5\n",
      "Epoch 7/10\n",
      "3631/3631 [==============================] - 21s 6ms/step - loss: 0.1200 - accuracy: 0.9536 - val_loss: 0.4747 - val_accuracy: 0.8579\n",
      "\n",
      "Epoch 00007: saving model to best_model_ko.h5\n",
      "Epoch 00007: early stopping\n"
     ]
    }
   ],
   "source": [
    "history = LSTM_ko.fit(partial_x_train,\n",
    "                    partial_y_train,\n",
    "                    epochs=10,\n",
    "                    callbacks=[ealry_ko, check_ko],\n",
    "                    batch_size=32,\n",
    "                    validation_data=(x_val, y_val),\n",
    "                    verbose=1)"
   ]
  },
  {
   "cell_type": "code",
   "execution_count": 37,
   "id": "b54a567d",
   "metadata": {},
   "outputs": [
    {
     "name": "stdout",
     "output_type": "stream",
     "text": [
      "1537/1537 - 3s - loss: 0.4724 - accuracy: 0.8530\n",
      "[0.4724319577217102, 0.8529812693595886]\n"
     ]
    }
   ],
   "source": [
    "loaded_model = load_model('best_model_ko.h5')\n",
    "results = loaded_model.evaluate(X_test,  y_test, verbose=2)\n",
    "\n",
    "print(results)"
   ]
  },
  {
   "cell_type": "markdown",
   "id": "d0a13577",
   "metadata": {},
   "source": [
    "# Conv1D\n",
    "\n",
    "# Model"
   ]
  },
  {
   "cell_type": "code",
   "execution_count": 38,
   "id": "e3530d02",
   "metadata": {},
   "outputs": [],
   "source": [
    "vocab_size = 10000\n",
    "word_vector_dim = 64\n",
    "\n",
    "conv1d_model = keras.Sequential()\n",
    "conv1d_model.add(keras.layers.Embedding(vocab_size, word_vector_dim, input_shape=(None,)))\n",
    "conv1d_model.add(keras.layers.Conv1D(64, 7, activation='relu'))\n",
    "conv1d_model.add(keras.layers.MaxPooling1D(5))\n",
    "conv1d_model.add(keras.layers.Conv1D(64, 7, activation='relu'))\n",
    "conv1d_model.add(keras.layers.GlobalMaxPooling1D())\n",
    "conv1d_model.add(keras.layers.Dense(128, activation='relu'))\n",
    "conv1d_model.add(keras.layers.Dense(1, activation='sigmoid'))"
   ]
  },
  {
   "cell_type": "code",
   "execution_count": 39,
   "id": "2e0ae4f3",
   "metadata": {},
   "outputs": [
    {
     "name": "stdout",
     "output_type": "stream",
     "text": [
      "Model: \"sequential_2\"\n",
      "_________________________________________________________________\n",
      "Layer (type)                 Output Shape              Param #   \n",
      "=================================================================\n",
      "embedding_2 (Embedding)      (None, None, 64)          640000    \n",
      "_________________________________________________________________\n",
      "conv1d (Conv1D)              (None, None, 64)          28736     \n",
      "_________________________________________________________________\n",
      "max_pooling1d (MaxPooling1D) (None, None, 64)          0         \n",
      "_________________________________________________________________\n",
      "conv1d_1 (Conv1D)            (None, None, 64)          28736     \n",
      "_________________________________________________________________\n",
      "global_max_pooling1d (Global (None, 64)                0         \n",
      "_________________________________________________________________\n",
      "dense_3 (Dense)              (None, 128)               8320      \n",
      "_________________________________________________________________\n",
      "dense_4 (Dense)              (None, 1)                 129       \n",
      "=================================================================\n",
      "Total params: 705,921\n",
      "Trainable params: 705,921\n",
      "Non-trainable params: 0\n",
      "_________________________________________________________________\n"
     ]
    }
   ],
   "source": [
    "conv1d_model.summary()"
   ]
  },
  {
   "cell_type": "markdown",
   "id": "dd407209",
   "metadata": {},
   "source": [
    "# Train"
   ]
  },
  {
   "cell_type": "code",
   "execution_count": 40,
   "id": "4481f126",
   "metadata": {},
   "outputs": [],
   "source": [
    "conv1d_model.compile(optimizer='adam',\n",
    "              loss='binary_crossentropy',\n",
    "              metrics=['accuracy'])"
   ]
  },
  {
   "cell_type": "code",
   "execution_count": 41,
   "id": "941f04a5",
   "metadata": {},
   "outputs": [
    {
     "name": "stdout",
     "output_type": "stream",
     "text": [
      "Epoch 1/10\n",
      "3631/3631 [==============================] - 18s 5ms/step - loss: 0.4119 - accuracy: 0.8024 - val_loss: 0.3638 - val_accuracy: 0.8295\n",
      "Epoch 2/10\n",
      "3631/3631 [==============================] - 16s 5ms/step - loss: 0.3086 - accuracy: 0.8618 - val_loss: 0.3709 - val_accuracy: 0.8310\n",
      "Epoch 3/10\n",
      "3631/3631 [==============================] - 16s 5ms/step - loss: 0.2265 - accuracy: 0.9011 - val_loss: 0.4194 - val_accuracy: 0.8210\n",
      "Epoch 4/10\n",
      "3631/3631 [==============================] - 17s 5ms/step - loss: 0.1615 - accuracy: 0.9311 - val_loss: 0.5195 - val_accuracy: 0.8155\n",
      "Epoch 5/10\n",
      "3631/3631 [==============================] - 17s 5ms/step - loss: 0.1222 - accuracy: 0.9470 - val_loss: 0.6139 - val_accuracy: 0.8157\n",
      "Epoch 6/10\n",
      "3631/3631 [==============================] - 16s 5ms/step - loss: 0.1007 - accuracy: 0.9548 - val_loss: 0.6835 - val_accuracy: 0.8142\n",
      "Epoch 7/10\n",
      "3631/3631 [==============================] - 17s 5ms/step - loss: 0.0847 - accuracy: 0.9611 - val_loss: 0.8174 - val_accuracy: 0.8056\n",
      "Epoch 8/10\n",
      "3631/3631 [==============================] - 16s 5ms/step - loss: 0.0752 - accuracy: 0.9649 - val_loss: 0.9101 - val_accuracy: 0.8109\n",
      "Epoch 9/10\n",
      "3631/3631 [==============================] - 16s 5ms/step - loss: 0.0673 - accuracy: 0.9684 - val_loss: 0.9139 - val_accuracy: 0.8076\n",
      "Epoch 10/10\n",
      "3631/3631 [==============================] - 16s 5ms/step - loss: 0.0609 - accuracy: 0.9705 - val_loss: 1.0827 - val_accuracy: 0.8114\n"
     ]
    }
   ],
   "source": [
    "conv1d_history = conv1d_model.fit(partial_x_train,\n",
    "                    partial_y_train,\n",
    "                    epochs=10,\n",
    "                    batch_size=32,\n",
    "                    validation_data=(x_val, y_val),\n",
    "                    verbose=1)"
   ]
  },
  {
   "cell_type": "code",
   "execution_count": 42,
   "id": "5090d879",
   "metadata": {},
   "outputs": [
    {
     "name": "stdout",
     "output_type": "stream",
     "text": [
      "1537/1537 - 3s - loss: 1.1232 - accuracy: 0.8036\n",
      "[1.1232441663742065, 0.8035885095596313]\n"
     ]
    }
   ],
   "source": [
    "results = conv1d_model.evaluate(X_test,  y_test, verbose=2)\n",
    "\n",
    "print(results)"
   ]
  },
  {
   "cell_type": "markdown",
   "id": "a2c0caed",
   "metadata": {},
   "source": [
    "# Visualization"
   ]
  },
  {
   "cell_type": "code",
   "execution_count": 43,
   "id": "b9f81e4c",
   "metadata": {},
   "outputs": [],
   "source": [
    "conv1d_history_dict = conv1d_history.history"
   ]
  },
  {
   "cell_type": "code",
   "execution_count": 44,
   "id": "1ad6a7a6",
   "metadata": {},
   "outputs": [
    {
     "data": {
      "image/png": "[encoded data removed]",
      "text/plain": [
       "<Figure size 432x288 with 1 Axes>"
      ]
     },
     "metadata": {
      "needs_background": "light"
     },
     "output_type": "display_data"
    }
   ],
   "source": [
    "acc = conv1d_history_dict['accuracy']\n",
    "val_acc = conv1d_history_dict['val_accuracy']\n",
    "loss = conv1d_history_dict['loss']\n",
    "val_loss = conv1d_history_dict['val_loss']\n",
    "\n",
    "epochs = range(1, len(acc) + 1)\n",
    "\n",
    "plt.plot(epochs, loss, 'bo', label='Training loss')\n",
    "plt.plot(epochs, val_loss, 'b', label='Validation loss')\n",
    "plt.title('Training and validation loss')\n",
    "plt.xlabel('Epochs')\n",
    "plt.ylabel('Loss')\n",
    "plt.legend()\n",
    "\n",
    "plt.show()"
   ]
  },
  {
   "cell_type": "code",
   "execution_count": 45,
   "id": "2001842a",
   "metadata": {},
   "outputs": [
    {
     "data": {
      "image/png": "[encoded data removed]",
      "text/plain": [
       "<Figure size 432x288 with 1 Axes>"
      ]
     },
     "metadata": {
      "needs_background": "light"
     },
     "output_type": "display_data"
    }
   ],
   "source": [
    "plt.clf()\n",
    "\n",
    "plt.plot(epochs, acc, 'bo', label='Training acc')\n",
    "plt.plot(epochs, val_acc, 'b', label='Validation acc')\n",
    "plt.title('Training and validation accuracy')\n",
    "plt.xlabel('Epochs')\n",
    "plt.ylabel('Accuracy')\n",
    "plt.legend()\n",
    "\n",
    "plt.show()"
   ]
  },
  {
   "cell_type": "markdown",
   "id": "d9a0fc1a",
   "metadata": {},
   "source": [
    "# Embedding layer"
   ]
  },
  {
   "cell_type": "code",
   "execution_count": 46,
   "id": "f225cac8",
   "metadata": {},
   "outputs": [
    {
     "name": "stdout",
     "output_type": "stream",
     "text": [
      "(10000, 64)\n"
     ]
    }
   ],
   "source": [
    "embedding_layer = conv1d_model.layers[0]\n",
    "weights = embedding_layer.get_weights()[0]\n",
    "print(weights.shape)"
   ]
  },
  {
   "cell_type": "code",
   "execution_count": 47,
   "id": "0a96d6ab",
   "metadata": {},
   "outputs": [],
   "source": [
    "word2vec_file_path = os.getenv('HOME')+'/aiffel/sentiment_classification/conv1d_word2vec.txt'\n",
    "f = open(word2vec_file_path, 'w')\n",
    "f.write('{} {}\\n'.format(vocab_size-4, word_vector_dim))\n",
    "\n",
    "vectors = conv1d_model.get_weights()[0]\n",
    "for i in range(4,vocab_size):\n",
    "    f.write('{} {}\\n'.format(index_to_word[i], ' '.join(map(str, list(vectors[i, :])))))\n",
    "f.close()"
   ]
  },
  {
   "cell_type": "code",
   "execution_count": 48,
   "id": "c4870157",
   "metadata": {},
   "outputs": [
    {
     "data": {
      "text/plain": [
       "array([ 0.22425005,  0.08563868,  0.22698757, -0.22024444, -0.1630898 ,\n",
       "       -0.12745345,  0.01895474, -0.1321246 ,  0.24100554,  0.06928411,\n",
       "       -0.10496495, -0.09752375,  0.08494485,  0.08214408, -0.12137713,\n",
       "        0.0740371 ,  0.1692131 ,  0.25690758,  0.11873821,  0.04744293,\n",
       "       -0.04817246,  0.05678261, -0.2008994 , -0.12783693,  0.06421159,\n",
       "        0.20650378,  0.0979268 ,  0.32215217, -0.23000053,  0.01074777,\n",
       "        0.17977618,  0.07158726,  0.17182799,  0.14063674, -0.08232594,\n",
       "        0.03003947, -0.0305318 , -0.0212414 ,  0.3515167 ,  0.29034314,\n",
       "        0.30066037,  0.2529784 , -0.0450513 ,  0.12394278,  0.17177269,\n",
       "       -0.27412638, -0.07325122,  0.09690156,  0.18376365, -0.08972169,\n",
       "       -0.23204058,  0.12546708,  0.29726213,  0.197015  , -0.1763342 ,\n",
       "       -0.02091515, -0.27895808, -0.22910805,  0.09073639,  0.27260056,\n",
       "        0.2038593 , -0.02866236, -0.07550489, -0.26291078], dtype=float32)"
      ]
     },
     "execution_count": 48,
     "metadata": {},
     "output_type": "execute_result"
    }
   ],
   "source": [
    "word_vectors = Word2VecKeyedVectors.load_word2vec_format(word2vec_file_path, binary=False)\n",
    "vector = word_vectors['컴퓨터']\n",
    "vector"
   ]
  },
  {
   "cell_type": "code",
   "execution_count": 49,
   "id": "5249a346",
   "metadata": {},
   "outputs": [
    {
     "data": {
      "text/plain": [
       "[('김민희', 0.7210241556167603),\n",
       " ('젬', 0.7171822786331177),\n",
       " ('훈', 0.7168929576873779),\n",
       " ('학도', 0.7027633190155029),\n",
       " ('펑펑', 0.6898741722106934),\n",
       " ('감춰진', 0.685901403427124),\n",
       " ('알모도바르', 0.6845656633377075),\n",
       " ('엇갈리', 0.68216872215271),\n",
       " ('유코', 0.6814687848091125),\n",
       " ('배출', 0.6794769763946533)]"
      ]
     },
     "execution_count": 49,
     "metadata": {},
     "output_type": "execute_result"
    }
   ],
   "source": [
    "word_vectors.similar_by_word(\"기쁨\")"
   ]
  },
  {
   "cell_type": "markdown",
   "id": "dfce782f",
   "metadata": {},
   "source": [
    "# 한국어 Word2Vec"
   ]
  },
  {
   "cell_type": "code",
   "execution_count": 50,
   "id": "0bfb1836",
   "metadata": {},
   "outputs": [
    {
     "name": "stderr",
     "output_type": "stream",
     "text": [
      "/tmp/ipykernel_3345/3546430211.py:3: DeprecationWarning: Call to deprecated `__getitem__` (Method will be removed in 4.0.0, use self.wv.__getitem__() instead).\n",
      "  vector = word2vec['컴퓨터']\n"
     ]
    },
    {
     "data": {
      "text/plain": [
       "array([-1.517628  , -0.8935504 , -1.4352998 ,  1.5069847 , -1.5178334 ,\n",
       "        1.1542678 , -2.94064   ,  1.1850045 ,  0.19959009, -1.5288961 ,\n",
       "       -1.7067502 , -2.1892095 , -0.20728938, -2.2606812 , -2.2283888 ,\n",
       "        0.32318738, -0.2845471 , -0.07731772, -0.86269003, -1.1722927 ,\n",
       "       -0.91062415,  0.8440715 ,  0.903278  , -0.84685427,  0.7023384 ,\n",
       "       -2.1920419 , -0.47571626, -0.60159504, -0.68860835,  0.18944737,\n",
       "        0.5319404 ,  0.73058116, -0.9658133 , -1.0123725 , -0.36183038,\n",
       "        2.5851305 ,  0.66589296, -1.7231252 ,  1.7576753 ,  0.88845277,\n",
       "        1.5791365 , -4.430691  ,  0.36731872,  0.69481534, -0.46041563,\n",
       "        1.742655  , -1.5077016 ,  0.72209424, -0.04532204, -0.6557301 ,\n",
       "       -0.71276623,  0.26522732, -0.17656395, -2.4720876 , -0.845565  ,\n",
       "        0.23591152,  1.3414925 ,  0.77577615, -2.289371  , -0.8078124 ,\n",
       "        1.4359473 ,  0.22882733, -1.08867   ,  1.2607764 , -1.7469797 ,\n",
       "        0.06542054,  0.39896825, -0.3160832 , -1.7257563 ,  0.54638785,\n",
       "       -0.31753907, -0.48656994, -0.8225613 , -0.573065  ,  0.13175343,\n",
       "       -0.3924169 ,  0.55588305, -1.0773534 ,  0.55159163,  0.1352609 ,\n",
       "        0.88245326, -1.0127378 ,  0.14704451, -0.5254349 , -3.401769  ,\n",
       "       -0.42525592,  2.0031376 ,  0.36679608, -1.0043006 ,  1.3084906 ,\n",
       "        0.66252464, -0.48564675,  1.1390634 , -0.61399025, -0.50669813,\n",
       "        2.984564  ,  1.126494  ,  0.68590933, -0.2439008 , -1.317931  ,\n",
       "        0.826134  , -0.3985872 ,  0.509279  , -2.7423162 ,  2.1723568 ,\n",
       "        0.02191449, -0.16062206, -0.14502135, -0.32332814, -1.7890338 ,\n",
       "        1.8245052 , -1.3794106 ,  0.4879299 , -1.4982558 , -1.2389678 ,\n",
       "        1.1795257 , -1.54579   ,  0.07694028,  0.44653377,  0.27894926,\n",
       "       -1.9621123 ,  0.6149733 , -0.41162157, -1.0487087 , -1.7935017 ,\n",
       "        0.31845954,  0.14684801, -0.49587062,  1.6319822 ,  0.39944446,\n",
       "        0.434382  , -1.1794649 , -2.5206347 ,  0.6408292 , -0.62896025,\n",
       "        1.9872422 ,  1.2521076 , -0.21406372,  1.6773093 , -1.6608806 ,\n",
       "       -0.33801398, -0.88510543,  0.1943094 , -1.7670768 , -0.39440864,\n",
       "        1.5270631 , -1.1952105 , -0.60033166,  1.0510954 , -1.4626403 ,\n",
       "       -1.517039  ,  0.59476143,  0.36977595, -1.4121546 , -0.21997249,\n",
       "       -1.0658429 , -0.17150132,  0.8064618 ,  0.5093993 , -0.74832773,\n",
       "        1.2333933 , -1.9864655 , -0.8474578 , -1.1405545 , -3.6550071 ,\n",
       "       -1.556984  ,  1.8270527 ,  1.3725282 , -1.2329742 , -0.09723412,\n",
       "        0.34405386,  0.11565362, -0.9567215 ,  1.4773479 ,  2.169166  ,\n",
       "       -0.26613593, -1.4810696 ,  3.1457973 , -0.4415616 , -1.1940637 ,\n",
       "       -0.09637992, -0.05768079,  0.6716703 , -0.21914895,  0.56199044,\n",
       "       -1.129858  , -0.7972026 ,  0.73576796,  0.22356483,  0.9140782 ,\n",
       "       -1.4168789 ,  0.15810002, -0.79947495, -1.0691265 ,  1.4587201 ,\n",
       "       -0.5216996 ,  1.1812991 ,  0.37763026,  1.3513768 , -0.4241938 ],\n",
       "      dtype=float32)"
      ]
     },
     "execution_count": 50,
     "metadata": {},
     "output_type": "execute_result"
    }
   ],
   "source": [
    "word2vec_path = os.getenv('HOME')+'/aiffel/sentiment_classification/ko.bin'\n",
    "word2vec = gensim.models.Word2Vec.load(word2vec_path)\n",
    "vector = word2vec['컴퓨터']\n",
    "vector"
   ]
  },
  {
   "cell_type": "code",
   "execution_count": 51,
   "id": "3b3a2301",
   "metadata": {},
   "outputs": [
    {
     "name": "stderr",
     "output_type": "stream",
     "text": [
      "/tmp/ipykernel_3345/58648567.py:1: DeprecationWarning: Call to deprecated `similar_by_word` (Method will be removed in 4.0.0, use self.wv.similar_by_word() instead).\n",
      "  word2vec.similar_by_word(\"기쁨\")\n"
     ]
    },
    {
     "data": {
      "text/plain": [
       "[('즐거움', 0.7912124395370483),\n",
       " ('슬픔', 0.7767106294631958),\n",
       " ('아름다움', 0.6815950870513916),\n",
       " ('웃음', 0.681169331073761),\n",
       " ('괴로움', 0.6798388957977295),\n",
       " ('행운', 0.6609852313995361),\n",
       " ('인생', 0.657120406627655),\n",
       " ('젊음', 0.6522527933120728),\n",
       " ('영광', 0.6512227058410645),\n",
       " ('행복', 0.6493781805038452)]"
      ]
     },
     "execution_count": 51,
     "metadata": {},
     "output_type": "execute_result"
    }
   ],
   "source": [
    "word2vec.similar_by_word(\"기쁨\")"
   ]
  },
  {
   "cell_type": "code",
   "execution_count": 52,
   "id": "260fc6c1",
   "metadata": {},
   "outputs": [
    {
     "name": "stderr",
     "output_type": "stream",
     "text": [
      "/tmp/ipykernel_3345/903695008.py:7: DeprecationWarning: Call to deprecated `__contains__` (Method will be removed in 4.0.0, use self.wv.__contains__() instead).\n",
      "  if index_to_word[i] in word2vec:\n",
      "/tmp/ipykernel_3345/903695008.py:8: DeprecationWarning: Call to deprecated `__getitem__` (Method will be removed in 4.0.0, use self.wv.__getitem__() instead).\n",
      "  embedding_matrix[i] = word2vec[index_to_word[i]]\n"
     ]
    }
   ],
   "source": [
    "vocab_size = 10000\n",
    "word_vector_dim = 200\n",
    "\n",
    "embedding_matrix = np.random.rand(vocab_size, word_vector_dim)\n",
    "\n",
    "for i in range(4,vocab_size):\n",
    "    if index_to_word[i] in word2vec:\n",
    "        embedding_matrix[i] = word2vec[index_to_word[i]]"
   ]
  },
  {
   "cell_type": "code",
   "execution_count": 53,
   "id": "d82570fd",
   "metadata": {},
   "outputs": [],
   "source": [
    "vocab_size = 10000\n",
    "word_vector_dim = 200\n",
    "\n",
    "conv1d_model_ko = keras.Sequential()\n",
    "conv1d_model_ko.add(keras.layers.Embedding(vocab_size, \n",
    "                                 word_vector_dim, \n",
    "                                 embeddings_initializer=Constant(embedding_matrix),\n",
    "                                 input_length=maxlen, \n",
    "                                 trainable=True))\n",
    "conv1d_model_ko.add(keras.layers.Conv1D(64, 7, activation='relu'))\n",
    "conv1d_model_ko.add(keras.layers.MaxPooling1D(5))\n",
    "conv1d_model_ko.add(keras.layers.Conv1D(64, 7, activation='relu'))\n",
    "conv1d_model_ko.add(keras.layers.GlobalMaxPooling1D())\n",
    "conv1d_model_ko.add(keras.layers.Dense(128, activation='relu'))\n",
    "conv1d_model_ko.add(keras.layers.Dense(1, activation='sigmoid'))"
   ]
  },
  {
   "cell_type": "code",
   "execution_count": 54,
   "id": "cf91607d",
   "metadata": {},
   "outputs": [
    {
     "name": "stdout",
     "output_type": "stream",
     "text": [
      "Model: \"sequential_3\"\n",
      "_________________________________________________________________\n",
      "Layer (type)                 Output Shape              Param #   \n",
      "=================================================================\n",
      "embedding_3 (Embedding)      (None, 48, 200)           2000000   \n",
      "_________________________________________________________________\n",
      "conv1d_2 (Conv1D)            (None, 42, 64)            89664     \n",
      "_________________________________________________________________\n",
      "max_pooling1d_1 (MaxPooling1 (None, 8, 64)             0         \n",
      "_________________________________________________________________\n",
      "conv1d_3 (Conv1D)            (None, 2, 64)             28736     \n",
      "_________________________________________________________________\n",
      "global_max_pooling1d_1 (Glob (None, 64)                0         \n",
      "_________________________________________________________________\n",
      "dense_5 (Dense)              (None, 128)               8320      \n",
      "_________________________________________________________________\n",
      "dense_6 (Dense)              (None, 1)                 129       \n",
      "=================================================================\n",
      "Total params: 2,126,849\n",
      "Trainable params: 2,126,849\n",
      "Non-trainable params: 0\n",
      "_________________________________________________________________\n"
     ]
    }
   ],
   "source": [
    "conv1d_model_ko.summary()"
   ]
  },
  {
   "cell_type": "code",
   "execution_count": 55,
   "id": "02a88858",
   "metadata": {},
   "outputs": [],
   "source": [
    "conv1d_model_ko.compile(optimizer='adam',\n",
    "              loss='binary_crossentropy',\n",
    "              metrics=['accuracy'])"
   ]
  },
  {
   "cell_type": "code",
   "execution_count": 56,
   "id": "501fea65",
   "metadata": {},
   "outputs": [
    {
     "name": "stdout",
     "output_type": "stream",
     "text": [
      "Epoch 1/10\n",
      "3631/3631 [==============================] - 19s 5ms/step - loss: 0.4680 - accuracy: 0.7697 - val_loss: 0.4021 - val_accuracy: 0.8107\n",
      "Epoch 2/10\n",
      "3631/3631 [==============================] - 18s 5ms/step - loss: 0.3599 - accuracy: 0.8368 - val_loss: 0.3779 - val_accuracy: 0.8244\n",
      "Epoch 3/10\n",
      "3631/3631 [==============================] - 19s 5ms/step - loss: 0.3124 - accuracy: 0.8615 - val_loss: 0.3835 - val_accuracy: 0.8207\n",
      "Epoch 4/10\n",
      "3631/3631 [==============================] - 18s 5ms/step - loss: 0.2669 - accuracy: 0.8839 - val_loss: 0.4043 - val_accuracy: 0.8245\n",
      "Epoch 5/10\n",
      "3631/3631 [==============================] - 18s 5ms/step - loss: 0.2206 - accuracy: 0.9053 - val_loss: 0.4754 - val_accuracy: 0.8156\n",
      "Epoch 6/10\n",
      "3631/3631 [==============================] - 18s 5ms/step - loss: 0.1815 - accuracy: 0.9222 - val_loss: 0.5067 - val_accuracy: 0.8159\n",
      "Epoch 7/10\n",
      "3631/3631 [==============================] - 18s 5ms/step - loss: 0.1517 - accuracy: 0.9352 - val_loss: 0.6055 - val_accuracy: 0.8141\n",
      "Epoch 8/10\n",
      "3631/3631 [==============================] - 18s 5ms/step - loss: 0.1277 - accuracy: 0.9448 - val_loss: 0.6568 - val_accuracy: 0.8150\n",
      "Epoch 9/10\n",
      "3631/3631 [==============================] - 18s 5ms/step - loss: 0.1110 - accuracy: 0.9515 - val_loss: 0.7689 - val_accuracy: 0.8171\n",
      "Epoch 10/10\n",
      "3631/3631 [==============================] - 18s 5ms/step - loss: 0.0976 - accuracy: 0.9569 - val_loss: 0.7280 - val_accuracy: 0.8115\n"
     ]
    }
   ],
   "source": [
    "history = conv1d_model_ko.fit(partial_x_train,\n",
    "                    partial_y_train,\n",
    "                    epochs=10,\n",
    "                    batch_size=32,\n",
    "                    validation_data=(x_val, y_val),\n",
    "                    verbose=1)"
   ]
  },
  {
   "cell_type": "code",
   "execution_count": 57,
   "id": "2f6ac4cb",
   "metadata": {},
   "outputs": [
    {
     "name": "stdout",
     "output_type": "stream",
     "text": [
      "1537/1537 - 3s - loss: 0.7452 - accuracy: 0.8073\n",
      "[0.745166003704071, 0.8073112964630127]\n"
     ]
    }
   ],
   "source": [
    "results = conv1d_model_ko.evaluate(X_test,  y_test, verbose=2)\n",
    "\n",
    "print(results)"
   ]
  },
  {
   "cell_type": "markdown",
   "id": "7fe7198a",
   "metadata": {},
   "source": [
    "# GlobalMaxPooling\n",
    "\n",
    "# Model"
   ]
  },
  {
   "cell_type": "code",
   "execution_count": 58,
   "id": "00673577",
   "metadata": {},
   "outputs": [],
   "source": [
    "vocab_size = 10000\n",
    "word_vector_dim = 64\n",
    "\n",
    "GMP_model = keras.Sequential()\n",
    "GMP_model.add(keras.layers.Embedding(vocab_size, word_vector_dim, input_shape=(None,)))\n",
    "GMP_model.add(keras.layers.GlobalMaxPooling1D())\n",
    "GMP_model.add(keras.layers.Dense(8, activation='relu'))\n",
    "GMP_model.add(keras.layers.Dense(1, activation='sigmoid'))"
   ]
  },
  {
   "cell_type": "code",
   "execution_count": 59,
   "id": "41ba569c",
   "metadata": {},
   "outputs": [
    {
     "name": "stdout",
     "output_type": "stream",
     "text": [
      "Model: \"sequential_4\"\n",
      "_________________________________________________________________\n",
      "Layer (type)                 Output Shape              Param #   \n",
      "=================================================================\n",
      "embedding_4 (Embedding)      (None, None, 64)          640000    \n",
      "_________________________________________________________________\n",
      "global_max_pooling1d_2 (Glob (None, 64)                0         \n",
      "_________________________________________________________________\n",
      "dense_7 (Dense)              (None, 8)                 520       \n",
      "_________________________________________________________________\n",
      "dense_8 (Dense)              (None, 1)                 9         \n",
      "=================================================================\n",
      "Total params: 640,529\n",
      "Trainable params: 640,529\n",
      "Non-trainable params: 0\n",
      "_________________________________________________________________\n"
     ]
    }
   ],
   "source": [
    "GMP_model.summary()"
   ]
  },
  {
   "cell_type": "markdown",
   "id": "e9cb7825",
   "metadata": {},
   "source": [
    "# Train"
   ]
  },
  {
   "cell_type": "code",
   "execution_count": 60,
   "id": "9df5868c",
   "metadata": {},
   "outputs": [],
   "source": [
    "GMP_model.compile(optimizer='adam',\n",
    "              loss='binary_crossentropy',\n",
    "              metrics=['accuracy'])"
   ]
  },
  {
   "cell_type": "code",
   "execution_count": 61,
   "id": "a0d4555e",
   "metadata": {},
   "outputs": [
    {
     "name": "stdout",
     "output_type": "stream",
     "text": [
      "Epoch 1/10\n",
      "3631/3631 [==============================] - 12s 3ms/step - loss: 0.3963 - accuracy: 0.8191 - val_loss: 0.3427 - val_accuracy: 0.8497\n",
      "Epoch 2/10\n",
      "3631/3631 [==============================] - 11s 3ms/step - loss: 0.3053 - accuracy: 0.8721 - val_loss: 0.3410 - val_accuracy: 0.8537\n",
      "Epoch 3/10\n",
      "3631/3631 [==============================] - 11s 3ms/step - loss: 0.2642 - accuracy: 0.8918 - val_loss: 0.3494 - val_accuracy: 0.8549\n",
      "Epoch 4/10\n",
      "3631/3631 [==============================] - 11s 3ms/step - loss: 0.2284 - accuracy: 0.9093 - val_loss: 0.3728 - val_accuracy: 0.8512\n",
      "Epoch 5/10\n",
      "3631/3631 [==============================] - 11s 3ms/step - loss: 0.1963 - accuracy: 0.9247 - val_loss: 0.4017 - val_accuracy: 0.8512\n",
      "Epoch 6/10\n",
      "3631/3631 [==============================] - 11s 3ms/step - loss: 0.1668 - accuracy: 0.9374 - val_loss: 0.4457 - val_accuracy: 0.8447\n",
      "Epoch 7/10\n",
      "3631/3631 [==============================] - 11s 3ms/step - loss: 0.1404 - accuracy: 0.9481 - val_loss: 0.4910 - val_accuracy: 0.8440\n",
      "Epoch 8/10\n",
      "3631/3631 [==============================] - 11s 3ms/step - loss: 0.1180 - accuracy: 0.9580 - val_loss: 0.5384 - val_accuracy: 0.8408\n",
      "Epoch 9/10\n",
      "3631/3631 [==============================] - 11s 3ms/step - loss: 0.0990 - accuracy: 0.9645 - val_loss: 0.5953 - val_accuracy: 0.8366\n",
      "Epoch 10/10\n",
      "3631/3631 [==============================] - 11s 3ms/step - loss: 0.0834 - accuracy: 0.9712 - val_loss: 0.6544 - val_accuracy: 0.8324\n"
     ]
    }
   ],
   "source": [
    "GMP_history = GMP_model.fit(partial_x_train,\n",
    "                    partial_y_train,\n",
    "                    epochs=10,\n",
    "                    batch_size=32,\n",
    "                    validation_data=(x_val, y_val),\n",
    "                    verbose=1)"
   ]
  },
  {
   "cell_type": "code",
   "execution_count": 62,
   "id": "42c3b53a",
   "metadata": {},
   "outputs": [
    {
     "name": "stdout",
     "output_type": "stream",
     "text": [
      "1537/1537 - 2s - loss: 0.6616 - accuracy: 0.8278\n",
      "[0.6615723967552185, 0.827837347984314]\n"
     ]
    }
   ],
   "source": [
    "results = GMP_model.evaluate(X_test,  y_test, verbose=2)\n",
    "\n",
    "print(results)"
   ]
  },
  {
   "cell_type": "markdown",
   "id": "ab92ee6e",
   "metadata": {},
   "source": [
    "# Visualization"
   ]
  },
  {
   "cell_type": "code",
   "execution_count": 63,
   "id": "2f1ee4b3",
   "metadata": {},
   "outputs": [],
   "source": [
    "GMP_history_dict = GMP_history.history"
   ]
  },
  {
   "cell_type": "code",
   "execution_count": 64,
   "id": "b613aa0e",
   "metadata": {},
   "outputs": [
    {
     "data": {
      "image/png": "[encoded data removed]",
      "text/plain": [
       "<Figure size 432x288 with 1 Axes>"
      ]
     },
     "metadata": {
      "needs_background": "light"
     },
     "output_type": "display_data"
    }
   ],
   "source": [
    "acc = GMP_history_dict['accuracy']\n",
    "val_acc = GMP_history_dict['val_accuracy']\n",
    "loss = GMP_history_dict['loss']\n",
    "val_loss = GMP_history_dict['val_loss']\n",
    "\n",
    "epochs = range(1, len(acc) + 1)\n",
    "\n",
    "plt.plot(epochs, loss, 'bo', label='Training loss')\n",
    "plt.plot(epochs, val_loss, 'b', label='Validation loss')\n",
    "plt.title('Training and validation loss')\n",
    "plt.xlabel('Epochs')\n",
    "plt.ylabel('Loss')\n",
    "plt.legend()\n",
    "\n",
    "plt.show()"
   ]
  },
  {
   "cell_type": "code",
   "execution_count": 65,
   "id": "6651c42f",
   "metadata": {},
   "outputs": [
    {
     "data": {
      "image/png": "[encoded data removed]",
      "text/plain": [
       "<Figure size 432x288 with 1 Axes>"
      ]
     },
     "metadata": {
      "needs_background": "light"
     },
     "output_type": "display_data"
    }
   ],
   "source": [
    "plt.clf()\n",
    "\n",
    "plt.plot(epochs, acc, 'bo', label='Training acc')\n",
    "plt.plot(epochs, val_acc, 'b', label='Validation acc')\n",
    "plt.title('Training and validation accuracy')\n",
    "plt.xlabel('Epochs')\n",
    "plt.ylabel('Accuracy')\n",
    "plt.legend()\n",
    "\n",
    "plt.show()"
   ]
  },
  {
   "cell_type": "markdown",
   "id": "a8ce6bfb",
   "metadata": {},
   "source": [
    "# Embedding layer"
   ]
  },
  {
   "cell_type": "code",
   "execution_count": 66,
   "id": "e905c554",
   "metadata": {},
   "outputs": [
    {
     "name": "stdout",
     "output_type": "stream",
     "text": [
      "(10000, 64)\n"
     ]
    }
   ],
   "source": [
    "embedding_layer = GMP_model.layers[0]\n",
    "weights = embedding_layer.get_weights()[0]\n",
    "print(weights.shape)"
   ]
  },
  {
   "cell_type": "code",
   "execution_count": 67,
   "id": "060dcaac",
   "metadata": {},
   "outputs": [],
   "source": [
    "word2vec_file_path = os.getenv('HOME')+'/aiffel/sentiment_classification/GMP_word2vec.txt'\n",
    "f = open(word2vec_file_path, 'w')\n",
    "f.write('{} {}\\n'.format(vocab_size-4, word_vector_dim))\n",
    "\n",
    "vectors = GMP_model.get_weights()[0]\n",
    "for i in range(4,vocab_size):\n",
    "    f.write('{} {}\\n'.format(index_to_word[i], ' '.join(map(str, list(vectors[i, :])))))\n",
    "f.close()"
   ]
  },
  {
   "cell_type": "code",
   "execution_count": 68,
   "id": "aa971554",
   "metadata": {},
   "outputs": [
    {
     "data": {
      "text/plain": [
       "array([-0.11415856, -0.13802548, -0.2585948 , -0.20648168, -0.04367525,\n",
       "       -0.02396252, -0.1437793 , -0.00209867,  0.04035386, -0.02493482,\n",
       "       -0.04127597,  0.07963619, -0.08542237, -0.25044543, -0.09343093,\n",
       "       -0.41656896,  0.00247509, -0.07288197, -0.39603817, -0.10022172,\n",
       "        0.23628277,  0.02850838,  0.09382757, -0.08735151, -0.34194818,\n",
       "       -0.06110068, -0.05996435, -0.06634905, -0.02265411, -0.06305923,\n",
       "       -0.16622037,  0.20962468, -0.22440886, -0.10523154, -0.05180118,\n",
       "        0.01837965, -0.05211669, -0.01964114, -0.2176474 , -0.04941903,\n",
       "        0.06392356, -0.16296785,  0.0358411 , -0.10784081,  0.13902672,\n",
       "        0.13560635, -0.04269624, -0.37761933, -0.04663725,  0.06988158,\n",
       "       -0.6283348 , -0.04889837, -0.11322063, -0.04268038, -0.18857244,\n",
       "       -0.14210744, -0.26388854, -0.04676099, -0.0510636 , -0.18125929,\n",
       "       -0.09987528, -0.01436347,  0.03979059, -0.04925288], dtype=float32)"
      ]
     },
     "execution_count": 68,
     "metadata": {},
     "output_type": "execute_result"
    }
   ],
   "source": [
    "word_vectors = Word2VecKeyedVectors.load_word2vec_format(word2vec_file_path, binary=False)\n",
    "vector = word_vectors['컴퓨터']\n",
    "vector"
   ]
  },
  {
   "cell_type": "code",
   "execution_count": 69,
   "id": "98922775",
   "metadata": {},
   "outputs": [
    {
     "data": {
      "text/plain": [
       "[('더라고요', 0.6942203640937805),\n",
       " ('재방송', 0.6929516196250916),\n",
       " ('드럼', 0.6818866729736328),\n",
       " ('쪼', 0.6726386547088623),\n",
       " ('애잔', 0.6713457107543945),\n",
       " ('하나님', 0.66595458984375),\n",
       " ('김래원', 0.6658368706703186),\n",
       " ('끝내준다', 0.6651912927627563),\n",
       " ('+_+', 0.6590120196342468),\n",
       " ('여운', 0.656425416469574)]"
      ]
     },
     "execution_count": 69,
     "metadata": {},
     "output_type": "execute_result"
    }
   ],
   "source": [
    "word_vectors.similar_by_word(\"기쁨\")"
   ]
  },
  {
   "cell_type": "markdown",
   "id": "405ec5df",
   "metadata": {},
   "source": [
    "# 한국어 Word2Vec"
   ]
  },
  {
   "cell_type": "code",
   "execution_count": 70,
   "id": "ddf62214",
   "metadata": {},
   "outputs": [
    {
     "name": "stderr",
     "output_type": "stream",
     "text": [
      "/tmp/ipykernel_3345/3546430211.py:3: DeprecationWarning: Call to deprecated `__getitem__` (Method will be removed in 4.0.0, use self.wv.__getitem__() instead).\n",
      "  vector = word2vec['컴퓨터']\n"
     ]
    },
    {
     "data": {
      "text/plain": [
       "array([-1.517628  , -0.8935504 , -1.4352998 ,  1.5069847 , -1.5178334 ,\n",
       "        1.1542678 , -2.94064   ,  1.1850045 ,  0.19959009, -1.5288961 ,\n",
       "       -1.7067502 , -2.1892095 , -0.20728938, -2.2606812 , -2.2283888 ,\n",
       "        0.32318738, -0.2845471 , -0.07731772, -0.86269003, -1.1722927 ,\n",
       "       -0.91062415,  0.8440715 ,  0.903278  , -0.84685427,  0.7023384 ,\n",
       "       -2.1920419 , -0.47571626, -0.60159504, -0.68860835,  0.18944737,\n",
       "        0.5319404 ,  0.73058116, -0.9658133 , -1.0123725 , -0.36183038,\n",
       "        2.5851305 ,  0.66589296, -1.7231252 ,  1.7576753 ,  0.88845277,\n",
       "        1.5791365 , -4.430691  ,  0.36731872,  0.69481534, -0.46041563,\n",
       "        1.742655  , -1.5077016 ,  0.72209424, -0.04532204, -0.6557301 ,\n",
       "       -0.71276623,  0.26522732, -0.17656395, -2.4720876 , -0.845565  ,\n",
       "        0.23591152,  1.3414925 ,  0.77577615, -2.289371  , -0.8078124 ,\n",
       "        1.4359473 ,  0.22882733, -1.08867   ,  1.2607764 , -1.7469797 ,\n",
       "        0.06542054,  0.39896825, -0.3160832 , -1.7257563 ,  0.54638785,\n",
       "       -0.31753907, -0.48656994, -0.8225613 , -0.573065  ,  0.13175343,\n",
       "       -0.3924169 ,  0.55588305, -1.0773534 ,  0.55159163,  0.1352609 ,\n",
       "        0.88245326, -1.0127378 ,  0.14704451, -0.5254349 , -3.401769  ,\n",
       "       -0.42525592,  2.0031376 ,  0.36679608, -1.0043006 ,  1.3084906 ,\n",
       "        0.66252464, -0.48564675,  1.1390634 , -0.61399025, -0.50669813,\n",
       "        2.984564  ,  1.126494  ,  0.68590933, -0.2439008 , -1.317931  ,\n",
       "        0.826134  , -0.3985872 ,  0.509279  , -2.7423162 ,  2.1723568 ,\n",
       "        0.02191449, -0.16062206, -0.14502135, -0.32332814, -1.7890338 ,\n",
       "        1.8245052 , -1.3794106 ,  0.4879299 , -1.4982558 , -1.2389678 ,\n",
       "        1.1795257 , -1.54579   ,  0.07694028,  0.44653377,  0.27894926,\n",
       "       -1.9621123 ,  0.6149733 , -0.41162157, -1.0487087 , -1.7935017 ,\n",
       "        0.31845954,  0.14684801, -0.49587062,  1.6319822 ,  0.39944446,\n",
       "        0.434382  , -1.1794649 , -2.5206347 ,  0.6408292 , -0.62896025,\n",
       "        1.9872422 ,  1.2521076 , -0.21406372,  1.6773093 , -1.6608806 ,\n",
       "       -0.33801398, -0.88510543,  0.1943094 , -1.7670768 , -0.39440864,\n",
       "        1.5270631 , -1.1952105 , -0.60033166,  1.0510954 , -1.4626403 ,\n",
       "       -1.517039  ,  0.59476143,  0.36977595, -1.4121546 , -0.21997249,\n",
       "       -1.0658429 , -0.17150132,  0.8064618 ,  0.5093993 , -0.74832773,\n",
       "        1.2333933 , -1.9864655 , -0.8474578 , -1.1405545 , -3.6550071 ,\n",
       "       -1.556984  ,  1.8270527 ,  1.3725282 , -1.2329742 , -0.09723412,\n",
       "        0.34405386,  0.11565362, -0.9567215 ,  1.4773479 ,  2.169166  ,\n",
       "       -0.26613593, -1.4810696 ,  3.1457973 , -0.4415616 , -1.1940637 ,\n",
       "       -0.09637992, -0.05768079,  0.6716703 , -0.21914895,  0.56199044,\n",
       "       -1.129858  , -0.7972026 ,  0.73576796,  0.22356483,  0.9140782 ,\n",
       "       -1.4168789 ,  0.15810002, -0.79947495, -1.0691265 ,  1.4587201 ,\n",
       "       -0.5216996 ,  1.1812991 ,  0.37763026,  1.3513768 , -0.4241938 ],\n",
       "      dtype=float32)"
      ]
     },
     "execution_count": 70,
     "metadata": {},
     "output_type": "execute_result"
    }
   ],
   "source": [
    "word2vec_path = os.getenv('HOME')+'/aiffel/sentiment_classification/ko.bin'\n",
    "word2vec = gensim.models.Word2Vec.load(word2vec_path)\n",
    "vector = word2vec['컴퓨터']\n",
    "vector"
   ]
  },
  {
   "cell_type": "code",
   "execution_count": 71,
   "id": "3e74d16b",
   "metadata": {},
   "outputs": [
    {
     "name": "stderr",
     "output_type": "stream",
     "text": [
      "/tmp/ipykernel_3345/58648567.py:1: DeprecationWarning: Call to deprecated `similar_by_word` (Method will be removed in 4.0.0, use self.wv.similar_by_word() instead).\n",
      "  word2vec.similar_by_word(\"기쁨\")\n"
     ]
    },
    {
     "data": {
      "text/plain": [
       "[('즐거움', 0.7912124395370483),\n",
       " ('슬픔', 0.7767106294631958),\n",
       " ('아름다움', 0.6815950870513916),\n",
       " ('웃음', 0.681169331073761),\n",
       " ('괴로움', 0.6798388957977295),\n",
       " ('행운', 0.6609852313995361),\n",
       " ('인생', 0.657120406627655),\n",
       " ('젊음', 0.6522527933120728),\n",
       " ('영광', 0.6512227058410645),\n",
       " ('행복', 0.6493781805038452)]"
      ]
     },
     "execution_count": 71,
     "metadata": {},
     "output_type": "execute_result"
    }
   ],
   "source": [
    "word2vec.similar_by_word(\"기쁨\")"
   ]
  },
  {
   "cell_type": "code",
   "execution_count": 72,
   "id": "a07de137",
   "metadata": {},
   "outputs": [
    {
     "name": "stderr",
     "output_type": "stream",
     "text": [
      "/tmp/ipykernel_3345/903695008.py:7: DeprecationWarning: Call to deprecated `__contains__` (Method will be removed in 4.0.0, use self.wv.__contains__() instead).\n",
      "  if index_to_word[i] in word2vec:\n",
      "/tmp/ipykernel_3345/903695008.py:8: DeprecationWarning: Call to deprecated `__getitem__` (Method will be removed in 4.0.0, use self.wv.__getitem__() instead).\n",
      "  embedding_matrix[i] = word2vec[index_to_word[i]]\n"
     ]
    }
   ],
   "source": [
    "vocab_size = 10000\n",
    "word_vector_dim = 200\n",
    "\n",
    "embedding_matrix = np.random.rand(vocab_size, word_vector_dim)\n",
    "\n",
    "for i in range(4,vocab_size):\n",
    "    if index_to_word[i] in word2vec:\n",
    "        embedding_matrix[i] = word2vec[index_to_word[i]]"
   ]
  },
  {
   "cell_type": "code",
   "execution_count": 73,
   "id": "ce17ded6",
   "metadata": {},
   "outputs": [],
   "source": [
    "vocab_size = 10000\n",
    "word_vector_dim = 200\n",
    "\n",
    "GMP_model_ko = keras.Sequential()\n",
    "GMP_model_ko.add(keras.layers.Embedding(vocab_size, \n",
    "                                 word_vector_dim, \n",
    "                                 embeddings_initializer=Constant(embedding_matrix),\n",
    "                                 input_length=maxlen, \n",
    "                                 trainable=True))\n",
    "GMP_model_ko.add(keras.layers.GlobalMaxPooling1D())\n",
    "GMP_model_ko.add(keras.layers.Dense(8, activation='relu'))\n",
    "GMP_model_ko.add(keras.layers.Dense(1, activation='sigmoid'))"
   ]
  },
  {
   "cell_type": "code",
   "execution_count": 74,
   "id": "a55aeeeb",
   "metadata": {},
   "outputs": [
    {
     "name": "stdout",
     "output_type": "stream",
     "text": [
      "Model: \"sequential_5\"\n",
      "_________________________________________________________________\n",
      "Layer (type)                 Output Shape              Param #   \n",
      "=================================================================\n",
      "embedding_5 (Embedding)      (None, 48, 200)           2000000   \n",
      "_________________________________________________________________\n",
      "global_max_pooling1d_3 (Glob (None, 200)               0         \n",
      "_________________________________________________________________\n",
      "dense_9 (Dense)              (None, 8)                 1608      \n",
      "_________________________________________________________________\n",
      "dense_10 (Dense)             (None, 1)                 9         \n",
      "=================================================================\n",
      "Total params: 2,001,617\n",
      "Trainable params: 2,001,617\n",
      "Non-trainable params: 0\n",
      "_________________________________________________________________\n"
     ]
    }
   ],
   "source": [
    "GMP_model_ko.summary()"
   ]
  },
  {
   "cell_type": "code",
   "execution_count": 75,
   "id": "fb8696a9",
   "metadata": {},
   "outputs": [],
   "source": [
    "GMP_model_ko.compile(optimizer='adam',\n",
    "              loss='binary_crossentropy',\n",
    "              metrics=['accuracy'])"
   ]
  },
  {
   "cell_type": "code",
   "execution_count": 76,
   "id": "4668c2b7",
   "metadata": {},
   "outputs": [
    {
     "name": "stdout",
     "output_type": "stream",
     "text": [
      "Epoch 1/10\n",
      "3631/3631 [==============================] - 14s 4ms/step - loss: 0.5350 - accuracy: 0.7225 - val_loss: 0.4459 - val_accuracy: 0.7891\n",
      "Epoch 2/10\n",
      "3631/3631 [==============================] - 13s 3ms/step - loss: 0.4137 - accuracy: 0.8105 - val_loss: 0.4029 - val_accuracy: 0.8169\n",
      "Epoch 3/10\n",
      "3631/3631 [==============================] - 12s 3ms/step - loss: 0.3647 - accuracy: 0.8389 - val_loss: 0.3868 - val_accuracy: 0.8258\n",
      "Epoch 4/10\n",
      "3631/3631 [==============================] - 13s 3ms/step - loss: 0.3299 - accuracy: 0.8579 - val_loss: 0.3895 - val_accuracy: 0.8255\n",
      "Epoch 5/10\n",
      "3631/3631 [==============================] - 13s 3ms/step - loss: 0.3017 - accuracy: 0.8726 - val_loss: 0.3765 - val_accuracy: 0.8349\n",
      "Epoch 6/10\n",
      "3631/3631 [==============================] - 13s 3ms/step - loss: 0.2765 - accuracy: 0.8855 - val_loss: 0.3814 - val_accuracy: 0.8361\n",
      "Epoch 7/10\n",
      "3631/3631 [==============================] - 13s 3ms/step - loss: 0.2527 - accuracy: 0.8980 - val_loss: 0.3978 - val_accuracy: 0.8342\n",
      "Epoch 8/10\n",
      "3631/3631 [==============================] - 13s 4ms/step - loss: 0.2312 - accuracy: 0.9071 - val_loss: 0.4091 - val_accuracy: 0.8310\n",
      "Epoch 9/10\n",
      "3631/3631 [==============================] - 13s 3ms/step - loss: 0.2107 - accuracy: 0.9173 - val_loss: 0.4240 - val_accuracy: 0.8334\n",
      "Epoch 10/10\n",
      "3631/3631 [==============================] - 13s 3ms/step - loss: 0.1916 - accuracy: 0.9263 - val_loss: 0.4305 - val_accuracy: 0.8321\n"
     ]
    }
   ],
   "source": [
    "history = GMP_model_ko.fit(partial_x_train,\n",
    "                    partial_y_train,\n",
    "                    epochs=10,\n",
    "                    batch_size=32,\n",
    "                    validation_data=(x_val, y_val),\n",
    "                    verbose=1)"
   ]
  },
  {
   "cell_type": "code",
   "execution_count": 77,
   "id": "7e6e0c44",
   "metadata": {},
   "outputs": [
    {
     "name": "stdout",
     "output_type": "stream",
     "text": [
      "1537/1537 - 2s - loss: 0.4352 - accuracy: 0.8302\n",
      "[0.4352416396141052, 0.8301767706871033]\n"
     ]
    }
   ],
   "source": [
    "results = GMP_model_ko.evaluate(X_test,  y_test, verbose=2)\n",
    "\n",
    "print(results)"
   ]
  },
  {
   "cell_type": "markdown",
   "id": "eb5abf60",
   "metadata": {},
   "source": []
  },
  {
   "cell_type": "markdown",
   "id": "e0abc1bd",
   "metadata": {},
   "source": [
    "# [E-06] 회고\n",
    "\n",
    "\n",
    "여태까지 했던 exploration 중에서 제일 힘들었던 같습니다.😂 늘 초반에는 자신감있게 시작해서 기·승 부분 까지는 평화롭고 행복하고 즐거운데 '전' 시작부분을 넘어서 '결'로 가는 과정이 늘 눈물이 나게하네요😭\n",
    "\n",
    "자신있게 데이터 불러오고 데이터로더 구성까지는 즐거웠는데, 모델 구성을 위한 데이터 분석 및 가공에서ㅎㅎ 패딩부터 조금씩 막히기 시작했습니다.\n",
    "\n",
    "그래서 이번에도 https://github.com/JaeHeee/AIFFEL_Project/tree/master/EXPLORATION 이분의 깃허브를 참고했습니다😊🤗😅\n",
    "\n",
    "일단 코드를 복사해서 패딩 문제를 해결했는데요, 오답을 해야 어떻게 해결이 되었는지 알 수 있을 것 같습니다😂 (오답 필수🤗🤗🤗)\n",
    "\n",
    "그리고 이번 exploration을 진행하면서, 한국어Work2Vec을 이행하는 과정에서 LSM에 있는 링크에 들어갔는데, 어떻게 실행해야하는지 감이 안 잡혀서 고전을 했습니다.\n",
    "\n",
    "그래도 구글링으로 어떻게 어떻게 찾아보고, 설치를 하는데 여기서도 오류가 발생해서 다시 구글링을 하고, 또 어떻게 어떻게 클라우드 쉘에 들어가서 gensim을 설치했는데, 오류가 떴습니다ㅎㅎ\n",
    "\n",
    "당연히 버전으로 인한 오류였는데요, 어떻게 다운그레이드를 하나 찾아보다가 수완님께 여쭤보고 방법을 찾았는데, 제 노트북이 문제인지 계속 오류가 반복 되었습니다.\n",
    "\n",
    "다시 서치해서 방법을 찾아보니 unistall로 gensim을 삭제했다가 conda라는 방법을 사용해보기도 했는데, 오류가 계속 떴습니다. 리스타트의 문제인가 싶어서 리스타트를 해도 계속 오류가 떠서 어떻게 해야하나 고민을 하고 있었는데, 준서님이 구세주처럼 나타나셔서 방법을 알려주고 가셨습니다.\n",
    "\n",
    "주피터노트에 바로 실행하는 방법이었는데요, 알려주신대로 실행해보니 오류 없이 다음 코드로 넘어가서 감동이었습니다.😆😆 그리고 또 제가 생각이 막혀있었다는 걸 상기시켜주었어요. 클라우드 쉘이 안 된다면 주피터 노트에서 한 번 실행해볼 수도 있는데, 전혀 생각을 못했더라고요. 응용을 이렇게 못 해서야... 진짜 많은 예제들을 풀고 오답을 하는 것이 답이라는 것을 느꼈습니다.\n",
    "\n",
    "그리고 순조롭게 위의 깃허브를 참고해 3가지 모델을 사용해 exploration 6번을 진행했습니다.\n",
    "\n",
    "LSTM, Conv1D, GlobalMaxPooling 이렇게 3가지의 모델을 사용하셔서 저도 일단 급한대로 따라했는데, 이것도 선 실행 후 학습의 경로로 이번 설연휴때 휘몰아치는 복습에 끼어넣어서 공부할 예정입니다.\n",
    "\n",
    "이번 exploration 6번은 한국어Work2Vec 임베딩 기능을 활용하는데 어려움이 있었고... 그냥 전부다 어려웠습니다😂😂\n",
    "\n",
    "네, 그래서 그냥 꾸준히 해이해지지않고 공부를 지속할 수 있도록 노력하겠습니다.🔥🔥🔥"
   ]
  }
 ],
 "metadata": {
  "kernelspec": {
   "display_name": "Python 3 (ipykernel)",
   "language": "python",
   "name": "python3"
  },
  "language_info": {
   "codemirror_mode": {
    "name": "ipython",
    "version": 3
   },
   "file_extension": ".py",
   "mimetype": "text/x-python",
   "name": "python",
   "nbconvert_exporter": "python",
   "pygments_lexer": "ipython3",
   "version": "3.9.7"
  }
 },
 "nbformat": 4,
 "nbformat_minor": 5
}
