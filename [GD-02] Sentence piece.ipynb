{
 "cells": [
  {
   "cell_type": "markdown",
   "id": "0f98314c",
   "metadata": {},
   "source": [
    "# 프로젝트: SentencePiece 사용하기"
   ]
  },
  {
   "cell_type": "markdown",
   "id": "e0640aec",
   "metadata": {},
   "source": [
    "### 라이브러리 버전 확인"
   ]
  },
  {
   "cell_type": "code",
   "execution_count": 1,
   "id": "e475e038",
   "metadata": {},
   "outputs": [
    {
     "name": "stdout",
     "output_type": "stream",
     "text": [
      "2.6.0\n",
      "1.22.2\n",
      "3.4.3\n",
      "0.5.2\n"
     ]
    }
   ],
   "source": [
    "import tensorflow as tf\n",
    "import numpy as np\n",
    "import matplotlib as plt\n",
    "import konlpy\n",
    "\n",
    "print(tf.__version__)\n",
    "print(np.__version__)\n",
    "print(plt.__version__)\n",
    "print(konlpy.__version__)"
   ]
  },
  {
   "cell_type": "markdown",
   "id": "3ba6d836",
   "metadata": {},
   "source": [
    "## 1. 데이터 불러오기"
   ]
  },
  {
   "cell_type": "markdown",
   "id": "dab7bfd7",
   "metadata": {},
   "source": [
    "### Import"
   ]
  },
  {
   "cell_type": "code",
   "execution_count": 2,
   "id": "ce5234ab",
   "metadata": {},
   "outputs": [],
   "source": [
    "import pandas as pd\n",
    "import sentencepiece as spm\n",
    "import urllib.request\n",
    "import csv\n",
    "import numpy as np\n",
    "import matplotlib.pyplot as plt\n",
    "import tensorflow as tf\n",
    "from tensorflow import keras"
   ]
  },
  {
   "cell_type": "code",
   "execution_count": 3,
   "id": "d01b14b7",
   "metadata": {},
   "outputs": [
    {
     "data": {
      "text/plain": [
       "('ratings.txt', <http.client.HTTPMessage at 0x7f1b582655b0>)"
      ]
     },
     "execution_count": 3,
     "metadata": {},
     "output_type": "execute_result"
    }
   ],
   "source": [
    "urllib.request.urlretrieve(\"https://raw.githubusercontent.com/e9t/nsmc/master/ratings.txt\", filename=\"ratings.txt\")"
   ]
  },
  {
   "cell_type": "code",
   "execution_count": 4,
   "id": "040a49d3",
   "metadata": {},
   "outputs": [
    {
     "data": {
      "text/html": [
       "<div>\n",
       "<style scoped>\n",
       "    .dataframe tbody tr th:only-of-type {\n",
       "        vertical-align: middle;\n",
       "    }\n",
       "\n",
       "    .dataframe tbody tr th {\n",
       "        vertical-align: top;\n",
       "    }\n",
       "\n",
       "    .dataframe thead th {\n",
       "        text-align: right;\n",
       "    }\n",
       "</style>\n",
       "<table border=\"1\" class=\"dataframe\">\n",
       "  <thead>\n",
       "    <tr style=\"text-align: right;\">\n",
       "      <th></th>\n",
       "      <th>id</th>\n",
       "      <th>document</th>\n",
       "      <th>label</th>\n",
       "    </tr>\n",
       "  </thead>\n",
       "  <tbody>\n",
       "    <tr>\n",
       "      <th>0</th>\n",
       "      <td>8112052</td>\n",
       "      <td>어릴때보고 지금다시봐도 재밌어요ㅋㅋ</td>\n",
       "      <td>1</td>\n",
       "    </tr>\n",
       "    <tr>\n",
       "      <th>1</th>\n",
       "      <td>8132799</td>\n",
       "      <td>디자인을 배우는 학생으로, 외국디자이너와 그들이 일군 전통을 통해 발전해가는 문화산...</td>\n",
       "      <td>1</td>\n",
       "    </tr>\n",
       "    <tr>\n",
       "      <th>2</th>\n",
       "      <td>4655635</td>\n",
       "      <td>폴리스스토리 시리즈는 1부터 뉴까지 버릴께 하나도 없음.. 최고.</td>\n",
       "      <td>1</td>\n",
       "    </tr>\n",
       "    <tr>\n",
       "      <th>3</th>\n",
       "      <td>9251303</td>\n",
       "      <td>와.. 연기가 진짜 개쩔구나.. 지루할거라고 생각했는데 몰입해서 봤다.. 그래 이런...</td>\n",
       "      <td>1</td>\n",
       "    </tr>\n",
       "    <tr>\n",
       "      <th>4</th>\n",
       "      <td>10067386</td>\n",
       "      <td>안개 자욱한 밤하늘에 떠 있는 초승달 같은 영화.</td>\n",
       "      <td>1</td>\n",
       "    </tr>\n",
       "  </tbody>\n",
       "</table>\n",
       "</div>"
      ],
      "text/plain": [
       "         id                                           document  label\n",
       "0   8112052                                어릴때보고 지금다시봐도 재밌어요ㅋㅋ      1\n",
       "1   8132799  디자인을 배우는 학생으로, 외국디자이너와 그들이 일군 전통을 통해 발전해가는 문화산...      1\n",
       "2   4655635               폴리스스토리 시리즈는 1부터 뉴까지 버릴께 하나도 없음.. 최고.      1\n",
       "3   9251303  와.. 연기가 진짜 개쩔구나.. 지루할거라고 생각했는데 몰입해서 봤다.. 그래 이런...      1\n",
       "4  10067386                        안개 자욱한 밤하늘에 떠 있는 초승달 같은 영화.      1"
      ]
     },
     "execution_count": 4,
     "metadata": {},
     "output_type": "execute_result"
    }
   ],
   "source": [
    "naver_df = pd.read_table('ratings.txt')\n",
    "naver_df.head()"
   ]
  },
  {
   "cell_type": "code",
   "execution_count": 5,
   "id": "ad74a0ab",
   "metadata": {},
   "outputs": [
    {
     "name": "stdout",
     "output_type": "stream",
     "text": [
      "데이터 개수 : 200000\n"
     ]
    }
   ],
   "source": [
    "print('데이터 개수 :', len(naver_df))"
   ]
  },
  {
   "cell_type": "markdown",
   "id": "3b424028",
   "metadata": {},
   "source": [
    "**결측치, 중복 확인 및 제거**"
   ]
  },
  {
   "cell_type": "code",
   "execution_count": 6,
   "id": "5f8cab25",
   "metadata": {},
   "outputs": [],
   "source": [
    "origin_len = len(naver_df)"
   ]
  },
  {
   "cell_type": "code",
   "execution_count": 7,
   "id": "99092e60",
   "metadata": {},
   "outputs": [
    {
     "data": {
      "text/plain": [
       "id          0\n",
       "document    8\n",
       "label       0\n",
       "dtype: int64"
      ]
     },
     "execution_count": 7,
     "metadata": {},
     "output_type": "execute_result"
    }
   ],
   "source": [
    "naver_df.isnull().sum()"
   ]
  },
  {
   "cell_type": "code",
   "execution_count": 8,
   "id": "37978e3c",
   "metadata": {},
   "outputs": [
    {
     "name": "stdout",
     "output_type": "stream",
     "text": [
      "<bound method NDFrame._add_numeric_operations.<locals>.sum of            id  document  label\n",
      "0       False     False  False\n",
      "1       False     False  False\n",
      "2       False     False  False\n",
      "3       False     False  False\n",
      "4       False     False  False\n",
      "...       ...       ...    ...\n",
      "199995  False     False  False\n",
      "199996  False     False  False\n",
      "199997  False     False  False\n",
      "199998  False     False  False\n",
      "199999  False     False  False\n",
      "\n",
      "[199992 rows x 3 columns]>\n"
     ]
    }
   ],
   "source": [
    "naver_df = naver_df.dropna(how='any')\n",
    "print(naver_df.isnull().sum)"
   ]
  },
  {
   "cell_type": "code",
   "execution_count": 9,
   "id": "38bb0846",
   "metadata": {},
   "outputs": [
    {
     "name": "stdout",
     "output_type": "stream",
     "text": [
      "결측치 제거 후 데이터 개수 : 199992\n"
     ]
    }
   ],
   "source": [
    "print('결측치 제거 후 데이터 개수 :', len(naver_df))  "
   ]
  },
  {
   "cell_type": "code",
   "execution_count": 10,
   "id": "d105ad5f",
   "metadata": {},
   "outputs": [],
   "source": [
    "cleaned_corpus = naver_df.drop_duplicates(['document'])   "
   ]
  },
  {
   "cell_type": "code",
   "execution_count": 11,
   "id": "a0a0fd80",
   "metadata": {},
   "outputs": [
    {
     "name": "stdout",
     "output_type": "stream",
     "text": [
      "중복 제거 후 데이터 개수 : 194543\n"
     ]
    }
   ],
   "source": [
    "print('중복 제거 후 데이터 개수 :', len(cleaned_corpus))"
   ]
  },
  {
   "cell_type": "code",
   "execution_count": 12,
   "id": "b1a0a31d",
   "metadata": {},
   "outputs": [
    {
     "name": "stdout",
     "output_type": "stream",
     "text": [
      "전처리 전 데이터 개수 : 200000\n",
      "전처리 후 데이터 개수 : 194543\n",
      "전처리 후 남은 데이터 양(%) 97.2715\n"
     ]
    }
   ],
   "source": [
    "print('전처리 전 데이터 개수 :', origin_len)\n",
    "print('전처리 후 데이터 개수 :', len(cleaned_corpus)) \n",
    "print('전처리 후 남은 데이터 양(%)', (len(cleaned_corpus)/origin_len)*100)"
   ]
  },
  {
   "cell_type": "code",
   "execution_count": 13,
   "id": "d5d6a7fa",
   "metadata": {},
   "outputs": [
    {
     "data": {
      "text/html": [
       "<div>\n",
       "<style scoped>\n",
       "    .dataframe tbody tr th:only-of-type {\n",
       "        vertical-align: middle;\n",
       "    }\n",
       "\n",
       "    .dataframe tbody tr th {\n",
       "        vertical-align: top;\n",
       "    }\n",
       "\n",
       "    .dataframe thead th {\n",
       "        text-align: right;\n",
       "    }\n",
       "</style>\n",
       "<table border=\"1\" class=\"dataframe\">\n",
       "  <thead>\n",
       "    <tr style=\"text-align: right;\">\n",
       "      <th></th>\n",
       "      <th>id</th>\n",
       "      <th>document</th>\n",
       "      <th>label</th>\n",
       "    </tr>\n",
       "  </thead>\n",
       "  <tbody>\n",
       "    <tr>\n",
       "      <th>0</th>\n",
       "      <td>8112052</td>\n",
       "      <td>어릴때보고 지금다시봐도 재밌어요ㅋㅋ</td>\n",
       "      <td>1</td>\n",
       "    </tr>\n",
       "    <tr>\n",
       "      <th>1</th>\n",
       "      <td>8132799</td>\n",
       "      <td>디자인을 배우는 학생으로, 외국디자이너와 그들이 일군 전통을 통해 발전해가는 문화산...</td>\n",
       "      <td>1</td>\n",
       "    </tr>\n",
       "    <tr>\n",
       "      <th>2</th>\n",
       "      <td>4655635</td>\n",
       "      <td>폴리스스토리 시리즈는 1부터 뉴까지 버릴께 하나도 없음.. 최고.</td>\n",
       "      <td>1</td>\n",
       "    </tr>\n",
       "    <tr>\n",
       "      <th>3</th>\n",
       "      <td>9251303</td>\n",
       "      <td>와.. 연기가 진짜 개쩔구나.. 지루할거라고 생각했는데 몰입해서 봤다.. 그래 이런...</td>\n",
       "      <td>1</td>\n",
       "    </tr>\n",
       "    <tr>\n",
       "      <th>4</th>\n",
       "      <td>10067386</td>\n",
       "      <td>안개 자욱한 밤하늘에 떠 있는 초승달 같은 영화.</td>\n",
       "      <td>1</td>\n",
       "    </tr>\n",
       "  </tbody>\n",
       "</table>\n",
       "</div>"
      ],
      "text/plain": [
       "         id                                           document  label\n",
       "0   8112052                                어릴때보고 지금다시봐도 재밌어요ㅋㅋ      1\n",
       "1   8132799  디자인을 배우는 학생으로, 외국디자이너와 그들이 일군 전통을 통해 발전해가는 문화산...      1\n",
       "2   4655635               폴리스스토리 시리즈는 1부터 뉴까지 버릴께 하나도 없음.. 최고.      1\n",
       "3   9251303  와.. 연기가 진짜 개쩔구나.. 지루할거라고 생각했는데 몰입해서 봤다.. 그래 이런...      1\n",
       "4  10067386                        안개 자욱한 밤하늘에 떠 있는 초승달 같은 영화.      1"
      ]
     },
     "execution_count": 13,
     "metadata": {},
     "output_type": "execute_result"
    }
   ],
   "source": [
    "cleaned_corpus.head()"
   ]
  },
  {
   "cell_type": "markdown",
   "id": "588170e3",
   "metadata": {},
   "source": [
    "**데이터 분석 및 전처리**"
   ]
  },
  {
   "cell_type": "code",
   "execution_count": 14,
   "id": "610bba8d",
   "metadata": {},
   "outputs": [],
   "source": [
    "naver_review = cleaned_corpus['document']"
   ]
  },
  {
   "cell_type": "code",
   "execution_count": 15,
   "id": "95cd6690",
   "metadata": {},
   "outputs": [
    {
     "name": "stdout",
     "output_type": "stream",
     "text": [
      "문장의 최단 길이: 1\n",
      "문장의 최장 길이: 142\n",
      "문장의 평균 길이: 36\n"
     ]
    },
    {
     "name": "stderr",
     "output_type": "stream",
     "text": [
      "/tmp/ipykernel_1131/1743548021.py:19: DeprecationWarning: `np.int` is a deprecated alias for the builtin `int`. To silence this warning, use `int` by itself. Doing this will not modify any behavior and is safe. When replacing `np.int`, you may wish to use e.g. `np.int64` or `np.int32` to specify the precision. If you wish to review your current use, check the release note link for additional information.\n",
      "Deprecated in NumPy 1.20; for more details and guidance: https://numpy.org/devdocs/release/1.20.0-notes.html#deprecations\n",
      "  sentence_length = np.zeros((max_len), dtype=np.int)\n"
     ]
    },
    {
     "data": {
      "image/png": "[encoded data removed]",
      "text/plain": [
       "<Figure size 432x288 with 1 Axes>"
      ]
     },
     "metadata": {
      "needs_background": "light"
     },
     "output_type": "display_data"
    }
   ],
   "source": [
    "min_len = 999\n",
    "max_len = 0\n",
    "sum_len = 0\n",
    "\n",
    "for sen in naver_review:\n",
    "    length = len(sen)\n",
    "    if min_len > length: \n",
    "        min_len = length\n",
    "        \n",
    "    if max_len < length: \n",
    "        max_len = length\n",
    "    \n",
    "    sum_len += length\n",
    "\n",
    "print(\"문장의 최단 길이:\", min_len)\n",
    "print(\"문장의 최장 길이:\", max_len)\n",
    "print(\"문장의 평균 길이:\", sum_len // len(naver_review))\n",
    "\n",
    "sentence_length = np.zeros((max_len), dtype=np.int)\n",
    "\n",
    "for sen in naver_review:\n",
    "    sentence_length[len(sen)-1] += 1\n",
    "\n",
    "plt.bar(range(max_len), sentence_length, width=1.0)\n",
    "plt.title(\"Sentence Length Distribution\")\n",
    "plt.show()"
   ]
  },
  {
   "cell_type": "markdown",
   "id": "13abef35",
   "metadata": {},
   "source": [
    "최장길이 142에 가까운 데이터가 많은 것을 볼 수 있다."
   ]
  },
  {
   "cell_type": "code",
   "execution_count": 16,
   "id": "ff0393ee",
   "metadata": {},
   "outputs": [
    {
     "name": "stdout",
     "output_type": "stream",
     "text": [
      "내가 남자라그런가 이거 겁나 긴장감있고 흥미진진하던데..ㄷㄷ 나만그런가워낙에 격투씬을 좋아해서.ㅋㅋㅋ 그냥 아무생각없이 집에서 스마트티비로 봐서 재밌었나봄 이거 뭔영화인지도 모르고 암살에 나온 이정재 있길래 걍봄 ㅋㅋ 하여튼 너무 재밌게 봤음\n",
      "줄리아 로버츠의 웃음은 정말 보는 사람을 기쁘게 해준다. 웃음 하나로 기쁨과 슬픔을 표현할 수 있는 배우..전통을 깨고 여성의 새로운 삶을 살으라고 영화는 보여주는 데 영화에서는 전통을 완전히 벗어나야 한다는 것만을 강조하는 것 같아 아쉽다.\n",
      "평점 왜 이렇게 낮아요??? 영화 대박인데...진짜....ㅋㅋㅋ 와.. 어떻게 이런상상을 해서 이런 영화를... 대박대박.. ㅠ 생각지못한 반전.. 처음엔 반신반의하면서 봤는데.. 최고내요...ㄷㄷㄷ 근데 금발 여주는 중반에 좀 짜증나긴했음ㅋ\n",
      "큰 기대 안하고 띄엄띄엄 보다가 집중해서 봤네요!! 저는 잘봤습니다. 액션도 뛰어나고 아슬아슬한 장면들을 극복해 가는게 나름 잼있었어요!! 마지막에 여자 박사가 살았는지 죽었는지가 안나와서 좀 아쉽네요..그래도 딸은 살렸으니 다행스럽다는 ㅎㅎ\n",
      "누군가는 잃고, 누군가는 벌고, 또 누군가는 죽는 게임. 그리고 끊임없이 반복되는 삶과 기억의 굴레. 하지만 시작할 때부터 영화는 이미 심각했고, 지루했다. 다 본 후 생각해보니 그럴 수밖에 없었겠다 싶다. 넓고 얕은 재미, 길고 깊은 여운.\n",
      "영화내용은 사실별거 없지만 보고나면 생각을 많이하게 되는 영화임. 재미있기도 하고, 결론은 무엇이냐 하면 빨갱이들이 아무것도 모르는 사람들 선동해서 비참한 결과를 낳게 한다는 내용임. 복수심에 불타는 이북출신들도 나오는데 다 역사적인 사실임.\n",
      "고등학교때 보고 지금에서 생각난 영화 참~그땐 눈물 콧물 흘리면서 봤는데짐 보면 나올라나.. 하긴 세월이 많이 흘렀지 아마 짐 시대하곤 스토리자체가 뻔하니깐 하지만 지금도 잊혀지지않는장면은 주인공이 공부하는장면과하늘도 갈라놓지 못한 그들의사랑\n",
      "오스카는 흔히 볼수있는 아들이자 장난끼 많은 오빠 그리고 항상 미안해하는 남편. 감정이 앞서서 문제를 만들수도 있지만 언제나 마음은 내 가족, 내 사랑인 그 한사람. 정말 거지같은 상황속에서도 사랑이라는 한 단어로 살아남으려는 자를 짖밟았다.\n",
      "올타쿠나커플때문에 다시 우결 보게됬어여제가 소은이같은 성격이라 너무공감되고 설레여~소은씨는 드센게 아니라 남자를 잘 맞춰주고 흡수하는 스펀지같은 여자에요^^그리고 재림씨 자기마음을 다 말해주는 재림씨 너무짱~~~정말 오빠,아빠, 애기같은 매력\n",
      "오히려 평점 조작같은데.. 감독이 충무로 미움 삿을수도 있다는 생각까지 든다...한국영화 별로 좋아하진않지만.. 이영화가 이렇게까지 평점낮을만큼 재미없진 않다. 이정도 평점의 다른 영화같지않은 영화들과 비교할때 이 평점은 이해가 되질 않는다.\n",
      "이루어 질수 없기에 더욱 너무나 애절하고 안타까운 야하기만 한게 아니라 너무나 아름다운 영상. 그리고 소녀를 사랑하는 마음을 이룰 수 없는 중국인 청년의 안타깝고 애절한 눈빛. 소녀와 여인의 경계에 있는 제인마치도 너무나 묘하게 잘 어울린다.\n",
      "구작보다 묵시록적이고 웅장해짐. 아스카의 심리묘사가얇아지고 당위성이 부족해지는등의 단점이 있음에도 불구하고 현세대최고의 애니메이션중 하나임. 특히 영상미는 TVA판을 압도하고도 남을정도. 사골이아닌 새로운 스토리가 추가됫는데 굉장히 만족스러움\n",
      "오카다 마사키는 풋풋한 멜로에 정말 잘어울리는듯하다. 뭔가 첫사랑같은 느낌? 설레는 느낌을 주는 배우. 일본 멜로의 잔잔함이 이 영화에서도 드러난다. 청소년의 학업과 사랑 사이에서의 갈등도 무각본인만큼 자연스레 연기하여서 더욱 공감하며 봤다.\n",
      "이병우 작곡가의 곡들이 담긴 영화를 볼 때마다 느끼지만,이렇게 공포영화 음악을 아름답고 절묘하게 만드는 작곡가는 잘 없는 것 같다.한국 공포영화의 특징은 배경과 어우러지는 음악적 요소인데,이 작곡가가 어떻게 보면 그 처음이라고 볼 수 있겠다.\n",
      "지금 알고 있는걸 그때도 알았더라면... 내 가슴이 말하는 것에 더 자주 귀 기울였으리라더 즐겁게 살고 덜 고민했으리라사랑에 더 열중하고 그 결말에 대해선 덜 걱정했으리라.. 설령 그것이 실패로 끝난다 해도.... 웅... 너무 늙어서 봤다~\n",
      "인종차별과 불평등은 미국만의 문제가 아니다. 영웅적인 지도자가 아니라 서로 도와주려는 사람들의 연대감이 역사를 바꾼다는 것을 매우 사실적으로 보여준 영화다. 새로 알게 된 사실은 FBI가 킴 목사의 일거수일투족을 샅샅이 감시하고 있었다는 것.\n",
      "난 남자고 저 딸의 아비라면 저 김윤진 역보다 더 한 것도 할 수 있고 그 어미니의 아들입장이라면 저보다 더 한 것도 할 수 있다.. 평만보면 다들 공자시구만ㅋㅋㅋ 과연 정말 저 둘의 배역 중 하나의 입장이 된다면 그렇게 냉정할 수 있을까..\n",
      "뻔하고 진부하지만 그로인해 더 편안하고 행복한 결말. 나에게 있어 한국영화를 다시보게 만든 영화. 30대인 지금. 영화의 개봉 당시 10년 전으로 돌아가서 나의 무지개를 찾고 싶다.ps : 여태 본 영화중에 카메라에 빛을 가장 잘 담은 작품.\n",
      "This movie wowed and shocked me! 대학시절 과학사를 들었어도 이렇게 포괄적이고 모든 분야를 넘나드는 이해력을 갖을 수는 없었는 데. 융합적 사고의 총체! 초등학교에서 부터 대학교에 이르기까지 교양필수로 강추. 초강추.\n",
      "그저그런 로맨틱 코미디가 아닙니다~로맨틱 코미디도 프랑스에서 만들면 이렇게 멋진 영화가 나오는 군요 ㅋㅋ 문화를 주도해 나갔던 유럽인들의 풍속사를 잘 재현해 내었네요~ 코디디는 기본이구요! 이놈의 망할 제목때문에 안 뜬 영화 같습니다. -_-\n",
      "윤재문보다 인구아재의 딸과 마누라가 더 얄밉더라 고기만두사왔는데 휙 지나치는장면, 그동안 깡패짓으로번돈 잘써놓고선 한번도 떳떳한적없었다고말하는 마눌년 송강호가 울먹이면서 당신은 이러면안되지 라고할땐 울컥했다범죄영화가아니라 가장영화 아버지영화다\n",
      "같은 영화를 본다고 해도 내가 느낀 내가 받은 영향은 분명다르다. 이런 영화는 항상 뭔가 열어놓았기에,. 한 번씩 다시 보면 지난날의 나 혹은 앞으로의 나를 볼 수 있기도 하다., 또한 모든 아픔의 극복은 스스로 할 수 있게 놔두는게 좋다.,\n",
      "난 중국영화를 좋아하지만 천녀유혼은 5번밖에 안봤다. 어릴때라 영화에 대해 무지해서 명절때 누나가 보는걸 따라봤다. 하지만 20대가 되고나서 그시절 왜 장국영, 왕조현이 넘사벽인지 이영화를 보고 느꼈다. 왕조현 장국영은 아시아최고라 생각한다.\n",
      "스크린 너머로 배려심이라곤 없는 감독을 만나 개고생하는 두 여배우의 고통이 느껴졌다. 예술의 완성도가 꼭 극단으로 몰아부쳐야 완성되는가. 레아세이두의 말대로 존중만 해줬어도 진짜 완벽한 작품이 나오지 않았을까. 배우들의 노고때문에 10점이다.\n",
      "정말 미친듯 웃을 수 있어요~ 몰랐던 역사적 사실도 알게되고~출연자분 스텝분들 고생 많으시겠어요제 8의 멤버 이윤상님 나오실 때마다 웃겨요연기력에 감탄도 하게되고그리고 역시 정말 장동민 최고!!!시즌2 2번째 촬영에 콩이 또 나와서 즐겁습니다\n",
      "범죄없는세상 외치면서 그런사람들이 더하네 칭찬은 고래도 춤추게 한다 성지고 고생했다 한마디면 되는걸 한번도 못놀아본 사람 처럼 클럽,술 마신거 가지고 좀그러네 그건 뒷풀이야 방식이 다른것 뿐이지 자라나는 새싹 밟지말고 자신부터 돌아보고 잘하자\n",
      "연출력이 상당히 돋보이는 작품이다. 할배가 할매를 질식사 시킬 줄은 꿈에도 예측 못했다. 정말로충격적인 장면이었다. 할매가 나중에 어떻게 인생이 마감 할까? 내가 짐작하는바가 있었는데 갑자기 자기손으로할매를 보내다니...씁씁하기 그지 없었다.\n",
      "상당히 오래만든 만화임에도 잘만들었고 철학적 잔인함 여러성적 표현 이것은 다분한 우리 인생을 묘사하고 있다 베르세르크야 말로 우리 무뎌진 머리를 환상속에 빠져들게 만든다 판타지의 최고봉 애니를 적당하게 봐왔지만 이보다 나은 애니는 첮기 힘들다\n",
      "처음엔 정신이 피폐해진것같아 불쾌했다. 막연히 걱정하지만 넘겨버릴법한 범죄상황을 실감나고 섬세하게 묘사한 감독이 대단하다... 박진감은 넘치지만 억지상황이 난무해 문단속의 중요성을 잊게 한 불사여인의 비현실 영화 '숨바꼭질'이 문득 생각난다.\n",
      "수작이라고 평가한다. 보는 내내 긴장감과 궁금증을 유발하는 내용이며, 공포감과 스릴도 공존한다. 배우들의 연기도 전혀 위화감 없이 흘러간다. 다만 후속편은 굉장히 유치해졌으므로, 후속편은 보지 않는 걸 추천한다. 전 작품의 질까지 떨어뜨린다.\n",
      "역시 토이스토리. 재미있고 감동적일 뿐 아니라 현재만을 생각하는 21세기에 사는 우리에게 향수를 느끼게 하고 가끔은 잠시 모든 일을 내려놓고 어렸을 때 가지고 놀았던 장난감들을 생각하며 추억에 젖는 것도 나쁘지 않겠다고 생각하게 하는 영화다.\n",
      "감독님! 상업영화로 평가받고 싶지 않으면 혼자 영원히 습작하세요~ 가족끼리 친구끼리 오순도순 화기애애한거 스스로도 상업성에어 자유로울수 없으면서 쿨한척 하지맙시다. 그런상처 두려우면 투자받지도 마시고 학생들 데리고 작품전같은거 하시면 됩니다.\n",
      "부모님...특히 시부모님이 홍보관가서 사기당했다고 하소연하시는 분들~~~이 영화 꼭 좀 보셨으면좋겠어요..저도반성많이했네요...ㅜㅜ...솔직히 사회나와서 가정도 꾸리고하다보면 자기부모한테 소홀해지는사람많자나요~너무어르신들만 탓할수없을거같아요.\n",
      "요즘들어 다시보니 참 좋은영화다.길용의오토바이 뒤에 타며 고향얘기하는 신은경.참 슬프고 그림같은장면.길용역의 한정현씨라는분은 여기서 주연으로 나오는데 참 역할과 잘어울린다는 생각이.그이후의 작품은 거의 무술단역이고 더 비중있는 모습봤음 아깝네\n",
      "이 영화보면서 재미업다는 사람들은 역사좀 알아라영화에서 왜5.16을등장시키고 최규식 왜거론하는지 알지도못하니 그러지.. 한 남자의 인생을통해서 그시대적 상황을 알수있고 또 제목처럼 한남자가 그런상황에 맞춰 어뜩해 살았는지.. 보는 내내짠햇다.\n",
      "선라이즈 보고 이어서 봤는데 몰입감은 선셋이 좀더 좋은거 같고 작품성은 선라이즈가 나은듯 렛미싱유~♪ 3편 평점보다가 내용을 좀 알아버려서 아쉬움이.. 평점 안보고 볼껄... 사랑을 추억하는 영화 설레임 연애 애틋함이 느껴지는 좋은 영화였다.\n",
      "최근 보기드문 가족영화인 것 같아요!!보수적인 나도 애들의 천진스러운 생각과 가족에 대한 애듯한 사랑의 표현들에 나도 모르게 눈가에 눈물이 주르르 흐르더라고요! 다셋 ,여섯번정도..,저는 시사회에 두번 봤는데 , 두번째는 아들하고 함께봤어요!\n",
      "외모가 부각되어, 단순히 외모가 흉해서 몬스터인 줄 알았다. 그녀는 몬스터가 되었다. 점점 살인을 정당화해가는 모습이 이미 몬스터가 되었단 증거가. 하지만, 그녀를 그렇게 만든 몬스터가 있지 않았다면, 그녀도 이런 삶을 보내진 않았을 것이다.\n",
      "정말 재미있어요!!! 정말로정말로!!레나정은 딸을 빼앗기고 서인철박사가 집사?한테 주고키웠더니 나중엔 알게되서 레나정이 엄마가되고 TNC그룹 장남이 레나정과 결혼하고 장남의 동생인 박재준과 레나저의 딸과 결혼하고? 복잡하지만 재미있어요!!~~\n",
      "한국 영화 보면서 일케 웃어본적 몇년만인거 같네요 ㅋㅋㅋ 뭐 사람들 클라라 벗는 거만 생각하고 봤다가 실망해서 평점 1 주고 햇더만 전 원래 클라라 누군지 잘 몰라서 그냥 영화만 봣는대 웃겨서 ㅋㅋㅋ 팬티 입고 축구장간거에서 빵 터졋다는 ㅋㅋ\n",
      "지금 이 10점은 시즌 1을 위한것에 불과하다. PD도 대단했고, 그때 출연했던 강호동, 이승기, 은지원, 김종민, MC몽, 김C 등 호흡이 척척 맞았다. 물론 지금 안 맞는건 아니지만서도 웬지 모르게 시즌 1이 무척이나 그리운건 나 뿐인가?\n",
      "Mary Hopkin 의 Voyage of the Moon 이 흐르며 새하얀 커피잔에 커피와 독약이 함께 녹는다. 흠 잡을 곳이 없는 멋진 드라마.. 흡사 히가시노게이고 소설의 마무리를 보는 것 같았다. 죽어가는 채령의 모습은 오래 기억될듯.\n",
      "타계하신 배우,윤인자 님께서 주연으로 열연을 보여주신 당시 우리 영화로는 보기드문 수작이라고 기억합니다.오래전, 극장에서 본 영화라서 기억은 가물 대지만 ,전편에 잔잔하게 흐르는 음악도 좋았었구요...윤인자 님의호연이 참,좋았다고 생각합니다.\n",
      "쑨원의 삶을통해 신해혁명의 의미를 되새기고, 중국의역사를 알기쉽게 전달해준 감명깊은 영화였다., 공산당이라고 까는사람들은 중국이 원래는 공산당이 아니었다는사실을알아야한다. 신해혁명은, 청나라에대항해 한족이 일으킨혁명이며 공산당과는전혀상관이없다\n",
      "6점대는 아닌거 같다..곽경택영화는 항상 부담스럽긴 한데.. 겉멋 보다는 툭툭 던지는 욕설 섞인 구수한 사투리의 강한남성영화인거 같다. 출현 배우의 능력을 최대한 끌어내는 감독. 취향은 아니지만 영상 음악 나무랄데 없고 항상 대작스멜이 난다.\n",
      "마고가 루와 그의 가족과 있을때 중간중간 보여줬던 묘한 표정들 .. 외로워보이기도 하고 체념하는듯해보이기도 했는데 결국 마고가 루를 떠났던건 채워지지않는 외로움이 있어서가 아닐까 싶어요. 하지만 새로운 사랑도 이 외로움을 채워주지못한것같아요.\n",
      "오랜만에 보는 서부극.소재도 독특하고 음악역시 특이하게 가스펠을 편곡해서 썼는데, 색다르네. 배역도 좋았고,개인적으로 제프 브리짓스의 가래낀 목소리싫어하는데,헤일리스테인벨트 보는 맛에 참을 수 있었네. 오랜만에 보는 코엔형제작품, 강추합니다.\n",
      "최민식씨가 소주 한잔 하면서 우는장면에서뭐랄까... 아이들을 지키고 싶어하는 선생님의 모습을. 우리 아버지의 모습을. 또 점점 나이가 들어가면서 약해져가는 내 모습을 보는것 같아. 같이 울고 같이 힘내게 되네요. 위로 받았습니다. 감사합니다.\n",
      "인간이 '목적하'에 복제 인간을 만들어 낸다면 현실 가능성 있는 얘기 같다. 복제인간 관점에서 해피엔딩을 바라고 만족감을 바란다면 비추나 힘없고 나약한 그들의 존엄성도 동등히 존중받아야 하는 영혼을 가진 존재란 걸 느끼며 괜찮게 본 영화였다.\n",
      "창업을 꿈꾸는가! 좋은 아이템이 있어 사업을 하려하는가!! 그렇다면 기를 쓰고 이 영활 보기바란다!! 그 멀고 험한 여정에 스승이 될것이요 지침서가 될것이다... 혹은 단념에 도움이 될지도... 참 오랜만에 박장대소하며 본 독립영활세~~~ ★\n",
      "초등학생때 우연히 엄마 가곡집에서 가사를 보고 비디오를 빌려 본 사운드 오브 뮤직은 고등학생때까지?일년에 두번씩 꼭 챙겨보는 인생영화가 되었다. 아름다운 노래소리와 연출들.. 영화의 모든 ost가 이렇게 좋을수 있을까? 볼때마다 소름이 돋는다\n",
      "아주 개만도 못한 인간찌질이들이 악플다네ㅋㅋ 난 잼있게봤는데...영화는 말그대로 그냥 재미있으면 그만인거지..ㅋㅋㅋㅋ 이영화 악플달고 ㅈㄹ 하는 개 만도 못한 인간 찌질이 막장 인생들아.....ㅋㅋ 그냥 목 메러가라 OO 버려라 그냥 ㅋㅋㅋㅋ\n",
      "이영화를 우연히 보게 되고난후 난 너무 아름다웠다. 제작년 추석 TV에서 틀어준 봄여름가을겨울을 우연히 술이 꺤 직후 보게 되었고 난 아름다운 충격에 휩쌓였다. 그런데 그것도 김기덕의 영화였다. 난 이제 알았다. 김기덕은 대단하다는 것을...\n",
      "I am that I am. WHO MADE MAN'S MOUTH? WHO MADE THE DEAF, THE MUTE, THE SEEING OR THE BLIND? DID NOT I? NOW GO! you shall DO MY WONDERS!\n",
      "이 영화를 몇 번이고 보면 볼수록, 하나의 문장이 머릿속에서 떠나질 않았다. 한국은 관객을 위한 영화가 없다. 제발 우리나라 영화가 같잖은 억지눈물샘만 자극하는 돈만 보는 거지같은 거 그만하고 이 영화의 반 정도만 되는 영화를 만들길 바란다.\n",
      "한국 애니메이션을 진심으로 응원합니다. 박신혜씨는 억양이며 말투가 너무 어색하던데 아마 본인도 그 어색함을 느꼈을 듯. 반대로 송창의씨는 정말 자연스럽더군요. 성우인줄 알았는데 영화정보를 보고 알았네요. 오랜만에 보는 한국적인 애니메이션영화.\n",
      "아무도 지킬 생각도 없는 번들어진 규범과 규칙 따위가 대체 무슨 소용이 있나. 다들 기품있고 우아한 척 하지만 기실은 상-놈들이랑 하등 다를 바 없던 우리의 잘나신 나으리들이여. 영화의 모든 것을 장악하고 통제해낸 위대한 르누아르에게 경배를!\n",
      "오랜만에 영화보고 울었다.자이언트가 어디서 무슨목적으로 지구에 왔는진 중요하지 않다. 자이언트는 올바른 길을 선택했고 슈퍼맨이 되었다. 결국 상황이 어떻든 내가 옳은 판단을 하면 되는거다. 이렇다 변명따위 필요없이 나는 내가 선택한대로 된다.\n",
      "영어 잘 못 하는 분들이나 Skype 이용 안 해본 사람한테는 재미 없을 겁니다. 하지만, 연출, 플롯, 영상 등 작품성으로 보면 아주 훌륭한 작품입니다. SNS를 이용하는 모두가 꼭 반드시 봐야 된다고 생각합니다. 친구들한테도 추천해주세요.\n",
      "이 영화에 나오는 잔인한 부분은 시각적으로 자극을 줄려고 만든 것이 아니라 영화가 전달하고자 하는 부분들을깊게 나타내기 위한 요소로 느껴져서 너무 좋앗습니다. 고통이 가지는 의미 전쟁의 참혹함.. 마지막 부분의 여운은 정말.... 최고네요ㅜㅜ\n",
      "잠수함이 부상할때 나오는 마초적인 음악은 정말 남자의 가슴을 흥분시킨다. 잠수함이라는 특수한 공간의 폐쇄성을 지극히 사실적으로 살린 수작 중의 수작!!! 아무리 헐리웃의 CG특수효과가 대단하다하지만 아날로그의 감성을 절대 이길 수는 없지...\n",
      "생각보다 재밌는데 왜 평점이 낮은지 이해가 안된다. 박하선의 연기가 일품이고....특히 여고생연기, 음치흉내내는것 등등 박하선의 매력에 푹~ 빠지게 만드는 그런 영화다....요즘 유머코드와 안맞아서 흥행실패한지는 모르겠지만....암튼 재밌음.\n",
      "브로드웨이에서 직접 보고 영화로 또 봤지만 역시 최고의 감동! 말이필요없네요!! 연출도 훌륭했고 영화는 또 영화만의 매력이 있고 황홀한 음악과 화려한 볼거리로 가득했던 The Phantom of the opera!! Phantastic!!!!\n",
      "신랄하게 주고받는 악담도 재치터지고 가끔씩 폐부를 찌르는 교훈이라고 해야하나 느낀점이라고해야하나 그런것도 감탄을 하게 만듦무엇보다 인물이 너무 생생해서 좋다대사하나하나에 그인물이 물씬 물씬 느껴진다굉장히 생동감있는- 색채가 화려한 대사들이었다\n",
      "28일후는 단순한 좀비영화가 아니라 인간의 본성이 무엇인지, 그리고 집단적 폭력과 비합리적인 권위가 얼마나 위험한 것인지(심지어 좀비보다도)를 보여주려고 한 영화다. 조지 로매오의 살아있는 시체들의 밤과 더불어 좀비 영화의 명작이라고 생각함.\n",
      "Com-아끼고 아껴보던.. 정말.. 명작.. 주옥같은 그 당시 노래와.. 소품들.. 그리고.. 기대치 않았던.. 신인배우들의 연기력... 깨알같던.. 까메오 출연과.. 실타래 풀리는 듯한 스토리가.. 회를 거듭할수록 기대하게 하는 명작 드라마\n",
      "1박2일 시즌1은 그야말로 레전드라 할 수 있겠다. 구성, 출연진, 패턴, 시간대, 조합 등등 모든것이 최고였고, 시청률 역시 40%는 그냥 쉽게쉽게 찍었었지...강호동, 이수근, 은지원, 김종민 참 대단했지...MC몽 병역연기사건이후 하락세\n",
      "인격의 다양한 면을 감각적으로 표현한 멋진 작품. 차안에서의 하가안과 고지위의 동행장면과 마지막에 겁쟁이를 한번더 추악하게 만든 장면 등에서 눈에 보이는 것 이상의 디테일한 세상을 가시적으로 전달하여 상황을 더 인상적이게 표현한 것이 좋았다.\n",
      "작품성, 현실성으로 승부해야 할 다큐무비였다. 한국에 수입되며 상어나오는 B급 여름 스릴러처럼 마케팅해 커플들이 껴안을생각으로 영화관 갔다가 뒤통수 맞으니 환불이나 요청하지. 조난에 대한 현실성은 10점을 줘도 아깝지 않은 안타까운 수작이다.\n",
      "무지한 사람들이 보기에는 덜떨어진 패러디물, 하지만 자세히 찾아보면 사회풍자와 멋드러지게 잘꾸며진 외면 내부에 숨겨진 추악한 부분을 들춰낸다는 깊은 메세지를 담은 영화. 무작정 3류코미디영화라고 생각한다고 본다면 그사람에겐 더이상해줄말이없다.\n",
      "뭐 역사를 다룬영화니 역사왜곡이느니 어쩌구하는 인간들많다 근데 영화는 영화일뿐이고전쟁중에서의 시점은 스파르타시점이니 그 시점에서의 페르시아가 그렇게보인다는 식으로 꾸민건데(적군이고 스파르타 입장이니) 그냥 영화로봐라 영화로 무슨 역사공부하냐?\n",
      "맨 마지막... 강렬했다. 특히 마지막 장면. 어째 슌지는 꼭 자살해서 죽을것 같더라니 ㅠㅠ 우리는 모두 각시탈이고 이 나라의 영웅이다. 우리나라 정말 만세다!! 이번 드라마로 많은 걸 생각한듯.. 교훈과 아쉬움과 뭉클함을 남기고 끝났구나ㅠㅠ\n",
      "장가위감독은 천재다. 대사도 많지 않으면서 관객에게 많은 생각을 하게해준다. 양조위, 장만옥의 연기 또한 일품이다.이 영화를 열번정도 보았는데 다시봐도 질리지 않는 영화로 내겐 고전이 되었다. 음악도 감미롭고, 카메라 워크도 좋았고, 영상미도\n",
      "개인적으로는 에밀리 브론떼의 폭풍의 언덕, 유진 오닐의 밤의로의 기로 같은 작품을 떠올리게 하는 김기덕 감독 식 시나리오의 작품. 이번 작품 또한 오래 오래 생각할 부분이 많을 것 같다. 각본도, 연기도 정말 좋다. 긴장을 놓지 못하고 봤다.\n",
      "독창적이고 종교적 색채(?)가 짙은 영화이지만、맨 프롬 어스와 같이 많은 것을 생각하게 해주는 영화입니다。종교에 대한 생각 자체가 신이 아닌 믿음으로 정의 된다면 상당히 얻어 갈 수 있는 교훈적인 영화이지요~참、좋은 시간이었습니다。강력추천！！\n",
      "이 영화를 단순히 스시에 대한 다큐라고 보지 않으셨으면 합니다ㅋ 일부 전문가들은 이 영화의 전개 등이 뻔하다고 생각 하지만. 이는 감독의 의도를 생각하지 못한 짧은 생각인것 같습니다. 자신의 삶을 이 영화를 거울 삼아 되돌아 보셨으면 합니다.\n",
      "토시오와 가야코가 나와서 무조건 죽이고 다니는, 별 스토리 없는 기존의 주온보다 오히려 더 좋았다. 탄탄한 스토리, 드라마성을 지닌... 새로운 주온으로 거듭날 가능성이 보인다. 좀 안타깝기도 하고 애처롭기도 했다. 꼬마애가 철권날릴때 멋있어\n",
      "난 이런 병맛 같은 영화가 좋다. 매력있는 캐릭터의 집합소이며 어디로 튈 지 모르는 인물들과 스토리에 빠져 들어감. 휘몰아치는 이야기 전개 아니라서 좋고 흔하디 흔한 악역과 갈등 뭐 이런 거 없어서 식상하지 않음. 웃긴데 뭔가 안 웃겨서 좋음\n",
      "톰행크스의 샤프하고차분한연기가 굿.아울러 영화시작과 끝부분에나오는<street of philadelpia>와 <philadelpia>음악은 화룡점정<나는당신의사상에 반대한다.하지만당신이 그사상때문에 탄압을 받는다면 나는당신의편에서서 싸울것이다\n",
      "90년대는 홍콩영화계에 전성기라고 해도 과언이 아닌 시절이죠 그시절에 최고의 여배우들 세명이 나왔던 영화 스토리는 약해도 이러한 영화에 스토리를 찾는 것이 어불성설이지만 진짜 대박이였던 영화 그영화를 다시 리마스터링으로 볼수가 있다니 놀랍네요\n",
      "연기도 스토리도 최괴입니다. 몰입도도 굉장해거 영화애서 눈을 뗄수 없었습니다. 이번 영화로 영국의 역사에도 관심이 생겼네요. 그리고 배우들 연기도 정말 굉장했습니다. 야망에 찬 삶보다는 역시 소박하지만 행복한게 최고라는 생각을 가지게 되었네요\n",
      "케이블tv 에서 우연히 잠깐보고 재미있어 1000원이나 주고 다운받아 보는 중인데, 무한도전이나 개그콘서트도 수준낮다 무시하고 안보는 저이지만 이건 대놓고 코메디인데도 대사들이 인간 본성을 솔직히 드러내 화통하고 재미있습니다. 꼭 한번 보세요\n",
      "극초반에는 다소 억지스러운 설정이다 싶었는데 중반이후부터는 완전 몰입해서 봤습니다. 원작 보다 훌륭한 완성도 그리고 이범수, 정려원의 열연, 열정에 박수 갈채를 보내드리고 싶었고 너무 극전개가 탄탄했고 재미있어서 눈을 뗄 수 없었던 것 같아요\n",
      "내인생 최고의 드라마 라는 수식어가 당연한 최고의 걸작이었다.드라마 끝난지가 5개월이 다 되어가는데도 계속 반복해서 보고있다..매번 흠뻑 빠져서..스토리도 감동이었고 최영장군의 이민호는 최고의 캐스팅이었다.요즘세상 보기드문 감동드라마 신의!!\n",
      "레미제라블을보고, 스위니토드는 생각보다 배우들급이 낮았구나 싶었는데 다시보니 진정한 걸작이다. 가위손 이후 팀버튼과 조니뎁의 시너지가 가장 잘 발현된 작품! 음울한 런던을 표현한 미술에, 손드하임의 탁월한 음악. 주제표현까지 완벽한 잔혹동화!\n",
      "참신하긴해. 헨젤과 그레텔 오누이 가 또 이젠 대한민국으로와갖고, 마녀사냥 접고 일찐 학생들 사냥해주었으면 좋겠다.헨젤과 그레텔이 마녀사냥 때 했던것처럼,,석궁과 총탄으로 일찐 학생들을 송송 벌집 내줬으면 좋겠구나.헨젤과그레텔-일찐학생 사냥꾼\n",
      "이뮤지컬영화에 왜 이렇게 빠졌는지 나도잘 모르겠다. 수도 없이 봐서 이제 내가 이영화를 총 몇번 봤는지 기억도 안난다. 40~50번 정도 본거 같다. 열정 그래 이영화를 보면 열정이 살아 난다. 삶이 힘들때마다 내게 열정을 불어넣어준 \"렌트\"\n",
      "누가 그랬다 20살의 남자는 임신을 보고도 섹스 하는 상상만하지만....자식을 키운 남자는 임산부가 아름답게 보인다고..영화에게 몇년전에 느낀거 보다 더 많은것이 느껴진다..보면 볼수록...나이가 들수록... 좋은 영화다. 현실속의 사랑이..\n",
      "개인적으로, 굉장한 걸작이란 생각이 든다. 여자가 강간을 당했다고 진술한 이유에 대해 논란이 많은데, '문화충격'으로 인한 심리적 여파와 영국인들의 텃세, 강압에 의해 어쩔 수 없이 거짓말한거라고 생각한다. 어찌되었든 최고의 걸작 중 하나..\n",
      "영화를 보면서 모든 화장을 마친 완벽한 여자의 모습과 화장을 지운 여자의 모습을 보는 것 같았다. 그만큼 반전의 느낌이 정말 강했다. 완벽하다고만 생각했는데 생각지도 못한 반전에 놀랐고 그 반전에 담겨있는 내용과 그 내용 풀이가 정말 좋았다.\n",
      "배우 이민호와 김희선의 어울리지 않을것 같은 어울림이 묘한 매력으로 다가오는 신의 ^^ 타임스립드라마의 최고봉이라 할 수 있답니다. 잔잔하게 애잔한 신의의 매력으로 풍덩 빠져보심이 어떨런지 ^^ 내인생 최고의 드라마였습니다. 적극 추천합니다.\n",
      "햇살님 평보고 너무 어이없어서 로그인하네요.역겨우면 영화를 보지 말지 그러셨어요.? 아니 애초부터 동성애에 대해 편견을 가지고 있는 분이라면 차라리 영화보지말지 굳이 감상평까지 친절하게 남겨주시네요ㅋ입장바꿔생각해봐요이렇게까지욕먹을껀아니라생각함\n",
      "사람들 절반이, 잘못알고있는데ㅋㅋ 진화촉진제 맞은 인간들이 바로 돌연변이 된게 아니라... 진화촉진제 맞은 인간들이ㅡ 후손남기고 극한환경에ㅡ 맞게끔 900년걸쳐서 진화한건데;;; 전자로 생각하면 진짜 평점 낮을수밖에ㅋ기자/평론가들 태반일거임ㅋ\n",
      "아시아권을넘어 세계적 예인(藝人)으로 살다간 \"그\" 가 가고 난 후에도 지금까지 난 그를 동시대 사람으로 늘 그리워하기에 혹시 내가 그의 흔적 무엇인가를 놓쳤을까봐 찾아보고 또 찾아본다. 그리고 지금 놓쳤던 그의 흔적 유성어를 지금 보고있다.\n",
      "이 영화 재미있게 본 분들은 이 영화 제작기 다큐인 \" Hearts of Darkness : A Filmmaker's Apocalypse\" 라는 다큐를 보세요. 또 다른 재미를 느끼실 수 있을 겁니다. 한글자막도 있으니 검색해서 찾아 보시길.\n",
      "다양성을 인정하지 못한다면, 이 불쾌한 영화가 싫을 수도 있다. 하지만 당신이 이 영화 속 인물들 때문에 역겨움을 느꼈다면, 아마 제작진의 의도는 거의 성공적으로 당신에게 먹힌것 일 거라고 생각한다.. 이 영화, 블랙코미디 영화라고 써있던데.\n",
      "단순히 겉모양만 흉내낸 것이 아닌 진짜 성찰이 있는 캐릭터들이 마치 톱니바퀴처럼 완벽하게 맞아 돌아간다. 다른 영화를 볼 때, '과연 내가 이런 영화를 만들 수 있을까?' 라는 생각을 하게 되는데 이 영화는 감히 그런 발상조차 할 수 없었다.\n",
      "님을 생각하면 너무 가슴 아프다... 일년 후 박사가 다시 왔을때... 님이 기뻐하며 안기는 그 모습만 생각하면 가슴이 아파 미치겠다...그리곤 다시 오지 않았지...인간의 잔인함... 님을 생각하면 가슴아프고...미안하고... 너무괴롭다..\n",
      "마지막까지 로맨틱한 사랑을 꿈꾸는 젊은 청춘들..허나 나같은 청춘의 마지막 기로에서도 아직까지 영원불멸 로맨틱을 꿈꾼다.. 이 영화는 점점 현실이 되어가서 실망을 안겨줄것 같다가도 그러나 영원불멸한 사랑은 꼭 존재한다는것을 가르쳐주었다 : )\n",
      "도심속에 꽉찬 머리속을 비우는 느낌이 좋다대사도 그리 많지 않고 잔잔하면서 서정적인 풍광작은집 외벽 이곳 저곳 벗겨진 페인트가 세월의 자연스러움을 보여준다이국적이지만 동양적 시각으로 앵글에 담겨진 하와이가너무나 아름답게 내눈을 편안하게 해준다\n",
      "사운드며 조승우의 보컬이 너무 좋았다.하지만 가장 좋았던겄은 별로 좋아하지 않았던신민아~♡그녀의 인생연기. 화면이(감독이 암흑기를 표현했겠지만)더 아름다웠을듯.좋아하는 감독님이 추억의 가요로 리머이크를 잘 해준다면 오백만 이상 자신해요~^^)\n"
     ]
    }
   ],
   "source": [
    "# 어떤문장인지 확인해보기\n",
    "def check_sentence_with_length(raw, length):\n",
    "    count = 0\n",
    "    \n",
    "    for sen in raw:\n",
    "        if len(sen) == length:\n",
    "            print(sen)\n",
    "            count += 1\n",
    "            if count > 100: return \n",
    "\n",
    "check_sentence_with_length(naver_review, 135)"
   ]
  },
  {
   "cell_type": "code",
   "execution_count": 17,
   "id": "b68c93be",
   "metadata": {},
   "outputs": [
    {
     "name": "stdout",
     "output_type": "stream",
     "text": [
      "Outlier Index: 2\n",
      "Outlier Index: 3\n",
      "Outlier Index: 4\n",
      "Outlier Index: 5\n",
      "Outlier Index: 6\n",
      "Outlier Index: 7\n",
      "Outlier Index: 8\n",
      "Outlier Index: 9\n",
      "Outlier Index: 10\n",
      "Outlier Index: 11\n",
      "Outlier Index: 12\n",
      "Outlier Index: 13\n",
      "Outlier Index: 14\n",
      "Outlier Index: 15\n",
      "Outlier Index: 16\n",
      "Outlier Index: 17\n",
      "Outlier Index: 18\n",
      "Outlier Index: 19\n",
      "Outlier Index: 20\n",
      "Outlier Index: 21\n",
      "Outlier Index: 22\n",
      "Outlier Index: 23\n",
      "Outlier Index: 24\n",
      "Outlier Index: 25\n",
      "Outlier Index: 26\n",
      "Outlier Index: 27\n",
      "Outlier Index: 28\n",
      "Outlier Index: 29\n",
      "Outlier Index: 30\n",
      "Outlier Index: 31\n",
      "Outlier Index: 32\n",
      "Outlier Index: 33\n",
      "Outlier Index: 34\n",
      "Outlier Index: 35\n",
      "Outlier Index: 36\n",
      "Outlier Index: 37\n",
      "Outlier Index: 38\n",
      "Outlier Index: 39\n",
      "Outlier Index: 40\n",
      "Outlier Index: 41\n",
      "Outlier Index: 42\n",
      "Outlier Index: 43\n",
      "Outlier Index: 44\n",
      "Outlier Index: 45\n",
      "Outlier Index: 46\n",
      "Outlier Index: 47\n",
      "Outlier Index: 48\n",
      "Outlier Index: 49\n",
      "Outlier Index: 50\n",
      "Outlier Index: 51\n",
      "Outlier Index: 52\n",
      "Outlier Index: 53\n",
      "Outlier Index: 54\n",
      "Outlier Index: 55\n",
      "Outlier Index: 56\n",
      "Outlier Index: 57\n",
      "Outlier Index: 58\n",
      "Outlier Index: 59\n",
      "Outlier Index: 60\n",
      "Outlier Index: 61\n",
      "Outlier Index: 62\n",
      "Outlier Index: 63\n",
      "Outlier Index: 64\n",
      "Outlier Index: 65\n",
      "Outlier Index: 66\n",
      "Outlier Index: 67\n",
      "Outlier Index: 68\n",
      "Outlier Index: 69\n",
      "Outlier Index: 70\n",
      "Outlier Index: 71\n",
      "Outlier Index: 72\n",
      "Outlier Index: 73\n",
      "Outlier Index: 74\n",
      "Outlier Index: 75\n",
      "Outlier Index: 76\n",
      "Outlier Index: 77\n",
      "Outlier Index: 78\n",
      "Outlier Index: 79\n",
      "Outlier Index: 80\n",
      "Outlier Index: 81\n",
      "Outlier Index: 82\n",
      "Outlier Index: 83\n",
      "Outlier Index: 84\n",
      "Outlier Index: 85\n",
      "Outlier Index: 86\n",
      "Outlier Index: 87\n",
      "Outlier Index: 88\n",
      "Outlier Index: 89\n",
      "Outlier Index: 90\n",
      "Outlier Index: 91\n",
      "Outlier Index: 92\n",
      "Outlier Index: 93\n",
      "Outlier Index: 94\n",
      "Outlier Index: 95\n",
      "Outlier Index: 96\n",
      "Outlier Index: 97\n",
      "Outlier Index: 98\n",
      "Outlier Index: 99\n",
      "Outlier Index: 100\n",
      "Outlier Index: 101\n",
      "Outlier Index: 102\n",
      "Outlier Index: 103\n",
      "Outlier Index: 104\n",
      "Outlier Index: 105\n",
      "Outlier Index: 106\n",
      "Outlier Index: 107\n",
      "Outlier Index: 108\n",
      "Outlier Index: 109\n",
      "Outlier Index: 110\n",
      "Outlier Index: 111\n",
      "Outlier Index: 112\n",
      "Outlier Index: 113\n",
      "Outlier Index: 114\n",
      "Outlier Index: 115\n",
      "Outlier Index: 116\n",
      "Outlier Index: 117\n",
      "Outlier Index: 118\n",
      "Outlier Index: 119\n",
      "Outlier Index: 120\n",
      "Outlier Index: 121\n",
      "Outlier Index: 122\n",
      "Outlier Index: 123\n",
      "Outlier Index: 124\n",
      "Outlier Index: 125\n",
      "Outlier Index: 126\n",
      "Outlier Index: 127\n",
      "Outlier Index: 128\n",
      "Outlier Index: 129\n",
      "Outlier Index: 130\n",
      "Outlier Index: 131\n",
      "Outlier Index: 132\n",
      "Outlier Index: 133\n",
      "Outlier Index: 134\n",
      "Outlier Index: 135\n",
      "Outlier Index: 136\n",
      "Outlier Index: 137\n",
      "Outlier Index: 138\n",
      "Outlier Index: 139\n",
      "Outlier Index: 140\n"
     ]
    }
   ],
   "source": [
    "# sentence_length[문장 길이] = 갯수 \n",
    "# idx = 문장길이 , _sum = 해당 문장 길이인 문장의 개수 \n",
    "\n",
    "for idx, _sum in enumerate(sentence_length):\n",
    "    # 문장의 수가 135 초과하는 문장 길이를 추출합니다.\n",
    "    if _sum > 135:\n",
    "        print(\"Outlier Index:\", idx+1)"
   ]
  },
  {
   "cell_type": "code",
   "execution_count": 18,
   "id": "97a09dca",
   "metadata": {},
   "outputs": [
    {
     "name": "stdout",
     "output_type": "stream",
     "text": [
      "재밌다\n",
      "가연세\n",
      "재밋다\n",
      "야마켄\n",
      "재밌음\n",
      "좋아요\n",
      "괜찮네\n",
      "화려함\n",
      "좋은데\n",
      "짱~~\n",
      "재밋음\n",
      "굿..\n",
      "킹왕짱\n",
      "재밌어\n",
      "까까~\n",
      "진짜다\n",
      "재밌당\n",
      "명작.\n",
      "잼있다\n",
      "재미다\n",
      "재미짐\n",
      "몽정기\n",
      "최고다\n",
      "각키♥\n",
      "수작.\n",
      "참재미\n",
      "채고야\n",
      "베리굳\n",
      "김은미\n",
      "굿!!\n",
      "갑이다\n",
      "구여움\n",
      "좋구나\n",
      "행~복\n",
      "10점\n",
      "ㅎ최고\n",
      "재밌군\n",
      "멋지당\n",
      "최고임\n",
      "똥파리\n",
      "잘봤음\n",
      "...\n",
      "조아요\n",
      "하하하\n",
      "굿굿굿\n",
      "훌륭함\n",
      "재미닷\n",
      "재밋당\n",
      "좋ㅎ음\n",
      "쩐다;\n",
      "ㅋㅋㅋ\n",
      "개코미\n",
      "화이팅\n",
      "잼네요\n",
      "귀여움\n",
      "으리!\n",
      "좋다.\n",
      "팬심♥\n",
      "볼만함\n",
      "감동적\n",
      "감동임\n",
      "감동~\n",
      "패닝짱\n",
      "목두기\n",
      "괜찬네\n",
      "재미씀\n",
      "좋네요\n",
      "참좋다\n",
      "동감.\n",
      "ㅋ재미\n",
      "재밋쪼\n",
      "한석규\n",
      "재밌긔\n",
      "웃긴데\n",
      "감동!\n",
      "ㅎㄷㄷ\n",
      "아프다\n",
      "대단함\n",
      "걸작.\n",
      "람보3\n",
      "명작!\n",
      "나의꿈\n",
      "잼겟따\n",
      "신선함\n",
      "갱호~\n",
      "재밌네\n",
      "대박!\n",
      "^-^\n",
      "연출력\n",
      "오ㅓㅏ\n",
      "재및음\n",
      "굿 ㅋ\n",
      "오호호\n",
      "괜찮음\n",
      "드라마\n",
      "zzz\n",
      "최고!\n",
      "감동함\n",
      "짱짱맨\n",
      "구구굿\n",
      "멋있다\n"
     ]
    }
   ],
   "source": [
    "# 문장길이 10이하의 문장 확인해보기\n",
    "check_sentence_with_length(naver_review, 3)"
   ]
  },
  {
   "cell_type": "code",
   "execution_count": 19,
   "id": "657855d4",
   "metadata": {},
   "outputs": [
    {
     "name": "stdout",
     "output_type": "stream",
     "text": [
      "정말 재밌다~\n",
      "sf 의 명작\n",
      "나는 살아간다\n",
      "아름다운 곡들\n",
      "엄청 웃기다.\n",
      "돌아온 싱하형\n",
      "완전 짱!!!\n",
      "배두나씨좋아요\n",
      "나름 재밌었음\n",
      "지연누나완전짱\n",
      "최고의 엔딩씬\n",
      "정말 최고다.\n",
      "진짜 짱이야!\n",
      "not bad\n",
      "연극으로 봤음\n",
      "잼있어요...\n",
      "오 마이 숄더\n",
      "잘 만들었네요\n",
      "최고의영화!ㅋ\n",
      "ㅋㅋㅋ 차태현\n",
      "죽이네 캬..\n",
      "최고의 영화.\n",
      "아름다운 영화\n",
      "그래도 ㅋㅋㅋ\n",
      "유덕화가 좋다\n",
      "정말 죽인다!\n",
      "멋있다 ㅎㅎㅎ\n",
      "절라게 재밌다\n",
      "실제로보고와서\n",
      "신선한 감동!\n",
      "봉선이 쨩 !\n",
      "또 보고싶다♥\n",
      "재밌다 ㅈ밌어\n",
      "zzzz재밌네\n",
      "난 독보여야지\n",
      "최고의 드라마\n",
      "감동적이네요.\n",
      "이중이 김소연\n",
      "초딩한텐 최고\n",
      "역시 다이하드\n",
      "핵에환장하는.\n",
      "고다미 괜찮음\n",
      "두말하면귀찮죠\n",
      "괜찮던데...\n",
      "참! 죠아용.\n",
      "아주 좋아요.\n",
      "좋아하는 영화\n",
      "수작이 었다.\n",
      "완벽한 드라마\n",
      "제목이 뭐이래\n",
      "재미는 있다.\n",
      "넘넘 잼어요~\n",
      "ㅎ 좀 웃기네\n",
      "최고였다...\n",
      "재미있어요!!\n",
      "배우가아까울뿐\n",
      "연걸사마♥_♥\n",
      "재밌던데...\n",
      "시리즈중 최고\n",
      "잘 만들었어요\n",
      "이태민 화이팅\n",
      "....ㅠㅡㅜ\n",
      "잼나잼나!!!\n",
      "ㅋㅋ그냥재밌음\n",
      "또다른감동이다\n",
      "재밌게 봤어요\n",
      "재미있음~~~\n",
      "명작중의 명작\n",
      "hmr33신고\n",
      "재밌었는데..\n",
      "특별한 재능.\n",
      "최고 ,,ㅋㅋ\n",
      "콩그레츄레이숀\n",
      "좋은영화입니다\n",
      "후덜덜3등~!\n",
      "나만 볼순없다\n",
      "매혹적인 영화\n",
      "이유없이10점\n",
      "재미있는영화~\n",
      "로망은 어디에\n",
      "좋다....!\n",
      "...하균앓이\n",
      "만점짜리지 뭐\n",
      "최고의 액션씬\n",
      "흥미진진!!!\n",
      "그럭저럭...\n",
      "너무 좋아..\n",
      "So good\n",
      "감동적이에요.\n",
      "너무 젬 없음\n",
      "무삭제버전 굿\n",
      "박중훈 최고!\n",
      "만화도 보자.\n",
      "재밌어요!!ㅎ\n",
      ".......\n",
      "좀 재미잇엇다\n",
      "괜찮은 드라마\n",
      "짐캐리 예스!\n",
      "열린 결말이라\n",
      "GooD!~~\n",
      "유쾌한 영화.\n"
     ]
    }
   ],
   "source": [
    "check_sentence_with_length(naver_review, 7)"
   ]
  },
  {
   "cell_type": "code",
   "execution_count": 20,
   "id": "1d5e4d85",
   "metadata": {},
   "outputs": [
    {
     "name": "stdout",
     "output_type": "stream",
     "text": [
      "이스트우드 최고작\n",
      "썩 괜찮았던 영화\n",
      "거의 10점 짜리\n",
      "흥미로운 전기영화\n",
      "치즈루 귀여워 ㅠ\n",
      "ㅋㅋ올만에 웃었다\n",
      "꽤 재밋네요!^^\n",
      "좋았다 정말...\n",
      "신비롭고 아름답다\n",
      "총의 포스가...\n",
      "존경받을만 하다.\n",
      "다시 올리기 ㄱㄱ\n",
      "정말 최고의 영화\n",
      "김수로 너무 좋아\n",
      "그것 엄청재밋는디\n",
      "최고의 드라마..\n",
      "첫사랑이 생각난다\n",
      "최고내요 색달라요\n",
      "나만 재밋게 봤나\n",
      "재미있어요.ㅋㅋㅋ\n",
      "이이 러브 나루토\n",
      "최고의드라마~~ㅋ\n",
      "개봉은 17일인데\n",
      "정말 재밋다 쿨럭\n",
      "잼나요......\n",
      "개.쩌.는.영.화\n",
      "역시 아메리칸파이\n",
      "짱재밌음 꼭 보셈\n",
      "감동 ㅠㅠ....\n",
      "진짜재밋어요ㅋㅋㅋ\n",
      "보기 좋았던 영화\n",
      "다시 보고 싶다.\n",
      "정려원 최고다,,\n",
      "넌GAMEOVER\n",
      "미실, 비담 최고\n",
      "미친 사랑 이야기\n",
      "너무재밌어요 강추\n",
      "내 인생의 작품!\n",
      "수고많으셨습니다.\n",
      "송승헌걍짜응...\n",
      "이런영화좋다...\n",
      "나의 영원한 로망\n",
      "눈이호강하네여ㅎㅎ\n",
      "전 재밌는데용..\n",
      "3보다 재밌는데?\n",
      "충주성심 파이팅!\n",
      "에단때문에 10점\n",
      "재밌어요재밌어ㅜㅜ\n",
      "울면서 봤어영..\n",
      "한마디로 굳!!!\n",
      "진짜 재미있어요.\n",
      "봉묨ㅂ모몽모뭄ㅇㄷ\n",
      "다들 죽지 말아라\n",
      "1편만큼 재밌다.\n",
      "잘만든 드라마 ㅎ\n",
      "경탁이 최고~!!\n",
      "그냥 말이필요없다\n",
      "아빠! 힘내세요~\n",
      "아주 웃겼습니다.\n",
      "조미 넘 이뻐 ㅋ\n",
      "그냥 평점 오르기\n",
      "이보희의 아름다움\n",
      "이건흥행해야된다.\n",
      "액션신이너무좋았다\n",
      "짱짱 진짜멋잇어요\n",
      "감동적인 전기영화\n",
      "음... 재밌었다\n",
      "부시는 나쁜 쉐리\n",
      "brilliant\n",
      "블랙코미디의 진수\n",
      "이해와 배려사이.\n",
      "당시 최고의 영화\n",
      "..하하,....\n",
      "!!!대박 ㅇㅅㅇ\n",
      "송강호 개쩌네ㅋㅋ\n",
      "재밌고 감동있어요\n",
      "나카야마 시노부♥\n",
      "진짜 짱인거 같아\n",
      "짱 재밌어요 ㅋㅋ\n",
      "느낌 괜찮은 영화\n",
      "난 재밌었음 :D\n",
      "정말 순수한 영화\n",
      "무성영화, 불꽃,\n",
      "감동, 스릴, 굿\n",
      "올해 최고의 영화\n",
      "따뜻한 애니메이션\n",
      "정말 따뜻한 영화\n",
      "박예진 예뻐 예뻐\n",
      "예술영화의 완성작\n",
      "그냥눈물이나왔다.\n",
      "희망은 좋은것이다\n",
      "멕라이언 짱귀여워\n",
      "난 무서웠음...\n",
      "완전 재미있음 ~\n",
      "엑스파일메니아라면\n",
      "존나 웃겨 ㅋㅋㅋ\n",
      "..정말 쩔어요.\n",
      "좀비영화중 왕중왕\n",
      "지금봐도 대단ㅎㅎ\n",
      "정말 이쁜 드라마\n",
      "존나재미지 대세지\n"
     ]
    }
   ],
   "source": [
    "check_sentence_with_length(naver_review, 9)"
   ]
  },
  {
   "cell_type": "code",
   "execution_count": 21,
   "id": "189a38a1",
   "metadata": {},
   "outputs": [
    {
     "name": "stdout",
     "output_type": "stream",
     "text": [
      "ㅇㅋㅇㅋ\n",
      "재밌당!\n",
      "쨩ㅎㅎㅎ\n",
      "섬세하다\n",
      "재미잇다\n",
      "재밋는데\n",
      "좋은영화\n",
      "완전추천\n",
      "구하라♥\n",
      "최고였지\n",
      "강인구속\n",
      "질질싼다\n",
      "Good\n",
      "강풀 짱\n",
      "대작이다\n",
      "귀여워.\n",
      "베리굿~\n",
      "우...\n",
      "3.14\n",
      "재밌네-\n",
      "행복수행\n",
      "good\n",
      "디게웃겨\n",
      "최고!~\n",
      "GOOD\n",
      "대박 쩜\n",
      "재미있다\n",
      "의리다.\n",
      "재밌있다\n",
      "짱이야요\n",
      "벽속에서\n",
      "좋습니다\n",
      "짱bbb\n",
      "웃긴영화\n",
      "멋진영화\n",
      "조정석♥\n",
      "멋집니다\n",
      "멋진걸!\n",
      "진짜 짱\n",
      "재밌네요\n",
      "좋아좋아\n",
      "재밌다.\n",
      "시대정신\n",
      "잼있네요\n",
      "아름답다\n",
      "짱이쁘요\n",
      "멋져부러\n",
      "잼났어요\n",
      "멋있다!\n",
      "감동영화\n",
      "재미잇음\n",
      "재밌었던\n",
      "좋아요.\n",
      "좋다~!\n",
      "재밋어옂\n",
      "재미있음\n",
      "짱...\n",
      "굿이군요\n",
      "재밌었다\n",
      "최고였다\n",
      "재밋네요\n",
      "ㅋㅋ 굿\n",
      "재밋어요\n",
      "최고!!\n",
      "재밋엇음\n",
      "연장 고\n",
      "명작이다\n",
      "쩐다!!\n",
      "알이즈웰\n",
      "좋은데.\n",
      "최고다.\n",
      "최고 ㅋ\n",
      "눈물난다\n",
      "즐겁다.\n",
      "베리 굿\n",
      "평점관리\n",
      "cool\n",
      "괜찮아.\n",
      "원더풀.\n",
      "쩔어요ㅎ\n",
      "아...\n",
      "보고싶다\n",
      "멀까..\n",
      "훌륭했다\n",
      "8.6점\n",
      "짱!!♡\n",
      "베뤼~굿\n",
      "재밌어요\n",
      "휴잭맨짱\n",
      "...굿\n",
      "평점조절\n",
      "잼있었다\n",
      "최고 ㅎ\n",
      "걸작이다\n",
      "괜찬네여\n",
      "재밌었음\n",
      "짱이에요\n",
      "잼있어요\n",
      "볼만하다\n",
      "잼있따!\n",
      "재밌는데\n"
     ]
    }
   ],
   "source": [
    "check_sentence_with_length(naver_review, 4)"
   ]
  },
  {
   "cell_type": "code",
   "execution_count": 22,
   "id": "583b4e1e",
   "metadata": {},
   "outputs": [
    {
     "name": "stdout",
     "output_type": "stream",
     "text": [
      "Data Size: 194543\n",
      "문장의 최단 길이: 1\n",
      "문장의 최장 길이: 142\n",
      "문장의 평균 길이: 36\n"
     ]
    },
    {
     "name": "stderr",
     "output_type": "stream",
     "text": [
      "/tmp/ipykernel_1131/4241797388.py:18: DeprecationWarning: `np.int` is a deprecated alias for the builtin `int`. To silence this warning, use `int` by itself. Doing this will not modify any behavior and is safe. When replacing `np.int`, you may wish to use e.g. `np.int64` or `np.int32` to specify the precision. If you wish to review your current use, check the release note link for additional information.\n",
      "Deprecated in NumPy 1.20; for more details and guidance: https://numpy.org/devdocs/release/1.20.0-notes.html#deprecations\n",
      "  sentence_length = np.zeros((max_len), dtype=np.int)\n"
     ]
    },
    {
     "data": {
      "image/png": "[encoded data removed]",
      "text/plain": [
       "<Figure size 432x288 with 1 Axes>"
      ]
     },
     "metadata": {
      "needs_background": "light"
     },
     "output_type": "display_data"
    }
   ],
   "source": [
    "min_len = 999\n",
    "max_len = 0\n",
    "sum_len = 0\n",
    "\n",
    "# cleaned_corpus = list(set(naver_review))  # set를 사용해서 중복을 제거합니다.\n",
    "print(\"Data Size:\", len(naver_review)) \n",
    "\n",
    "for sen in naver_review:\n",
    "    length = len(sen)\n",
    "    if min_len > length: min_len = length\n",
    "    if max_len < length: max_len = length\n",
    "    sum_len += length\n",
    "\n",
    "print(\"문장의 최단 길이:\", min_len)\n",
    "print(\"문장의 최장 길이:\", max_len)\n",
    "print(\"문장의 평균 길이:\", sum_len // len(cleaned_corpus))\n",
    "\n",
    "sentence_length = np.zeros((max_len), dtype=np.int)\n",
    "\n",
    "for sen in naver_review:   # 중복이 제거된 코퍼스 기준\n",
    "    sentence_length[len(sen)-1] += 1\n",
    "\n",
    "plt.bar(range(max_len), sentence_length, width=1.0)\n",
    "plt.title(\"Sentence Length Distribution\")\n",
    "plt.show()"
   ]
  },
  {
   "cell_type": "markdown",
   "id": "245c31fd",
   "metadata": {},
   "source": [
    "### 최적의 max_len 찾기"
   ]
  },
  {
   "cell_type": "code",
   "execution_count": 23,
   "id": "b3ea84e8",
   "metadata": {},
   "outputs": [],
   "source": [
    "def below_threshold_len(max_len, nested_list):\n",
    "    cnt = 0\n",
    "    for s in nested_list:\n",
    "        if(len(s) <= max_len):\n",
    "            cnt = cnt + 1\n",
    "    print('전체 샘플 중 길이가 %s 이하인 샘플의 비율: %s'%(max_len, (cnt / len(nested_list))*100))"
   ]
  },
  {
   "cell_type": "code",
   "execution_count": 24,
   "id": "a79ecd8f",
   "metadata": {},
   "outputs": [
    {
     "name": "stdout",
     "output_type": "stream",
     "text": [
      "전체 샘플 중 길이가 36 이하인 샘플의 비율: 66.08616090016089\n",
      "전체 샘플 중 길이가 140 이하인 샘플의 비율: 99.99948597482305\n",
      "전체 샘플 중 길이가 70 이하인 샘플의 비율: 88.66523082300571\n",
      "전체 샘플 중 길이가 50 이하인 샘플의 비율: 82.05640912291884\n",
      "전체 샘플 중 길이가 60 이하인 샘플의 비율: 85.86739178484962\n"
     ]
    }
   ],
   "source": [
    "below_threshold_len(36, naver_review)  # 평균\n",
    "below_threshold_len(140, naver_review)  # 최장 \n",
    "below_threshold_len(70, naver_review)  # 중앙값\n",
    "below_threshold_len(50, naver_review)  \n",
    "below_threshold_len(60, naver_review)  "
   ]
  },
  {
   "cell_type": "code",
   "execution_count": 25,
   "id": "cb8c843b",
   "metadata": {},
   "outputs": [
    {
     "name": "stderr",
     "output_type": "stream",
     "text": [
      "/tmp/ipykernel_1131/2227199284.py:26: DeprecationWarning: `np.int` is a deprecated alias for the builtin `int`. To silence this warning, use `int` by itself. Doing this will not modify any behavior and is safe. When replacing `np.int`, you may wish to use e.g. `np.int64` or `np.int32` to specify the precision. If you wish to review your current use, check the release note link for additional information.\n",
      "Deprecated in NumPy 1.20; for more details and guidance: https://numpy.org/devdocs/release/1.20.0-notes.html#deprecations\n",
      "  sentence_length = np.zeros((max_len), dtype=np.int)\n"
     ]
    },
    {
     "data": {
      "image/png": "[encoded data removed]",
      "text/plain": [
       "<Figure size 432x288 with 1 Axes>"
      ]
     },
     "metadata": {
      "needs_background": "light"
     },
     "output_type": "display_data"
    }
   ],
   "source": [
    "# 문장길이 <=100으로 처리\n",
    "\n",
    "max_len = 60   \n",
    "min_len = 0\n",
    "\n",
    "# 길이 조건에 맞는 문장만 선택합니다.\n",
    "\n",
    "filtered_corpus = [s for s in cleaned_corpus if (len(s) < max_len)]\n",
    "\n",
    "# 1. 내가 짰지만 비효율적인 코드 \n",
    "filtered_corpus = [] \n",
    "filtered_label = []  \n",
    "for row, label in zip(naver_df['document'], naver_df['label']):    \n",
    "    if (len(row) < max_len):     \n",
    "        filtered_corpus.append(row)  \n",
    "        filtered_label.append(label)   \n",
    "        \n",
    "# 2. 같이 공부하는 @수희님이 알려주신 코드 \n",
    "# 데이터프레임 조건부 슬라이싱 \n",
    "# str.len() 두 함수에 대해 알 수 있었다. \n",
    "train_data = cleaned_corpus[cleaned_corpus['document'].str.len() < max_len]   \n",
    "\n",
    "\n",
    "\n",
    "# 분포도를 다시 그려봅니다.\n",
    "sentence_length = np.zeros((max_len), dtype=np.int)\n",
    "\n",
    "for sen in train_data['document']:\n",
    "    sentence_length[len(sen)-1] += 1\n",
    "\n",
    "plt.bar(range(max_len), sentence_length, width=1.0)\n",
    "plt.title(\"Sentence Length Distribution\")\n",
    "plt.show()"
   ]
  },
  {
   "cell_type": "code",
   "execution_count": 26,
   "id": "ac3867d3",
   "metadata": {},
   "outputs": [
    {
     "data": {
      "text/plain": [
       "array([ 124,  460,  793, 1222, 1469, 1882, 2187, 2270, 2440, 3379, 4459,\n",
       "       5711, 5970, 5848, 5518, 5265, 5005, 4947, 4806, 4626, 4542, 4436,\n",
       "       4264, 4129, 4073, 3973, 3865, 3809, 3743, 3665, 3561, 3566, 3353,\n",
       "       3339, 3036, 2831, 2736, 2736, 2775, 2856, 2486, 2486, 2495, 2625,\n",
       "       2599, 2257, 1660, 1311, 1079,  968,  893,  844,  799,  789,  765,\n",
       "        678,  686,  654,  658,    0])"
      ]
     },
     "execution_count": 26,
     "metadata": {},
     "output_type": "execute_result"
    }
   ],
   "source": [
    "sentence_length"
   ]
  },
  {
   "cell_type": "code",
   "execution_count": 27,
   "id": "c927b97d",
   "metadata": {},
   "outputs": [
    {
     "data": {
      "image/png": "[encoded data removed]",
      "text/plain": [
       "<Figure size 864x360 with 1 Axes>"
      ]
     },
     "metadata": {
      "needs_background": "light"
     },
     "output_type": "display_data"
    }
   ],
   "source": [
    "plt.figure(figsize=(12,5))\n",
    "plt.boxplot([sentence_length], showmeans=True)\n",
    "plt.show()"
   ]
  },
  {
   "cell_type": "code",
   "execution_count": 28,
   "id": "7206fd88",
   "metadata": {},
   "outputs": [
    {
     "name": "stdout",
     "output_type": "stream",
     "text": [
      "전처리 전 데이터 개수 : 199992\n",
      "전처리 후 데이터 개수 : 166401\n",
      "전처리 후 남은 데이터 양(%) 83.20382815312612\n"
     ]
    }
   ],
   "source": [
    "print('전처리 전 데이터 개수 :', len(naver_df))\n",
    "print('전처리 후 데이터 개수 :', len(train_data))\n",
    "print('전처리 후 남은 데이터 양(%)', (len(train_data)/len(naver_df))*100)"
   ]
  },
  {
   "cell_type": "markdown",
   "id": "6b2e8755",
   "metadata": {},
   "source": [
    "\n"
   ]
  },
  {
   "cell_type": "markdown",
   "id": "ee9a90bc",
   "metadata": {},
   "source": [
    "# 2. sentencePiece 모델 학습"
   ]
  },
  {
   "cell_type": "code",
   "execution_count": 29,
   "id": "2a0de2c4",
   "metadata": {},
   "outputs": [
    {
     "name": "stderr",
     "output_type": "stream",
     "text": [
      "sentencepiece_trainer.cc(177) LOG(INFO) Running command: --input=/aiffel/aiffel/sp_tokenizer/data/korean-english-park.train.ko.temp --model_prefix=korean_spm --vocab_size=8000\n",
      "sentencepiece_trainer.cc(77) LOG(INFO) Starts training with : \n",
      "trainer_spec {\n",
      "  input: /aiffel/aiffel/sp_tokenizer/data/korean-english-park.train.ko.temp\n",
      "  input_format: \n",
      "  model_prefix: korean_spm\n",
      "  model_type: UNIGRAM\n",
      "  vocab_size: 8000\n",
      "  self_test_sample_size: 0\n",
      "  character_coverage: 0.9995\n",
      "  input_sentence_size: 0\n",
      "  shuffle_input_sentence: 1\n",
      "  seed_sentencepiece_size: 1000000\n",
      "  shrinking_factor: 0.75\n",
      "  max_sentence_length: 4192\n",
      "  num_threads: 16\n",
      "  num_sub_iterations: 2\n",
      "  max_sentencepiece_length: 16\n",
      "  split_by_unicode_script: 1\n",
      "  split_by_number: 1\n",
      "  split_by_whitespace: 1\n",
      "  split_digits: 0\n",
      "  treat_whitespace_as_suffix: 0\n",
      "  allow_whitespace_only_pieces: 0\n",
      "  required_chars: \n",
      "  byte_fallback: 0\n",
      "  vocabulary_output_piece_score: 1\n",
      "  train_extremely_large_corpus: 0\n",
      "  hard_vocab_limit: 1\n",
      "  use_all_vocab: 0\n",
      "  unk_id: 0\n",
      "  bos_id: 1\n",
      "  eos_id: 2\n",
      "  pad_id: -1\n",
      "  unk_piece: <unk>\n",
      "  bos_piece: <s>\n",
      "  eos_piece: </s>\n",
      "  pad_piece: <pad>\n",
      "  unk_surface:  ⁇ \n",
      "}\n",
      "normalizer_spec {\n",
      "  name: nmt_nfkc\n",
      "  add_dummy_prefix: 1\n",
      "  remove_extra_whitespaces: 1\n",
      "  escape_whitespaces: 1\n",
      "  normalization_rule_tsv: \n",
      "}\n",
      "denormalizer_spec {}\n",
      "trainer_interface.cc(329) LOG(INFO) SentenceIterator is not specified. Using MultiFileSentenceIterator.\n",
      "trainer_interface.cc(178) LOG(INFO) Loading corpus: /aiffel/aiffel/sp_tokenizer/data/korean-english-park.train.ko.temp\n",
      "trainer_interface.cc(385) LOG(INFO) Loaded all 171835 sentences\n",
      "trainer_interface.cc(400) LOG(INFO) Adding meta_piece: <unk>\n",
      "trainer_interface.cc(400) LOG(INFO) Adding meta_piece: <s>\n",
      "trainer_interface.cc(400) LOG(INFO) Adding meta_piece: </s>\n",
      "trainer_interface.cc(405) LOG(INFO) Normalizing sentences...\n",
      "trainer_interface.cc(466) LOG(INFO) all chars count=4491283\n",
      "trainer_interface.cc(477) LOG(INFO) Done: 99.95% characters are covered.\n",
      "trainer_interface.cc(487) LOG(INFO) Alphabet size=1755\n",
      "trainer_interface.cc(488) LOG(INFO) Final character coverage=0.9995\n",
      "trainer_interface.cc(520) LOG(INFO) Done! preprocessed 171835 sentences.\n",
      "unigram_model_trainer.cc(139) LOG(INFO) Making suffix array...\n",
      "unigram_model_trainer.cc(143) LOG(INFO) Extracting frequent sub strings...\n",
      "unigram_model_trainer.cc(194) LOG(INFO) Initialized 259223 seed sentencepieces\n",
      "trainer_interface.cc(526) LOG(INFO) Tokenizing input sentences with whitespace: 171835\n",
      "trainer_interface.cc(537) LOG(INFO) Done! 299023\n",
      "unigram_model_trainer.cc(489) LOG(INFO) Using 299023 sentences for EM training\n",
      "unigram_model_trainer.cc(505) LOG(INFO) EM sub_iter=0 size=133235 obj=15.2697 num_tokens=704052 num_tokens/piece=5.28429\n",
      "unigram_model_trainer.cc(505) LOG(INFO) EM sub_iter=1 size=123573 obj=14.2003 num_tokens=708524 num_tokens/piece=5.73365\n",
      "unigram_model_trainer.cc(505) LOG(INFO) EM sub_iter=0 size=92627 obj=14.3034 num_tokens=738333 num_tokens/piece=7.97103\n",
      "unigram_model_trainer.cc(505) LOG(INFO) EM sub_iter=1 size=92478 obj=14.2472 num_tokens=739469 num_tokens/piece=7.99616\n",
      "unigram_model_trainer.cc(505) LOG(INFO) EM sub_iter=0 size=69354 obj=14.4901 num_tokens=777097 num_tokens/piece=11.2048\n",
      "unigram_model_trainer.cc(505) LOG(INFO) EM sub_iter=1 size=69346 obj=14.427 num_tokens=777171 num_tokens/piece=11.2071\n",
      "unigram_model_trainer.cc(505) LOG(INFO) EM sub_iter=0 size=52009 obj=14.698 num_tokens=813447 num_tokens/piece=15.6405\n",
      "unigram_model_trainer.cc(505) LOG(INFO) EM sub_iter=1 size=52008 obj=14.6354 num_tokens=813451 num_tokens/piece=15.6409\n",
      "unigram_model_trainer.cc(505) LOG(INFO) EM sub_iter=0 size=39006 obj=14.9352 num_tokens=852295 num_tokens/piece=21.8504\n",
      "unigram_model_trainer.cc(505) LOG(INFO) EM sub_iter=1 size=39006 obj=14.8694 num_tokens=852300 num_tokens/piece=21.8505\n",
      "unigram_model_trainer.cc(505) LOG(INFO) EM sub_iter=0 size=29254 obj=15.2048 num_tokens=892509 num_tokens/piece=30.509\n",
      "unigram_model_trainer.cc(505) LOG(INFO) EM sub_iter=1 size=29254 obj=15.1364 num_tokens=892557 num_tokens/piece=30.5106\n",
      "unigram_model_trainer.cc(505) LOG(INFO) EM sub_iter=0 size=21940 obj=15.5057 num_tokens=933724 num_tokens/piece=42.5581\n",
      "unigram_model_trainer.cc(505) LOG(INFO) EM sub_iter=1 size=21940 obj=15.4316 num_tokens=933727 num_tokens/piece=42.5582\n",
      "unigram_model_trainer.cc(505) LOG(INFO) EM sub_iter=0 size=16455 obj=15.8311 num_tokens=976388 num_tokens/piece=59.3369\n",
      "unigram_model_trainer.cc(505) LOG(INFO) EM sub_iter=1 size=16455 obj=15.7488 num_tokens=976437 num_tokens/piece=59.3398\n",
      "unigram_model_trainer.cc(505) LOG(INFO) EM sub_iter=0 size=12341 obj=16.1872 num_tokens=1022171 num_tokens/piece=82.8272\n",
      "unigram_model_trainer.cc(505) LOG(INFO) EM sub_iter=1 size=12341 obj=16.0864 num_tokens=1022186 num_tokens/piece=82.8285\n",
      "unigram_model_trainer.cc(505) LOG(INFO) EM sub_iter=0 size=9255 obj=16.57 num_tokens=1072172 num_tokens/piece=115.848\n",
      "unigram_model_trainer.cc(505) LOG(INFO) EM sub_iter=1 size=9255 obj=16.4627 num_tokens=1072332 num_tokens/piece=115.865\n",
      "unigram_model_trainer.cc(505) LOG(INFO) EM sub_iter=0 size=8800 obj=16.5466 num_tokens=1081657 num_tokens/piece=122.916\n",
      "unigram_model_trainer.cc(505) LOG(INFO) EM sub_iter=1 size=8800 obj=16.5269 num_tokens=1081900 num_tokens/piece=122.943\n",
      "trainer_interface.cc(615) LOG(INFO) Saving model: korean_spm.model\n",
      "trainer_interface.cc(626) LOG(INFO) Saving vocabs: korean_spm.vocab\n"
     ]
    },
    {
     "name": "stdout",
     "output_type": "stream",
     "text": [
      "-rw-r--r-- 1 root root 375162 Mar 22 02:06 korean_spm.model\r\n",
      "-rw-r--r-- 1 root root 144497 Mar 22 02:06 korean_spm.vocab\r\n"
     ]
    }
   ],
   "source": [
    "import sentencepiece as spm\n",
    "import os\n",
    "temp_file = os.getenv('HOME')+'/aiffel/sp_tokenizer/data/korean-english-park.train.ko.temp'\n",
    "\n",
    "vocab_size = 8000\n",
    "\n",
    "with open(temp_file, 'w') as f:\n",
    "    for row in filtered_corpus:   # 이전 스텝에서 정제했던 corpus를 활용합니다.\n",
    "        f.write(str(row) + '\\n')\n",
    "\n",
    "spm.SentencePieceTrainer.Train(\n",
    "    '--input={} --model_prefix=korean_spm --vocab_size={}'.format(temp_file, vocab_size)    \n",
    ")\n",
    "#위 Train에서  --model_type = 'unigram'이 디폴트 적용되어 있습니다. --model_type = 'bpe' 로 옵션을 주어 변경할 수 있습니다.\n",
    "\n",
    "!ls -l korean_spm*"
   ]
  },
  {
   "cell_type": "code",
   "execution_count": 30,
   "id": "fc05881d",
   "metadata": {},
   "outputs": [
    {
     "name": "stdout",
     "output_type": "stream",
     "text": [
      "-rw-r--r-- 1 root root 375096 Mar 19 05:55 kor_spm_unigram_8k.model\n",
      "-rw-r--r-- 1 root root 144435 Mar 19 05:55 kor_spm_unigram_8k.vocab\n",
      "ls: cannot access 'kor_spm_unigram_4k*': No such file or directory\n",
      "-rw-r--r-- 1 root root 370378 Mar 19 05:56 kor_spm_bpe_8k.model\n",
      "-rw-r--r-- 1 root root 115580 Mar 19 05:56 kor_spm_bpe_8k.vocab\n",
      "-rw-r--r-- 1 root root 523017 Mar 19 06:04 kor_spm_bpe_16k.model\n",
      "-rw-r--r-- 1 root root 258215 Mar 19 06:04 kor_spm_bpe_16k.vocab\n"
     ]
    }
   ],
   "source": [
    "!ls -l kor_spm_unigram_8k*\n",
    "!ls -l kor_spm_unigram_4k*\n",
    "!ls -l kor_spm_bpe_8k*\n",
    "!ls -l kor_spm_bpe_16k*"
   ]
  },
  {
   "cell_type": "code",
   "execution_count": 31,
   "id": "b594bbc1",
   "metadata": {},
   "outputs": [
    {
     "data": {
      "text/html": [
       "<div>\n",
       "<style scoped>\n",
       "    .dataframe tbody tr th:only-of-type {\n",
       "        vertical-align: middle;\n",
       "    }\n",
       "\n",
       "    .dataframe tbody tr th {\n",
       "        vertical-align: top;\n",
       "    }\n",
       "\n",
       "    .dataframe thead th {\n",
       "        text-align: right;\n",
       "    }\n",
       "</style>\n",
       "<table border=\"1\" class=\"dataframe\">\n",
       "  <thead>\n",
       "    <tr style=\"text-align: right;\">\n",
       "      <th></th>\n",
       "      <th>0</th>\n",
       "      <th>1</th>\n",
       "    </tr>\n",
       "  </thead>\n",
       "  <tbody>\n",
       "    <tr>\n",
       "      <th>0</th>\n",
       "      <td>&lt;unk&gt;</td>\n",
       "      <td>0.00000</td>\n",
       "    </tr>\n",
       "    <tr>\n",
       "      <th>1</th>\n",
       "      <td>&lt;s&gt;</td>\n",
       "      <td>0.00000</td>\n",
       "    </tr>\n",
       "    <tr>\n",
       "      <th>2</th>\n",
       "      <td>&lt;/s&gt;</td>\n",
       "      <td>0.00000</td>\n",
       "    </tr>\n",
       "    <tr>\n",
       "      <th>3</th>\n",
       "      <td>▁</td>\n",
       "      <td>-3.27463</td>\n",
       "    </tr>\n",
       "    <tr>\n",
       "      <th>4</th>\n",
       "      <td>.</td>\n",
       "      <td>-3.47852</td>\n",
       "    </tr>\n",
       "    <tr>\n",
       "      <th>5</th>\n",
       "      <td>..</td>\n",
       "      <td>-4.24637</td>\n",
       "    </tr>\n",
       "    <tr>\n",
       "      <th>6</th>\n",
       "      <td>▁영화</td>\n",
       "      <td>-4.42651</td>\n",
       "    </tr>\n",
       "    <tr>\n",
       "      <th>7</th>\n",
       "      <td>이</td>\n",
       "      <td>-4.44480</td>\n",
       "    </tr>\n",
       "    <tr>\n",
       "      <th>8</th>\n",
       "      <td>...</td>\n",
       "      <td>-4.48456</td>\n",
       "    </tr>\n",
       "    <tr>\n",
       "      <th>9</th>\n",
       "      <td>가</td>\n",
       "      <td>-4.71341</td>\n",
       "    </tr>\n",
       "  </tbody>\n",
       "</table>\n",
       "</div>"
      ],
      "text/plain": [
       "       0        1\n",
       "0  <unk>  0.00000\n",
       "1    <s>  0.00000\n",
       "2   </s>  0.00000\n",
       "3      ▁ -3.27463\n",
       "4      . -3.47852\n",
       "5     .. -4.24637\n",
       "6    ▁영화 -4.42651\n",
       "7      이 -4.44480\n",
       "8    ... -4.48456\n",
       "9      가 -4.71341"
      ]
     },
     "execution_count": 31,
     "metadata": {},
     "output_type": "execute_result"
    }
   ],
   "source": [
    "# 학습된 subwords 확인\n",
    "\n",
    "vocab_list = pd.read_csv('kor_spm_unigram_8k.vocab', sep='\\t', header=None, quoting=csv.QUOTE_NONE)\n",
    "vocab_list[:10]"
   ]
  },
  {
   "cell_type": "code",
   "execution_count": 32,
   "id": "25060742",
   "metadata": {},
   "outputs": [
    {
     "name": "stdout",
     "output_type": "stream",
     "text": [
      "subword의 개수 : 8000\n"
     ]
    },
    {
     "data": {
      "text/html": [
       "<div>\n",
       "<style scoped>\n",
       "    .dataframe tbody tr th:only-of-type {\n",
       "        vertical-align: middle;\n",
       "    }\n",
       "\n",
       "    .dataframe tbody tr th {\n",
       "        vertical-align: top;\n",
       "    }\n",
       "\n",
       "    .dataframe thead th {\n",
       "        text-align: right;\n",
       "    }\n",
       "</style>\n",
       "<table border=\"1\" class=\"dataframe\">\n",
       "  <thead>\n",
       "    <tr style=\"text-align: right;\">\n",
       "      <th></th>\n",
       "      <th>0</th>\n",
       "      <th>1</th>\n",
       "    </tr>\n",
       "  </thead>\n",
       "  <tbody>\n",
       "    <tr>\n",
       "      <th>5835</th>\n",
       "      <td>▁아예</td>\n",
       "      <td>-10.59080</td>\n",
       "    </tr>\n",
       "    <tr>\n",
       "      <th>4927</th>\n",
       "      <td>팍</td>\n",
       "      <td>-10.35250</td>\n",
       "    </tr>\n",
       "    <tr>\n",
       "      <th>7096</th>\n",
       "      <td>라이브</td>\n",
       "      <td>-10.99620</td>\n",
       "    </tr>\n",
       "    <tr>\n",
       "      <th>6397</th>\n",
       "      <td>▁좋았을텐데</td>\n",
       "      <td>-10.76210</td>\n",
       "    </tr>\n",
       "    <tr>\n",
       "      <th>881</th>\n",
       "      <td>i</td>\n",
       "      <td>-8.59205</td>\n",
       "    </tr>\n",
       "    <tr>\n",
       "      <th>1326</th>\n",
       "      <td>럽</td>\n",
       "      <td>-8.99167</td>\n",
       "    </tr>\n",
       "    <tr>\n",
       "      <th>1948</th>\n",
       "      <td>쯤</td>\n",
       "      <td>-9.34944</td>\n",
       "    </tr>\n",
       "    <tr>\n",
       "      <th>6115</th>\n",
       "      <td>▁재미나게</td>\n",
       "      <td>-10.67580</td>\n",
       "    </tr>\n",
       "    <tr>\n",
       "      <th>468</th>\n",
       "      <td>겠다</td>\n",
       "      <td>-8.05292</td>\n",
       "    </tr>\n",
       "    <tr>\n",
       "      <th>6374</th>\n",
       "      <td>▁자극적인</td>\n",
       "      <td>-10.75730</td>\n",
       "    </tr>\n",
       "  </tbody>\n",
       "</table>\n",
       "</div>"
      ],
      "text/plain": [
       "           0         1\n",
       "5835     ▁아예 -10.59080\n",
       "4927       팍 -10.35250\n",
       "7096     라이브 -10.99620\n",
       "6397  ▁좋았을텐데 -10.76210\n",
       "881        i  -8.59205\n",
       "1326       럽  -8.99167\n",
       "1948       쯤  -9.34944\n",
       "6115   ▁재미나게 -10.67580\n",
       "468       겠다  -8.05292\n",
       "6374   ▁자극적인 -10.75730"
      ]
     },
     "execution_count": 32,
     "metadata": {},
     "output_type": "execute_result"
    }
   ],
   "source": [
    "print('subword의 개수 :', len(vocab_list))\n",
    "vocab_list.sample(10)"
   ]
  },
  {
   "cell_type": "markdown",
   "id": "985ecdf9",
   "metadata": {},
   "source": [
    "### SentencePiece 성능 비교평가\n",
    "\n",
    "* vocab size = 8k, 16k\n",
    "* model type = unigram, bpe\n",
    "* kor_spm_unigram_8k\n",
    "* kor_spm_unigram_16k\n",
    "* kor_spm_bpe_8k\n",
    "* kor_spm_bpe_16k"
   ]
  },
  {
   "cell_type": "code",
   "execution_count": 33,
   "id": "14f33fba",
   "metadata": {},
   "outputs": [],
   "source": [
    "def test_performance(model):\n",
    "    s = spm.SentencePieceProcessor()\n",
    "    s.Load(model)\n",
    "\n",
    "    # SentencePiece를 활용한 sentence -> encoding\n",
    "    tokensIDs = s.EncodeAsIds('아버지가방에들어가신다.')\n",
    "    print(tokensIDs)\n",
    "\n",
    "    # SentencePiece를 활용한 sentence -> encoded pieces\n",
    "    print(s.SampleEncodeAsPieces('아버지가방에들어가신다.',1, 0.0))\n",
    "\n",
    "    # SentencePiece를 활용한 encoding -> sentence 복원\n",
    "    print(s.DecodeIds(tokensIDs))"
   ]
  },
  {
   "cell_type": "code",
   "execution_count": 34,
   "id": "85f4c747",
   "metadata": {},
   "outputs": [
    {
     "name": "stdout",
     "output_type": "stream",
     "text": [
      "kor_spm_unigram_8k\n",
      "[1653, 9, 464, 16, 1383, 9, 158, 15, 4]\n",
      "['▁아버지', '가', '방', '에', '들어', '가', '신', '다', '.']\n",
      "아버지가방에들어가신다.\n",
      "kor_spm_bpe_8k\n",
      "[6043, 990, 6533, 6257, 1506, 6252, 6360, 6246, 6244]\n",
      "['▁아버', '지가', '방', '에', '들어', '가', '신', '다', '.']\n",
      "아버지가방에들어가신다.\n",
      "kor_spm_bpe_16k\n",
      "[9096, 12780, 1506, 14252, 11430, 14244]\n",
      "['▁아버지가', '방에', '들어', '가', '신다', '.']\n",
      "아버지가방에들어가신다.\n"
     ]
    }
   ],
   "source": [
    "print('kor_spm_unigram_8k')\n",
    "test_performance(model='kor_spm_unigram_8k.model')\n",
    "\n",
    "# # unigram은 오류가 나서 학습이 되지 않았다. \n",
    "# print('kor_spm_unigram_4k')\n",
    "# test_performance(model='kor_spm_unigram_4k.model')\n",
    "\n",
    "print('kor_spm_bpe_8k')\n",
    "test_performance(model='kor_spm_bpe_8k.model')\n",
    "\n",
    "print('kor_spm_bpe_16k')\n",
    "test_performance(model='kor_spm_bpe_16k.model')"
   ]
  },
  {
   "cell_type": "markdown",
   "id": "3d576dfb",
   "metadata": {},
   "source": [
    "\n"
   ]
  },
  {
   "cell_type": "markdown",
   "id": "0e8efd14",
   "metadata": {},
   "source": [
    "# 3. Tokenizer 함수 작성"
   ]
  },
  {
   "cell_type": "markdown",
   "id": "d1dc80a2",
   "metadata": {},
   "source": [
    "* 훈련시킨 SentencePiece를 활용해 tokenizer역할을 하는 함수를 정의합니다.\n",
    "\n",
    "\n",
    "* 함수의 조건\n",
    "\n",
    "    1.매개변수로 토큰화된 문장의 list를 전달하는 대신 온전한 문장의 list 를 전달합니다.\n",
    "    \n",
    "    2.생성된 vocab 파일을 읽어와 { \\ : \\ } 형태를 가지는 word_index 사전과 { \\ : \\} 형태를 가지는 index_word 사전을 생성하고 함께 반환합니다.\n",
    "    \n",
    "    3.리턴값인 tensor는 앞의 함수와 동일하게 토큰화한 후 Encoding된 문장입니다. 바로 학습에 사용할 수 있게 Padding"
   ]
  },
  {
   "cell_type": "code",
   "execution_count": 35,
   "id": "9a2e4e7a",
   "metadata": {},
   "outputs": [],
   "source": [
    "def sp_tokenize(s, corpus, spm):\n",
    "\n",
    "    tensor = []\n",
    "\n",
    "    for sen in corpus:\n",
    "        tensor.append(s.EncodeAsIds(sen))\n",
    "\n",
    "    with open(\"./{}.vocab\".format(spm), 'r') as f: \n",
    "        vocab = f.readlines()\n",
    "\n",
    "    word_index = {}\n",
    "    index_word = {}\n",
    "\n",
    "    for idx, line in enumerate(vocab):\n",
    "        word = line.split(\"\\t\")[0]\n",
    "\n",
    "        word_index.update({idx:word})\n",
    "        index_word.update({word:idx})\n",
    "\n",
    "    tensor = tf.keras.preprocessing.sequence.pad_sequences(tensor, padding='pre', maxlen=max_len)\n",
    "\n",
    "    return tensor, word_index, index_word"
   ]
  },
  {
   "cell_type": "code",
   "execution_count": 36,
   "id": "34968530",
   "metadata": {},
   "outputs": [
    {
     "name": "stdout",
     "output_type": "stream",
     "text": [
      "[[   0    0    0    0    0    0    0    0    0    0    0    0    0    0\n",
      "     0    0    0    0    0    0    0    0    0    0    0    0    0    0\n",
      "     0    0    0    0    0    0    0    0    0    0    0    0    0    0\n",
      "     0    0    0    0    0    0    0    0    0    0    0    0  517 3252\n",
      "    14 1097 2572    4]\n",
      " [   0    0    0    0    0    0    0    0    0    0    0    0    0    0\n",
      "     0    0    0    0    0    0    0    0    0    0    0    0    0    0\n",
      "     0    0    0    0    0    0    0    0    0    0    0    0    0    0\n",
      "     0    0    0    0    0    0    0    0    0 1592 2168  228  544    9\n",
      "   280 7921  756    8]]\n"
     ]
    }
   ],
   "source": [
    "# sp_tokenize(s, corpus) 사용 예제\n",
    "\n",
    "s = spm.SentencePieceProcessor()\n",
    "# s.Load('kor_spm_bpe_16k.model')  # lstm 학습시 오류\n",
    "\n",
    "s.Load('kor_spm_unigram_8k.model') \n",
    "\n",
    "my_corpus = ['나는 밥을 먹었습니다.', '그러나 여전히 ㅠㅠ 배가 고픕니다...']\n",
    "tensor, word_index, index_word = sp_tokenize(s, my_corpus, 'kor_spm_unigram_8k')           \n",
    "print(tensor)\n",
    "# print(word_index)\n",
    "# print(index_word)"
   ]
  },
  {
   "cell_type": "markdown",
   "id": "61860994",
   "metadata": {},
   "source": [
    "\n"
   ]
  },
  {
   "cell_type": "markdown",
   "id": "7bf187a7",
   "metadata": {},
   "source": [
    "# lstm으로 감정분석 모델 학습"
   ]
  },
  {
   "cell_type": "markdown",
   "id": "c66c31e6",
   "metadata": {},
   "source": [
    "* SentencePiece 토크나이저가 적용된 모델을 학습 후 수렴하는 것을 확인합니다.\n",
    "* SentencePiece 토크나이저 성능 평가"
   ]
  },
  {
   "cell_type": "code",
   "execution_count": 37,
   "id": "8f7c547c",
   "metadata": {},
   "outputs": [],
   "source": [
    "tensor, word_index, index_word = sp_tokenize(s, train_data['document'], 'kor_spm_unigram_8k')"
   ]
  },
  {
   "cell_type": "code",
   "execution_count": 38,
   "id": "e64d83c0",
   "metadata": {},
   "outputs": [],
   "source": [
    "from sklearn.model_selection import train_test_split\n",
    "\n",
    "filtered_label = np.array(train_data['label'])\n",
    "x_train, x_val, y_train, y_val = train_test_split(tensor, filtered_label, test_size=0.2)\n",
    "x_train, x_test, y_train, y_test = train_test_split(x_train, y_train, test_size=0.2)"
   ]
  },
  {
   "cell_type": "code",
   "execution_count": 39,
   "id": "8af1c716",
   "metadata": {},
   "outputs": [
    {
     "name": "stdout",
     "output_type": "stream",
     "text": [
      "106496 26624 33281\n",
      "106496 26624 33281\n"
     ]
    }
   ],
   "source": [
    "print(len(x_train), len(x_test), len(x_val))\n",
    "print(len(y_train), len(y_test), len(y_val))"
   ]
  },
  {
   "cell_type": "code",
   "execution_count": 40,
   "id": "5e167781",
   "metadata": {},
   "outputs": [
    {
     "name": "stdout",
     "output_type": "stream",
     "text": [
      "Model: \"sequential\"\n",
      "_________________________________________________________________\n",
      "Layer (type)                 Output Shape              Param #   \n",
      "=================================================================\n",
      "embedding (Embedding)        (None, None, 32)          256000    \n",
      "_________________________________________________________________\n",
      "lstm (LSTM)                  (None, 128)               82432     \n",
      "_________________________________________________________________\n",
      "dense (Dense)                (None, 1)                 129       \n",
      "=================================================================\n",
      "Total params: 338,561\n",
      "Trainable params: 338,561\n",
      "Non-trainable params: 0\n",
      "_________________________________________________________________\n"
     ]
    }
   ],
   "source": [
    "from tensorflow.keras.initializers import Constant\n",
    "\n",
    "vocab_size = vocab_size\n",
    "word_vector_dim = 32  \n",
    "\n",
    "model_LSTM = keras.Sequential()\n",
    "model_LSTM.add(keras.layers.Embedding(vocab_size, \n",
    "                                 word_vector_dim,\n",
    "                                    ))\n",
    "            \n",
    "model_LSTM.add(keras.layers.LSTM(128))\n",
    "# model_LSTM.add(keras.layers.Dense(128, activation='relu'))  \n",
    "model_LSTM.add(keras.layers.Dense(1, activation='sigmoid'))  # 최종 출력은 긍정/부정을 나타내는 1dim 입니다.\n",
    "\n",
    "model_LSTM.summary()"
   ]
  },
  {
   "cell_type": "code",
   "execution_count": 41,
   "id": "3974f11a",
   "metadata": {},
   "outputs": [],
   "source": [
    "es = keras.callbacks.EarlyStopping(monitor='val_loss', mode='min', verbose=1, patience=4)\n",
    "# mc = keras.callbacks.ModelCheckpoint('best_model.h5', monitor='val_acc', mode='max', verbose=1, save_best_only=True)"
   ]
  },
  {
   "cell_type": "code",
   "execution_count": 42,
   "id": "6022cd6b",
   "metadata": {},
   "outputs": [
    {
     "name": "stdout",
     "output_type": "stream",
     "text": [
      "Epoch 1/20\n",
      "1664/1664 [==============================] - 220s 130ms/step - loss: 0.4049 - accuracy: 0.8139 - val_loss: 0.3506 - val_accuracy: 0.8444\n",
      "Epoch 2/20\n",
      "1664/1664 [==============================] - 217s 130ms/step - loss: 0.3188 - accuracy: 0.8615 - val_loss: 0.3365 - val_accuracy: 0.8514\n",
      "Epoch 3/20\n",
      "1664/1664 [==============================] - 216s 130ms/step - loss: 0.2822 - accuracy: 0.8778 - val_loss: 0.3365 - val_accuracy: 0.8524\n",
      "Epoch 4/20\n",
      "1664/1664 [==============================] - 214s 128ms/step - loss: 0.2536 - accuracy: 0.8915 - val_loss: 0.3481 - val_accuracy: 0.8490\n",
      "Epoch 5/20\n",
      "1664/1664 [==============================] - 213s 128ms/step - loss: 0.2268 - accuracy: 0.9049 - val_loss: 0.3705 - val_accuracy: 0.8493\n",
      "Epoch 6/20\n",
      "1664/1664 [==============================] - 215s 129ms/step - loss: 0.1994 - accuracy: 0.9169 - val_loss: 0.3856 - val_accuracy: 0.8406\n",
      "Epoch 00006: early stopping\n"
     ]
    }
   ],
   "source": [
    "model_LSTM.compile(optimizer='adam',\n",
    "              loss='binary_crossentropy',\n",
    "              metrics=['accuracy'])\n",
    "              \n",
    "epochs=20\n",
    "batch_size=64\n",
    "\n",
    "history_LSTM = model_LSTM.fit(x_train,\n",
    "                    y_train,\n",
    "                    epochs=epochs,\n",
    "                    batch_size=batch_size,\n",
    "                    validation_data=(x_val,y_val),\n",
    "                    callbacks=es,\n",
    "                    verbose=1)"
   ]
  },
  {
   "cell_type": "code",
   "execution_count": 43,
   "id": "e6e56f9d",
   "metadata": {},
   "outputs": [
    {
     "name": "stdout",
     "output_type": "stream",
     "text": [
      "832/832 - 24s - loss: 0.3950 - accuracy: 0.8404\n",
      "[0.3949909508228302, 0.8403695821762085]\n"
     ]
    }
   ],
   "source": [
    "results = model_LSTM.evaluate(x_test,  y_test, verbose=2)\n",
    "print(results)"
   ]
  },
  {
   "cell_type": "markdown",
   "id": "1ebcac83",
   "metadata": {},
   "source": [
    "\n"
   ]
  },
  {
   "cell_type": "markdown",
   "id": "46f2dbf7",
   "metadata": {},
   "source": [
    "# 5. 모델 성능 비교 평가"
   ]
  },
  {
   "cell_type": "markdown",
   "id": "91f04cbc",
   "metadata": {},
   "source": [
    "비교 대상\n",
    "* LSTM의 input x_data를 토크나이징한 SentencePiece 모델\n",
    "* LSTM모델의 Word_vector_dimension"
   ]
  },
  {
   "cell_type": "code",
   "execution_count": 44,
   "id": "488acc83",
   "metadata": {},
   "outputs": [],
   "source": [
    "def performance_test_spm(spm_model, vocab_size, word_vector_dim):\n",
    "    s = spm.SentencePieceProcessor()\n",
    "    s.Load(\"{}.model\".format(spm_model)) \n",
    "    \n",
    "    tensor, word_index, index_word = sp_tokenize(s, train_data['document'], spm_model)\n",
    "    \n",
    "    x_train, x_val, y_train, y_val = train_test_split(tensor, filtered_label, test_size=0.2)\n",
    "    x_train, x_test, y_train, y_test = train_test_split(x_train, y_train, test_size=0.2)\n",
    "    \n",
    "\n",
    "    model_LSTM = keras.Sequential()\n",
    "    model_LSTM.add(keras.layers.Embedding(vocab_size, \n",
    "                                     word_vector_dim,\n",
    "                                        ))\n",
    "\n",
    "    model_LSTM.add(keras.layers.LSTM(128))\n",
    "    model_LSTM.add(keras.layers.Dense(1, activation='sigmoid'))  # 최종 출력은 긍정/부정을 나타내는 1dim 입니다.\n",
    "\n",
    "    model_LSTM.summary()\n",
    "    \n",
    "    model_LSTM.compile(optimizer='adam',\n",
    "              loss='binary_crossentropy',\n",
    "              metrics=['accuracy'])\n",
    "              \n",
    "    epochs=10\n",
    "    batch_size=64\n",
    "    \n",
    "#     es = keras.callbacks.EarlyStopping(monitor='val_loss', mode='min', verbose=1, patience=4)\n",
    "    \n",
    "    history_LSTM = model_LSTM.fit(x_train,\n",
    "                        y_train,\n",
    "                        epochs=epochs,\n",
    "                        batch_size=batch_size,\n",
    "                        validation_data=(x_val,y_val),\n",
    "                        callbacks=[es],\n",
    "                        verbose=1)\n",
    "    \n",
    "    results = model_LSTM.evaluate(x_test,  y_test, verbose=2)\n",
    "    print(results)\n",
    "    \n",
    "    return history_LSTM"
   ]
  },
  {
   "cell_type": "code",
   "execution_count": 45,
   "id": "c2cfd098",
   "metadata": {},
   "outputs": [
    {
     "name": "stdout",
     "output_type": "stream",
     "text": [
      "Model: \"sequential_1\"\n",
      "_________________________________________________________________\n",
      "Layer (type)                 Output Shape              Param #   \n",
      "=================================================================\n",
      "embedding_1 (Embedding)      (None, None, 8)           64000     \n",
      "_________________________________________________________________\n",
      "lstm_1 (LSTM)                (None, 128)               70144     \n",
      "_________________________________________________________________\n",
      "dense_1 (Dense)              (None, 1)                 129       \n",
      "=================================================================\n",
      "Total params: 134,273\n",
      "Trainable params: 134,273\n",
      "Non-trainable params: 0\n",
      "_________________________________________________________________\n",
      "Epoch 1/10\n",
      "1664/1664 [==============================] - 200s 120ms/step - loss: 0.4129 - accuracy: 0.8071 - val_loss: 0.3668 - val_accuracy: 0.8419\n",
      "Epoch 2/10\n",
      "1664/1664 [==============================] - 203s 122ms/step - loss: 0.3324 - accuracy: 0.8572 - val_loss: 0.3487 - val_accuracy: 0.8468\n",
      "Epoch 3/10\n",
      "1664/1664 [==============================] - 201s 121ms/step - loss: 0.3117 - accuracy: 0.8664 - val_loss: 0.3434 - val_accuracy: 0.8493\n",
      "Epoch 4/10\n",
      "1664/1664 [==============================] - 202s 122ms/step - loss: 0.2932 - accuracy: 0.8739 - val_loss: 0.3402 - val_accuracy: 0.8506\n",
      "Epoch 5/10\n",
      "1664/1664 [==============================] - 201s 121ms/step - loss: 0.2724 - accuracy: 0.8839 - val_loss: 0.3473 - val_accuracy: 0.8505\n",
      "Epoch 6/10\n",
      "1664/1664 [==============================] - 198s 119ms/step - loss: 0.2527 - accuracy: 0.8933 - val_loss: 0.3610 - val_accuracy: 0.8476\n",
      "Epoch 7/10\n",
      "1664/1664 [==============================] - 197s 119ms/step - loss: 0.2338 - accuracy: 0.9021 - val_loss: 0.3706 - val_accuracy: 0.8424\n",
      "Epoch 8/10\n",
      "1664/1664 [==============================] - 196s 118ms/step - loss: 0.2158 - accuracy: 0.9102 - val_loss: 0.3917 - val_accuracy: 0.8392\n",
      "Epoch 00008: early stopping\n",
      "832/832 - 22s - loss: 0.3987 - accuracy: 0.8397\n",
      "[0.3987387418746948, 0.8397310972213745]\n",
      "Model: \"sequential_2\"\n",
      "_________________________________________________________________\n",
      "Layer (type)                 Output Shape              Param #   \n",
      "=================================================================\n",
      "embedding_2 (Embedding)      (None, None, 64)          512000    \n",
      "_________________________________________________________________\n",
      "lstm_2 (LSTM)                (None, 128)               98816     \n",
      "_________________________________________________________________\n",
      "dense_2 (Dense)              (None, 1)                 129       \n",
      "=================================================================\n",
      "Total params: 610,945\n",
      "Trainable params: 610,945\n",
      "Non-trainable params: 0\n",
      "_________________________________________________________________\n",
      "Epoch 1/10\n",
      "1664/1664 [==============================] - 252s 151ms/step - loss: 0.3991 - accuracy: 0.8170 - val_loss: 0.3494 - val_accuracy: 0.8460\n",
      "Epoch 2/10\n",
      "1664/1664 [==============================] - 251s 151ms/step - loss: 0.3117 - accuracy: 0.8645 - val_loss: 0.3364 - val_accuracy: 0.8494\n",
      "Epoch 3/10\n",
      "1664/1664 [==============================] - 254s 153ms/step - loss: 0.2714 - accuracy: 0.8830 - val_loss: 0.3402 - val_accuracy: 0.8518\n",
      "Epoch 4/10\n",
      "1664/1664 [==============================] - 253s 152ms/step - loss: 0.2377 - accuracy: 0.8989 - val_loss: 0.3593 - val_accuracy: 0.8489\n",
      "Epoch 5/10\n",
      "1664/1664 [==============================] - 250s 150ms/step - loss: 0.2043 - accuracy: 0.9146 - val_loss: 0.3860 - val_accuracy: 0.8442\n",
      "Epoch 6/10\n",
      "1664/1664 [==============================] - 251s 151ms/step - loss: 0.1718 - accuracy: 0.9306 - val_loss: 0.4328 - val_accuracy: 0.8414\n",
      "Epoch 00006: early stopping\n",
      "832/832 - 25s - loss: 0.4241 - accuracy: 0.8430\n",
      "[0.42414265871047974, 0.8429612517356873]\n"
     ]
    }
   ],
   "source": [
    "history_unigram_8k_dim_8 = performance_test_spm('kor_spm_unigram_8k', vocab_size, word_vector_dim=8)\n",
    "history_unigram_8k_dim_64 = performance_test_spm('kor_spm_unigram_8k', vocab_size, word_vector_dim=64)"
   ]
  },
  {
   "cell_type": "code",
   "execution_count": 46,
   "id": "bc8a34ef",
   "metadata": {},
   "outputs": [
    {
     "name": "stdout",
     "output_type": "stream",
     "text": [
      "Model: \"sequential_3\"\n",
      "_________________________________________________________________\n",
      "Layer (type)                 Output Shape              Param #   \n",
      "=================================================================\n",
      "embedding_3 (Embedding)      (None, None, 8)           64000     \n",
      "_________________________________________________________________\n",
      "lstm_3 (LSTM)                (None, 128)               70144     \n",
      "_________________________________________________________________\n",
      "dense_3 (Dense)              (None, 1)                 129       \n",
      "=================================================================\n",
      "Total params: 134,273\n",
      "Trainable params: 134,273\n",
      "Non-trainable params: 0\n",
      "_________________________________________________________________\n",
      "Epoch 1/10\n",
      "1664/1664 [==============================] - 202s 121ms/step - loss: 0.4154 - accuracy: 0.8076 - val_loss: 0.3621 - val_accuracy: 0.8423\n",
      "Epoch 2/10\n",
      "1664/1664 [==============================] - 200s 120ms/step - loss: 0.3352 - accuracy: 0.8549 - val_loss: 0.3515 - val_accuracy: 0.8461\n",
      "Epoch 3/10\n",
      "1664/1664 [==============================] - 201s 121ms/step - loss: 0.3151 - accuracy: 0.8650 - val_loss: 0.3451 - val_accuracy: 0.8483\n",
      "Epoch 4/10\n",
      "1664/1664 [==============================] - 203s 122ms/step - loss: 0.2924 - accuracy: 0.8750 - val_loss: 0.3404 - val_accuracy: 0.8521\n",
      "Epoch 5/10\n",
      "1664/1664 [==============================] - 201s 121ms/step - loss: 0.2665 - accuracy: 0.8871 - val_loss: 0.3455 - val_accuracy: 0.8530\n",
      "Epoch 6/10\n",
      "1664/1664 [==============================] - 201s 121ms/step - loss: 0.2434 - accuracy: 0.8982 - val_loss: 0.3591 - val_accuracy: 0.8512\n",
      "Epoch 7/10\n",
      "1664/1664 [==============================] - 201s 121ms/step - loss: 0.2222 - accuracy: 0.9081 - val_loss: 0.3837 - val_accuracy: 0.8464\n",
      "Epoch 8/10\n",
      "1664/1664 [==============================] - 202s 121ms/step - loss: 0.2040 - accuracy: 0.9162 - val_loss: 0.3966 - val_accuracy: 0.8454\n",
      "Epoch 00008: early stopping\n",
      "832/832 - 23s - loss: 0.3961 - accuracy: 0.8443\n",
      "[0.3961254954338074, 0.8442758321762085]\n"
     ]
    }
   ],
   "source": [
    "history_bpe_8k_dim_8 = performance_test_spm('kor_spm_bpe_8k', vocab_size, word_vector_dim=8)"
   ]
  },
  {
   "cell_type": "code",
   "execution_count": 47,
   "id": "dc07fa96",
   "metadata": {},
   "outputs": [
    {
     "name": "stdout",
     "output_type": "stream",
     "text": [
      "Model: \"sequential_4\"\n",
      "_________________________________________________________________\n",
      "Layer (type)                 Output Shape              Param #   \n",
      "=================================================================\n",
      "embedding_4 (Embedding)      (None, None, 8)           64000     \n",
      "_________________________________________________________________\n",
      "lstm_4 (LSTM)                (None, 128)               70144     \n",
      "_________________________________________________________________\n",
      "dense_4 (Dense)              (None, 1)                 129       \n",
      "=================================================================\n",
      "Total params: 134,273\n",
      "Trainable params: 134,273\n",
      "Non-trainable params: 0\n",
      "_________________________________________________________________\n",
      "Epoch 1/10\n",
      "1664/1664 [==============================] - 202s 120ms/step - loss: 0.4473 - accuracy: 0.7892 - val_loss: 0.3658 - val_accuracy: 0.8413\n",
      "Epoch 2/10\n",
      "1664/1664 [==============================] - 198s 119ms/step - loss: 0.3347 - accuracy: 0.8561 - val_loss: 0.3579 - val_accuracy: 0.8444\n",
      "Epoch 3/10\n",
      "1664/1664 [==============================] - 199s 120ms/step - loss: 0.3147 - accuracy: 0.8655 - val_loss: 0.3576 - val_accuracy: 0.8441\n",
      "Epoch 4/10\n",
      "1664/1664 [==============================] - 201s 121ms/step - loss: 0.2929 - accuracy: 0.8757 - val_loss: 0.3575 - val_accuracy: 0.8476\n",
      "Epoch 5/10\n",
      "1664/1664 [==============================] - 203s 122ms/step - loss: 0.2687 - accuracy: 0.8871 - val_loss: 0.3603 - val_accuracy: 0.8472\n",
      "Epoch 6/10\n",
      "1664/1664 [==============================] - 205s 123ms/step - loss: 0.2451 - accuracy: 0.8976 - val_loss: 0.3842 - val_accuracy: 0.8441\n",
      "Epoch 7/10\n",
      "1664/1664 [==============================] - 200s 120ms/step - loss: 0.2210 - accuracy: 0.9094 - val_loss: 0.4008 - val_accuracy: 0.8423\n",
      "Epoch 8/10\n",
      "1664/1664 [==============================] - 202s 121ms/step - loss: 0.1967 - accuracy: 0.9207 - val_loss: 0.4239 - val_accuracy: 0.8354\n",
      "Epoch 00008: early stopping\n",
      "832/832 - 23s - loss: 0.4240 - accuracy: 0.8377\n",
      "[0.4239806532859802, 0.8376652598381042]\n",
      "Model: \"sequential_5\"\n",
      "_________________________________________________________________\n",
      "Layer (type)                 Output Shape              Param #   \n",
      "=================================================================\n",
      "embedding_5 (Embedding)      (None, None, 64)          512000    \n",
      "_________________________________________________________________\n",
      "lstm_5 (LSTM)                (None, 128)               98816     \n",
      "_________________________________________________________________\n",
      "dense_5 (Dense)              (None, 1)                 129       \n",
      "=================================================================\n",
      "Total params: 610,945\n",
      "Trainable params: 610,945\n",
      "Non-trainable params: 0\n",
      "_________________________________________________________________\n",
      "Epoch 1/10\n",
      "1664/1664 [==============================] - 254s 152ms/step - loss: 0.3988 - accuracy: 0.8177 - val_loss: 0.3519 - val_accuracy: 0.8448\n",
      "Epoch 2/10\n",
      "1664/1664 [==============================] - 251s 151ms/step - loss: 0.3112 - accuracy: 0.8650 - val_loss: 0.3343 - val_accuracy: 0.8528\n",
      "Epoch 3/10\n",
      "1664/1664 [==============================] - 259s 156ms/step - loss: 0.2698 - accuracy: 0.8840 - val_loss: 0.3459 - val_accuracy: 0.8488\n",
      "Epoch 4/10\n",
      "1664/1664 [==============================] - 260s 156ms/step - loss: 0.2357 - accuracy: 0.9011 - val_loss: 0.3603 - val_accuracy: 0.8479\n",
      "Epoch 5/10\n",
      "1664/1664 [==============================] - 253s 152ms/step - loss: 0.2029 - accuracy: 0.9165 - val_loss: 0.4085 - val_accuracy: 0.8451\n",
      "Epoch 6/10\n",
      "1664/1664 [==============================] - 249s 149ms/step - loss: 0.1688 - accuracy: 0.9313 - val_loss: 0.4538 - val_accuracy: 0.8406\n",
      "Epoch 00006: early stopping\n",
      "832/832 - 26s - loss: 0.4540 - accuracy: 0.8401\n",
      "[0.4539695084095001, 0.8401066660881042]\n"
     ]
    }
   ],
   "source": [
    "history_bpe_8k_dim_8 = performance_test_spm('kor_spm_bpe_8k', vocab_size, word_vector_dim=8)\n",
    "history_bpe_16k_dim_64 = performance_test_spm('kor_spm_bpe_8k', vocab_size, word_vector_dim=64)"
   ]
  },
  {
   "cell_type": "markdown",
   "id": "628fbf34",
   "metadata": {},
   "source": [
    "**학습 과정 평가**"
   ]
  },
  {
   "cell_type": "code",
   "execution_count": 48,
   "id": "f0a41522",
   "metadata": {},
   "outputs": [],
   "source": [
    "def visualize_train(train_history, param):\n",
    "    # summarize history for accuracy\n",
    "    plt.plot(train_history.history['accuracy'])\n",
    "    plt.plot(train_history.history['val_accuracy'])\n",
    "    plt.title('{}_accuracy'.format(param))\n",
    "    plt.ylabel('accuracy')\n",
    "    plt.xlabel('epoch')\n",
    "    plt.legend(['train', 'val'], loc='upper left')\n",
    "    plt.show()\n",
    "    # summarize history for loss\n",
    "    plt.plot(train_history.history['loss'])\n",
    "    plt.plot(train_history.history['val_loss'])\n",
    "    plt.title('{}_loss'.format(param))\n",
    "    plt.ylabel('loss')\n",
    "    plt.xlabel('epoch')\n",
    "    plt.legend(['train', 'val'], loc='upper left')\n",
    "    plt.show()"
   ]
  },
  {
   "cell_type": "code",
   "execution_count": 49,
   "id": "7c7c0466",
   "metadata": {},
   "outputs": [
    {
     "data": {
      "image/png": "[encoded data removed]",
      "text/plain": [
       "<Figure size 432x288 with 1 Axes>"
      ]
     },
     "metadata": {
      "needs_background": "light"
     },
     "output_type": "display_data"
    },
    {
     "data": {
      "image/png": "[encoded data removed]",
      "text/plain": [
       "<Figure size 432x288 with 1 Axes>"
      ]
     },
     "metadata": {
      "needs_background": "light"
     },
     "output_type": "display_data"
    }
   ],
   "source": [
    "visualize_train(history_unigram_8k_dim_8, param='unigram_8k_dim_8')"
   ]
  },
  {
   "cell_type": "code",
   "execution_count": 50,
   "id": "419deba8",
   "metadata": {},
   "outputs": [
    {
     "data": {
      "image/png": "[encoded data removed]",
      "text/plain": [
       "<Figure size 432x288 with 1 Axes>"
      ]
     },
     "metadata": {
      "needs_background": "light"
     },
     "output_type": "display_data"
    },
    {
     "data": {
      "image/png": "[encoded data removed]",
      "text/plain": [
       "<Figure size 432x288 with 1 Axes>"
      ]
     },
     "metadata": {
      "needs_background": "light"
     },
     "output_type": "display_data"
    }
   ],
   "source": [
    "visualize_train(history_unigram_8k_dim_64, param='unigram_8k_dim_64')"
   ]
  },
  {
   "cell_type": "code",
   "execution_count": 51,
   "id": "54d7c451",
   "metadata": {},
   "outputs": [
    {
     "data": {
      "image/png": "[encoded data removed]",
      "text/plain": [
       "<Figure size 432x288 with 1 Axes>"
      ]
     },
     "metadata": {
      "needs_background": "light"
     },
     "output_type": "display_data"
    },
    {
     "data": {
      "image/png": "[encoded data removed]",
      "text/plain": [
       "<Figure size 432x288 with 1 Axes>"
      ]
     },
     "metadata": {
      "needs_background": "light"
     },
     "output_type": "display_data"
    }
   ],
   "source": [
    "visualize_train(history_bpe_8k_dim_8, param='bpe_8k_dim_8')"
   ]
  },
  {
   "cell_type": "code",
   "execution_count": 52,
   "id": "1e4aa113",
   "metadata": {},
   "outputs": [
    {
     "data": {
      "image/png": "[encoded data removed]",
      "text/plain": [
       "<Figure size 432x288 with 1 Axes>"
      ]
     },
     "metadata": {
      "needs_background": "light"
     },
     "output_type": "display_data"
    },
    {
     "data": {
      "image/png": "[encoded data removed]",
      "text/plain": [
       "<Figure size 432x288 with 1 Axes>"
      ]
     },
     "metadata": {
      "needs_background": "light"
     },
     "output_type": "display_data"
    }
   ],
   "source": [
    "visualize_train(history_bpe_16k_dim_64, param='bpe_8k_dim_64')"
   ]
  },
  {
   "cell_type": "markdown",
   "id": "a46e4c01",
   "metadata": {},
   "source": [
    "# [GD-02] 회고\n",
    "\n",
    "처음에 과제의 취지를 잘못 이해해서 지난번에 했던 익스를 가져와야 하나 싶었는데, 준서님의 도움으로 옳은 방향으로 나아갈 수 있었습니다.\n",
    "그래도 헷갈리고 어려운건 매한가지였네요😂\n",
    "\n",
    "이번 노드도 혼자서 해결하지 못해 다른 분의 깃허브를 참고했습니다.\n",
    "https://github.com/miinkang/AI_Project_AIFFEL\n",
    "\n",
    "데이터 분석을 하고 문장을 확인하는 부분까지는 어찌저찌 해결해냈는데, 늘 모델학습에서 꼬여서 구글링이 필수네요ㅎㅎ\n",
    "\n",
    "Sentence Piece 모델을 학습하는 것은 모델을 가져오는 코드는 노드에 있는 것을 가져왔고 학습된 subword를 확인했는데요.\n",
    "성능을 비교평가 하는 과정에서 유니그램에 오류가 나서 위에 언급했듯이 구글링을 했는데, 다른 분도 오류가 나는 곳이 비슷비슷 하더라고요.\n",
    "\n",
    "한국어가 자연어 처리 하는 것이 힘들다는 말이 노드에 계속 언급이 되었기 때문에 알고는 있었지만, 늘 생각 이상으로 어렵더라고요.\n",
    "노드를 여러번 읽어서 차츰차츰 이해가 되는 것 처럼 한국어 자연어 처리도 그렇게 되었으면 좋겠다는 이런 이상한 생각을 하게 만들더라구요😅\n",
    "\n",
    "아직까지 모호하고 이해가 안 되는 부분이 몇 개 있지만 노드를 통해서 복습하고, 구글링을 통해 자료를 찾다보면 언젠가는 이해가 되겠죠?\n",
    "뭔가 할 거는 많은데 정리가 잘 안 되는 부분이 많아서 큰일이네요."
   ]
  }
 ],
 "metadata": {
  "kernelspec": {
   "display_name": "Python 3 (ipykernel)",
   "language": "python",
   "name": "python3"
  },
  "language_info": {
   "codemirror_mode": {
    "name": "ipython",
    "version": 3
   },
   "file_extension": ".py",
   "mimetype": "text/x-python",
   "name": "python",
   "nbconvert_exporter": "python",
   "pygments_lexer": "ipython3",
   "version": "3.9.7"
  }
 },
 "nbformat": 4,
 "nbformat_minor": 5
}
