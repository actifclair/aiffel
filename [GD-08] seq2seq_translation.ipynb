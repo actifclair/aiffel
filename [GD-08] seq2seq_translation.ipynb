{
 "cells": [
  {
   "cell_type": "markdown",
   "id": "e3c7c7d1",
   "metadata": {},
   "source": [
    "# 프로젝트: 한영 번역기 만들기"
   ]
  },
  {
   "cell_type": "markdown",
   "id": "2a0d2da9",
   "metadata": {},
   "source": [
    "## Import"
   ]
  },
  {
   "cell_type": "code",
   "execution_count": 1,
   "id": "63c68966",
   "metadata": {},
   "outputs": [
    {
     "name": "stdout",
     "output_type": "stream",
     "text": [
      "2.6.0\n"
     ]
    }
   ],
   "source": [
    "import tensorflow as tf\n",
    "import numpy as np\n",
    "\n",
    "from sklearn.model_selection import train_test_split\n",
    "\n",
    "import matplotlib.ticker as ticker\n",
    "import matplotlib.pyplot as plt\n",
    "\n",
    "import time\n",
    "import re\n",
    "import os\n",
    "import io\n",
    "import random\n",
    "\n",
    "print(tf.__version__)"
   ]
  },
  {
   "cell_type": "markdown",
   "id": "19cbe774",
   "metadata": {},
   "source": [
    "## 1. 데이터 전처리"
   ]
  },
  {
   "cell_type": "code",
   "execution_count": 2,
   "id": "781de0ce",
   "metadata": {},
   "outputs": [
    {
     "name": "stdout",
     "output_type": "stream",
     "text": [
      "/aiffel/aiffel/s2s_translation\n"
     ]
    }
   ],
   "source": [
    "file_path = os.getenv('HOME')+'/aiffel/s2s_translation'\n",
    "print(file_path)"
   ]
  },
  {
   "cell_type": "code",
   "execution_count": 3,
   "id": "ad538ee9",
   "metadata": {},
   "outputs": [],
   "source": [
    "def load_file(file_name):\n",
    "    with open(file_path+'/{}'.format(file_name), \"r\") as f:\n",
    "        raw = f.read().splitlines()\n",
    "\n",
    "    print(\"Data Size:\", len(raw))\n",
    "    print(\"Example:\")\n",
    "\n",
    "    for sen in raw[0:100][::20]: \n",
    "        print(\">>\", sen)\n",
    "    \n",
    "    return raw"
   ]
  },
  {
   "cell_type": "code",
   "execution_count": 4,
   "id": "8eeefc8c",
   "metadata": {},
   "outputs": [
    {
     "name": "stdout",
     "output_type": "stream",
     "text": [
      "Data Size: 94123\n",
      "Example:\n",
      ">> 개인용 컴퓨터 사용의 상당 부분은 \"이것보다 뛰어날 수 있느냐?\"\n",
      ">> 북한의 핵무기 계획을 포기하도록 하려는 압력이 거세지고 있는 가운데, 일본과 북한의 외교관들이 외교 관계를 정상화하려는 회담을 재개했다.\n",
      ">> \"경호 로보트가 침입자나 화재를 탐지하기 위해서 개인적으로, 그리고 전문적으로 사용되고 있습니다.\"\n",
      ">> 수자원부 당국은 논란이 되고 있고, 막대한 비용이 드는 이 사업에 대해 내년에 건설을 시작할 계획이다.\n",
      ">> 또한 근력 운동은 활발하게 걷는 것이나 최소한 20분 동안 뛰는 것과 같은 유산소 활동에서 얻는 운동 효과를 심장과 폐에 주지 않기 때문에, 연구학자들은 근력 운동이 심장에 큰 영향을 미치는지 여부에 대해 논쟁을 해왔다.\n",
      "Data Size: 1000\n",
      "Example:\n",
      ">> 세계 에서 가장 강력한 수퍼컴퓨터를 1년 동안이나 독점해 오던 정부의 연구학자들이 이 1억1천만 달러 짜리 경이로운 설비를 공개하며, 이것이 핵전쟁으로부터 세계를 구하는데 도움이 될지도 모른다고 말했다.\n",
      ">> 무기 사찰관들의 복귀에 대하여 이라크 측의 한 관리가 \"유익하고 효과적인\" 논의였다고 말한 회합에서 유엔 무기 사찰단장이 이라크 대표단을 만났다.\n",
      ">> 하드웨어를 구입하는 비용의 문제가 커다란 장애입니다.\n",
      ">> 토의에 참가한 대부분의 사람들은 정부가 통신 내용을 도청할 수 있는 권리를 보유해야 할 필요성이 있는 합법적인 부분도 있다는 데에 동의를 한다.\n",
      ">> 그는 눈에 띄지 않게 행동하는 것으로 알려져있다. 그는 영국 시사잡지 타임즈에서 “파티에 잘 참석하지 않는다”며 자신의 생활에 대한 날조된 이야기를 즐기고 있다.\n",
      "Data Size: 2000\n",
      "Example:\n",
      ">> 토론에 참여한 사람들은 법 집행과 국가 안전보장에 대한 우려를 표명해야 할 필요성을 진지하게 받아 들이고 있습니다.\n",
      ">> 비록 그 위협(의 가능성)은 적지만, 그 잠재적인 영향력은 가히 파괴적인 것이다.\n",
      ">> 한국은 세계 에서 네번째로 원유를 많이 수입하는 나라이며, 전적으로 원유 수입에 의존하고 있다.\n",
      ">> 불과 1,379년 전이다.\n",
      ">> 대신, 그들은 \"안정\"이라는 면에서 서방 세계와 똑같은 이해 관계를 갖고 있는 각 지역의 소수 엘리트를 대표하고 있다.\n",
      "total data size: 97123\n"
     ]
    }
   ],
   "source": [
    "raw_kor = load_file('korean-english-park.train.ko')\n",
    "raw_kor += load_file('korean-english-park.dev.ko')\n",
    "raw_kor += load_file('korean-english-park.test.ko')\n",
    "print('total data size:', len(raw_kor))"
   ]
  },
  {
   "cell_type": "code",
   "execution_count": 5,
   "id": "c65ddf69",
   "metadata": {},
   "outputs": [
    {
     "name": "stdout",
     "output_type": "stream",
     "text": [
      "Data Size: 94123\n",
      "Example:\n",
      ">> Much of personal computing is about \"can you top this?\"\n",
      ">> Amid mounting pressure on North Korea to abandon its nuclear weapons program Japanese and North Korean diplomats have resumed talks on normalizing diplomatic relations.\n",
      ">> “Guard robots are used privately and professionally to detect intruders or fire,” Karlsson said.\n",
      ">> Authorities from the Water Resources Ministry plan to begin construction next year on the controversial and hugely expensive project.\n",
      ">> Researchers also have debated whether weight-training has a big impact on the heart, since it does not give the heart and lungs the kind of workout they get from aerobic activities such as brisk walking or running for at least 20 minutes.\n",
      "Data Size: 1000\n",
      "Example:\n",
      ">> After keeping the world's most powerful supercomputer to themselves for a year, government researchers showed off the $110 million wonder and said it might help save the world from nuclear war.\n",
      ">> The head of the U.N. weapons inspection team met with an Iraqi delegation in what a Baghdad official called \"useful and fruitful\" discussions on the return of weapons inspectors.\n",
      ">> \"The issue of it just being a hardware expense is a serious impediment.\n",
      ">> Most of the people involved in the discussion agree that there is a legitimate area in which the government needs to retain the right to intercept communications.\n",
      ">> He's been known to keep a low profile \"You will never see me at a party,\" he told the Times of London and delights in concocting stories about his life.\n",
      "Data Size: 2000\n",
      "Example:\n",
      ">> Those involved in the discussions do take seriously the need to address concerns of law enforcement and national security.\n",
      ">> Even though the threat is small, the potential effects are devastating.\n",
      ">> South Korea is the world's fourth largest oil importer and wholly depends on imports of crude.\n",
      ">> That is only 1,379 years ago.\n",
      ">> Instead, they represent a small elite in each place that has a common interest with the West in “stability.”\n",
      "total data size: 97123\n"
     ]
    }
   ],
   "source": [
    "raw_en = load_file('korean-english-park.train.en')\n",
    "raw_en += load_file('korean-english-park.dev.en')\n",
    "raw_en += load_file('korean-english-park.test.en')\n",
    "print('total data size:', len(raw_en))"
   ]
  },
  {
   "cell_type": "code",
   "execution_count": 6,
   "id": "44276a8d",
   "metadata": {},
   "outputs": [
    {
     "name": "stdout",
     "output_type": "stream",
     "text": [
      "korean data size: 97123\n",
      "english data size: 97123\n"
     ]
    }
   ],
   "source": [
    "print('korean data size:', len(raw_kor))\n",
    "print('english data size:', len(raw_en))"
   ]
  },
  {
   "cell_type": "markdown",
   "id": "fde4d8a7",
   "metadata": {},
   "source": [
    "- 중복된 데이터 제거"
   ]
  },
  {
   "cell_type": "code",
   "execution_count": 7,
   "id": "47a68048",
   "metadata": {},
   "outputs": [
    {
     "data": {
      "text/plain": [
       "<zip at 0x7f157a9dc6c0>"
      ]
     },
     "execution_count": 7,
     "metadata": {},
     "output_type": "execute_result"
    }
   ],
   "source": [
    "raw = zip(raw_kor, raw_en)\n",
    "raw"
   ]
  },
  {
   "cell_type": "code",
   "execution_count": 8,
   "id": "444fb512",
   "metadata": {},
   "outputs": [],
   "source": [
    "set_raw = set(raw)"
   ]
  },
  {
   "cell_type": "code",
   "execution_count": 9,
   "id": "310635dd",
   "metadata": {},
   "outputs": [
    {
     "data": {
      "text/plain": [
       "81959"
      ]
     },
     "execution_count": 9,
     "metadata": {},
     "output_type": "execute_result"
    }
   ],
   "source": [
    "len(set_raw)"
   ]
  },
  {
   "cell_type": "code",
   "execution_count": 10,
   "id": "58a31fdb",
   "metadata": {},
   "outputs": [],
   "source": [
    "cleaned_corpus_kor, cleaned_corpus_eng = zip(*set_raw)"
   ]
  },
  {
   "cell_type": "code",
   "execution_count": 11,
   "id": "9c0097ad",
   "metadata": {},
   "outputs": [
    {
     "name": "stdout",
     "output_type": "stream",
     "text": [
      "korean data size: 81959\n",
      "english data size: 81959\n"
     ]
    }
   ],
   "source": [
    "print('korean data size:', len(cleaned_corpus_kor))\n",
    "print('english data size:', len(cleaned_corpus_eng))"
   ]
  },
  {
   "cell_type": "code",
   "execution_count": 12,
   "id": "a609213e",
   "metadata": {},
   "outputs": [
    {
     "data": {
      "text/plain": [
       "'몇분 후 웸박은 팀동료와 부딪혀 얼굴에 피가 나 미국은 1명이 모자란 채 경기에 임할 수 밖에 없었다.'"
      ]
     },
     "execution_count": 12,
     "metadata": {},
     "output_type": "execute_result"
    }
   ],
   "source": [
    "cleaned_corpus_kor[100]"
   ]
  },
  {
   "cell_type": "code",
   "execution_count": 13,
   "id": "82b5195e",
   "metadata": {},
   "outputs": [
    {
     "data": {
      "text/plain": [
       "'Minutes later, Wambach knocked heads with a team-mate in a scramble around goal and exited the field with blood pouring from her face, leaving the Americans with 10 players.'"
      ]
     },
     "execution_count": 13,
     "metadata": {},
     "output_type": "execute_result"
    }
   ],
   "source": [
    "cleaned_corpus_eng[100]"
   ]
  },
  {
   "cell_type": "markdown",
   "id": "e6ef662f",
   "metadata": {},
   "source": [
    "- 한국어 전처리"
   ]
  },
  {
   "cell_type": "code",
   "execution_count": 14,
   "id": "f31b3aae",
   "metadata": {},
   "outputs": [],
   "source": [
    "def preprocess_sentence(sentence, s_token=False, e_token=False):\n",
    "    sentence = sentence.lower().strip()\n",
    "\n",
    "    sentence = re.sub(r\"([?.!,])\", r\" \\1 \", sentence)\n",
    "    sentence = re.sub(r'[\" \"]+', \" \", sentence)\n",
    "    sentence = re.sub(r\"[^a-zA-Z?.!가-힣ㄱ-ㅎㅏ-ㅣ]+\", \" \", sentence)\n",
    "\n",
    "    sentence = sentence.strip()\n",
    "\n",
    "    if s_token:\n",
    "        sentence = '<start> ' + sentence\n",
    "\n",
    "    if e_token:\n",
    "        sentence += ' <end>'\n",
    "    \n",
    "    return sentence"
   ]
  },
  {
   "cell_type": "code",
   "execution_count": 15,
   "id": "f25ef961",
   "metadata": {},
   "outputs": [
    {
     "name": "stdout",
     "output_type": "stream",
     "text": [
      "미국 관리들은 베이징 회담 중 북한은 핵무기를 생산하는 주요 단계로 수개월내에 여러 개의 폭탄을 생산할 수 있는 폐핵연료봉 8,000개를 재처리했다고 주장했다고 말했다. During the Beijing talks, U.S. officials said North Korea also claimed it had reprocessed 8,000 spent nuclear fuel rods _ a key step in producing nuclear weapons _ that could yield several more bombs within months.\n"
     ]
    }
   ],
   "source": [
    "for kor, eng in zip(cleaned_corpus_kor, cleaned_corpus_eng):\n",
    "    print(kor, eng)\n",
    "    break"
   ]
  },
  {
   "cell_type": "code",
   "execution_count": 16,
   "id": "422cde11",
   "metadata": {},
   "outputs": [
    {
     "name": "stdout",
     "output_type": "stream",
     "text": [
      "korean data size: 17055\n",
      "english data size: 17055\n",
      "Korean: 그는 지금 까지 매니토웍 시 역사상 가장 젊은 시장입니다 .\n",
      "English: <start> he s the youngest mayor ever in the city s history . <end>\n"
     ]
    }
   ],
   "source": [
    "enc_corpus = []\n",
    "dec_corpus = []\n",
    "\n",
    "# num_examples = 30000\n",
    "cnt=0\n",
    "for kor, eng in zip(cleaned_corpus_kor, cleaned_corpus_eng):\n",
    "    temp_kor = preprocess_sentence(kor)\n",
    "    temp_eng = preprocess_sentence(eng, s_token=True, e_token=True)\n",
    "\n",
    "    if len(temp_kor) <= 40:\n",
    "        enc_corpus.append(temp_kor)\n",
    "        dec_corpus.append(temp_eng)\n",
    "    \n",
    "print('korean data size:', len(enc_corpus))\n",
    "print('english data size:', len(dec_corpus))\n",
    "print(\"Korean:\", enc_corpus[500])   \n",
    "print(\"English:\", dec_corpus[500])  "
   ]
  },
  {
   "cell_type": "code",
   "execution_count": 17,
   "id": "ca92cdb4",
   "metadata": {},
   "outputs": [
    {
     "name": "stdout",
     "output_type": "stream",
     "text": [
      "Korean: 지난 년간 서울과 서울 근교의 집값은 이상 치솟았다 .\n",
      "English: <start> home prices in and around seoul surged by more than percent over the last two years . <end>\n"
     ]
    }
   ],
   "source": [
    "print(\"Korean:\", enc_corpus[100])   \n",
    "print(\"English:\", dec_corpus[100])  "
   ]
  },
  {
   "cell_type": "code",
   "execution_count": 18,
   "id": "fc015ce3",
   "metadata": {},
   "outputs": [
    {
     "name": "stdout",
     "output_type": "stream",
     "text": [
      "Korean: 최소 8개 주의 등록 카드에 대해 의심이 제기되어 왔습니다.\n",
      "English: Questions have been raised about registration cards in at least 8 states.\n"
     ]
    }
   ],
   "source": [
    "print(\"Korean:\", cleaned_corpus_kor[10])   \n",
    "print(\"English:\", cleaned_corpus_eng[10])  "
   ]
  },
  {
   "cell_type": "markdown",
   "id": "02b08dab",
   "metadata": {},
   "source": [
    "\n"
   ]
  },
  {
   "cell_type": "markdown",
   "id": "e3be54ab",
   "metadata": {},
   "source": [
    "## 2. 데이터 토큰화"
   ]
  },
  {
   "cell_type": "markdown",
   "id": "7d1a6999",
   "metadata": {},
   "source": [
    "- 한국어는 KoNLPy의 mecab클래스를 사용해 토큰화합니다."
   ]
  },
  {
   "cell_type": "code",
   "execution_count": 19,
   "id": "14c1decc",
   "metadata": {},
   "outputs": [],
   "source": [
    "from konlpy.tag import Mecab\n",
    "\n",
    "vocab_size = 50000\n",
    "def tokenize(corpus, kor=False, eng=True):\n",
    "    if kor:\n",
    "        mecab = Mecab()\n",
    "        morph = [\" \".join(mecab.morphs(sen)) for sen in corpus]\n",
    "        tokenizer = tf.keras.preprocessing.text.Tokenizer(filters='',\n",
    "                                                         num_words=vocab_size)\n",
    "        tokenizer.fit_on_texts(morph)\n",
    "\n",
    "        tensor = tokenizer.texts_to_sequences(morph)\n",
    "        tensor = tf.keras.preprocessing.sequence.pad_sequences(tensor, padding='post')\n",
    "\n",
    "        \n",
    "    if eng:\n",
    "        tokenizer = tf.keras.preprocessing.text.Tokenizer(filters='',\n",
    "                                                         num_words=vocab_size)\n",
    "        tokenizer.fit_on_texts(corpus)\n",
    "\n",
    "        tensor = tokenizer.texts_to_sequences(corpus)\n",
    "        tensor = tf.keras.preprocessing.sequence.pad_sequences(tensor, padding='post')\n",
    "\n",
    "    return tensor, tokenizer"
   ]
  },
  {
   "cell_type": "code",
   "execution_count": 20,
   "id": "8b1660ec",
   "metadata": {},
   "outputs": [
    {
     "name": "stdout",
     "output_type": "stream",
     "text": [
      "Korean Vocab Size: 41796\n",
      "English Vocab Size: 17325\n"
     ]
    }
   ],
   "source": [
    "enc_tensor, enc_tokenizer = tokenize(enc_corpus, kor=True)\n",
    "dec_tensor, dec_tokenizer = tokenize(dec_corpus, eng=True)\n",
    "\n",
    "enc_train, enc_val, dec_train, dec_val = \\\n",
    "train_test_split(enc_tensor, dec_tensor, test_size=0.2)\n",
    "\n",
    "print(\"Korean Vocab Size:\", len(enc_tokenizer.index_word))\n",
    "print(\"English Vocab Size:\", len(dec_tokenizer.index_word))"
   ]
  },
  {
   "cell_type": "markdown",
   "id": "14288b02",
   "metadata": {},
   "source": [
    "\n"
   ]
  },
  {
   "cell_type": "markdown",
   "id": "235922ea",
   "metadata": {},
   "source": [
    "## 3. 모델 설계"
   ]
  },
  {
   "cell_type": "code",
   "execution_count": 21,
   "id": "08096894",
   "metadata": {},
   "outputs": [],
   "source": [
    "class BahdanauAttention(tf.keras.layers.Layer):\n",
    "    def __init__(self, units):\n",
    "        super(BahdanauAttention, self).__init__()\n",
    "        self.w_dec = tf.keras.layers.Dense(units)\n",
    "        self.w_enc = tf.keras.layers.Dense(units)\n",
    "        self.w_com = tf.keras.layers.Dense(1)\n",
    "    \n",
    "    def call(self, h_enc, h_dec):\n",
    "        # h_enc shape: [batch x length x units]\n",
    "        # h_dec shape: [batch x units]\n",
    "\n",
    "        h_enc = self.w_enc(h_enc)\n",
    "        h_dec = tf.expand_dims(h_dec, 1)\n",
    "        h_dec = self.w_dec(h_dec)\n",
    "\n",
    "        score = self.w_com(tf.nn.tanh(h_dec + h_enc))\n",
    "        \n",
    "        attn = tf.nn.softmax(score, axis=1)\n",
    "\n",
    "        context_vec = attn * h_enc\n",
    "        context_vec = tf.reduce_sum(context_vec, axis=1)\n",
    "\n",
    "        return context_vec, attn"
   ]
  },
  {
   "cell_type": "code",
   "execution_count": 22,
   "id": "bad3ac5f",
   "metadata": {},
   "outputs": [],
   "source": [
    "class Encoder(tf.keras.Model):\n",
    "    def __init__(self, vocab_size, embedding_dim, enc_units):\n",
    "        super(Encoder, self).__init__()\n",
    "\n",
    "        self.enc_units = enc_units\n",
    "        self.embedding = tf.keras.layers.Embedding(vocab_size, embedding_dim)\n",
    "        self.gru = tf.keras.layers.GRU(enc_units,\n",
    "                                       return_sequences=True)\n",
    "\n",
    "    def call(self, x):\n",
    "        out = self.embedding(x)\n",
    "        out = self.gru(out)\n",
    "\n",
    "        return out"
   ]
  },
  {
   "cell_type": "code",
   "execution_count": 23,
   "id": "fc2f2359",
   "metadata": {},
   "outputs": [],
   "source": [
    "class Decoder(tf.keras.Model):\n",
    "    def __init__(self, vocab_size, embedding_dim, dec_units):\n",
    "        super(Decoder, self).__init__()\n",
    "        self.dec_units = dec_units\n",
    "        self.embedding = tf.keras.layers.Embedding(vocab_size, embedding_dim)\n",
    "        self.gru = tf.keras.layers.GRU(dec_units,\n",
    "                                       return_sequences=True,\n",
    "                                       return_state=True)\n",
    "        self.fc = tf.keras.layers.Dense(vocab_size)\n",
    "\n",
    "        self.attention = BahdanauAttention(self.dec_units)\n",
    "\n",
    "    def call(self, x, h_dec, enc_out):\n",
    "        context_vec, attn = self.attention(enc_out, h_dec)\n",
    "\n",
    "        out = self.embedding(x)\n",
    "        out = tf.concat([tf.expand_dims(context_vec, 1), out], axis=-1)\n",
    "\n",
    "        out, h_dec = self.gru(out)\n",
    "        out = tf.reshape(out, (-1, out.shape[2]))\n",
    "        out = self.fc(out)\n",
    "\n",
    "        return out, h_dec, attn"
   ]
  },
  {
   "cell_type": "code",
   "execution_count": 24,
   "id": "44cc1cc5",
   "metadata": {},
   "outputs": [
    {
     "name": "stdout",
     "output_type": "stream",
     "text": [
      "Encoder Output: (64, 40, 128)\n",
      "Decoder Output: (64, 17326)\n",
      "Decoder Hidden State: (64, 128)\n",
      "Attention: (64, 40, 1)\n"
     ]
    }
   ],
   "source": [
    "# 코드를 실행하세요.\n",
    "\n",
    "BATCH_SIZE     = 64\n",
    "SRC_VOCAB_SIZE = len(enc_tokenizer.index_word) + 1 # 예: len(enc_tokenizer.index_word) + 1\n",
    "TGT_VOCAB_SIZE = len(dec_tokenizer.index_word) + 1 # 예: len(dec_tokenizer.index_word) + 1\n",
    "\n",
    "units         = 128\n",
    "embedding_dim = 128\n",
    "\n",
    "encoder = Encoder(SRC_VOCAB_SIZE, embedding_dim, units)\n",
    "decoder = Decoder(TGT_VOCAB_SIZE, embedding_dim, units)\n",
    "\n",
    "# sample input\n",
    "sequence_len = 40\n",
    "\n",
    "sample_enc = tf.random.uniform((BATCH_SIZE, sequence_len))\n",
    "sample_output = encoder(sample_enc)\n",
    "\n",
    "print ('Encoder Output:', sample_output.shape)\n",
    "\n",
    "sample_state = tf.random.uniform((BATCH_SIZE, units))\n",
    "\n",
    "sample_logits, h_dec, attn = decoder(tf.random.uniform((BATCH_SIZE, 1)),\n",
    "                                     sample_state, sample_output)\n",
    "\n",
    "print ('Decoder Output:', sample_logits.shape)\n",
    "print ('Decoder Hidden State:', h_dec.shape)\n",
    "print ('Attention:', attn.shape)"
   ]
  },
  {
   "cell_type": "code",
   "execution_count": 25,
   "id": "fbcc7272",
   "metadata": {},
   "outputs": [],
   "source": [
    "optimizer = tf.keras.optimizers.Adam()\n",
    "loss_object = tf.keras.losses.SparseCategoricalCrossentropy(\n",
    "    from_logits=True, reduction='none')\n",
    "\n",
    "def loss_function(real, pred):\n",
    "    mask = tf.math.logical_not(tf.math.equal(real, 0))\n",
    "    loss = loss_object(real, pred)\n",
    "    \n",
    "    mask = tf.cast(mask, dtype=loss.dtype)\n",
    "    loss *= mask\n",
    "    \n",
    "    return tf.reduce_mean(loss)"
   ]
  },
  {
   "cell_type": "code",
   "execution_count": 26,
   "id": "f7a0518e",
   "metadata": {},
   "outputs": [],
   "source": [
    "@tf.function\n",
    "def train_step(src, tgt, encoder, decoder, optimizer, dec_tok):\n",
    "    bsz = src.shape[0]\n",
    "    loss = 0\n",
    "\n",
    "    with tf.GradientTape() as tape:\n",
    "        enc_out = encoder(src)\n",
    "        h_dec = enc_out[:, -1]\n",
    "        \n",
    "        dec_src = tf.expand_dims([dec_tok.word_index['<start>']] * bsz, 1)\n",
    "\n",
    "        for t in range(1, tgt.shape[1]):\n",
    "            pred, h_dec, _ = decoder(dec_src, h_dec, enc_out)\n",
    "\n",
    "            loss += loss_function(tgt[:, t], pred)\n",
    "            dec_src = tf.expand_dims(tgt[:, t], 1)\n",
    "        \n",
    "    batch_loss = (loss / int(tgt.shape[1]))\n",
    "\n",
    "    variables = encoder.trainable_variables + decoder.trainable_variables\n",
    "    gradients = tape.gradient(loss, variables)\n",
    "    optimizer.apply_gradients(zip(gradients, variables))\n",
    "    \n",
    "    return batch_loss"
   ]
  },
  {
   "cell_type": "code",
   "execution_count": 27,
   "id": "71a1da40",
   "metadata": {},
   "outputs": [
    {
     "name": "stderr",
     "output_type": "stream",
     "text": [
      "Epoch  1: 100%|██████████| 214/214 [02:15<00:00,  1.58it/s, Loss 1.5105]\n",
      "Test Epoch  1: 100%|██████████| 54/54 [00:42<00:00,  1.27it/s, Test Loss 1.4576]\n",
      "Epoch  2: 100%|██████████| 214/214 [00:25<00:00,  8.41it/s, Loss 1.4350]\n",
      "Test Epoch  2: 100%|██████████| 54/54 [00:02<00:00, 18.26it/s, Test Loss 1.4663]\n",
      "Epoch  3: 100%|██████████| 214/214 [00:25<00:00,  8.43it/s, Loss 1.4345]\n",
      "Test Epoch  3: 100%|██████████| 54/54 [00:02<00:00, 18.36it/s, Test Loss 1.4721]\n",
      "Epoch  4: 100%|██████████| 214/214 [00:25<00:00,  8.52it/s, Loss 1.4345]\n",
      "Test Epoch  4: 100%|██████████| 54/54 [00:02<00:00, 18.32it/s, Test Loss 1.4758]\n",
      "Epoch  5: 100%|██████████| 214/214 [00:25<00:00,  8.48it/s, Loss 1.4344]\n",
      "Test Epoch  5: 100%|██████████| 54/54 [00:02<00:00, 18.20it/s, Test Loss 1.4790]\n",
      "Epoch  6: 100%|██████████| 214/214 [00:26<00:00,  8.21it/s, Loss 1.4347]\n",
      "Test Epoch  6: 100%|██████████| 54/54 [00:02<00:00, 18.53it/s, Test Loss 1.4808]\n",
      "Epoch  7: 100%|██████████| 214/214 [00:25<00:00,  8.51it/s, Loss 1.4344]\n",
      "Test Epoch  7: 100%|██████████| 54/54 [00:02<00:00, 18.82it/s, Test Loss 1.4833]\n",
      "Epoch  8: 100%|██████████| 214/214 [00:25<00:00,  8.56it/s, Loss 1.4345]\n",
      "Test Epoch  8: 100%|██████████| 54/54 [00:02<00:00, 18.26it/s, Test Loss 1.4853]\n",
      "Epoch  9: 100%|██████████| 214/214 [00:25<00:00,  8.51it/s, Loss 1.4347]\n",
      "Test Epoch  9: 100%|██████████| 54/54 [00:02<00:00, 18.63it/s, Test Loss 1.4854]\n",
      "Epoch 10: 100%|██████████| 214/214 [00:25<00:00,  8.49it/s, Loss 1.4346]\n",
      "Test Epoch 10: 100%|██████████| 54/54 [00:02<00:00, 18.39it/s, Test Loss 1.4875]\n",
      "Epoch 11: 100%|██████████| 214/214 [00:25<00:00,  8.52it/s, Loss 1.4160]\n",
      "Test Epoch 11: 100%|██████████| 54/54 [00:02<00:00, 18.44it/s, Test Loss 1.4105]\n",
      "Epoch 12: 100%|██████████| 214/214 [00:25<00:00,  8.53it/s, Loss 1.3400]\n",
      "Test Epoch 12: 100%|██████████| 54/54 [00:02<00:00, 18.67it/s, Test Loss 1.3699]\n",
      "Epoch 13: 100%|██████████| 214/214 [00:25<00:00,  8.54it/s, Loss 1.2972]\n",
      "Test Epoch 13: 100%|██████████| 54/54 [00:02<00:00, 18.50it/s, Test Loss 1.3434]\n",
      "Epoch 14: 100%|██████████| 214/214 [00:25<00:00,  8.50it/s, Loss 1.2548]\n",
      "Test Epoch 14: 100%|██████████| 54/54 [00:02<00:00, 18.53it/s, Test Loss 1.3179]\n",
      "Epoch 15: 100%|██████████| 214/214 [00:24<00:00,  8.60it/s, Loss 1.2118]\n",
      "Test Epoch 15: 100%|██████████| 54/54 [00:02<00:00, 18.30it/s, Test Loss 1.3000]\n",
      "Epoch 16: 100%|██████████| 214/214 [00:25<00:00,  8.54it/s, Loss 1.1714]\n",
      "Test Epoch 16: 100%|██████████| 54/54 [00:02<00:00, 18.82it/s, Test Loss 1.2921]\n",
      "Epoch 17: 100%|██████████| 214/214 [00:25<00:00,  8.35it/s, Loss 1.1332]\n",
      "Test Epoch 17: 100%|██████████| 54/54 [00:02<00:00, 18.66it/s, Test Loss 1.2893]\n",
      "Epoch 18: 100%|██████████| 214/214 [00:24<00:00,  8.62it/s, Loss 1.0977]\n",
      "Test Epoch 18: 100%|██████████| 54/54 [00:02<00:00, 18.59it/s, Test Loss 1.2896]\n",
      "Epoch 19: 100%|██████████| 214/214 [00:24<00:00,  8.62it/s, Loss 1.0635]\n",
      "Test Epoch 19: 100%|██████████| 54/54 [00:02<00:00, 18.38it/s, Test Loss 1.2914]\n",
      "Epoch 20: 100%|██████████| 214/214 [00:25<00:00,  8.53it/s, Loss 1.0313]\n",
      "Test Epoch 20: 100%|██████████| 54/54 [00:02<00:00, 18.69it/s, Test Loss 1.2984]\n"
     ]
    }
   ],
   "source": [
    "# eval_step() 정의하기\n",
    "# train_step() 이후 eval_step() 진행하도록 소스 수정하기\n",
    "# Define eval_step\n",
    "\n",
    "@tf.function\n",
    "def eval_step(src, tgt, encoder, decoder, dec_tok):\n",
    "    bsz = src.shape[0]\n",
    "    loss = 0\n",
    "\n",
    "    enc_out = encoder(src)\n",
    "\n",
    "    h_dec = enc_out[:, -1]\n",
    "\n",
    "    dec_src = tf.expand_dims([dec_tok.word_index['<start>']] * bsz, 1)\n",
    "\n",
    "    for t in range(1, tgt.shape[1]):\n",
    "        pred, h_dec, _ = decoder(dec_src, h_dec, enc_out)\n",
    "\n",
    "        loss += loss_function(tgt[:, t], pred)\n",
    "        dec_src = tf.expand_dims(tgt[:, t], 1)\n",
    "\n",
    "    batch_loss = (loss / int(tgt.shape[1]))\n",
    "\n",
    "    return batch_loss\n",
    "\n",
    "\n",
    "# Training Process\n",
    "\n",
    "from tqdm import tqdm\n",
    "\n",
    "EPOCHS = 20\n",
    "\n",
    "for epoch in range(EPOCHS):\n",
    "    total_loss = 0\n",
    "\n",
    "    idx_list = list(range(0, enc_train.shape[0], BATCH_SIZE))\n",
    "    random.shuffle(idx_list)\n",
    "    t = tqdm(idx_list)\n",
    "\n",
    "    for (batch, idx) in enumerate(t):\n",
    "        batch_loss = train_step(enc_train[idx:idx+BATCH_SIZE],\n",
    "                                dec_train[idx:idx+BATCH_SIZE],\n",
    "                                encoder,\n",
    "                                decoder,\n",
    "                                optimizer,\n",
    "                                dec_tokenizer)\n",
    "\n",
    "        total_loss += batch_loss\n",
    "\n",
    "        t.set_description_str('Epoch %2d' % (epoch + 1))\n",
    "        t.set_postfix_str('Loss %.4f' % (total_loss.numpy() / (batch + 1)))\n",
    "\n",
    "    test_loss = 0\n",
    "\n",
    "    idx_list = list(range(0, enc_val.shape[0], BATCH_SIZE))\n",
    "    random.shuffle(idx_list)\n",
    "    t = tqdm(idx_list)\n",
    "\n",
    "    for (test_batch, idx) in enumerate(t):\n",
    "        test_batch_loss = eval_step(enc_val[idx:idx+BATCH_SIZE],\n",
    "                                    dec_val[idx:idx+BATCH_SIZE],\n",
    "                                    encoder,\n",
    "                                    decoder,\n",
    "                                    dec_tokenizer)\n",
    "\n",
    "        test_loss += test_batch_loss\n",
    "\n",
    "        t.set_description_str('Test Epoch %2d' % (epoch + 1))\n",
    "        t.set_postfix_str('Test Loss %.4f' % (test_loss.numpy() / (test_batch + 1)))"
   ]
  },
  {
   "cell_type": "code",
   "execution_count": 28,
   "id": "6504a823",
   "metadata": {},
   "outputs": [],
   "source": [
    "def evaluate(sentence, encoder, decoder):\n",
    "    attention = np.zeros((dec_train.shape[-1], enc_train.shape[-1]))\n",
    "    \n",
    "    sentence = preprocess_sentence(sentence)\n",
    "    inputs = enc_tokenizer.texts_to_sequences([sentence.split()])\n",
    "    inputs = tf.keras.preprocessing.sequence.pad_sequences(inputs,\n",
    "                                                           maxlen=enc_train.shape[-1],\n",
    "                                                           padding='post')\n",
    "\n",
    "    result = ''\n",
    "\n",
    "    enc_out = encoder(inputs)\n",
    "\n",
    "    dec_hidden = enc_out[:, -1]\n",
    "    dec_input = tf.expand_dims([dec_tokenizer.word_index['<start>']], 0)\n",
    "\n",
    "    for t in range(dec_train.shape[-1]):\n",
    "        predictions, dec_hidden, attention_weights = decoder(dec_input,\n",
    "                                                             dec_hidden,\n",
    "                                                             enc_out)\n",
    "\n",
    "        attention_weights = tf.reshape(attention_weights, (-1, ))\n",
    "        attention[t] = attention_weights.numpy()\n",
    "\n",
    "        predicted_id = \\\n",
    "        tf.argmax(tf.math.softmax(predictions, axis=-1)[0]).numpy()\n",
    "\n",
    "        result += dec_tokenizer.index_word[predicted_id] + ' '\n",
    "\n",
    "        if dec_tokenizer.index_word[predicted_id] == '<end>':\n",
    "            return result, sentence, attention\n",
    "\n",
    "        dec_input = tf.expand_dims([predicted_id], 0)\n",
    "\n",
    "    return result, sentence, attention\n",
    "\n",
    "\n",
    "def plot_attention(attention, sentence, predicted_sentence):\n",
    "    fig = plt.figure(figsize=(10,10))\n",
    "    ax = fig.add_subplot(1, 1, 1)\n",
    "    ax.matshow(attention, cmap='viridis')\n",
    "\n",
    "    fontdict = {'fontsize': 14}\n",
    "\n",
    "    ax.set_xticklabels([''] + sentence, fontdict=fontdict, rotation=90)\n",
    "    ax.set_yticklabels([''] + predicted_sentence, fontdict=fontdict)\n",
    "\n",
    "    ax.xaxis.set_major_locator(ticker.MultipleLocator(1))\n",
    "    ax.yaxis.set_major_locator(ticker.MultipleLocator(1))\n",
    "\n",
    "    plt.show()\n",
    "\n",
    "\n",
    "def translate(sentence, encoder, decoder):\n",
    "    result, sentence, attention = evaluate(sentence, encoder, decoder)\n",
    "\n",
    "    print('Input: %s' % (sentence))\n",
    "    print('Predicted translation: {}'.format(result))\n",
    "    \n",
    "    attention = attention[:len(result.split()), :len(sentence.split())]\n",
    "    plot_attention(attention, sentence.split(), result.split(' '))"
   ]
  },
  {
   "cell_type": "code",
   "execution_count": 30,
   "id": "94f79232",
   "metadata": {},
   "outputs": [],
   "source": [
    "import matplotlib.font_manager as fm\n",
    "import matplotlib as mpl"
   ]
  },
  {
   "cell_type": "code",
   "execution_count": 31,
   "id": "7cb21047",
   "metadata": {},
   "outputs": [
    {
     "name": "stdout",
     "output_type": "stream",
     "text": [
      "Input: 오바마는 대통령이다 .\n",
      "Predicted translation: obama s . <end> \n"
     ]
    },
    {
     "name": "stderr",
     "output_type": "stream",
     "text": [
      "/tmp/ipykernel_79/2860932276.py:45: UserWarning: FixedFormatter should only be used together with FixedLocator\n",
      "  ax.set_xticklabels([''] + sentence, fontdict=fontdict, rotation=90)\n",
      "/tmp/ipykernel_79/2860932276.py:46: UserWarning: FixedFormatter should only be used together with FixedLocator\n",
      "  ax.set_yticklabels([''] + predicted_sentence, fontdict=fontdict)\n"
     ]
    },
    {
     "data": {
      "image/png": "[encoded data removed]",
      "text/plain": [
       "<Figure size 720x720 with 1 Axes>"
      ]
     },
     "metadata": {
      "needs_background": "light"
     },
     "output_type": "display_data"
    }
   ],
   "source": [
    "translate(\"오바마는 대통령이다.\", encoder, decoder)"
   ]
  },
  {
   "cell_type": "code",
   "execution_count": 32,
   "id": "9637ba02",
   "metadata": {},
   "outputs": [
    {
     "name": "stdout",
     "output_type": "stream",
     "text": [
      "Input: 시민들은 도시 속에 산다 .\n",
      "Predicted translation: the world s . <end> \n"
     ]
    },
    {
     "name": "stderr",
     "output_type": "stream",
     "text": [
      "/tmp/ipykernel_79/2860932276.py:45: UserWarning: FixedFormatter should only be used together with FixedLocator\n",
      "  ax.set_xticklabels([''] + sentence, fontdict=fontdict, rotation=90)\n",
      "/tmp/ipykernel_79/2860932276.py:46: UserWarning: FixedFormatter should only be used together with FixedLocator\n",
      "  ax.set_yticklabels([''] + predicted_sentence, fontdict=fontdict)\n"
     ]
    },
    {
     "data": {
      "image/png": "[encoded data removed]",
      "text/plain": [
       "<Figure size 720x720 with 1 Axes>"
      ]
     },
     "metadata": {
      "needs_background": "light"
     },
     "output_type": "display_data"
    }
   ],
   "source": [
    "translate(\"시민들은 도시 속에 산다.\", encoder, decoder)"
   ]
  },
  {
   "cell_type": "code",
   "execution_count": 33,
   "id": "85f42b9e",
   "metadata": {},
   "outputs": [
    {
     "name": "stdout",
     "output_type": "stream",
     "text": [
      "Input: 커피는 필요 없다 .\n",
      "Predicted translation: the world . <end> \n"
     ]
    },
    {
     "name": "stderr",
     "output_type": "stream",
     "text": [
      "/tmp/ipykernel_79/2860932276.py:45: UserWarning: FixedFormatter should only be used together with FixedLocator\n",
      "  ax.set_xticklabels([''] + sentence, fontdict=fontdict, rotation=90)\n",
      "/tmp/ipykernel_79/2860932276.py:46: UserWarning: FixedFormatter should only be used together with FixedLocator\n",
      "  ax.set_yticklabels([''] + predicted_sentence, fontdict=fontdict)\n"
     ]
    },
    {
     "data": {
      "image/png": "[encoded data removed]",
      "text/plain": [
       "<Figure size 720x720 with 1 Axes>"
      ]
     },
     "metadata": {
      "needs_background": "light"
     },
     "output_type": "display_data"
    }
   ],
   "source": [
    "translate(\"커피는 필요 없다.\", encoder, decoder)"
   ]
  },
  {
   "cell_type": "code",
   "execution_count": 34,
   "id": "9cb816ad",
   "metadata": {},
   "outputs": [
    {
     "name": "stdout",
     "output_type": "stream",
     "text": [
      "Input: 일곱 명의 사망자가 발생했다 .\n",
      "Predicted translation: the united states . <end> \n"
     ]
    },
    {
     "name": "stderr",
     "output_type": "stream",
     "text": [
      "/tmp/ipykernel_79/2860932276.py:45: UserWarning: FixedFormatter should only be used together with FixedLocator\n",
      "  ax.set_xticklabels([''] + sentence, fontdict=fontdict, rotation=90)\n",
      "/tmp/ipykernel_79/2860932276.py:46: UserWarning: FixedFormatter should only be used together with FixedLocator\n",
      "  ax.set_yticklabels([''] + predicted_sentence, fontdict=fontdict)\n"
     ]
    },
    {
     "data": {
      "image/png": "[encoded data removed]",
      "text/plain": [
       "<Figure size 720x720 with 1 Axes>"
      ]
     },
     "metadata": {
      "needs_background": "light"
     },
     "output_type": "display_data"
    }
   ],
   "source": [
    "translate(\"일곱 명의 사망자가 발생했다.\", encoder, decoder)"
   ]
  },
  {
   "cell_type": "markdown",
   "id": "667d4e6a",
   "metadata": {},
   "source": [
    "\n"
   ]
  },
  {
   "cell_type": "markdown",
   "id": "6a661cdf",
   "metadata": {},
   "source": [
    "# [GD-08] 회고\n",
    "\n",
    "'한국어'라는 단어가 들어가 있는 노드는 어렵네요ㅎ\n",
    "외국인들이 한국어를 왜 어려워 하는지 너무나도 뼈저리게 느낄 수 있게 해주는 좋은 과제입니다❗❓\n",
    "\n",
    "이번 과제도 준서님, 성돈님, 남철님과 다른분의 깃허브를 통해 해결 할 수 있었는데요.\n",
    "진짜 열심히 알려주셨는데, 당일 알겠다가도 다음날 되면 아리송해지는...\n",
    "그냥 복습만이 살 수있는 길인데 그게 힘드네요ㅜ\n",
    "\n",
    "- attention 메커니즘 어렵습니다.."
   ]
  }
 ],
 "metadata": {
  "kernelspec": {
   "display_name": "Python 3 (ipykernel)",
   "language": "python",
   "name": "python3"
  },
  "language_info": {
   "codemirror_mode": {
    "name": "ipython",
    "version": 3
   },
   "file_extension": ".py",
   "mimetype": "text/x-python",
   "name": "python",
   "nbconvert_exporter": "python",
   "pygments_lexer": "ipython3",
   "version": "3.9.7"
  }
 },
 "nbformat": 4,
 "nbformat_minor": 5
}
