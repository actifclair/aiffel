{
 "cells": [
  {
   "cell_type": "markdown",
   "id": "d61b0c5d",
   "metadata": {},
   "source": [
    "# 프로젝트: Vocabulary Size를 변경해서 시도해보기"
   ]
  },
  {
   "cell_type": "markdown",
   "id": "0a0a50ee",
   "metadata": {},
   "source": [
    "### 데이터 확인하기"
   ]
  },
  {
   "cell_type": "code",
   "execution_count": 1,
   "id": "e1145084",
   "metadata": {},
   "outputs": [],
   "source": [
    "from tensorflow.keras.datasets import reuters\n",
    "import matplotlib.pyplot as plt\n",
    "import seaborn as sns\n",
    "import numpy as np\n",
    "import pandas as pd"
   ]
  },
  {
   "cell_type": "markdown",
   "id": "4e0eeac5",
   "metadata": {},
   "source": [
    "### 훈련 데이터와 테스트 데이터 로드하기"
   ]
  },
  {
   "cell_type": "code",
   "execution_count": 2,
   "id": "7d8dbb49",
   "metadata": {},
   "outputs": [
    {
     "name": "stdout",
     "output_type": "stream",
     "text": [
      "Downloading data from https://storage.googleapis.com/tensorflow/tf-keras-datasets/reuters.npz\n",
      "2113536/2110848 [==============================] - 0s 0us/step\n",
      "2121728/2110848 [==============================] - 0s 0us/step\n"
     ]
    }
   ],
   "source": [
    "(x_train, y_train), (x_test, y_test) = reuters.load_data(num_words=None, test_split=0.2)"
   ]
  },
  {
   "cell_type": "code",
   "execution_count": 3,
   "id": "983b7b20",
   "metadata": {},
   "outputs": [
    {
     "name": "stdout",
     "output_type": "stream",
     "text": [
      "훈련 샘플의 수: 8982\n",
      "테스트 샘플의 수: 2246\n"
     ]
    }
   ],
   "source": [
    "print('훈련 샘플의 수: {}'.format(len(x_train)))\n",
    "print('테스트 샘플의 수: {}'.format(len(x_test)))"
   ]
  },
  {
   "cell_type": "markdown",
   "id": "998f2a97",
   "metadata": {},
   "source": [
    "### 데이터 출력해보기"
   ]
  },
  {
   "cell_type": "code",
   "execution_count": 4,
   "id": "8298d6e4",
   "metadata": {},
   "outputs": [
    {
     "name": "stdout",
     "output_type": "stream",
     "text": [
      "[1, 27595, 28842, 8, 43, 10, 447, 5, 25, 207, 270, 5, 3095, 111, 16, 369, 186, 90, 67, 7, 89, 5, 19, 102, 6, 19, 124, 15, 90, 67, 84, 22, 482, 26, 7, 48, 4, 49, 8, 864, 39, 209, 154, 6, 151, 6, 83, 11, 15, 22, 155, 11, 15, 7, 48, 9, 4579, 1005, 504, 6, 258, 6, 272, 11, 15, 22, 134, 44, 11, 15, 16, 8, 197, 1245, 90, 67, 52, 29, 209, 30, 32, 132, 6, 109, 15, 17, 12]\n",
      "[1, 4, 1378, 2025, 9, 697, 4622, 111, 8, 25, 109, 29, 3650, 11, 150, 244, 364, 33, 30, 30, 1398, 333, 6, 18292, 159, 9, 1084, 363, 13, 19231, 71, 9, 16273, 71, 117, 4, 225, 78, 206, 10, 9, 1214, 8, 4, 270, 5, 16273, 7, 748, 48, 9, 19231, 7, 207, 1451, 966, 1864, 793, 97, 133, 336, 7, 4, 493, 98, 273, 104, 284, 25, 39, 338, 22, 905, 220, 3465, 644, 59, 20, 6, 119, 61, 11, 15, 58, 579, 26, 10, 67, 7, 4, 738, 98, 43, 88, 333, 722, 12, 20, 6, 19, 746, 35, 15, 10, 9, 1214, 855, 129, 783, 21, 4, 2280, 244, 364, 51, 16, 299, 452, 16, 515, 4, 99, 29, 5, 4, 364, 281, 48, 10, 9, 1214, 23, 644, 47, 20, 324, 27, 56, 23406, 28185, 5, 192, 510, 17, 12]\n"
     ]
    }
   ],
   "source": [
    "print(x_train[0])\n",
    "print(x_test[0])"
   ]
  },
  {
   "cell_type": "code",
   "execution_count": 5,
   "id": "4edf4582",
   "metadata": {},
   "outputs": [
    {
     "name": "stdout",
     "output_type": "stream",
     "text": [
      "3\n",
      "3\n"
     ]
    }
   ],
   "source": [
    "print(y_train[0])\n",
    "print(y_test[0])"
   ]
  },
  {
   "cell_type": "code",
   "execution_count": 6,
   "id": "ad8738ac",
   "metadata": {},
   "outputs": [
    {
     "name": "stdout",
     "output_type": "stream",
     "text": [
      "클래스의 수 : 46\n"
     ]
    }
   ],
   "source": [
    "num_classes = max(y_train) + 1\n",
    "print('클래스의 수 : {}'.format(num_classes))"
   ]
  },
  {
   "cell_type": "markdown",
   "id": "c77bbc72",
   "metadata": {},
   "source": [
    "### 데이터 분포 확인해보기"
   ]
  },
  {
   "cell_type": "code",
   "execution_count": 7,
   "id": "3fbc09bf",
   "metadata": {},
   "outputs": [
    {
     "name": "stdout",
     "output_type": "stream",
     "text": [
      "훈련용 뉴스의 최대 길이 :2376\n",
      "훈련용 뉴스의 평균 길이 :145.5398574927633\n"
     ]
    },
    {
     "data": {
      "image/png": "[encoded data removed]",
      "text/plain": [
       "<Figure size 432x288 with 1 Axes>"
      ]
     },
     "metadata": {
      "needs_background": "light"
     },
     "output_type": "display_data"
    }
   ],
   "source": [
    "print('훈련용 뉴스의 최대 길이 :{}'.format(max(len(l) for l in x_train)))\n",
    "print('훈련용 뉴스의 평균 길이 :{}'.format(sum(map(len, x_train))/len(x_train)))\n",
    "\n",
    "plt.hist([len(s) for s in x_train], bins=50)\n",
    "plt.xlabel('length of samples')\n",
    "plt.ylabel('number of samples')\n",
    "plt.show()"
   ]
  },
  {
   "cell_type": "code",
   "execution_count": 8,
   "id": "2a44b54a",
   "metadata": {},
   "outputs": [
    {
     "name": "stdout",
     "output_type": "stream",
     "text": [
      "Downloading data from https://storage.googleapis.com/tensorflow/tf-keras-datasets/reuters_word_index.json\n",
      "557056/550378 [==============================] - 0s 0us/step\n",
      "565248/550378 [==============================] - 0s 0us/step\n"
     ]
    }
   ],
   "source": [
    "word_index = reuters.get_word_index(path=\"reuters_word_index.json\")"
   ]
  },
  {
   "cell_type": "code",
   "execution_count": 9,
   "id": "c46ba64b",
   "metadata": {},
   "outputs": [],
   "source": [
    "index_to_word = {index + 3 : word for word, index in word_index.items()}"
   ]
  },
  {
   "cell_type": "code",
   "execution_count": 10,
   "id": "7a79e983",
   "metadata": {},
   "outputs": [],
   "source": [
    "# index_to_word에 숫자 0은 <pad>, 숫자 1은 <sos>, 숫자 2는 <unk>를 넣어줍니다.\n",
    "for index, token in enumerate((\"<pad>\", \"<sos>\", \"<unk>\")):\n",
    "  index_to_word[index]=token"
   ]
  },
  {
   "cell_type": "code",
   "execution_count": 11,
   "id": "db842ca0",
   "metadata": {},
   "outputs": [
    {
     "data": {
      "text/plain": [
       "[1,\n",
       " 27595,\n",
       " 28842,\n",
       " 8,\n",
       " 43,\n",
       " 10,\n",
       " 447,\n",
       " 5,\n",
       " 25,\n",
       " 207,\n",
       " 270,\n",
       " 5,\n",
       " 3095,\n",
       " 111,\n",
       " 16,\n",
       " 369,\n",
       " 186,\n",
       " 90,\n",
       " 67,\n",
       " 7,\n",
       " 89,\n",
       " 5,\n",
       " 19,\n",
       " 102,\n",
       " 6,\n",
       " 19,\n",
       " 124,\n",
       " 15,\n",
       " 90,\n",
       " 67,\n",
       " 84,\n",
       " 22,\n",
       " 482,\n",
       " 26,\n",
       " 7,\n",
       " 48,\n",
       " 4,\n",
       " 49,\n",
       " 8,\n",
       " 864,\n",
       " 39,\n",
       " 209,\n",
       " 154,\n",
       " 6,\n",
       " 151,\n",
       " 6,\n",
       " 83,\n",
       " 11,\n",
       " 15,\n",
       " 22,\n",
       " 155,\n",
       " 11,\n",
       " 15,\n",
       " 7,\n",
       " 48,\n",
       " 9,\n",
       " 4579,\n",
       " 1005,\n",
       " 504,\n",
       " 6,\n",
       " 258,\n",
       " 6,\n",
       " 272,\n",
       " 11,\n",
       " 15,\n",
       " 22,\n",
       " 134,\n",
       " 44,\n",
       " 11,\n",
       " 15,\n",
       " 16,\n",
       " 8,\n",
       " 197,\n",
       " 1245,\n",
       " 90,\n",
       " 67,\n",
       " 52,\n",
       " 29,\n",
       " 209,\n",
       " 30,\n",
       " 32,\n",
       " 132,\n",
       " 6,\n",
       " 109,\n",
       " 15,\n",
       " 17,\n",
       " 12]"
      ]
     },
     "execution_count": 11,
     "metadata": {},
     "output_type": "execute_result"
    }
   ],
   "source": [
    "x_train[0]"
   ]
  },
  {
   "cell_type": "code",
   "execution_count": 12,
   "id": "da5c4902",
   "metadata": {},
   "outputs": [
    {
     "name": "stdout",
     "output_type": "stream",
     "text": [
      "<sos> mcgrath rentcorp said as a result of its december acquisition of space co it expects earnings per share in 1987 of 1 15 to 1 30 dlrs per share up from 70 cts in 1986 the company said pretax net should rise to nine to 10 mln dlrs from six mln dlrs in 1986 and rental operation revenues to 19 to 22 mln dlrs from 12 5 mln dlrs it said cash flow per share this year should be 2 50 to three dlrs reuter 3\n"
     ]
    }
   ],
   "source": [
    "print(' '.join([index_to_word[index] for index in x_train[0]]))"
   ]
  },
  {
   "cell_type": "code",
   "execution_count": 13,
   "id": "c106ecb4",
   "metadata": {},
   "outputs": [],
   "source": [
    "decoded = []\n",
    "for i in range(len(x_train)):\n",
    "    t = ' '.join([index_to_word[index] for index in x_train[i]])\n",
    "    decoded.append(t)\n",
    "\n",
    "x_train = decoded"
   ]
  },
  {
   "cell_type": "code",
   "execution_count": 14,
   "id": "d79cbd43",
   "metadata": {},
   "outputs": [],
   "source": [
    "decoded = []\n",
    "for i in range(len(x_test)):\n",
    "    t = ' '.join([index_to_word[index] for index in x_test[i]])\n",
    "    decoded.append(t)\n",
    "\n",
    "x_test = decoded"
   ]
  },
  {
   "cell_type": "markdown",
   "id": "30349662",
   "metadata": {},
   "source": [
    "## 벡터화 하기"
   ]
  },
  {
   "cell_type": "code",
   "execution_count": 15,
   "id": "9225fc7e",
   "metadata": {},
   "outputs": [],
   "source": [
    "from sklearn.feature_extraction.text import CountVectorizer\n",
    "from sklearn.feature_extraction.text import TfidfTransformer"
   ]
  },
  {
   "cell_type": "code",
   "execution_count": 16,
   "id": "07f0d098",
   "metadata": {},
   "outputs": [
    {
     "name": "stdout",
     "output_type": "stream",
     "text": [
      "(8982, 26506)\n"
     ]
    }
   ],
   "source": [
    "dtmvector = CountVectorizer()\n",
    "x_train_dtm = dtmvector.fit_transform(x_train)\n",
    "print(x_train_dtm.shape)"
   ]
  },
  {
   "cell_type": "code",
   "execution_count": 17,
   "id": "5a7e22e7",
   "metadata": {},
   "outputs": [
    {
     "name": "stdout",
     "output_type": "stream",
     "text": [
      "(8982, 26506)\n"
     ]
    }
   ],
   "source": [
    "tfidf_transformer = TfidfTransformer()\n",
    "tfidfv = tfidf_transformer.fit_transform(x_train_dtm)\n",
    "print(tfidfv.shape)"
   ]
  },
  {
   "cell_type": "markdown",
   "id": "2b674988",
   "metadata": {},
   "source": [
    "## 머신러닝 모델 학습"
   ]
  },
  {
   "cell_type": "code",
   "execution_count": 18,
   "id": "5d3df199",
   "metadata": {},
   "outputs": [],
   "source": [
    "from sklearn.naive_bayes import MultinomialNB #다항분포 나이브 베이즈 모델\n",
    "from sklearn.linear_model import LogisticRegression, SGDClassifier\n",
    "from sklearn.naive_bayes import ComplementNB\n",
    "from sklearn.tree import DecisionTreeClassifier\n",
    "from sklearn.ensemble import RandomForestClassifier\n",
    "from sklearn.ensemble import GradientBoostingClassifier\n",
    "from sklearn.ensemble import VotingClassifier\n",
    "from sklearn.svm import LinearSVC\n",
    "from sklearn.metrics import accuracy_score #정확도 계산"
   ]
  },
  {
   "cell_type": "code",
   "execution_count": 19,
   "id": "a26d11a9",
   "metadata": {},
   "outputs": [],
   "source": [
    "from sklearn.metrics import classification_report\n",
    "from sklearn.metrics import confusion_matrix"
   ]
  },
  {
   "cell_type": "code",
   "execution_count": 20,
   "id": "215c828d",
   "metadata": {},
   "outputs": [],
   "source": [
    "x_test_dtm = dtmvector.transform(x_test) #테스트 데이터를 DTM으로 변환\n",
    "tfidfv_test = tfidf_transformer.transform(x_test_dtm) #DTM을 TF-IDF 행렬로 변환"
   ]
  },
  {
   "cell_type": "code",
   "execution_count": 21,
   "id": "8cba0e8b",
   "metadata": {},
   "outputs": [],
   "source": [
    "def train_ml(tfidfv, y_train, tfidfv_test, y_test):\n",
    "    # 나이브 베이즈 분류기 \n",
    "    mod = MultinomialNB()\n",
    "    mod.fit(tfidfv, y_train)\n",
    "    \n",
    "    mod_predicted = mod.predict(tfidfv_test) #테스트 데이터에 대한 예측\n",
    "    print(\"나이브 베이즈 정확도:\", accuracy_score(y_test, mod_predicted)) #예측값과 실제값 비교\n",
    "    \n",
    "    # CNB\n",
    "    cb = ComplementNB()\n",
    "    cb.fit(tfidfv, y_train)\n",
    "    \n",
    "    cb_predicted = cb.predict(tfidfv_test) #테스트 데이터에 대한 예측\n",
    "    print(\"CNB 정확도:\", accuracy_score(y_test, cb_predicted)) #예측값과 실제값 비교\n",
    "    \n",
    "    # 로지스틱 회귀 \n",
    "    lr = LogisticRegression(C=10000, penalty='l2')\n",
    "    lr.fit(tfidfv, y_train)\n",
    "\n",
    "    lr_predicted = lr.predict(tfidfv_test) #테스트 데이터에 대한 예측\n",
    "    print(\"로지스틱 회귀 정확도:\", accuracy_score(y_test, lr_predicted)) #예측값과 실제값 비교\n",
    "    \n",
    "    # 선형 서포트 벡터 머신 \n",
    "    lsvc = LinearSVC(C=1000, penalty='l1', max_iter=500, dual=False)\n",
    "    lsvc.fit(tfidfv, y_train)\n",
    "    \n",
    "    lsvc_predicted = lsvc.predict(tfidfv_test) #테스트 데이터에 대한 예측\n",
    "    print(\"SVM 정확도:\", accuracy_score(y_test, lsvc_predicted)) #예측값과 실제값 비교\n",
    "    \n",
    "    # 결정 트리(Decision Tree) \n",
    "    tree = DecisionTreeClassifier(max_depth=10, random_state=0)\n",
    "    tree.fit(tfidfv, y_train)\n",
    "    \n",
    "    tree_predicted = tree.predict(tfidfv_test) #테스트 데이터에 대한 예측\n",
    "    print(\"결정 트리 정확도:\", accuracy_score(y_test, tree_predicted)) #예측값과 실제값 비교\n",
    "    \n",
    "    # 랜덤 포레스트(Random Forest)\n",
    "    forest = RandomForestClassifier(n_estimators=5, random_state=0)\n",
    "    forest.fit(tfidfv, y_train)\n",
    "    \n",
    "    forest_predicted = forest.predict(tfidfv_test) #테스트 데이터에 대한 예측\n",
    "    print(\"랜덤 포레스트 정확도:\", accuracy_score(y_test, forest_predicted)) #예측값과 실제값 비교\n",
    "    \n",
    "    # 그래디언트 부스팅 트리(GradientBoostingClassifier)\n",
    "    grbt = GradientBoostingClassifier(random_state=0, verbose=3) # verbose=3\n",
    "    grbt.fit(tfidfv, y_train)\n",
    "\n",
    "    grbt_predicted = grbt.predict(tfidfv_test) #테스트 데이터에 대한 예측\n",
    "    print(\"그래디언트 부스팅 트리 정확도:\", accuracy_score(y_test, grbt_predicted)) #예측값과 실제값 비교\n",
    "    \n",
    "    # 보팅(Voting)\n",
    "    voting_classifier = VotingClassifier(estimators=[\n",
    "         ('lr', LogisticRegression(C=10000, penalty='l2')),\n",
    "        ('cb', ComplementNB()),\n",
    "        ('grbt', GradientBoostingClassifier(random_state=0))\n",
    "        ], voting='soft', n_jobs=-1)\n",
    "    voting_classifier.fit(tfidfv, y_train)\n",
    "    \n",
    "    voting_classifier_predicted = voting_classifier.predict(tfidfv_test) #테스트 데이터에 대한 예측\n",
    "    print(\"보팅 정확도:\", accuracy_score(y_test, voting_classifier_predicted)) #예측값과 실제값 비교\n",
    "    \n",
    "    return mod, cb, lr, lsvc, tree, forest, grbt, voting_classifier"
   ]
  },
  {
   "cell_type": "code",
   "execution_count": 22,
   "id": "8cc911fd",
   "metadata": {},
   "outputs": [
    {
     "name": "stdout",
     "output_type": "stream",
     "text": [
      "나이브 베이즈 정확도: 0.5997328584149599\n",
      "CNB 정확도: 0.7649154051647373\n"
     ]
    },
    {
     "name": "stderr",
     "output_type": "stream",
     "text": [
      "/opt/conda/lib/python3.9/site-packages/sklearn/linear_model/_logistic.py:814: ConvergenceWarning: lbfgs failed to converge (status=1):\n",
      "STOP: TOTAL NO. of ITERATIONS REACHED LIMIT.\n",
      "\n",
      "Increase the number of iterations (max_iter) or scale the data as shown in:\n",
      "    https://scikit-learn.org/stable/modules/preprocessing.html\n",
      "Please also refer to the documentation for alternative solver options:\n",
      "    https://scikit-learn.org/stable/modules/linear_model.html#logistic-regression\n",
      "  n_iter_i = _check_optimize_result(\n"
     ]
    },
    {
     "name": "stdout",
     "output_type": "stream",
     "text": [
      "로지스틱 회귀 정확도: 0.813446126447017\n"
     ]
    },
    {
     "name": "stderr",
     "output_type": "stream",
     "text": [
      "/opt/conda/lib/python3.9/site-packages/sklearn/svm/_base.py:1199: ConvergenceWarning: Liblinear failed to converge, increase the number of iterations.\n",
      "  warnings.warn(\n"
     ]
    },
    {
     "name": "stdout",
     "output_type": "stream",
     "text": [
      "SVM 정확도: 0.7858414959928762\n",
      "결정 트리 정확도: 0.6211041852181657\n",
      "랜덤 포레스트 정확도: 0.6544968833481746\n",
      "      Iter       Train Loss   Remaining Time \n",
      "         1           1.4301           18.09m\n",
      "         2       76760.8864           17.94m\n",
      "         3   766490025.2967           17.80m\n",
      "         4 660857139232122368.0000           17.59m\n",
      "         5 1006529060407114004275646732312951615311370376755613476759245377256674837692003341988813591601665584394912965173495998495951159296.0000           17.43m\n",
      "         6 1006529060407114004275646732312951615311370376755613476759245377256674837692003341988813591601665584394912965173495998495951159296.0000           17.27m\n",
      "         7 1006529060407114004275646732312951615311370376755613476759245377256674837692003341988813591601665584394912965173495998495951159296.0000           17.08m\n",
      "         8 1006529060407114004275646732312951615311370376755613476759245377256674837692003341988813591601665584394912965173495998495951159296.0000           16.88m\n",
      "         9 1006529060407114004275646732312951615311370376755613476759245377256674837692003341988813591601665584394912965173495998495951159296.0000           16.71m\n",
      "        10 1006529060407114004275646732312951615311370376755613476759245377256674837692003341988813591601665584394912965173495998495951159296.0000           16.57m\n",
      "        11 1006529060407114004275646732312951615311370376755613476759245377256674837692003341988813591601665584394912965173495998495951159296.0000           16.37m\n",
      "        12 1006529060407114004275646732312951615311370376755613476759245377256674837692003341988813591601665584394912965173495998495951159296.0000           16.18m\n",
      "        13 1006529060407114004275646732312951615311370376755613476759245377256674837692003341988813591601665584394912965173495998495951159296.0000           15.98m\n",
      "        14 1006529060407114004275646732312951615311370376755613476759245377256674837692003341988813591601665584394912965173495998495951159296.0000           15.79m\n",
      "        15 1006529060407114004275646732312951615311370376755613476759245377256674837692003341988813591601665584394912965173495998495951159296.0000           15.59m\n",
      "        16 1006529060407114004275646732312951615311370376755613476759245377256674837692003341988813591601665584394912965173495998495951159296.0000           15.40m\n",
      "        17 1006529060407114004275646732312951615311370376755613476759245377256674837692003341988813591601665584394912965173495998495951159296.0000           15.22m\n",
      "        18 1006529060407114004275646732312951615311370376755613476759245377256674837692003341988813591601665584394912965173495998495951159296.0000           15.04m\n",
      "        19 1006529060407114004275646732312951615311370376755613476759245377256674837692003341988813591601665584394912965173495998495951159296.0000           14.86m\n",
      "        20 1006529060407114004275646732312951615311370376755613476759245377256674837692003341988813591601665584394912965173495998495951159296.0000           14.67m\n",
      "        21 1006529060407114004275646732312951615311370376755613476759245377256674837692003341988813591601665584394912965173495998495951159296.0000           14.48m\n",
      "        22 1006529060407114004275646732312951615311370376755613476759245377256674837692003341988813591601665584394912965173495998495951159296.0000           14.29m\n",
      "        23 1006529060407114004275646732312951615311370376755613476759245377256674837692003341988813591601665584394912965173495998495951159296.0000           14.10m\n",
      "        24 1006529060407114004275646732312951615311370376755613476759245377256674837692003341988813591601665584394912965173495998495951159296.0000           13.92m\n",
      "        25 7935486330861459413268209935908863185564832687635547920920276400843855648137909550861590845608894276096734983386906163942311234165539923296256.0000           13.73m\n",
      "        26 7935486330861459413268209935908863185564832687635547920920276400843855648137909550861590845608894276096734983386906163942311234165539923296256.0000           13.55m\n",
      "        27 7935486330861459413268209935908863185564832687635547920920276400843855648137909550861590845608894276096734983386906163942311234165539923296256.0000           13.36m\n",
      "        28 7935486330861459413268209935908863185564832687635547920920276400843855648137909550861590845608894276096734983386906163942311234165539923296256.0000           13.17m\n",
      "        29 7935486330861459413268209935908863185564832687635547920920276400843855648137909550861590845608894276096734983386906163942311234165539923296256.0000           12.99m\n",
      "        30 7935486330861459413268209935908863185564832687635547920920276400843855648137909550861590845608894276096734983386906163942311234165539923296256.0000           12.81m\n",
      "        31 7935486330861459413268209935908863185564832687635547920920276400843855648137909550861590845608894276096734983386906163942311234165539923296256.0000           12.62m\n",
      "        32 7935486330861459413268209935908863185564832687635547920920276400843855648137909550861590845608894276096734983386906163942311234165539923296256.0000           12.44m\n",
      "        33 7935486330861459413268209935908863185564832687635547920920276400843855648137909550861590845608894276096734983386906163942311234165539923296256.0000           12.26m\n",
      "        34 7935486330861459413268209935908863185564832687635547920920276400843855648137909550861590845608894276096734983386906163942311234165539923296256.0000           12.08m\n",
      "        35 7935486330861459413268209935908863185564832687635547920920276400843855648137909550861590845608894276096734983386906163942311234165539923296256.0000           11.89m\n",
      "        36 7935486330861459413268209935908863185564832687635547920920276400843855648137909550861590845608894276096734983386906163942311234165539923296256.0000           11.71m\n",
      "        37 7935486330861459413268209935908863185564832687635547920920276400843855648137909550861590845608894276096734983386906163942311234165539923296256.0000           11.53m\n",
      "        38 7935486330861459413268209935908863185564832687635547920920276400843855648137909550861590845608894276096734983386906163942311234165539923296256.0000           11.34m\n",
      "        39 7935486330861459413268209935908863185564832687635547920920276400843855648137909550861590845608894276096734983386906163942311234165539923296256.0000           11.16m\n",
      "        40 7935486330861459413268209935908863185564832687635547920920276400843855648137909550861590845608894276096734983386906163942311234165539923296256.0000           10.97m\n",
      "        41 7935486330861459413268209935908863185564832687635547920920276400843855648137909550861590845608894276096734983386906163942311234165539923296256.0000           10.79m\n",
      "        42 7935486330861459413268209935908863185564832687635547920920276400843855648137909550861590845608894276096734983386906163942311234165539923296256.0000           10.60m\n",
      "        43 7935486330861459413268209935908863185564832687635547920920276400843855648137909550861590845608894276096734983386906163942311234165539923296256.0000           10.42m\n",
      "        44 7935486330861459413268209935908863185564832687635547920920276400843855648137909550861590845608894276096734983386906163942311234165539923296256.0000           10.23m\n",
      "        45 7935486330861459413268209935908863185564832687635547920920276400843855648137909550861590845608894276096734983386906163942311234165539923296256.0000           10.05m\n",
      "        46 7935486330861459413268209935908863185564832687635547920920276400843855648137909550861590845608894276096734983386906163942311234165539923296256.0000            9.86m\n",
      "        47 7935486330861459413268209935908863185564832687635547920920276400843855648137909550861590845608894276096734983386906163942311234165539923296256.0000            9.68m\n",
      "        48 7935486330861459413268209935908863185564832687635547920920276400843855648137909550861590845608894276096734983386906163942311234165539923296256.0000            9.49m\n",
      "        49 7935486330861459413268209935908863185564832687635547920920276400843855648137909550861590845608894276096734983386906163942311234165539923296256.0000            9.31m\n",
      "        50 7935486330861459413268209935908863185564832687635547920920276400843855648137909550861590845608894276096734983386906163942311234165539923296256.0000            9.12m\n",
      "        51 7935486330861459413268209935908863185564832687635547920920276400843855648137909550861590845608894276096734983386906163942311234165539923296256.0000            8.94m\n",
      "        52 7935486330861459413268209935908863185564832687635547920920276400843855648137909550861590845608894276096734983386906163942311234165539923296256.0000            8.75m\n",
      "        53 7935486330861459413268209935908863185564832687635547920920276400843855648137909550861590845608894276096734983386906163942311234165539923296256.0000            8.57m\n",
      "        54 7935486330861459413268209935908863185564832687635547920920276400843855648137909550861590845608894276096734983386906163942311234165539923296256.0000            8.39m\n",
      "        55 7935486330861459413268209935908863185564832687635547920920276400843855648137909550861590845608894276096734983386906163942311234165539923296256.0000            8.21m\n",
      "        56 7935486330861459413268209935908863185564832687635547920920276400843855648137909550861590845608894276096734983386906163942311234165539923296256.0000            8.03m\n",
      "        57 7935486330861459413268209935908863185564832687635547920920276400843855648137909550861590845608894276096734983386906163942311234165539923296256.0000            7.84m\n",
      "        58 7935486330861459413268209935908863185564832687635547920920276400843855648137909550861590845608894276096734983386906163942311234165539923296256.0000            7.66m\n",
      "        59 7935486330861459413268209935908863185564832687635547920920276400843855648137909550861590845608894276096734983386906163942311234165539923296256.0000            7.48m\n",
      "        60 7935486330861459413268209935908863185564832687635547920920276400843855648137909550861590845608894276096734983386906163942311234165539923296256.0000            7.29m\n",
      "        61 7935486330861459413268209935908863185564832687635547920920276400843855648137909550861590845608894276096734983386906163942311234165539923296256.0000            7.11m\n",
      "        62 7935486330861459413268209935908863185564832687635547920920276400843855648137909550861590845608894276096734983386906163942311234165539923296256.0000            6.93m\n",
      "        63 7935486330861459413268209935908863185564832687635547920920276400843855648137909550861590845608894276096734983386906163942311234165539923296256.0000            6.74m\n",
      "        64 7935486330861459413268209935908863185564832687635547920920276400843855648137909550861590845608894276096734983386906163942311234165539923296256.0000            6.56m\n",
      "        65 7935486330861459413268209935908863185564832687635547920920276400843855648137909550861590845608894276096734983386906163942311234165539923296256.0000            6.38m\n",
      "        66 7935486330861459413268209935908863185564832687635547920920276400843855648137909550861590845608894276096734983386906163942311234165539923296256.0000            6.20m\n",
      "        67 7935486330861459413268209935908863185564832687635547920920276400843855648137909550861590845608894276096734983386906163942311234165539923296256.0000            6.02m\n",
      "        68 7935486330861459413268209935908863185564832687635547920920276400843855648137909550861590845608894276096734983386906163942311234165539923296256.0000            5.83m\n",
      "        69 7935486330861459413268209935908863185564832687635547920920276400843855648137909550861590845608894276096734983386906163942311234165539923296256.0000            5.65m\n",
      "        70 7935486330861459413268209935908863185564832687635547920920276400843855648137909550861590845608894276096734983386906163942311234165539923296256.0000            5.47m\n",
      "        71 7935486330861459413268209935908863185564832687635547920920276400843855648137909550861590845608894276096734983386906163942311234165539923296256.0000            5.29m\n",
      "        72 7935486330861459413268209935908863185564832687635547920920276400843855648137909550861590845608894276096734983386906163942311234165539923296256.0000            5.10m\n",
      "        73 7935486330861459413268209935908863185564832687635547920920276400843855648137909550861590845608894276096734983386906163942311234165539923296256.0000            4.92m\n",
      "        74 7935486330861459413268209935908863185564832687635547920920276400843855648137909550861590845608894276096734983386906163942311234165539923296256.0000            4.74m\n",
      "        75 7935486330861459413268209935908863185564832687635547920920276400843855648137909550861590845608894276096734983386906163942311234165539923296256.0000            4.56m\n",
      "        76 7935486330861459413268209935908863185564832687635547920920276400843855648137909550861590845608894276096734983386906163942311234165539923296256.0000            4.37m\n",
      "        77 7935486330861459413268209935908863185564832687635547920920276400843855648137909550861590845608894276096734983386906163942311234165539923296256.0000            4.19m\n",
      "        78 7935486330861459413268209935908863185564832687635547920920276400843855648137909550861590845608894276096734983386906163942311234165539923296256.0000            4.01m\n",
      "        79 7935486330861459413268209935908863185564832687635547920920276400843855648137909550861590845608894276096734983386906163942311234165539923296256.0000            3.83m\n",
      "        80 7935486330861459413268209935908863185564832687635547920920276400843855648137909550861590845608894276096734983386906163942311234165539923296256.0000            3.64m\n",
      "        81 7935486330861459413268209935908863185564832687635547920920276400843855648137909550861590845608894276096734983386906163942311234165539923296256.0000            3.46m\n",
      "        82 7935486330861459413268209935908863185564832687635547920920276400843855648137909550861590845608894276096734983386906163942311234165539923296256.0000            3.28m\n",
      "        83 7935486330861459413268209935908863185564832687635547920920276400843855648137909550861590845608894276096734983386906163942311234165539923296256.0000            3.10m\n",
      "        84 7935486330861459413268209935908863185564832687635547920920276400843855648137909550861590845608894276096734983386906163942311234165539923296256.0000            2.91m\n",
      "        85 7935486330861459413268209935908863185564832687635547920920276400843855648137909550861590845608894276096734983386906163942311234165539923296256.0000            2.73m\n",
      "        86 7935486330861459413268209935908863185564832687635547920920276400843855648137909550861590845608894276096734983386906163942311234165539923296256.0000            2.55m\n",
      "        87 7935486330861459413268209935908863185564832687635547920920276400843855648137909550861590845608894276096734983386906163942311234165539923296256.0000            2.37m\n",
      "        88 7935486330861459413268209935908863185564832687635547920920276400843855648137909550861590845608894276096734983386906163942311234165539923296256.0000            2.19m\n",
      "        89 7935486330861459413268209935908863185564832687635547920920276400843855648137909550861590845608894276096734983386906163942311234165539923296256.0000            2.00m\n",
      "        90 7935486330861459413268209935908863185564832687635547920920276400843855648137909550861590845608894276096734983386906163942311234165539923296256.0000            1.82m\n",
      "        91 7935486330861459413268209935908863185564832687635547920920276400843855648137909550861590845608894276096734983386906163942311234165539923296256.0000            1.64m\n",
      "        92 7935486330861459413268209935908863185564832687635547920920276400843855648137909550861590845608894276096734983386906163942311234165539923296256.0000            1.46m\n",
      "        93 7935486330861459413268209935908863185564832687635547920920276400843855648137909550861590845608894276096734983386906163942311234165539923296256.0000            1.28m\n",
      "        94 7935486330861459413268209935908863185564832687635547920920276400843855648137909550861590845608894276096734983386906163942311234165539923296256.0000            1.09m\n",
      "        95 7935486330861459413268209935908863185564832687635547920920276400843855648137909550861590845608894276096734983386906163942311234165539923296256.0000           54.66s\n",
      "        96 7935486330861459413268209935908863185564832687635547920920276400843855648137909550861590845608894276096734983386906163942311234165539923296256.0000           43.72s\n",
      "        97 7935486330861459413268209935908863185564832687635547920920276400843855648137909550861590845608894276096734983386906163942311234165539923296256.0000           32.79s\n",
      "        98 7935486330861459413268209935908863185564832687635547920920276400843855648137909550861590845608894276096734983386906163942311234165539923296256.0000           21.86s\n",
      "        99 7935486330861459413268209935908863185564832687635547920920276400843855648137909550861590845608894276096734983386906163942311234165539923296256.0000           10.93s\n",
      "       100 7935486330861459413268209935908863185564832687635547920920276400843855648137909550861590845608894276096734983386906163942311234165539923296256.0000            0.00s\n",
      "그래디언트 부스팅 트리 정확도: 0.7702582368655387\n"
     ]
    },
    {
     "name": "stderr",
     "output_type": "stream",
     "text": [
      "/opt/conda/lib/python3.9/site-packages/sklearn/linear_model/_logistic.py:814: ConvergenceWarning: lbfgs failed to converge (status=1):\n",
      "STOP: TOTAL NO. of ITERATIONS REACHED LIMIT.\n",
      "\n",
      "Increase the number of iterations (max_iter) or scale the data as shown in:\n",
      "    https://scikit-learn.org/stable/modules/preprocessing.html\n",
      "Please also refer to the documentation for alternative solver options:\n",
      "    https://scikit-learn.org/stable/modules/linear_model.html#logistic-regression\n",
      "  n_iter_i = _check_optimize_result(\n"
     ]
    },
    {
     "name": "stdout",
     "output_type": "stream",
     "text": [
      "보팅 정확도: 0.8187889581478184\n"
     ]
    }
   ],
   "source": [
    "mod, cb, lr, lsvc, tree, forest, grbt, voting_classifier = train_ml(tfidfv, y_train, tfidfv_test, y_test)"
   ]
  },
  {
   "cell_type": "markdown",
   "id": "6177df89",
   "metadata": {},
   "source": [
    "### 단어 5000개 사용"
   ]
  },
  {
   "cell_type": "code",
   "execution_count": 23,
   "id": "a45f9464",
   "metadata": {},
   "outputs": [],
   "source": [
    "(x_train_5k, y_train_5k), (x_test_5k, y_test_5k) = reuters.load_data(num_words=5000, test_split=0.2)"
   ]
  },
  {
   "cell_type": "code",
   "execution_count": 24,
   "id": "afc53799",
   "metadata": {},
   "outputs": [],
   "source": [
    "decoded = []\n",
    "for i in range(len(x_train_5k)):\n",
    "    t = ' '.join([index_to_word[index] for index in x_train_5k[i]])\n",
    "    decoded.append(t)\n",
    "\n",
    "x_train_5k = decoded"
   ]
  },
  {
   "cell_type": "code",
   "execution_count": 25,
   "id": "980158bd",
   "metadata": {},
   "outputs": [],
   "source": [
    "decoded = []\n",
    "for i in range(len(x_test_5k)):\n",
    "    t = ' '.join([index_to_word[index] for index in x_test_5k[i]])\n",
    "    decoded.append(t)\n",
    "\n",
    "x_test_5k = decoded"
   ]
  },
  {
   "cell_type": "markdown",
   "id": "16dddbca",
   "metadata": {},
   "source": [
    "행렬 변환"
   ]
  },
  {
   "cell_type": "code",
   "execution_count": 26,
   "id": "e021fc96",
   "metadata": {},
   "outputs": [
    {
     "name": "stdout",
     "output_type": "stream",
     "text": [
      "(8982, 4867)\n"
     ]
    }
   ],
   "source": [
    "dtmvector = CountVectorizer()\n",
    "x_train_dtm_5k = dtmvector.fit_transform(x_train_5k)\n",
    "print(x_train_dtm_5k.shape)"
   ]
  },
  {
   "cell_type": "code",
   "execution_count": 27,
   "id": "ca04f381",
   "metadata": {},
   "outputs": [
    {
     "name": "stdout",
     "output_type": "stream",
     "text": [
      "(8982, 4867)\n"
     ]
    }
   ],
   "source": [
    "tfidf_transformer = TfidfTransformer()\n",
    "tfidfv_5k = tfidf_transformer.fit_transform(x_train_dtm_5k)\n",
    "print(tfidfv_5k.shape)"
   ]
  },
  {
   "cell_type": "code",
   "execution_count": 28,
   "id": "8f3ce835",
   "metadata": {},
   "outputs": [],
   "source": [
    "x_test_dtm_5k = dtmvector.transform(x_test_5k) # 테스트 데이터를 DTM으로 변환\n",
    "tfidfv_test_5k = tfidf_transformer.transform(x_test_dtm_5k) # DTM을 TF-IDF 행렬로 변환"
   ]
  },
  {
   "cell_type": "code",
   "execution_count": 29,
   "id": "4fcb803c",
   "metadata": {},
   "outputs": [
    {
     "name": "stdout",
     "output_type": "stream",
     "text": [
      "나이브 베이즈 정확도: 0.6731967943009796\n",
      "CNB 정확도: 0.7707034728406055\n"
     ]
    },
    {
     "name": "stderr",
     "output_type": "stream",
     "text": [
      "/opt/conda/lib/python3.9/site-packages/sklearn/linear_model/_logistic.py:814: ConvergenceWarning: lbfgs failed to converge (status=1):\n",
      "STOP: TOTAL NO. of ITERATIONS REACHED LIMIT.\n",
      "\n",
      "Increase the number of iterations (max_iter) or scale the data as shown in:\n",
      "    https://scikit-learn.org/stable/modules/preprocessing.html\n",
      "Please also refer to the documentation for alternative solver options:\n",
      "    https://scikit-learn.org/stable/modules/linear_model.html#logistic-regression\n",
      "  n_iter_i = _check_optimize_result(\n"
     ]
    },
    {
     "name": "stdout",
     "output_type": "stream",
     "text": [
      "로지스틱 회귀 정확도: 0.8058771148708815\n"
     ]
    },
    {
     "name": "stderr",
     "output_type": "stream",
     "text": [
      "/opt/conda/lib/python3.9/site-packages/sklearn/svm/_base.py:1199: ConvergenceWarning: Liblinear failed to converge, increase the number of iterations.\n",
      "  warnings.warn(\n"
     ]
    },
    {
     "name": "stdout",
     "output_type": "stream",
     "text": [
      "SVM 정확도: 0.7693677649154052\n",
      "결정 트리 정확도: 0.6179875333926982\n",
      "랜덤 포레스트 정확도: 0.701246660730187\n",
      "      Iter       Train Loss   Remaining Time \n",
      "         1           1.4697           16.56m\n",
      "         2     2131099.0239           16.59m\n",
      "         3 113352934366748750033493137947714414201794552363528671409179356940992512.0000           16.43m\n",
      "         4 645005367195105573487290209089081189090170195029150070319832395667206596719018218881024.0000           16.23m\n",
      "         5 443067299530301659980374363525949995629695549691559890285869350923592723545213280554158712204202745088665306932510573934053386280801140736.0000           16.05m\n",
      "         6 443067299530301659980374363525949995629695549691559890285869350923592723545213280554158712204202745088665306932510573934053386280801140736.0000           15.86m\n",
      "         7 443067299530301659980374363525949995629695549691559890285869350923592723545213280554158712204202745088665306932510573934053386280801140736.0000           15.71m\n",
      "         8 443067299530301659980374363525949995629695549691559890285869350923592723545213280554158712204202745088665306932510573934053386280801140736.0000           15.55m\n",
      "         9 443067299530301659980374363525949995629695549691559890285869350923592723545213280554158712204202745088665306932510573934053386280801140736.0000           15.39m\n",
      "        10 443067299530301659980374363525949995629695549691559890285869350923592723545213280554158712204202745088665306932510573934053386280801140736.0000           15.26m\n",
      "        11 443067299530301659980374363525949995629695549691559890285869350923592723545213280554158712204202745088665306932510573934053386280801140736.0000           15.07m\n",
      "        12 443067299530301659980374363525949995629695549691559890285869350923592723545213280554158712204202745088665306932510573934053386280801140736.0000           14.91m\n",
      "        13 443067299530301659980374363525949995629695549691559890285869350923592723545213280554158712204202745088665306932510573934053386280801140736.0000           14.74m\n",
      "        14 443067299530301659980374363525949995629695549691559890285869350923592723545213280554158712204202745088665306932510573934053386280801140736.0000           14.59m\n",
      "        15 443067299530301659980374363525949995629695549691559890285869350923592723545213280554158712204202745088665306932510573934053386280801140736.0000           14.43m\n",
      "        16 443067299530301659980374363525949995629695549691559890285869350923592723545213280554158712204202745088665306932510573934053386280801140736.0000           14.29m\n",
      "        17 443067299530301659980374363525949995629695549691559890285869350923592723545213280554158712204202745088665306932510573934053386280801140736.0000           14.13m\n",
      "        18 443067299530301659980374363525949995629695549691559890285869350923592723545213280554158712204202745088665306932510573934053386280801140736.0000           14.00m\n",
      "        19 443067299530301659980374363525949995629695549691559890285869350923592723545213280554158712204202745088665306932510573934053386280801140736.0000           13.82m\n",
      "        20 443067299530301659980374363525949995629695549691559890285869350923592723545213280554158712204202745088665306932510573934053386280801140736.0000           13.63m\n",
      "        21 443067299530301659980374363525949995629695549691559890285869350923592723545213280554158712204202745088665306932510573934053386280801140736.0000           13.46m\n",
      "        22 443067299530301659980374363525949995629695549691559890285869350923592723545213280554158712204202745088665306932510573934053386280801140736.0000           13.30m\n",
      "        23 443067299530301659980374363525949995629695549691559890285869350923592723545213280554158712204202745088665306932510573934053386280801140736.0000           13.12m\n",
      "        24 443067299530301659980374363525949995629695549691559890285869350923592723545213280554158712204202745088665306932510573934053386280801140736.0000           12.94m\n",
      "        25 443067299530301659980374363525949995629695549691559890285869350923592723545213280554158712204202745088665306932510573934053386280801140736.0000           12.76m\n",
      "        26 443067299530301659980374363525949995629695549691559890285869350923592723545213280554158712204202745088665306932510573934053386280801140736.0000           12.58m\n",
      "        27 443067299530302073140354857431324340576763070173459783038796203599354776450710327057778234898793885831921831754563603678560901920400080896.0000           12.40m\n",
      "        28 443067299530302073140354857431324340576763070173459783038796203599354776450710327057778234898793885831921831754563603678560901920400080896.0000           12.21m\n",
      "        29 443067299530302073140354857431324340576763070173459783038796203599354776450710327057778234898793885831921831754563603678560901920400080896.0000           12.03m\n",
      "        30 443067299530302073140354857431324340576763070173459783038796203599354776450710327057778234898793885831921831754563603678560901920400080896.0000           11.85m\n",
      "        31 443067299530302073140354857431324340576763070173459783038796203599354776450710327057778234898793885831921831754563603678560901920400080896.0000           11.68m\n",
      "        32 443067299530302073140354857431324340576763070173459783038796203599354776450710327057778234898793885831921831754563603678560901920400080896.0000           11.51m\n",
      "        33 443067299530302073140354857431324340576763070173459783038796203599354776450710327057778234898793885831921831754563603678560901920400080896.0000           11.33m\n",
      "        34 443067299530302073140354857431324340576763070173459783038796203599354776450710327057778234898793885831921831754563603678560901920400080896.0000           11.17m\n",
      "        35 443067299530302073140354857431324340576763070173459783038796203599354776450710327057778234898793885831921831754563603678560901920400080896.0000           11.00m\n",
      "        36 443067299530302073140354857431324340576763070173459783038796203599354776450710327057778234898793885831921831754563603678560901920400080896.0000           10.82m\n",
      "        37 443067299530302073140354857431324340576763070173459783038796203599354776450710327057778234898793885831921831754563603678560901920400080896.0000           10.65m\n",
      "        38 443067299530302073140354857431324340576763070173459783038796203599354776450710327057778234898793885831921831754563603678560901920400080896.0000           10.48m\n",
      "        39 443067299530302073140354857431324340576763070173459783038796203599354776450710327057778234898793885831921831754563603678560901920400080896.0000           10.30m\n",
      "        40 443067299530302073140354857431324340576763070173459783038796203599354776450710327057778234898793885831921831754563603678560901920400080896.0000           10.13m\n",
      "        41 443067299530302073140354857431324340576763070173459783038796203599354776450710327057778234898793885831921831754563603678560901920400080896.0000            9.95m\n",
      "        42 443067299530302073140354857431324340576763070173459783038796203599354776450710327057778234898793885831921831754563603678560901920400080896.0000            9.78m\n",
      "        43 443067299530302073140354857431324340576763070173459783038796203599354776450710327057778234898793885831921831754563603678560901920400080896.0000            9.61m\n",
      "        44 443067299530302073140354857431324340576763070173459783038796203599354776450710327057778234898793885831921831754563603678560901920400080896.0000            9.44m\n",
      "        45 443067299530302073140354857431324340576763070173459783038796203599354776450710327057778234898793885831921831754563603678560901920400080896.0000            9.27m\n",
      "        46 443067299530302073140354857431324340576763070173459783038796203599354776450710327057778234898793885831921831754563603678560901920400080896.0000            9.09m\n",
      "        47 443067299530302073140354857431324340576763070173459783038796203599354776450710327057778234898793885831921831754563603678560901920400080896.0000            8.92m\n",
      "        48 443067299530302073140354857431324340576763070173459783038796203599354776450710327057778234898793885831921831754563603678560901920400080896.0000            8.75m\n",
      "        49 443067299530302073140354857431324340576763070173459783038796203599354776450710327057778234898793885831921831754563603678560901920400080896.0000            8.58m\n",
      "        50 443067299530302073140354857431324340576763070173459783038796203599354776450710327057778234898793885831921831754563603678560901920400080896.0000            8.40m\n",
      "        51 443067299530302073140354857431324340576763070173459783038796203599354776450710327057778234898793885831921831754563603678560901920400080896.0000            8.23m\n",
      "        52 443067299530302073140354857431324340576763070173459783038796203599354776450710327057778234898793885831921831754563603678560901920400080896.0000            8.07m\n",
      "        53 443067299530302073140354857431324340576763070173459783038796203599354776450710327057778234898793885831921831754563603678560901920400080896.0000            7.90m\n",
      "        54 443067299530302073140354857431324340576763070173459783038796203599354776450710327057778234898793885831921831754563603678560901920400080896.0000            7.73m\n",
      "        55 443067299530302073140354857431324340576763070173459783038796203599354776450710327057778234898793885831921831754563603678560901920400080896.0000            7.56m\n",
      "        56 443067299530302073140354857431324340576763070173459783038796203599354776450710327057778234898793885831921831754563603678560901920400080896.0000            7.39m\n",
      "        57 443067299530302073140354857431324340576763070173459783038796203599354776450710327057778234898793885831921831754563603678560901920400080896.0000            7.22m\n",
      "        58 443067299530302073140354857431324340576763070173459783038796203599354776450710327057778234898793885831921831754563603678560901920400080896.0000            7.05m\n",
      "        59 443067299530302073140354857431324340576763070173459783038796203599354776450710327057778234898793885831921831754563603678560901920400080896.0000            6.88m\n",
      "        60 443067299530302073140354857431324340576763070173459783038796203599354776450710327057778234898793885831921831754563603678560901920400080896.0000            6.71m\n",
      "        61 443067299530302073140354857431324340576763070173459783038796203599354776450710327057778234898793885831921831754563603678560901920400080896.0000            6.54m\n",
      "        62 443067299530302073140354857431324340576763070173459783038796203599354776450710327057778234898793885831921831754563603678560901920400080896.0000            6.37m\n",
      "        63 443067299530302073140354857431324340576763070173459783038796203599354776450710327057778234898793885831921831754563603678560901920400080896.0000            6.20m\n",
      "        64 443067299530302073140354857431324340576763070173459783038796203599354776450710327057778234898793885831921831754563603678560901920400080896.0000            6.03m\n",
      "        65 443067299530302073140354857431324340576763070173459783038796203599354776450710327057778234898793885831921831754563603678560901920400080896.0000            5.86m\n",
      "        66 443067299530302073140354857431324340576763070173459783038796203599354776450710327057778234898793885831921831754563603678560901920400080896.0000            5.69m\n",
      "        67 443067299530302073140354857431324340576763070173459783038796203599354776450710327057778234898793885831921831754563603678560901920400080896.0000            5.52m\n",
      "        68 443067299530302073140354857431324340576763070173459783038796203599354776450710327057778234898793885831921831754563603678560901920400080896.0000            5.36m\n",
      "        69 443067299530302073140354857431324340576763070173459783038796203599354776450710327057778234898793885831921831754563603678560901920400080896.0000            5.19m\n",
      "        70 443067299530302073140354857431324340576763070173459783038796203599354776450710327057778234898793885831921831754563603678560901920400080896.0000            5.02m\n",
      "        71 443067299530302073140354857431324340576763070173459783038796203599354776450710327057778234898793885831921831754563603678560901920400080896.0000            4.85m\n",
      "        72 443067299530302073140354857431324340576763070173459783038796203599354776450710327057778234898793885831921831754563603678560901920400080896.0000            4.68m\n",
      "        73 443067299530302073140354857431324340576763070173459783038796203599354776450710327057778234898793885831921831754563603678560901920400080896.0000            4.51m\n",
      "        74 443067299530302073140354857431324340576763070173459783038796203599354776450710327057778234898793885831921831754563603678560901920400080896.0000            4.35m\n",
      "        75 443067299530302073140354857431324340576763070173459783038796203599354776450710327057778234898793885831921831754563603678560901920400080896.0000            4.18m\n",
      "        76 443067299530302073140354857431324340576763070173459783038796203599354776450710327057778234898793885831921831754563603678560901920400080896.0000            4.01m\n",
      "        77 443067299530302073140354857431324340576763070173459783038796203599354776450710327057778234898793885831921831754563603678560901920400080896.0000            3.84m\n",
      "        78 443067299530302073140354857431324340576763070173459783038796203599354776450710327057778234898793885831921831754563603678560901920400080896.0000            3.67m\n",
      "        79 443067299530302073140354857431324340576763070173459783038796203599354776450710327057778234898793885831921831754563603678560901920400080896.0000            3.51m\n",
      "        80 443067299530302073140354857431324340576763070173459783038796203599354776450710327057778234898793885831921831754563603678560901920400080896.0000            3.34m\n",
      "        81 443067299530302073140354857431324340576763070173459783038796203599354776450710327057778234898793885831921831754563603678560901920400080896.0000            3.17m\n",
      "        82 443067299530302073140354857431324340576763070173459783038796203599354776450710327057778234898793885831921831754563603678560901920400080896.0000            3.01m\n",
      "        83 443067299530302073140354857431324340576763070173459783038796203599354776450710327057778234898793885831921831754563603678560901920400080896.0000            2.84m\n",
      "        84 443067299530302073140354857431324340576763070173459783038796203599354776450710327057778234898793885831921831754563603678560901920400080896.0000            2.67m\n",
      "        85 443067299530302073140354857431324340576763070173459783038796203599354776450710327057778234898793885831921831754563603678560901920400080896.0000            2.50m\n",
      "        86 443067299530302073140354857431324340576763070173459783038796203599354776450710327057778234898793885831921831754563603678560901920400080896.0000            2.34m\n",
      "        87 443067299530302073140354857431324340576763070173459783038796203599354776450710327057778234898793885831921831754563603678560901920400080896.0000            2.17m\n",
      "        88 443067299530302073140354857431324340576763070173459783038796203599354776450710327057778234898793885831921831754563603678560901920400080896.0000            2.00m\n",
      "        89 443067299530302073140354857431324340576763070173459783038796203599354776450710327057778234898793885831921831754563603678560901920400080896.0000            1.83m\n",
      "        90 443067299530302073140354857431324340576763070173459783038796203599354776450710327057778234898793885831921831754563603678560901920400080896.0000            1.67m\n",
      "        91 443067299530302073140354857431324340576763070173459783038796203599354776450710327057778234898793885831921831754563603678560901920400080896.0000            1.50m\n",
      "        92 443067299530302073140354857431324340576763070173459783038796203599354776450710327057778234898793885831921831754563603678560901920400080896.0000            1.33m\n",
      "        93 443067299530302073140354857431324340576763070173459783038796203599354776450710327057778234898793885831921831754563603678560901920400080896.0000            1.17m\n",
      "        94 443067299530302073140354857431324340576763070173459783038796203599354776450710327057778234898793885831921831754563603678560901920400080896.0000            1.00m\n",
      "        95 443067299530302073140354857431324340576763070173459783038796203599354776450710327057778234898793885831921831754563603678560901920400080896.0000           49.99s\n",
      "        96 443067299530302073140354857431324340576763070173459783038796203599354776450710327057778234898793885831921831754563603678560901920400080896.0000           39.98s\n",
      "        97 443067299530302073140354857431324340576763070173459783038796203599354776450710327057778234898793885831921831754563603678560901920400080896.0000           29.98s\n",
      "        98 443067299530302073140354857431324340576763070173459783038796203599354776450710327057778234898793885831921831754563603678560901920400080896.0000           19.98s\n",
      "        99 443067299530302073140354857431324340576763070173459783038796203599354776450710327057778234898793885831921831754563603678560901920400080896.0000            9.99s\n",
      "       100 443067299530302073140354857431324340576763070173459783038796203599354776450710327057778234898793885831921831754563603678560901920400080896.0000            0.00s\n",
      "그래디언트 부스팅 트리 정확도: 0.767586821015138\n"
     ]
    },
    {
     "name": "stderr",
     "output_type": "stream",
     "text": [
      "/opt/conda/lib/python3.9/site-packages/sklearn/linear_model/_logistic.py:814: ConvergenceWarning: lbfgs failed to converge (status=1):\n",
      "STOP: TOTAL NO. of ITERATIONS REACHED LIMIT.\n",
      "\n",
      "Increase the number of iterations (max_iter) or scale the data as shown in:\n",
      "    https://scikit-learn.org/stable/modules/preprocessing.html\n",
      "Please also refer to the documentation for alternative solver options:\n",
      "    https://scikit-learn.org/stable/modules/linear_model.html#logistic-regression\n",
      "  n_iter_i = _check_optimize_result(\n"
     ]
    },
    {
     "name": "stdout",
     "output_type": "stream",
     "text": [
      "보팅 정확도: 0.8161175422974176\n",
      "time : 2096.798014163971\n"
     ]
    }
   ],
   "source": [
    "import time\n",
    "start = time.time() \n",
    "\n",
    "mod_5k, cb_5k, lr_5k, lsvc_5k, tree_5k, forest_5k, grbt_5k, voting_classifier_5k = train_ml(tfidfv_5k, y_train_5k, tfidfv_test_5k, y_test_5k)\n",
    "\n",
    "print(\"time :\", time.time() - start)"
   ]
  },
  {
   "cell_type": "markdown",
   "id": "909534de",
   "metadata": {},
   "source": [
    "### 단어 3000개 사용"
   ]
  },
  {
   "cell_type": "code",
   "execution_count": 30,
   "id": "2ec83af2",
   "metadata": {},
   "outputs": [],
   "source": [
    "(x_train_3k, y_train_3k), (x_test_3k, y_test_3k) = reuters.load_data(num_words=3000, test_split=0.2)"
   ]
  },
  {
   "cell_type": "code",
   "execution_count": 31,
   "id": "f7edf1e2",
   "metadata": {},
   "outputs": [],
   "source": [
    "decoded = []\n",
    "for i in range(len(x_train_3k)):\n",
    "    t = ' '.join([index_to_word[index] for index in x_train_3k[i]])\n",
    "    decoded.append(t)\n",
    "\n",
    "x_train_3k = decoded"
   ]
  },
  {
   "cell_type": "code",
   "execution_count": 32,
   "id": "e3257d3b",
   "metadata": {},
   "outputs": [],
   "source": [
    "decoded = []\n",
    "for i in range(len(x_test_3k)):\n",
    "    t = ' '.join([index_to_word[index] for index in x_test_3k[i]])\n",
    "    decoded.append(t)\n",
    "\n",
    "x_test_3k = decoded"
   ]
  },
  {
   "cell_type": "markdown",
   "id": "76276dad",
   "metadata": {},
   "source": [
    "행렬 변환"
   ]
  },
  {
   "cell_type": "code",
   "execution_count": 33,
   "id": "35c09d7e",
   "metadata": {},
   "outputs": [
    {
     "name": "stdout",
     "output_type": "stream",
     "text": [
      "(8982, 2919)\n"
     ]
    }
   ],
   "source": [
    "dtmvector = CountVectorizer()\n",
    "x_train_dtm_3k = dtmvector.fit_transform(x_train_3k)\n",
    "print(x_train_dtm_3k.shape)"
   ]
  },
  {
   "cell_type": "code",
   "execution_count": 34,
   "id": "3bcdbd64",
   "metadata": {},
   "outputs": [
    {
     "name": "stdout",
     "output_type": "stream",
     "text": [
      "(8982, 2919)\n"
     ]
    }
   ],
   "source": [
    "tfidf_transformer = TfidfTransformer()\n",
    "tfidfv_3k = tfidf_transformer.fit_transform(x_train_dtm_3k)\n",
    "print(tfidfv_3k.shape)"
   ]
  },
  {
   "cell_type": "code",
   "execution_count": 35,
   "id": "1e88d165",
   "metadata": {},
   "outputs": [],
   "source": [
    "x_test_dtm_3k = dtmvector.transform(x_test_3k) #테스트 데이터를 DTM으로 변환\n",
    "tfidfv_test_3k = tfidf_transformer.transform(x_test_dtm_3k) #DTM을 TF-IDF 행렬로 변환"
   ]
  },
  {
   "cell_type": "code",
   "execution_count": 36,
   "id": "7adaf961",
   "metadata": {},
   "outputs": [
    {
     "name": "stdout",
     "output_type": "stream",
     "text": [
      "나이브 베이즈 정확도: 0.6874443455031166\n",
      "CNB 정확도: 0.7644701691896705\n"
     ]
    },
    {
     "name": "stderr",
     "output_type": "stream",
     "text": [
      "/opt/conda/lib/python3.9/site-packages/sklearn/linear_model/_logistic.py:814: ConvergenceWarning: lbfgs failed to converge (status=1):\n",
      "STOP: TOTAL NO. of ITERATIONS REACHED LIMIT.\n",
      "\n",
      "Increase the number of iterations (max_iter) or scale the data as shown in:\n",
      "    https://scikit-learn.org/stable/modules/preprocessing.html\n",
      "Please also refer to the documentation for alternative solver options:\n",
      "    https://scikit-learn.org/stable/modules/linear_model.html#logistic-regression\n",
      "  n_iter_i = _check_optimize_result(\n"
     ]
    },
    {
     "name": "stdout",
     "output_type": "stream",
     "text": [
      "로지스틱 회귀 정확도: 0.794746215494212\n"
     ]
    },
    {
     "name": "stderr",
     "output_type": "stream",
     "text": [
      "/opt/conda/lib/python3.9/site-packages/sklearn/svm/_base.py:1199: ConvergenceWarning: Liblinear failed to converge, increase the number of iterations.\n",
      "  warnings.warn(\n"
     ]
    },
    {
     "name": "stdout",
     "output_type": "stream",
     "text": [
      "SVM 정확도: 0.7555654496883348\n",
      "결정 트리 정확도: 0.6260017809439002\n",
      "랜덤 포레스트 정확도: 0.6856634016028496\n",
      "      Iter       Train Loss   Remaining Time \n",
      "         1           1.4761           15.33m\n",
      "         2       29810.4893           15.39m\n",
      "         3 103018026703.3806           15.20m\n",
      "         4 111593327959535219617691187806208.0000           15.10m\n",
      "         5 1904496955476400955779467607778270076434921719903327597388087378686114846508037997135967451479015424.0000           14.95m\n",
      "         6 235956225767185860904973188178954025040849742976577626543101088142147888944078511456039069709793443708307819607359488.0000           14.79m\n",
      "         7 235956225767185860904973188178954025040849742976577626543101088142147888944078511456039069709793443708307819607359488.0000           14.63m\n",
      "         8 235956225767185860904973188178954025040849742976577626543101088142147888944078511456039069709793443708307819607359488.0000           14.47m\n",
      "         9 235956225767185860904973188178954025040849742976577626543101088142147888944078511456039069709793443708307819607359488.0000           14.32m\n",
      "        10 235956225767185860904973188178954025040849742976577626543101088142147888944078511456039069709793443708307819607359488.0000           14.17m\n",
      "        11 235956225767185860904973188178954025040849742976577626543101088142147888944078511456039069709793443708307819607359488.0000           14.01m\n",
      "        12 235956225767185860904973188178954025040849742976577626543101088142147888944078511456039069709793443708307819607359488.0000           13.84m\n",
      "        13 235956225767185860904973188178954025040849742976577626543101088142147888944078511456039069709793443708307819607359488.0000           13.69m\n",
      "        14 235956225767185860904973188178954025040849742976577626543101088142147888944078511456039069709793443708307819607359488.0000           13.53m\n",
      "        15 235956225767185860904973188178954025040849742976577626543101088142147888944078511456039069709793443708307819607359488.0000           13.39m\n",
      "        16 235956225767185860904973188178954025040849742976577626543101088142147888944078511456039069709793443708307819607359488.0000           13.23m\n",
      "        17 235956225767185860904973188178954025040849742976577626543101088142147888944078511456039069709793443708307819607359488.0000           13.07m\n",
      "        18 235956225767185860904973188178954025040849742976577626543101088142147888944078511456039069709793443708307819607359488.0000           12.91m\n",
      "        19 235956225767185860904973188178954025040849742976577626543101088142147888944078511456039069709793443708307819607359488.0000           12.76m\n",
      "        20 235956225767185860904973188178954025040849742976577626543101088142147888944078511456039069709793443708307819607359488.0000           12.61m\n",
      "        21 235956225767185860904973188178954025040849742976577626543101088142147888944078511456039069709793443708307819607359488.0000           12.45m\n",
      "        22 235956225767185860904973188178954025040849742976577626543101088142147888944078511456039069709793443708307819607359488.0000           12.30m\n",
      "        23 235956225767185860904973188178954025040849742976577626543101088142147888944078511456039069709793443708307819607359488.0000           12.14m\n",
      "        24 235956225767185860904973188178954025040849742976577626543101088142147888944078511456039069709793443708307819607359488.0000           11.98m\n",
      "        25 235956225767185860904973188178954025040849742976577626543101088142147888944078511456039069709793443708307819607359488.0000           11.83m\n",
      "        26 235956225767185860904973188178954025040849742976577626543101088142147888944078511456039069709793443708307819607359488.0000           11.67m\n",
      "        27 235956225767185860904973188178954025040849742976577626543101088142147888944078511456039069709793443708307819607359488.0000           11.52m\n",
      "        28 235956225767185860904973188178954025040849742976577626543101088142147888944078511456039069709793443708307819607359488.0000           11.36m\n",
      "        29 235956225767185860904973188178954025040849742976577626543101088142147888944078511456039069709793443708307819607359488.0000           11.21m\n",
      "        30 235956225767185860904973188178954025040849742976577626543101088142147888944078511456039069709793443708307819607359488.0000           11.04m\n",
      "        31 235956225767185860904973188178954025040849742976577626543101088142147888944078511456039069709793443708307819607359488.0000           10.88m\n",
      "        32 235956225767185860904973188178954025040849742976577626543101088142147888944078511456039069709793443708307819607359488.0000           10.71m\n",
      "        33 235956225767185860904973188178954025040849742976577626543101088142147888944078511456039069709793443708307819607359488.0000           10.55m\n",
      "        34 235956225767185860904973188178954025040849742976577626543101088142147888944078511456039069709793443708307819607359488.0000           10.39m\n",
      "        35 235956225767185860904973188178954025040849742976577626543101088142147888944078511456039069709793443708307819607359488.0000           10.23m\n",
      "        36 235956225767185860904973188178954025040849742976577626543101088142147888944078511456039069709793443708307819607359488.0000           10.07m\n",
      "        37 235956225767185860904973188178954025040849742976577626543101088142147888944078511456039069709793443708307819607359488.0000            9.92m\n",
      "        38 235956225767185860904973188178954025040849742976577626543101088142147888944078511456039069709793443708307819607359488.0000            9.75m\n",
      "        39 235956225767185860904973188178954025040849742976577626543101088142147888944078511456039069709793443708307819607359488.0000            9.60m\n",
      "        40 235956225767185860904973188178954025040849742976577626543101088142147888944078511456039069709793443708307819607359488.0000            9.44m\n",
      "        41 235956225767185860904973188178954025040849742976577626543101088142147888944078511456039069709793443708307819607359488.0000            9.28m\n",
      "        42 235956225767185860904973188178954025040849742976577626543101088142147888944078511456039069709793443708307819607359488.0000            9.12m\n",
      "        43 235956225767185860904973188178954025040849742976577626543101088142147888944078511456039069709793443708307819607359488.0000            8.96m\n",
      "        44 235956225767185860904973188178954025040849742976577626543101088142147888944078511456039069709793443708307819607359488.0000            8.79m\n",
      "        45 40352158662156979707356448569843637020740653506984876608288956889514956281428182390728898507222354718197462518888103561386644209664.0000            8.63m\n",
      "        46 40352158662156979707356448569843637020740653506984876608288956889514956281428182390728898507222354718197462518888103561386644209664.0000            8.47m\n",
      "        47 40352158662156979707356448569843637020740653506984876608288956889514956281428182390728898507222354718197462518888103561386644209664.0000            8.32m\n",
      "        48 40352158662156979707356448569843637020740653506984876608288956889514956281428182390728898507222354718197462518888103561386644209664.0000            8.16m\n",
      "        49 40352158662156979707356448569843637020740653506984876608288956889514956281428182390728898507222354718197462518888103561386644209664.0000            8.00m\n",
      "        50 40352158662156979707356448569843637020740653506984876608288956889514956281428182390728898507222354718197462518888103561386644209664.0000            7.84m\n",
      "        51 40352158662156979707356448569843637020740653506984876608288956889514956281428182390728898507222354718197462518888103561386644209664.0000            7.69m\n",
      "        52 40352158662156979707356448569843637020740653506984876608288956889514956281428182390728898507222354718197462518888103561386644209664.0000            7.53m\n",
      "        53 40352158662156979707356448569843637020740653506984876608288956889514956281428182390728898507222354718197462518888103561386644209664.0000            7.37m\n",
      "        54 40352158662156979707356448569843637020740653506984876608288956889514956281428182390728898507222354718197462518888103561386644209664.0000            7.21m\n",
      "        55 40352158662156979707356448569843637020740653506984876608288956889514956281428182390728898507222354718197462518888103561386644209664.0000            7.06m\n",
      "        56 40352158662156979707356448569843637020740653506984876608288956889514956281428182390728898507222354718197462518888103561386644209664.0000            6.90m\n",
      "        57 40352158662156979707356448569843637020740653506984876608288956889514956281428182390728898507222354718197462518888103561386644209664.0000            6.74m\n",
      "        58 40352158662156979707356448569843637020740653506984876608288956889514956281428182390728898507222354718197462518888103561386644209664.0000            6.59m\n",
      "        59 40352158662156979707356448569843637020740653506984876608288956889514956281428182390728898507222354718197462518888103561386644209664.0000            6.43m\n",
      "        60 40352158662156979707356448569843637020740653506984876608288956889514956281428182390728898507222354718197462518888103561386644209664.0000            6.27m\n",
      "        61 40352158662156979707356448569843637020740653506984876608288956889514956281428182390728898507222354718197462518888103561386644209664.0000            6.12m\n",
      "        62 40352158662156979707356448569843637020740653506984876608288956889514956281428182390728898507222354718197462518888103561386644209664.0000            5.96m\n",
      "        63 40352158662156979707356448569843637020740653506984876608288956889514956281428182390728898507222354718197462518888103561386644209664.0000            5.80m\n",
      "        64 40352158662156979707356448569843637020740653506984876608288956889514956281428182390728898507222354718197462518888103561386644209664.0000            5.64m\n",
      "        65 40352158662156979707356448569843637020740653506984876608288956889514956281428182390728898507222354718197462518888103561386644209664.0000            5.49m\n",
      "        66 40352158662156979707356448569843637020740653506984876608288956889514956281428182390728898507222354718197462518888103561386644209664.0000            5.33m\n",
      "        67 40352158662156979707356448569843637020740653506984876608288956889514956281428182390728898507222354718197462518888103561386644209664.0000            5.17m\n",
      "        68 40352158662156979707356448569843637020740653506984876608288956889514956281428182390728898507222354718197462518888103561386644209664.0000            5.01m\n",
      "        69 40352158662156979707356448569843637020740653506984876608288956889514956281428182390728898507222354718197462518888103561386644209664.0000            4.86m\n",
      "        70 40352158662156979707356448569843637020740653506984876608288956889514956281428182390728898507222354718197462518888103561386644209664.0000            4.70m\n",
      "        71 40352158662156979707356448569843637020740653506984876608288956889514956281428182390728898507222354718197462518888103561386644209664.0000            4.54m\n",
      "        72 40352158662156979707356448569843637020740653506984876608288956889514956281428182390728898507222354718197462518888103561386644209664.0000            4.39m\n",
      "        73 40352158662156979707356448569843637020740653506984876608288956889514956281428182390728898507222354718197462518888103561386644209664.0000            4.23m\n",
      "        74 40352158662156979707356448569843637020740653506984876608288956889514956281428182390728898507222354718197462518888103561386644209664.0000            4.07m\n",
      "        75 40352158662156979707356448569843637020740653506984876608288956889514956281428182390728898507222354718197462518888103561386644209664.0000            3.91m\n",
      "        76 40352158662156979707356448569843637020740653506984876608288956889514956281428182390728898507222354718197462518888103561386644209664.0000            3.76m\n",
      "        77 40352158662156979707356448569843637020740653506984876608288956889514956281428182390728898507222354718197462518888103561386644209664.0000            3.60m\n",
      "        78 40352158662156979707356448569843637020740653506984876608288956889514956281428182390728898507222354718197462518888103561386644209664.0000            3.44m\n",
      "        79 40352158662156979707356448569843637020740653506984876608288956889514956281428182390728898507222354718197462518888103561386644209664.0000            3.29m\n",
      "        80 40352158662156979707356448569843637020740653506984876608288956889514956281428182390728898507222354718197462518888103561386644209664.0000            3.13m\n",
      "        81 40352158662156979707356448569843637020740653506984876608288956889514956281428182390728898507222354718197462518888103561386644209664.0000            2.97m\n",
      "        82 40352158662156979707356448569843637020740653506984876608288956889514956281428182390728898507222354718197462518888103561386644209664.0000            2.82m\n",
      "        83 40352158662156979707356448569843637020740653506984876608288956889514956281428182390728898507222354718197462518888103561386644209664.0000            2.66m\n",
      "        84 40352158662156979707356448569843637020740653506984876608288956889514956281428182390728898507222354718197462518888103561386644209664.0000            2.50m\n",
      "        85 40352158662156979707356448569843637020740653506984876608288956889514956281428182390728898507222354718197462518888103561386644209664.0000            2.35m\n",
      "        86 40352158662156979707356448569843637020740653506984876608288956889514956281428182390728898507222354718197462518888103561386644209664.0000            2.19m\n",
      "        87 40352158662156979707356448569843637020740653506984876608288956889514956281428182390728898507222354718197462518888103561386644209664.0000            2.03m\n",
      "        88 40352158662156979707356448569843637020740653506984876608288956889514956281428182390728898507222354718197462518888103561386644209664.0000            1.88m\n",
      "        89 40352158662156979707356448569843637020740653506984876608288956889514956281428182390728898507222354718197462518888103561386644209664.0000            1.72m\n",
      "        90 40352158662156979707356448569843637020740653506984876608288956889514956281428182390728898507222354718197462518888103561386644209664.0000            1.56m\n",
      "        91 40352158662156979707356448569843637020740653506984876608288956889514956281428182390728898507222354718197462518888103561386644209664.0000            1.41m\n",
      "        92 40352158662156979707356448569843637020740653506984876608288956889514956281428182390728898507222354718197462518888103561386644209664.0000            1.25m\n",
      "        93 40352158662156979707356448569843637020740653506984876608288956889514956281428182390728898507222354718197462518888103561386644209664.0000            1.09m\n",
      "        94 40352158662156979707356448569843637020740653506984876608288956889514956281428182390728898507222354718197462518888103561386644209664.0000           56.30s\n",
      "        95 40352158662156979707356448569843637020740653506984876608288956889514956281428182390728898507222354718197462518888103561386644209664.0000           46.91s\n",
      "        96 40352158662156979707356448569843637020740653506984876608288956889514956281428182390728898507222354718197462518888103561386644209664.0000           37.52s\n",
      "        97 40352158662156979707356448569843637020740653506984876608288956889514956281428182390728898507222354718197462518888103561386644209664.0000           28.14s\n",
      "        98 40352158662156979707356448569843637020740653506984876608288956889514956281428182390728898507222354718197462518888103561386644209664.0000           18.76s\n",
      "        99 40352158662156979707356448569843637020740653506984876608288956889514956281428182390728898507222354718197462518888103561386644209664.0000            9.38s\n",
      "       100 40352158662156979707356448569843637020740653506984876608288956889514956281428182390728898507222354718197462518888103561386644209664.0000            0.00s\n",
      "그래디언트 부스팅 트리 정확도: 0.7756010685663401\n"
     ]
    },
    {
     "name": "stderr",
     "output_type": "stream",
     "text": [
      "/opt/conda/lib/python3.9/site-packages/sklearn/linear_model/_logistic.py:814: ConvergenceWarning: lbfgs failed to converge (status=1):\n",
      "STOP: TOTAL NO. of ITERATIONS REACHED LIMIT.\n",
      "\n",
      "Increase the number of iterations (max_iter) or scale the data as shown in:\n",
      "    https://scikit-learn.org/stable/modules/preprocessing.html\n",
      "Please also refer to the documentation for alternative solver options:\n",
      "    https://scikit-learn.org/stable/modules/linear_model.html#logistic-regression\n",
      "  n_iter_i = _check_optimize_result(\n"
     ]
    },
    {
     "name": "stdout",
     "output_type": "stream",
     "text": [
      "보팅 정확도: 0.8098842386464826\n"
     ]
    },
    {
     "ename": "NameError",
     "evalue": "name 'datetime' is not defined",
     "output_type": "error",
     "traceback": [
      "\u001b[0;31m---------------------------------------------------------------------------\u001b[0m",
      "\u001b[0;31mNameError\u001b[0m                                 Traceback (most recent call last)",
      "\u001b[0;32m/tmp/ipykernel_31/1663915821.py\u001b[0m in \u001b[0;36m<module>\u001b[0;34m\u001b[0m\n\u001b[1;32m      4\u001b[0m \u001b[0;34m\u001b[0m\u001b[0m\n\u001b[1;32m      5\u001b[0m \u001b[0msec\u001b[0m \u001b[0;34m=\u001b[0m \u001b[0mtime\u001b[0m\u001b[0;34m.\u001b[0m\u001b[0mtime\u001b[0m\u001b[0;34m(\u001b[0m\u001b[0;34m)\u001b[0m\u001b[0;34m-\u001b[0m\u001b[0mstart\u001b[0m\u001b[0;34m\u001b[0m\u001b[0;34m\u001b[0m\u001b[0m\n\u001b[0;32m----> 6\u001b[0;31m \u001b[0mtimes\u001b[0m \u001b[0;34m=\u001b[0m \u001b[0mstr\u001b[0m\u001b[0;34m(\u001b[0m\u001b[0mdatetime\u001b[0m\u001b[0;34m.\u001b[0m\u001b[0mtimedelta\u001b[0m\u001b[0;34m(\u001b[0m\u001b[0mseconds\u001b[0m\u001b[0;34m=\u001b[0m\u001b[0msec\u001b[0m\u001b[0;34m)\u001b[0m\u001b[0;34m)\u001b[0m\u001b[0;34m.\u001b[0m\u001b[0msplit\u001b[0m\u001b[0;34m(\u001b[0m\u001b[0;34m\".\"\u001b[0m\u001b[0;34m)\u001b[0m\u001b[0;34m\u001b[0m\u001b[0;34m\u001b[0m\u001b[0m\n\u001b[0m\u001b[1;32m      7\u001b[0m \u001b[0mtimes\u001b[0m \u001b[0;34m=\u001b[0m \u001b[0mtimes\u001b[0m\u001b[0;34m[\u001b[0m\u001b[0;36m0\u001b[0m\u001b[0;34m]\u001b[0m\u001b[0;34m\u001b[0m\u001b[0;34m\u001b[0m\u001b[0m\n\u001b[1;32m      8\u001b[0m \u001b[0mprint\u001b[0m\u001b[0;34m(\u001b[0m\u001b[0;34m'run time :'\u001b[0m\u001b[0;34m,\u001b[0m \u001b[0mtimes\u001b[0m\u001b[0;34m)\u001b[0m\u001b[0;34m\u001b[0m\u001b[0;34m\u001b[0m\u001b[0m\n",
      "\u001b[0;31mNameError\u001b[0m: name 'datetime' is not defined"
     ]
    }
   ],
   "source": [
    "start = time.time() \n",
    "\n",
    "mod_3k, cb_3k, lr_3k, lsvc_3k, tree_3k, forest_3k, grbt_3k, voting_classifier_3k = train_ml(tfidfv_3k, y_train_3k, tfidfv_test_3k, y_test_3k)\n",
    "\n",
    "sec = time.time()-start\n",
    "times = str(datetime.timedelta(seconds=sec)).split(\".\")\n",
    "times = times[0]\n",
    "print('run time :', times)"
   ]
  },
  {
   "cell_type": "markdown",
   "id": "1f84f4a2",
   "metadata": {},
   "source": [
    "### 단어 8000개 사용"
   ]
  },
  {
   "cell_type": "code",
   "execution_count": 37,
   "id": "2d4b573f",
   "metadata": {},
   "outputs": [],
   "source": [
    "(x_train_8k, y_train_8k), (x_test_8k, y_test_8k) = reuters.load_data(num_words=8000, test_split=0.2)"
   ]
  },
  {
   "cell_type": "code",
   "execution_count": 38,
   "id": "f11ecf77",
   "metadata": {},
   "outputs": [],
   "source": [
    "decoded = []\n",
    "for i in range(len(x_train_8k)):\n",
    "    t = ' '.join([index_to_word[index] for index in x_train_8k[i]])\n",
    "    decoded.append(t)\n",
    "\n",
    "x_train_8k = decoded"
   ]
  },
  {
   "cell_type": "code",
   "execution_count": 39,
   "id": "ef8e4c2a",
   "metadata": {},
   "outputs": [],
   "source": [
    "decoded = []\n",
    "for i in range(len(x_test_8k)):\n",
    "    t = ' '.join([index_to_word[index] for index in x_test_8k[i]])\n",
    "    decoded.append(t)\n",
    "\n",
    "x_test_8k = decoded"
   ]
  },
  {
   "cell_type": "markdown",
   "id": "f9ef5e2b",
   "metadata": {},
   "source": [
    "행렬 변환"
   ]
  },
  {
   "cell_type": "code",
   "execution_count": 40,
   "id": "17fc42a2",
   "metadata": {},
   "outputs": [
    {
     "name": "stdout",
     "output_type": "stream",
     "text": [
      "(8982, 7772)\n"
     ]
    }
   ],
   "source": [
    "dtmvector = CountVectorizer()\n",
    "x_train_dtm_8k = dtmvector.fit_transform(x_train_8k)\n",
    "print(x_train_dtm_8k.shape)"
   ]
  },
  {
   "cell_type": "code",
   "execution_count": 41,
   "id": "61358ada",
   "metadata": {},
   "outputs": [
    {
     "name": "stdout",
     "output_type": "stream",
     "text": [
      "(8982, 7772)\n"
     ]
    }
   ],
   "source": [
    "tfidf_transformer = TfidfTransformer()\n",
    "tfidfv_8k = tfidf_transformer.fit_transform(x_train_dtm_8k)\n",
    "print(tfidfv_8k.shape)"
   ]
  },
  {
   "cell_type": "code",
   "execution_count": 42,
   "id": "d835f1df",
   "metadata": {},
   "outputs": [],
   "source": [
    "x_test_dtm_8k = dtmvector.transform(x_test_8k) #테스트 데이터를 DTM으로 변환\n",
    "tfidfv_test_8k = tfidf_transformer.transform(x_test_dtm_8k) #DTM을 TF-IDF 행렬로 변환"
   ]
  },
  {
   "cell_type": "code",
   "execution_count": 43,
   "id": "4547fd51",
   "metadata": {},
   "outputs": [
    {
     "name": "stdout",
     "output_type": "stream",
     "text": [
      "나이브 베이즈 정확도: 0.6625111308993766\n",
      "CNB 정확도: 0.7707034728406055\n"
     ]
    },
    {
     "name": "stderr",
     "output_type": "stream",
     "text": [
      "/opt/conda/lib/python3.9/site-packages/sklearn/linear_model/_logistic.py:814: ConvergenceWarning: lbfgs failed to converge (status=1):\n",
      "STOP: TOTAL NO. of ITERATIONS REACHED LIMIT.\n",
      "\n",
      "Increase the number of iterations (max_iter) or scale the data as shown in:\n",
      "    https://scikit-learn.org/stable/modules/preprocessing.html\n",
      "Please also refer to the documentation for alternative solver options:\n",
      "    https://scikit-learn.org/stable/modules/linear_model.html#logistic-regression\n",
      "  n_iter_i = _check_optimize_result(\n"
     ]
    },
    {
     "name": "stdout",
     "output_type": "stream",
     "text": [
      "로지스틱 회귀 정확도: 0.8098842386464826\n"
     ]
    },
    {
     "name": "stderr",
     "output_type": "stream",
     "text": [
      "/opt/conda/lib/python3.9/site-packages/sklearn/svm/_base.py:1199: ConvergenceWarning: Liblinear failed to converge, increase the number of iterations.\n",
      "  warnings.warn(\n"
     ]
    },
    {
     "name": "stdout",
     "output_type": "stream",
     "text": [
      "SVM 정확도: 0.7742653606411398\n",
      "결정 트리 정확도: 0.6206589492430988\n",
      "랜덤 포레스트 정확도: 0.6669634906500446\n",
      "      Iter       Train Loss   Remaining Time \n",
      "         1           1.4623           16.70m\n",
      "         2     8660007.6663           16.63m\n",
      "         3   875988650.4729           16.48m\n",
      "         4 487291772348199360.0000           16.30m\n",
      "         5 1494368684701080172103932709351465585696707706880.0000           16.14m\n",
      "         6 76262468764199180251727454826972312784663848937957200250741567905298202274824192.0000           16.01m\n",
      "         7 76262468764199180251727454826972312784663848937957200250741567905298202274824192.0000           15.88m\n",
      "         8 76262468764199180251727454826972312784663848937957200250741567905298202274824192.0000           15.74m\n",
      "         9 76262468764199180251727454826972312784663848937957200250741567905298202274824192.0000           15.58m\n",
      "        10 76262468764199180251727454826972312784663848937957200250741567905298202274824192.0000           15.42m\n",
      "        11 76262468764199180251727454826972312784663848937957200250741567905298202274824192.0000           15.24m\n",
      "        12 76262468764199180251727454826972312784663848937957200250741567905298202274824192.0000           15.08m\n",
      "        13 76262468764199180251727454826972312784663848937957200250741567905298202274824192.0000           14.90m\n",
      "        14 76262468764199180251727454826972312784663848937957200250741567905298202274824192.0000           14.72m\n",
      "        15 76262468764199180251727454826972312784663848937957200250741567905298202274824192.0000           14.56m\n",
      "        16 76262468764199180251727454826972312784663848937957200250741567905298202274824192.0000           14.38m\n",
      "        17 76262468764199180251727454826972312784663848937957200250741567905298202274824192.0000           14.20m\n",
      "        18 76262468764199180251727454826972312784663848937957200250741567905298202274824192.0000           14.03m\n",
      "        19 76262468764199180251727454826972312784663848937957200250741567905298202274824192.0000           13.87m\n",
      "        20 76262468764199180251727454826972312784663848937957200250741567905298202274824192.0000           13.70m\n",
      "        21 47872401502436920790312182244410711458059061234140012950941555810602792984895310115373056.0000           13.53m\n",
      "        22 47872401502436920790312182244410711458059061234140012950941555810602792984895310115373056.0000           13.36m\n",
      "        23 47872401502436920790312182244410711458059061234140012950941555810602792984895310115373056.0000           13.19m\n",
      "        24 47872401502436920790312182244410711458059061234140012950941555810602792984895310115373056.0000           13.02m\n",
      "        25 47872401502436920790312182244410711458059061234140012950941555810602792984895310115373056.0000           12.85m\n",
      "        26 47872401502436920790312182244410711458059061234140012950941555810602792984895310115373056.0000           12.68m\n",
      "        27 47872401502436920790312182244410711458059061234140012950941555810602792984895310115373056.0000           12.51m\n",
      "        28 47872401502436920790312182244410711458059061234140012950941555810602792984895310115373056.0000           12.35m\n",
      "        29 47872401502436920790312182244410711458059061234140012950941555810602792984895310115373056.0000           12.17m\n",
      "        30 47872401502436920790312182244410711458059061234140012950941555810602792984895310115373056.0000           12.00m\n",
      "        31 47872401502436920790312182244410711458059061234140012950941555810602792984895310115373056.0000           11.83m\n",
      "        32 47872401502436920790312182244410711458059061234140012950941555810602792984895310115373056.0000           11.65m\n",
      "        33 47872401502436920790312182244410711458059061234140012950941555810602792984895310115373056.0000           11.47m\n",
      "        34 47872401502436920790312182244410711458059061234140012950941555810602792984895310115373056.0000           11.30m\n",
      "        35 47872401502436920790312182244410711458059061234140012950941555810602792984895310115373056.0000           11.13m\n",
      "        36 47872401502436920790312182244410711458059061234140012950941555810602792984895310115373056.0000           10.95m\n",
      "        37 47872401502436920790312182244410711458059061234140012950941555810602792984895310115373056.0000           10.78m\n",
      "        38 47872401502436920790312182244410711458059061234140012950941555810602792984895310115373056.0000           10.61m\n",
      "        39 47872401502436920790312182244410711458059061234140012950941555810602792984895310115373056.0000           10.44m\n",
      "        40 47872401502436920790312182244410711458059061234140012950941555810602792984895310115373056.0000           10.26m\n",
      "        41 47872401502436920790312182244410711458059061234140012950941555810602792984895310115373056.0000           10.09m\n",
      "        42 47872401502436920790312182244410711458059061234140012950941555810602792984895310115373056.0000            9.92m\n",
      "        43 47872401502436920790312182244410711458059061234140012950941555810602792984895310115373056.0000            9.75m\n",
      "        44 47872401502436920790312182244410711458059061234140012950941555810602792984895310115373056.0000            9.57m\n",
      "        45 47872401502436920790312182244410711458059061234140012950941555810602792984895310115373056.0000            9.40m\n",
      "        46 47872401502436920790312182244410711458059061234140012950941555810602792984895310115373056.0000            9.23m\n",
      "        47 47872401502436920790312182244410711458059061234140012950941555810602792984895310115373056.0000            9.06m\n",
      "        48 47872401502436920790312182244410711458059061234140012950941555810602792984895310115373056.0000            8.89m\n",
      "        49 47872401502436920790312182244410711458059061234140012950941555810602792984895310115373056.0000            8.72m\n",
      "        50 47872401502436920790312182244410711458059061234140012950941555810602792984895310115373056.0000            8.55m\n",
      "        51 47872401502436920790312182244410711458059061234140012950941555810602792984895310115373056.0000            8.38m\n",
      "        52 47872401502436920790312182244410711458059061234140012950941555810602792984895310115373056.0000            8.21m\n",
      "        53 47872401502436920790312182244410711458059061234140012950941555810602792984895310115373056.0000            8.04m\n",
      "        54 47872401502436920790312182244410711458059061234140012950941555810602792984895310115373056.0000            7.86m\n",
      "        55 47872401502436920790312182244410711458059061234140012950941555810602792984895310115373056.0000            7.69m\n",
      "        56 47872401502436920790312182244410711458059061234140012950941555810602792984895310115373056.0000            7.52m\n",
      "        57 47872401502436920790312182244410711458059061234140012950941555810602792984895310115373056.0000            7.35m\n",
      "        58 47872401502436920790312182244410711458059061234140012950941555810602792984895310115373056.0000            7.18m\n",
      "        59 47872401502436920790312182244410711458059061234140012950941555810602792984895310115373056.0000            7.01m\n",
      "        60 47872401502436920790312182244410711458059061234140012950941555810602792984895310115373056.0000            6.84m\n",
      "        61 47872401502436920790312182244410711458059061234140012950941555810602792984895310115373056.0000            6.67m\n",
      "        62 47872401502436920790312182244410711458059061234140012950941555810602792984895310115373056.0000            6.49m\n",
      "        63 47872401502436920790312182244410711458059061234140012950941555810602792984895310115373056.0000            6.32m\n",
      "        64 47872401502436920790312182244410711458059061234140012950941555810602792984895310115373056.0000            6.15m\n",
      "        65 47872401502436920790312182244410711458059061234140012950941555810602792984895310115373056.0000            5.98m\n",
      "        66 47872401502436920790312182244410711458059061234140012950941555810602792984895310115373056.0000            5.81m\n",
      "        67 47872401502436920790312182244410711458059061234140012950941555810602792984895310115373056.0000            5.64m\n",
      "        68 47872401502436920790312182244410711458059061234140012950941555810602792984895310115373056.0000            5.46m\n",
      "        69 47872401502436920790312182244410711458059061234140012950941555810602792984895310115373056.0000            5.29m\n",
      "        70 47872401502436920790312182244410711458059061234140012950941555810602792984895310115373056.0000            5.12m\n",
      "        71 47872401502436920790312182244410711458059061234140012950941555810602792984895310115373056.0000            4.95m\n",
      "        72 47872401502436920790312182244410711458059061234140012950941555810602792984895310115373056.0000            4.78m\n",
      "        73 47872401502436920790312182244410711458059061234140012950941555810602792984895310115373056.0000            4.61m\n",
      "        74 47872401502436920790312182244410711458059061234140012950941555810602792984895310115373056.0000            4.44m\n",
      "        75 47872401502436920790312182244410711458059061234140012950941555810602792984895310115373056.0000            4.27m\n",
      "        76 47872401502436920790312182244410711458059061234140012950941555810602792984895310115373056.0000            4.10m\n",
      "        77 47872401502436920790312182244410711458059061234140012950941555810602792984895310115373056.0000            3.93m\n",
      "        78 47872401502436920790312182244410711458059061234140012950941555810602792984895310115373056.0000            3.76m\n",
      "        79 47872401502436920790312182244410711458059061234140012950941555810602792984895310115373056.0000            3.59m\n",
      "        80 47872401502436920790312182244410711458059061234140012950941555810602792984895310115373056.0000            3.42m\n",
      "        81 47872401502436920790312182244410711458059061234140012950941555810602792984895310115373056.0000            3.25m\n",
      "        82 47872401502436920790312182244410711458059061234140012950941555810602792984895310115373056.0000            3.08m\n",
      "        83 47872401502436920790312182244410711458059061234140012950941555810602792984895310115373056.0000            2.91m\n",
      "        84 47872401502436920790312182244410711458059061234140012950941555810602792984895310115373056.0000            2.74m\n",
      "        85 47872401502436920790312182244410711458059061234140012950941555810602792984895310115373056.0000            2.57m\n",
      "        86 47872401502436920790312182244410711458059061234140012950941555810602792984895310115373056.0000            2.40m\n",
      "        87 47872401502436920790312182244410711458059061234140012950941555810602792984895310115373056.0000            2.22m\n",
      "        88 47872401502436920790312182244410711458059061234140012950941555810602792984895310115373056.0000            2.05m\n",
      "        89 47872401502436920790312182244410711458059061234140012950941555810602792984895310115373056.0000            1.88m\n",
      "        90 47872401502436920790312182244410711458059061234140012950941555810602792984895310115373056.0000            1.71m\n",
      "        91 47872401502436920790312182244410711458059061234140012950941555810602792984895310115373056.0000            1.54m\n",
      "        92 47872401502436920790312182244410711458059061234140012950941555810602792984895310115373056.0000            1.37m\n",
      "        93 47872401502436920790312182244410711458059061234140012950941555810602792984895310115373056.0000            1.20m\n",
      "        94 47872401502436920790312182244410711458059061234140012950941555810602792984895310115373056.0000            1.03m\n",
      "        95 47872401502436920790312182244410711458059061234140012950941555810602792984895310115373056.0000           51.35s\n",
      "        96 47872401502436920790312182244410711458059061234140012950941555810602792984895310115373056.0000           41.09s\n",
      "        97 47872401502436920790312182244410711458059061234140012950941555810602792984895310115373056.0000           30.81s\n",
      "        98 47872401502436920790312182244410711458059061234140012950941555810602792984895310115373056.0000           20.54s\n",
      "        99 47872401502436920790312182244410711458059061234140012950941555810602792984895310115373056.0000           10.27s\n",
      "       100 47872401502436920790312182244410711458059061234140012950941555810602792984895310115373056.0000            0.00s\n",
      "그래디언트 부스팅 트리 정확도: 0.7644701691896705\n"
     ]
    },
    {
     "name": "stderr",
     "output_type": "stream",
     "text": [
      "/opt/conda/lib/python3.9/site-packages/sklearn/linear_model/_logistic.py:814: ConvergenceWarning: lbfgs failed to converge (status=1):\n",
      "STOP: TOTAL NO. of ITERATIONS REACHED LIMIT.\n",
      "\n",
      "Increase the number of iterations (max_iter) or scale the data as shown in:\n",
      "    https://scikit-learn.org/stable/modules/preprocessing.html\n",
      "Please also refer to the documentation for alternative solver options:\n",
      "    https://scikit-learn.org/stable/modules/linear_model.html#logistic-regression\n",
      "  n_iter_i = _check_optimize_result(\n"
     ]
    },
    {
     "name": "stdout",
     "output_type": "stream",
     "text": [
      "보팅 정확도: 0.813446126447017\n"
     ]
    },
    {
     "ename": "NameError",
     "evalue": "name 'datetime' is not defined",
     "output_type": "error",
     "traceback": [
      "\u001b[0;31m---------------------------------------------------------------------------\u001b[0m",
      "\u001b[0;31mNameError\u001b[0m                                 Traceback (most recent call last)",
      "\u001b[0;32m/tmp/ipykernel_31/1211698899.py\u001b[0m in \u001b[0;36m<module>\u001b[0;34m\u001b[0m\n\u001b[1;32m      4\u001b[0m \u001b[0;34m\u001b[0m\u001b[0m\n\u001b[1;32m      5\u001b[0m \u001b[0msec\u001b[0m \u001b[0;34m=\u001b[0m \u001b[0mtime\u001b[0m\u001b[0;34m.\u001b[0m\u001b[0mtime\u001b[0m\u001b[0;34m(\u001b[0m\u001b[0;34m)\u001b[0m\u001b[0;34m-\u001b[0m\u001b[0mstart\u001b[0m\u001b[0;34m\u001b[0m\u001b[0;34m\u001b[0m\u001b[0m\n\u001b[0;32m----> 6\u001b[0;31m \u001b[0mtimes\u001b[0m \u001b[0;34m=\u001b[0m \u001b[0mstr\u001b[0m\u001b[0;34m(\u001b[0m\u001b[0mdatetime\u001b[0m\u001b[0;34m.\u001b[0m\u001b[0mtimedelta\u001b[0m\u001b[0;34m(\u001b[0m\u001b[0mseconds\u001b[0m\u001b[0;34m=\u001b[0m\u001b[0msec\u001b[0m\u001b[0;34m)\u001b[0m\u001b[0;34m)\u001b[0m\u001b[0;34m.\u001b[0m\u001b[0msplit\u001b[0m\u001b[0;34m(\u001b[0m\u001b[0;34m\".\"\u001b[0m\u001b[0;34m)\u001b[0m\u001b[0;34m\u001b[0m\u001b[0;34m\u001b[0m\u001b[0m\n\u001b[0m\u001b[1;32m      7\u001b[0m \u001b[0mtimes\u001b[0m \u001b[0;34m=\u001b[0m \u001b[0mtimes\u001b[0m\u001b[0;34m[\u001b[0m\u001b[0;36m0\u001b[0m\u001b[0;34m]\u001b[0m\u001b[0;34m\u001b[0m\u001b[0;34m\u001b[0m\u001b[0m\n\u001b[1;32m      8\u001b[0m \u001b[0mprint\u001b[0m\u001b[0;34m(\u001b[0m\u001b[0;34m'run time :'\u001b[0m\u001b[0;34m,\u001b[0m \u001b[0mtimes\u001b[0m\u001b[0;34m)\u001b[0m\u001b[0;34m\u001b[0m\u001b[0;34m\u001b[0m\u001b[0m\n",
      "\u001b[0;31mNameError\u001b[0m: name 'datetime' is not defined"
     ]
    }
   ],
   "source": [
    "start = time.time() \n",
    "\n",
    "mod_8k, cb_8k, lr_8k, lsvc_8k, tree_8k, forest_8k, grbt_8k, voting_classifier_8k = train_ml(tfidfv_8k, y_train_8k, tfidfv_test_8k, y_test_8k)\n",
    "\n",
    "sec = time.time()-start\n",
    "times = str(datetime.timedelta(seconds=sec)).split(\".\")\n",
    "times = times[0]\n",
    "print('run time :', times)"
   ]
  },
  {
   "cell_type": "code",
   "execution_count": 44,
   "id": "85167e70",
   "metadata": {},
   "outputs": [],
   "source": [
    "bayse = [0.5997328584149599, 0.6731967943009796, 0.6856634016028496, 0.6567230632235085, 0.6193232413178985]\n",
    "cnb = [0.7649154051647373, 0.7707034728406055, 0.7346393588601959, 0.7707034728406055, 0.7671415850400712]\n",
    "logistic = [0.813446126447017, 0.8058771148708815, 0.7346393588601959, 0.7707034728406055, 0.7671415850400712]\n",
    "svm = [0.784060552092609, 0.7666963490650045, 0.7172751558325913, 0.7813891362422084, 0.7778272484416741]\n",
    "tree = [0.6211041852181657, 0.6179875333926982, 0.6179875333926982, 0.6202137132680321, 0.6211041852181657]\n",
    "rf = [0.6544968833481746, 0.701246660730187, 0.707479964381122, 0.674087266251113, 0.6714158504007124]\n",
    "gbs = [0.7702582368655387, 0.767586821015138, 0.7457702582368655, 0.7666963490650045, 0.769813000890472]\n",
    "voting = [0.8187889581478184, 0.8161175422974176, 0.7845057880676759, 0.8116651825467498, 0.8178984861976848]\n",
    "\n",
    "vocab_size_list = ['whole', '5k', '3k', '8k']\n",
    "model_list = [bayse, cnb, logistic, svm, tree, rf, gbs, voting]"
   ]
  },
  {
   "cell_type": "code",
   "execution_count": 45,
   "id": "dbad749f",
   "metadata": {},
   "outputs": [],
   "source": [
    "acc_dict = {}\n",
    "for idx, vs in enumerate(vocab_size_list):\n",
    "    acc_list = []\n",
    "    for model in model_list:\n",
    "        acc_list.append(model[idx])\n",
    "    acc_dict[vs] = sum(acc_list)/len(model_list)"
   ]
  },
  {
   "cell_type": "code",
   "execution_count": 46,
   "id": "214dc3d8",
   "metadata": {},
   "outputs": [
    {
     "data": {
      "text/plain": [
       "{'whole': 0.7283504007123776,\n",
       " '5k': 0.7399265360641141,\n",
       " '3k': 0.7159951024042743,\n",
       " '8k': 0.7315227070347284}"
      ]
     },
     "execution_count": 46,
     "metadata": {},
     "output_type": "execute_result"
    }
   ],
   "source": [
    "acc_dict"
   ]
  },
  {
   "cell_type": "markdown",
   "id": "740b8289",
   "metadata": {},
   "source": [
    "\n"
   ]
  },
  {
   "attachments": {
    "image-2.png": {
     "image/png": "[encoded data removed]"
    }
   },
   "cell_type": "markdown",
   "id": "94bede2f",
   "metadata": {},
   "source": [
    "# [GD-04] 회고\n",
    "\n",
    "![image-2.png](attachment:image-2.png)\n",
    "\n",
    "이번 과제는 코랩에서 했어야 했는데,,, 제가 코드 복사하는게 너무 번거로워서 그냥 노드에서 돌렸더니,,, 딥러닝 학습을 하는데ㅎㅎㅎ\n",
    "네... 그렇습니다ㅋㅋㅋㅋㅋ\n",
    "\n",
    "이번 과제 별 한 개도 감지덕지하며 일단 제출하겠습니다ㅜㅜㅜ\n",
    "\n",
    "시간이 없어요ㅜㅜㅜ 죄송해요... 다음에는 코랩으로 과제 실행해서 제출하겠습니다..."
   ]
  }
 ],
 "metadata": {
  "kernelspec": {
   "display_name": "Python 3 (ipykernel)",
   "language": "python",
   "name": "python3"
  },
  "language_info": {
   "codemirror_mode": {
    "name": "ipython",
    "version": 3
   },
   "file_extension": ".py",
   "mimetype": "text/x-python",
   "name": "python",
   "nbconvert_exporter": "python",
   "pygments_lexer": "ipython3",
   "version": "3.9.7"
  }
 },
 "nbformat": 4,
 "nbformat_minor": 5
}
