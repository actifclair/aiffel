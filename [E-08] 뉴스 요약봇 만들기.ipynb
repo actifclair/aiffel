{
 "cells": [
  {
   "cell_type": "markdown",
   "id": "e1953adc",
   "metadata": {},
   "source": [
    "# 데이터 준비하기"
   ]
  },
  {
   "cell_type": "code",
   "execution_count": 1,
   "id": "ac673496",
   "metadata": {},
   "outputs": [
    {
     "name": "stderr",
     "output_type": "stream",
     "text": [
      "[nltk_data] Downloading package stopwords to /aiffel/nltk_data...\n",
      "[nltk_data]   Package stopwords is already up-to-date!\n"
     ]
    }
   ],
   "source": [
    "import nltk\n",
    "nltk.download('stopwords')\n",
    "\n",
    "import numpy as np\n",
    "import pandas as pd\n",
    "import os\n",
    "import re\n",
    "import matplotlib.pyplot as plt\n",
    "from nltk.corpus import stopwords\n",
    "from bs4 import BeautifulSoup \n",
    "from tensorflow.keras.preprocessing.text import Tokenizer \n",
    "from tensorflow.keras.preprocessing.sequence import pad_sequences\n",
    "import urllib.request\n",
    "import warnings\n",
    "warnings.filterwarnings(\"ignore\", category=UserWarning, module='bs4')"
   ]
  },
  {
   "cell_type": "code",
   "execution_count": 2,
   "id": "d71b75ae",
   "metadata": {},
   "outputs": [],
   "source": [
    "import urllib.request\n",
    "urllib.request.urlretrieve(\"https://raw.githubusercontent.com/sunnysai12345/News_Summary/master/news_summary_more.csv\", filename=\"news_summary_more.csv\")\n",
    "data = pd.read_csv('news_summary_more.csv', encoding='iso-8859-1')"
   ]
  },
  {
   "cell_type": "code",
   "execution_count": 3,
   "id": "8dc3adb1",
   "metadata": {},
   "outputs": [
    {
     "data": {
      "text/html": [
       "<div>\n",
       "<style scoped>\n",
       "    .dataframe tbody tr th:only-of-type {\n",
       "        vertical-align: middle;\n",
       "    }\n",
       "\n",
       "    .dataframe tbody tr th {\n",
       "        vertical-align: top;\n",
       "    }\n",
       "\n",
       "    .dataframe thead th {\n",
       "        text-align: right;\n",
       "    }\n",
       "</style>\n",
       "<table border=\"1\" class=\"dataframe\">\n",
       "  <thead>\n",
       "    <tr style=\"text-align: right;\">\n",
       "      <th></th>\n",
       "      <th>headlines</th>\n",
       "      <th>text</th>\n",
       "    </tr>\n",
       "  </thead>\n",
       "  <tbody>\n",
       "    <tr>\n",
       "      <th>0</th>\n",
       "      <td>upGrad learner switches to career in ML &amp; Al w...</td>\n",
       "      <td>Saurav Kant, an alumnus of upGrad and IIIT-B's...</td>\n",
       "    </tr>\n",
       "    <tr>\n",
       "      <th>1</th>\n",
       "      <td>Delhi techie wins free food from Swiggy for on...</td>\n",
       "      <td>Kunal Shah's credit card bill payment platform...</td>\n",
       "    </tr>\n",
       "    <tr>\n",
       "      <th>2</th>\n",
       "      <td>New Zealand end Rohit Sharma-led India's 12-ma...</td>\n",
       "      <td>New Zealand defeated India by 8 wickets in the...</td>\n",
       "    </tr>\n",
       "    <tr>\n",
       "      <th>3</th>\n",
       "      <td>Aegon life iTerm insurance plan helps customer...</td>\n",
       "      <td>With Aegon Life iTerm Insurance plan, customer...</td>\n",
       "    </tr>\n",
       "    <tr>\n",
       "      <th>4</th>\n",
       "      <td>Have known Hirani for yrs, what if MeToo claim...</td>\n",
       "      <td>Speaking about the sexual harassment allegatio...</td>\n",
       "    </tr>\n",
       "  </tbody>\n",
       "</table>\n",
       "</div>"
      ],
      "text/plain": [
       "                                           headlines  \\\n",
       "0  upGrad learner switches to career in ML & Al w...   \n",
       "1  Delhi techie wins free food from Swiggy for on...   \n",
       "2  New Zealand end Rohit Sharma-led India's 12-ma...   \n",
       "3  Aegon life iTerm insurance plan helps customer...   \n",
       "4  Have known Hirani for yrs, what if MeToo claim...   \n",
       "\n",
       "                                                text  \n",
       "0  Saurav Kant, an alumnus of upGrad and IIIT-B's...  \n",
       "1  Kunal Shah's credit card bill payment platform...  \n",
       "2  New Zealand defeated India by 8 wickets in the...  \n",
       "3  With Aegon Life iTerm Insurance plan, customer...  \n",
       "4  Speaking about the sexual harassment allegatio...  "
      ]
     },
     "execution_count": 3,
     "metadata": {},
     "output_type": "execute_result"
    }
   ],
   "source": [
    "data.head()"
   ]
  },
  {
   "cell_type": "code",
   "execution_count": 4,
   "id": "8825a98e",
   "metadata": {},
   "outputs": [
    {
     "data": {
      "text/html": [
       "<div>\n",
       "<style scoped>\n",
       "    .dataframe tbody tr th:only-of-type {\n",
       "        vertical-align: middle;\n",
       "    }\n",
       "\n",
       "    .dataframe tbody tr th {\n",
       "        vertical-align: top;\n",
       "    }\n",
       "\n",
       "    .dataframe thead th {\n",
       "        text-align: right;\n",
       "    }\n",
       "</style>\n",
       "<table border=\"1\" class=\"dataframe\">\n",
       "  <thead>\n",
       "    <tr style=\"text-align: right;\">\n",
       "      <th></th>\n",
       "      <th>text</th>\n",
       "      <th>headlines</th>\n",
       "    </tr>\n",
       "  </thead>\n",
       "  <tbody>\n",
       "    <tr>\n",
       "      <th>33604</th>\n",
       "      <td>DD's 18-year-old opener Prithvi Shaw smashed a...</td>\n",
       "      <td>18-year-old Shaw slams six with Dhoni-like hel...</td>\n",
       "    </tr>\n",
       "    <tr>\n",
       "      <th>48506</th>\n",
       "      <td>The RBI has cautioned people about a fake webs...</td>\n",
       "      <td>RBI warns of fake website seeking personal inf...</td>\n",
       "    </tr>\n",
       "    <tr>\n",
       "      <th>40897</th>\n",
       "      <td>A luxury public toilet has been built on a sce...</td>\n",
       "      <td>Luxury public toilet built on driving route in...</td>\n",
       "    </tr>\n",
       "    <tr>\n",
       "      <th>37416</th>\n",
       "      <td>Bank of Maharashtra shares slumped as much as ...</td>\n",
       "      <td>Bank of Maharashtra shares hit record low afte...</td>\n",
       "    </tr>\n",
       "    <tr>\n",
       "      <th>55230</th>\n",
       "      <td>With earnings of Ã¢ÂÂ¹33.75 crore on its firs...</td>\n",
       "      <td>'Tiger Zinda Hai' 2nd highest Hindi opening gr...</td>\n",
       "    </tr>\n",
       "    <tr>\n",
       "      <th>61840</th>\n",
       "      <td>Taxi-hailing firm Uber said that it will remov...</td>\n",
       "      <td>Uber to remove surge pricing in Delhi during o...</td>\n",
       "    </tr>\n",
       "    <tr>\n",
       "      <th>55444</th>\n",
       "      <td>In his 1,552-page judgement on the 2G spectrum...</td>\n",
       "      <td>For 7 yrs, I waited for evidence but in vain: ...</td>\n",
       "    </tr>\n",
       "    <tr>\n",
       "      <th>28019</th>\n",
       "      <td>North Korea has increased the production of en...</td>\n",
       "      <td>N Korea making nuke bombs fuel despite deal wi...</td>\n",
       "    </tr>\n",
       "    <tr>\n",
       "      <th>11212</th>\n",
       "      <td>Saif-ul-Mulook, the lawyer of Christian woman ...</td>\n",
       "      <td>Asia Bibi's lawyer flees Pakistan citing threa...</td>\n",
       "    </tr>\n",
       "    <tr>\n",
       "      <th>51640</th>\n",
       "      <td>Speaking about Rajinikanth, Akshay Kumar said,...</td>\n",
       "      <td>Everything he does is so stylish: Akshay on Ra...</td>\n",
       "    </tr>\n",
       "    <tr>\n",
       "      <th>88047</th>\n",
       "      <td>Mumbai Indians defeated Rising Pune Supergiant...</td>\n",
       "      <td>Mumbai Indians crowned IPL 2017 champions</td>\n",
       "    </tr>\n",
       "    <tr>\n",
       "      <th>30104</th>\n",
       "      <td>External Affairs Minister Sushma Swaraj on Mon...</td>\n",
       "      <td>Saddened by US Prez Trump's 'Me First' approac...</td>\n",
       "    </tr>\n",
       "    <tr>\n",
       "      <th>93258</th>\n",
       "      <td>March 2017 was the second warmest March in 137...</td>\n",
       "      <td>March 2017 was the second hottest March ever r...</td>\n",
       "    </tr>\n",
       "    <tr>\n",
       "      <th>85866</th>\n",
       "      <td>NITI Aayog CEO Amitabh Kant has said the next ...</td>\n",
       "      <td>Online banking will kill physical banks in 5-6...</td>\n",
       "    </tr>\n",
       "    <tr>\n",
       "      <th>81653</th>\n",
       "      <td>Servers of a Gurugram-based clothing company h...</td>\n",
       "      <td>Gurugram firm hit by ransomware, hackers deman...</td>\n",
       "    </tr>\n",
       "  </tbody>\n",
       "</table>\n",
       "</div>"
      ],
      "text/plain": [
       "                                                    text  \\\n",
       "33604  DD's 18-year-old opener Prithvi Shaw smashed a...   \n",
       "48506  The RBI has cautioned people about a fake webs...   \n",
       "40897  A luxury public toilet has been built on a sce...   \n",
       "37416  Bank of Maharashtra shares slumped as much as ...   \n",
       "55230  With earnings of Ã¢ÂÂ¹33.75 crore on its firs...   \n",
       "61840  Taxi-hailing firm Uber said that it will remov...   \n",
       "55444  In his 1,552-page judgement on the 2G spectrum...   \n",
       "28019  North Korea has increased the production of en...   \n",
       "11212  Saif-ul-Mulook, the lawyer of Christian woman ...   \n",
       "51640  Speaking about Rajinikanth, Akshay Kumar said,...   \n",
       "88047  Mumbai Indians defeated Rising Pune Supergiant...   \n",
       "30104  External Affairs Minister Sushma Swaraj on Mon...   \n",
       "93258  March 2017 was the second warmest March in 137...   \n",
       "85866  NITI Aayog CEO Amitabh Kant has said the next ...   \n",
       "81653  Servers of a Gurugram-based clothing company h...   \n",
       "\n",
       "                                               headlines  \n",
       "33604  18-year-old Shaw slams six with Dhoni-like hel...  \n",
       "48506  RBI warns of fake website seeking personal inf...  \n",
       "40897  Luxury public toilet built on driving route in...  \n",
       "37416  Bank of Maharashtra shares hit record low afte...  \n",
       "55230  'Tiger Zinda Hai' 2nd highest Hindi opening gr...  \n",
       "61840  Uber to remove surge pricing in Delhi during o...  \n",
       "55444  For 7 yrs, I waited for evidence but in vain: ...  \n",
       "28019  N Korea making nuke bombs fuel despite deal wi...  \n",
       "11212  Asia Bibi's lawyer flees Pakistan citing threa...  \n",
       "51640  Everything he does is so stylish: Akshay on Ra...  \n",
       "88047          Mumbai Indians crowned IPL 2017 champions  \n",
       "30104  Saddened by US Prez Trump's 'Me First' approac...  \n",
       "93258  March 2017 was the second hottest March ever r...  \n",
       "85866  Online banking will kill physical banks in 5-6...  \n",
       "81653  Gurugram firm hit by ransomware, hackers deman...  "
      ]
     },
     "execution_count": 4,
     "metadata": {},
     "output_type": "execute_result"
    }
   ],
   "source": [
    "data = data[['text','headlines']]\n",
    "data.head()\n",
    "\n",
    "#랜덤한 15개 샘플 출력\n",
    "data.sample(15)"
   ]
  },
  {
   "cell_type": "markdown",
   "id": "7986f1e4",
   "metadata": {},
   "source": [
    "# 데이터 전처리하기 (1) 데이터 정리하기"
   ]
  },
  {
   "cell_type": "markdown",
   "id": "aa7c9c64",
   "metadata": {},
   "source": [
    "**중복 샘플과 NULL 값이 존재하는 샘플 제거**"
   ]
  },
  {
   "cell_type": "markdown",
   "id": "81e4144b",
   "metadata": {},
   "source": [
    "데이터의 중복 샘플 유무 확인"
   ]
  },
  {
   "cell_type": "code",
   "execution_count": 5,
   "id": "dc0d7b98",
   "metadata": {},
   "outputs": [
    {
     "name": "stdout",
     "output_type": "stream",
     "text": [
      "Text 열에서 중복을 배제한 유일한 샘플의 수 : 98360\n",
      "headlines 열에서 중복을 배제한 유일한 샘플의 수 : 98280\n"
     ]
    }
   ],
   "source": [
    "print('Text 열에서 중복을 배제한 유일한 샘플의 수 :', data['text'].nunique())\n",
    "print('headlines 열에서 중복을 배제한 유일한 샘플의 수 :', data['headlines'].nunique())"
   ]
  },
  {
   "cell_type": "markdown",
   "id": "6e37c2d5",
   "metadata": {},
   "source": [
    "중복 샘플을 제거"
   ]
  },
  {
   "cell_type": "code",
   "execution_count": 6,
   "id": "6b99c730",
   "metadata": {},
   "outputs": [
    {
     "name": "stdout",
     "output_type": "stream",
     "text": [
      "전체 샘플수 : 98360\n"
     ]
    }
   ],
   "source": [
    "# inplace=True 를 설정하면 DataFrame 타입 값을 return 하지 않고 data 내부를 직접적으로 바꿉니다\n",
    "data.drop_duplicates(subset = ['text'], inplace=True)\n",
    "print('전체 샘플수 :', (len(data)))"
   ]
  },
  {
   "cell_type": "markdown",
   "id": "bbfa67f1",
   "metadata": {},
   "source": [
    "데이터프레임에 Null 값이 있는지 확인"
   ]
  },
  {
   "cell_type": "code",
   "execution_count": 7,
   "id": "60543b61",
   "metadata": {},
   "outputs": [
    {
     "name": "stdout",
     "output_type": "stream",
     "text": [
      "text         0\n",
      "headlines    0\n",
      "dtype: int64\n"
     ]
    }
   ],
   "source": [
    "print(data.isnull().sum())"
   ]
  },
  {
   "cell_type": "code",
   "execution_count": 8,
   "id": "5d2dfd4e",
   "metadata": {},
   "outputs": [
    {
     "name": "stdout",
     "output_type": "stream",
     "text": [
      "전체 샘플수 : 98360\n"
     ]
    }
   ],
   "source": [
    "data.dropna(axis=0, inplace=True)\n",
    "print('전체 샘플수 :', (len(data)))"
   ]
  },
  {
   "cell_type": "markdown",
   "id": "2243a87f",
   "metadata": {},
   "source": [
    "# 텍스트 정규화와 불용어 제거"
   ]
  },
  {
   "cell_type": "markdown",
   "id": "425ce595",
   "metadata": {},
   "source": [
    "텍스트 정규화(text normalization)"
   ]
  },
  {
   "cell_type": "code",
   "execution_count": 9,
   "id": "bf2a02ed",
   "metadata": {},
   "outputs": [
    {
     "name": "stdout",
     "output_type": "stream",
     "text": [
      "정규화 사전의 수:  120\n"
     ]
    }
   ],
   "source": [
    "contractions = {\"ain't\": \"is not\", \"aren't\": \"are not\",\"can't\": \"cannot\", \"'cause\": \"because\", \"could've\": \"could have\", \"couldn't\": \"could not\",\n",
    "                           \"didn't\": \"did not\",  \"doesn't\": \"does not\", \"don't\": \"do not\", \"hadn't\": \"had not\", \"hasn't\": \"has not\", \"haven't\": \"have not\",\n",
    "                           \"he'd\": \"he would\",\"he'll\": \"he will\", \"he's\": \"he is\", \"how'd\": \"how did\", \"how'd'y\": \"how do you\", \"how'll\": \"how will\", \"how's\": \"how is\",\n",
    "                           \"I'd\": \"I would\", \"I'd've\": \"I would have\", \"I'll\": \"I will\", \"I'll've\": \"I will have\",\"I'm\": \"I am\", \"I've\": \"I have\", \"i'd\": \"i would\",\n",
    "                           \"i'd've\": \"i would have\", \"i'll\": \"i will\",  \"i'll've\": \"i will have\",\"i'm\": \"i am\", \"i've\": \"i have\", \"isn't\": \"is not\", \"it'd\": \"it would\",\n",
    "                           \"it'd've\": \"it would have\", \"it'll\": \"it will\", \"it'll've\": \"it will have\",\"it's\": \"it is\", \"let's\": \"let us\", \"ma'am\": \"madam\",\n",
    "                           \"mayn't\": \"may not\", \"might've\": \"might have\",\"mightn't\": \"might not\",\"mightn't've\": \"might not have\", \"must've\": \"must have\",\n",
    "                           \"mustn't\": \"must not\", \"mustn't've\": \"must not have\", \"needn't\": \"need not\", \"needn't've\": \"need not have\",\"o'clock\": \"of the clock\",\n",
    "                           \"oughtn't\": \"ought not\", \"oughtn't've\": \"ought not have\", \"shan't\": \"shall not\", \"sha'n't\": \"shall not\", \"shan't've\": \"shall not have\",\n",
    "                           \"she'd\": \"she would\", \"she'd've\": \"she would have\", \"she'll\": \"she will\", \"she'll've\": \"she will have\", \"she's\": \"she is\",\n",
    "                           \"should've\": \"should have\", \"shouldn't\": \"should not\", \"shouldn't've\": \"should not have\", \"so've\": \"so have\",\"so's\": \"so as\",\n",
    "                           \"this's\": \"this is\",\"that'd\": \"that would\", \"that'd've\": \"that would have\", \"that's\": \"that is\", \"there'd\": \"there would\",\n",
    "                           \"there'd've\": \"there would have\", \"there's\": \"there is\", \"here's\": \"here is\",\"they'd\": \"they would\", \"they'd've\": \"they would have\",\n",
    "                           \"they'll\": \"they will\", \"they'll've\": \"they will have\", \"they're\": \"they are\", \"they've\": \"they have\", \"to've\": \"to have\",\n",
    "                           \"wasn't\": \"was not\", \"we'd\": \"we would\", \"we'd've\": \"we would have\", \"we'll\": \"we will\", \"we'll've\": \"we will have\", \"we're\": \"we are\",\n",
    "                           \"we've\": \"we have\", \"weren't\": \"were not\", \"what'll\": \"what will\", \"what'll've\": \"what will have\", \"what're\": \"what are\",\n",
    "                           \"what's\": \"what is\", \"what've\": \"what have\", \"when's\": \"when is\", \"when've\": \"when have\", \"where'd\": \"where did\", \"where's\": \"where is\",\n",
    "                           \"where've\": \"where have\", \"who'll\": \"who will\", \"who'll've\": \"who will have\", \"who's\": \"who is\", \"who've\": \"who have\",\n",
    "                           \"why's\": \"why is\", \"why've\": \"why have\", \"will've\": \"will have\", \"won't\": \"will not\", \"won't've\": \"will not have\",\n",
    "                           \"would've\": \"would have\", \"wouldn't\": \"would not\", \"wouldn't've\": \"would not have\", \"y'all\": \"you all\",\n",
    "                           \"y'all'd\": \"you all would\",\"y'all'd've\": \"you all would have\",\"y'all're\": \"you all are\",\"y'all've\": \"you all have\",\n",
    "                           \"you'd\": \"you would\", \"you'd've\": \"you would have\", \"you'll\": \"you will\", \"you'll've\": \"you will have\",\n",
    "                           \"you're\": \"you are\", \"you've\": \"you have\"}\n",
    "\n",
    "print(\"정규화 사전의 수: \", len(contractions))"
   ]
  },
  {
   "cell_type": "code",
   "execution_count": 10,
   "id": "d2b09f18",
   "metadata": {},
   "outputs": [
    {
     "name": "stdout",
     "output_type": "stream",
     "text": [
      "불용어 개수 : 179\n",
      "['i', 'me', 'my', 'myself', 'we', 'our', 'ours', 'ourselves', 'you', \"you're\", \"you've\", \"you'll\", \"you'd\", 'your', 'yours', 'yourself', 'yourselves', 'he', 'him', 'his', 'himself', 'she', \"she's\", 'her', 'hers', 'herself', 'it', \"it's\", 'its', 'itself', 'they', 'them', 'their', 'theirs', 'themselves', 'what', 'which', 'who', 'whom', 'this', 'that', \"that'll\", 'these', 'those', 'am', 'is', 'are', 'was', 'were', 'be', 'been', 'being', 'have', 'has', 'had', 'having', 'do', 'does', 'did', 'doing', 'a', 'an', 'the', 'and', 'but', 'if', 'or', 'because', 'as', 'until', 'while', 'of', 'at', 'by', 'for', 'with', 'about', 'against', 'between', 'into', 'through', 'during', 'before', 'after', 'above', 'below', 'to', 'from', 'up', 'down', 'in', 'out', 'on', 'off', 'over', 'under', 'again', 'further', 'then', 'once', 'here', 'there', 'when', 'where', 'why', 'how', 'all', 'any', 'both', 'each', 'few', 'more', 'most', 'other', 'some', 'such', 'no', 'nor', 'not', 'only', 'own', 'same', 'so', 'than', 'too', 'very', 's', 't', 'can', 'will', 'just', 'don', \"don't\", 'should', \"should've\", 'now', 'd', 'll', 'm', 'o', 're', 've', 'y', 'ain', 'aren', \"aren't\", 'couldn', \"couldn't\", 'didn', \"didn't\", 'doesn', \"doesn't\", 'hadn', \"hadn't\", 'hasn', \"hasn't\", 'haven', \"haven't\", 'isn', \"isn't\", 'ma', 'mightn', \"mightn't\", 'mustn', \"mustn't\", 'needn', \"needn't\", 'shan', \"shan't\", 'shouldn', \"shouldn't\", 'wasn', \"wasn't\", 'weren', \"weren't\", 'won', \"won't\", 'wouldn', \"wouldn't\"]\n"
     ]
    }
   ],
   "source": [
    "print('불용어 개수 :', len(stopwords.words('english') ))\n",
    "print(stopwords.words('english'))"
   ]
  },
  {
   "cell_type": "code",
   "execution_count": 11,
   "id": "ea1d8cb3",
   "metadata": {},
   "outputs": [
    {
     "name": "stdout",
     "output_type": "stream",
     "text": [
      "🍨\n"
     ]
    }
   ],
   "source": [
    "# 데이터 전처리 함수\n",
    "def preprocess_sentence(sentence, remove_stopwords=True):\n",
    "    sentence = sentence.lower() # 텍스트 소문자화\n",
    "    sentence = BeautifulSoup(sentence, \"lxml\").text # <br />, <a href = ...> 등의 html 태그 제거\n",
    "    sentence = re.sub(r'\\([^)]*\\)', '', sentence) # 괄호로 닫힌 문자열 (...) 제거 Ex) my husband (and myself!) for => my husband for\n",
    "    sentence = re.sub('\"','', sentence) # 쌍따옴표 \" 제거\n",
    "    sentence = ' '.join([contractions[t] if t in contractions else t for t in sentence.split(\" \")]) # 약어 정규화\n",
    "    sentence = re.sub(r\"'s\\b\",\"\", sentence) # 소유격 제거. Ex) roland's -> roland\n",
    "    sentence = re.sub(\"[^a-zA-Z]\", \" \", sentence) # 영어 외 문자(숫자, 특수문자 등) 공백으로 변환\n",
    "    sentence = re.sub('[m]{2,}', 'mm', sentence) # m이 3개 이상이면 2개로 변경. Ex) ummmmmmm yeah -> umm yeah\n",
    "    \n",
    "    # 불용어 제거 (text)\n",
    "    if remove_stopwords:\n",
    "        tokens = ' '.join(word for word in sentence.split() if not word in stopwords.words('english') if len(word) > 1)\n",
    "    # 불용어 미제거 (headlines)\n",
    "    else:\n",
    "        tokens = ' '.join(word for word in sentence.split() if len(word) > 1)\n",
    "    return tokens\n",
    "\n",
    "print('🍨')"
   ]
  },
  {
   "cell_type": "code",
   "execution_count": 12,
   "id": "ec5cc02e",
   "metadata": {},
   "outputs": [
    {
     "name": "stdout",
     "output_type": "stream",
     "text": [
      "text:  everything bought great infact ordered twice third ordered wasfor mother father\n",
      "headlines: great way to start the day\n"
     ]
    }
   ],
   "source": [
    "temp_text = 'Everything I bought was great, infact I ordered twice and the third ordered was<br />for my mother and father.'\n",
    "temp_headlines = 'Great way to start (or finish) the day!!!'\n",
    "\n",
    "print(\"text: \", preprocess_sentence(temp_text))\n",
    "print(\"headlines:\", preprocess_sentence(temp_headlines, False))  # 불용어를 제거하지 않습니다."
   ]
  },
  {
   "cell_type": "code",
   "execution_count": 13,
   "id": "b6acc97d",
   "metadata": {},
   "outputs": [
    {
     "name": "stdout",
     "output_type": "stream",
     "text": [
      "text 전처리 후 결과:  ['saurav kant alumnus upgrad iiit pg program machine learning artificial intelligence sr systems engineer infosys almost years work experience program upgrad degree career support helped transition data scientist tech mahindra salary hike upgrad online power learning powered lakh careers', 'kunal shah credit card bill payment platform cred gave users chance win free food swiggy one year pranav kaushik delhi techie bagged reward spending cred coins users get one cred coin per rupee bill paid used avail rewards brands like ixigo bookmyshow ubereats cult fit', 'new zealand defeated india wickets fourth odi hamilton thursday win first match five match odi series india lost international match rohit sharma captaincy consecutive victories dating back march match witnessed india getting seventh lowest total odi cricket history', 'aegon life iterm insurance plan customers enjoy tax benefits premiums paid save taxes plan provides life cover age years also customers options insure critical illnesses disability accidental death benefit rider life cover age years', 'speaking sexual harassment allegations rajkumar hirani sonam kapoor said known hirani many years true metoo movement get derailed metoo movement always believe woman case need reserve judgment added hirani accused assistant worked sanju']\n"
     ]
    }
   ],
   "source": [
    "clean_text = []\n",
    "# 전체 Text 데이터에 대한 전처리 : 10분 이상 시간이 걸릴 수 있습니다. \n",
    "for s in data['text']:\n",
    "    clean_text.append(preprocess_sentence(s))\n",
    "\n",
    "# 전처리 후 출력\n",
    "print(\"text 전처리 후 결과: \", clean_text[:5])"
   ]
  },
  {
   "cell_type": "code",
   "execution_count": 14,
   "id": "d845670d",
   "metadata": {},
   "outputs": [
    {
     "name": "stdout",
     "output_type": "stream",
     "text": [
      "headlines 전처리 후 결과:  ['upgrad learner switches to career in ml al with salary hike', 'delhi techie wins free food from swiggy for one year on cred', 'new zealand end rohit sharma led india match winning streak', 'aegon life iterm insurance plan helps customers save tax', 'have known hirani for yrs what if metoo claims are not true sonam']\n"
     ]
    }
   ],
   "source": [
    "clean_headlines = []\n",
    "# 전체 headlines 데이터에 대한 전처리 : 5분 이상 시간이 걸릴 수 있습니다. \n",
    "for s in data['headlines']:\n",
    "    clean_headlines.append(preprocess_sentence(s, False))\n",
    "\n",
    "print(\"headlines 전처리 후 결과: \", clean_headlines[:5])"
   ]
  },
  {
   "cell_type": "code",
   "execution_count": 15,
   "id": "661a5354",
   "metadata": {},
   "outputs": [
    {
     "name": "stdout",
     "output_type": "stream",
     "text": [
      "🍨\n"
     ]
    }
   ],
   "source": [
    "data['text'] = clean_text\n",
    "data['headlines'] = clean_headlines\n",
    "\n",
    "# 빈 값을 Null 값으로 변환\n",
    "data.replace('', np.nan, inplace=True)\n",
    "print('🍨')"
   ]
  },
  {
   "cell_type": "code",
   "execution_count": 16,
   "id": "175d25f3",
   "metadata": {},
   "outputs": [
    {
     "data": {
      "text/plain": [
       "text         0\n",
       "headlines    0\n",
       "dtype: int64"
      ]
     },
     "execution_count": 16,
     "metadata": {},
     "output_type": "execute_result"
    }
   ],
   "source": [
    "data.isnull().sum()"
   ]
  },
  {
   "cell_type": "code",
   "execution_count": 17,
   "id": "0ab70146",
   "metadata": {},
   "outputs": [
    {
     "name": "stdout",
     "output_type": "stream",
     "text": [
      "전체 샘플수 : 98360\n"
     ]
    }
   ],
   "source": [
    "data.dropna(axis=0, inplace=True)\n",
    "print('전체 샘플수 :', (len(data)))"
   ]
  },
  {
   "cell_type": "markdown",
   "id": "9cad02c3",
   "metadata": {},
   "source": [
    "# 데이터 전처리하기 (2) 훈련데이터와 테스트데이터 나누기\n",
    "\n",
    "**샘플의 최대 길이 정하기**"
   ]
  },
  {
   "cell_type": "code",
   "execution_count": 18,
   "id": "ac8267f1",
   "metadata": {},
   "outputs": [
    {
     "name": "stdout",
     "output_type": "stream",
     "text": [
      "텍스트의 최소 길이 : 1\n",
      "텍스트의 최대 길이 : 60\n",
      "텍스트의 평균 길이 : 35.09968483123221\n",
      "요약의 최소 길이 : 1\n",
      "요약의 최대 길이 : 16\n",
      "요약의 평균 길이 : 9.299532330215534\n"
     ]
    },
    {
     "data": {
      "image/png": "[encoded data removed]",
      "text/plain": [
       "<Figure size 432x288 with 2 Axes>"
      ]
     },
     "metadata": {
      "needs_background": "light"
     },
     "output_type": "display_data"
    },
    {
     "data": {
      "image/png": "[encoded data removed]",
      "text/plain": [
       "<Figure size 432x288 with 1 Axes>"
      ]
     },
     "metadata": {
      "needs_background": "light"
     },
     "output_type": "display_data"
    },
    {
     "data": {
      "image/png": "[encoded data removed]",
      "text/plain": [
       "<Figure size 432x288 with 1 Axes>"
      ]
     },
     "metadata": {
      "needs_background": "light"
     },
     "output_type": "display_data"
    }
   ],
   "source": [
    "# 길이 분포 출력\n",
    "import matplotlib.pyplot as plt\n",
    "\n",
    "text_len = [len(s.split()) for s in data['text']]\n",
    "headlines_len = [len(s.split()) for s in data['headlines']]\n",
    "\n",
    "print('텍스트의 최소 길이 : {}'.format(np.min(text_len)))\n",
    "print('텍스트의 최대 길이 : {}'.format(np.max(text_len)))\n",
    "print('텍스트의 평균 길이 : {}'.format(np.mean(text_len)))\n",
    "print('요약의 최소 길이 : {}'.format(np.min(headlines_len)))\n",
    "print('요약의 최대 길이 : {}'.format(np.max(headlines_len)))\n",
    "print('요약의 평균 길이 : {}'.format(np.mean(headlines_len)))\n",
    "\n",
    "plt.subplot(1,2,1)\n",
    "plt.boxplot(text_len)\n",
    "plt.title('text')\n",
    "plt.subplot(1,2,2)\n",
    "plt.boxplot(headlines_len)\n",
    "plt.title('headlines')\n",
    "plt.tight_layout()\n",
    "plt.show()\n",
    "\n",
    "plt.title('text')\n",
    "plt.hist(text_len, bins = 40)\n",
    "plt.xlabel('length of samples')\n",
    "plt.ylabel('number of samples')\n",
    "plt.show()\n",
    "\n",
    "plt.title('headlines')\n",
    "plt.hist(headlines_len, bins = 40)\n",
    "plt.xlabel('length of samples')\n",
    "plt.ylabel('number of samples')\n",
    "plt.show()"
   ]
  },
  {
   "cell_type": "code",
   "execution_count": 19,
   "id": "2cfc37fc",
   "metadata": {},
   "outputs": [
    {
     "name": "stdout",
     "output_type": "stream",
     "text": [
      "🍨\n"
     ]
    }
   ],
   "source": [
    "text_max_len = 50\n",
    "headlines_max_len = 8\n",
    "print('🍨')"
   ]
  },
  {
   "cell_type": "code",
   "execution_count": 20,
   "id": "32d96832",
   "metadata": {},
   "outputs": [
    {
     "name": "stdout",
     "output_type": "stream",
     "text": [
      "🍨\n"
     ]
    }
   ],
   "source": [
    "def below_threshold_len(max_len, nested_list):\n",
    "  cnt = 0\n",
    "  for s in nested_list:\n",
    "    if(len(s.split()) <= max_len):\n",
    "        cnt = cnt + 1\n",
    "  print('전체 샘플 중 길이가 %s 이하인 샘플의 비율: %s'%(max_len, (cnt / len(nested_list))))\n",
    "print('🍨')"
   ]
  },
  {
   "cell_type": "code",
   "execution_count": 21,
   "id": "a195c091",
   "metadata": {},
   "outputs": [
    {
     "name": "stdout",
     "output_type": "stream",
     "text": [
      "전체 샘플 중 길이가 50 이하인 샘플의 비율: 0.9998576657177715\n",
      "전체 샘플 중 길이가 8 이하인 샘플의 비율: 0.2755693371289142\n"
     ]
    }
   ],
   "source": [
    "below_threshold_len(text_max_len, data['text'])\n",
    "below_threshold_len(headlines_max_len,  data['headlines'])"
   ]
  },
  {
   "cell_type": "code",
   "execution_count": 22,
   "id": "594e6155",
   "metadata": {},
   "outputs": [
    {
     "name": "stdout",
     "output_type": "stream",
     "text": [
      "전체 샘플수 : 27105\n"
     ]
    }
   ],
   "source": [
    "data = data[data['text'].apply(lambda x: len(x.split()) <= text_max_len)]\n",
    "data = data[data['headlines'].apply(lambda x: len(x.split()) <= headlines_max_len)]\n",
    "print('전체 샘플수 :', (len(data)))"
   ]
  },
  {
   "cell_type": "markdown",
   "id": "1a2c2e85",
   "metadata": {},
   "source": [
    "# 시작 토큰과 종료 토큰 추가하기"
   ]
  },
  {
   "cell_type": "code",
   "execution_count": 23,
   "id": "c25ebd58",
   "metadata": {},
   "outputs": [
    {
     "data": {
      "text/html": [
       "<div>\n",
       "<style scoped>\n",
       "    .dataframe tbody tr th:only-of-type {\n",
       "        vertical-align: middle;\n",
       "    }\n",
       "\n",
       "    .dataframe tbody tr th {\n",
       "        vertical-align: top;\n",
       "    }\n",
       "\n",
       "    .dataframe thead th {\n",
       "        text-align: right;\n",
       "    }\n",
       "</style>\n",
       "<table border=\"1\" class=\"dataframe\">\n",
       "  <thead>\n",
       "    <tr style=\"text-align: right;\">\n",
       "      <th></th>\n",
       "      <th>text</th>\n",
       "      <th>headlines</th>\n",
       "      <th>decoder_input</th>\n",
       "      <th>decoder_target</th>\n",
       "    </tr>\n",
       "  </thead>\n",
       "  <tbody>\n",
       "    <tr>\n",
       "      <th>19</th>\n",
       "      <td>union minister dharmendra pradhan wednesday cl...</td>\n",
       "      <td>odisha cm patnaik controls mining mafia union ...</td>\n",
       "      <td>sostoken odisha cm patnaik controls mining maf...</td>\n",
       "      <td>odisha cm patnaik controls mining mafia union ...</td>\n",
       "    </tr>\n",
       "    <tr>\n",
       "      <th>21</th>\n",
       "      <td>indian space research organisation wednesday u...</td>\n",
       "      <td>isro unveils bengaluru centre for manned space...</td>\n",
       "      <td>sostoken isro unveils bengaluru centre for man...</td>\n",
       "      <td>isro unveils bengaluru centre for manned space...</td>\n",
       "    </tr>\n",
       "    <tr>\n",
       "      <th>22</th>\n",
       "      <td>least people killed others injured saudi arabi...</td>\n",
       "      <td>killed injured in saudi arabia floods</td>\n",
       "      <td>sostoken killed injured in saudi arabia floods</td>\n",
       "      <td>killed injured in saudi arabia floods eostoken</td>\n",
       "    </tr>\n",
       "    <tr>\n",
       "      <th>29</th>\n",
       "      <td>investigators searching lost plane carrying ar...</td>\n",
       "      <td>seat cushions from missing plane carrying foot...</td>\n",
       "      <td>sostoken seat cushions from missing plane carr...</td>\n",
       "      <td>seat cushions from missing plane carrying foot...</td>\n",
       "    </tr>\n",
       "    <tr>\n",
       "      <th>36</th>\n",
       "      <td>agustawestland chopper scam co accused rajiv s...</td>\n",
       "      <td>agustawestland scam accused rajiv saxena extra...</td>\n",
       "      <td>sostoken agustawestland scam accused rajiv sax...</td>\n",
       "      <td>agustawestland scam accused rajiv saxena extra...</td>\n",
       "    </tr>\n",
       "  </tbody>\n",
       "</table>\n",
       "</div>"
      ],
      "text/plain": [
       "                                                 text  \\\n",
       "19  union minister dharmendra pradhan wednesday cl...   \n",
       "21  indian space research organisation wednesday u...   \n",
       "22  least people killed others injured saudi arabi...   \n",
       "29  investigators searching lost plane carrying ar...   \n",
       "36  agustawestland chopper scam co accused rajiv s...   \n",
       "\n",
       "                                            headlines  \\\n",
       "19  odisha cm patnaik controls mining mafia union ...   \n",
       "21  isro unveils bengaluru centre for manned space...   \n",
       "22              killed injured in saudi arabia floods   \n",
       "29  seat cushions from missing plane carrying foot...   \n",
       "36  agustawestland scam accused rajiv saxena extra...   \n",
       "\n",
       "                                        decoder_input  \\\n",
       "19  sostoken odisha cm patnaik controls mining maf...   \n",
       "21  sostoken isro unveils bengaluru centre for man...   \n",
       "22     sostoken killed injured in saudi arabia floods   \n",
       "29  sostoken seat cushions from missing plane carr...   \n",
       "36  sostoken agustawestland scam accused rajiv sax...   \n",
       "\n",
       "                                       decoder_target  \n",
       "19  odisha cm patnaik controls mining mafia union ...  \n",
       "21  isro unveils bengaluru centre for manned space...  \n",
       "22     killed injured in saudi arabia floods eostoken  \n",
       "29  seat cushions from missing plane carrying foot...  \n",
       "36  agustawestland scam accused rajiv saxena extra...  "
      ]
     },
     "execution_count": 23,
     "metadata": {},
     "output_type": "execute_result"
    }
   ],
   "source": [
    "# 요약 데이터에는 시작 토큰과 종료 토큰을 추가한다.\n",
    "data['decoder_input'] = data['headlines'].apply(lambda x : 'sostoken '+ x)\n",
    "data['decoder_target'] = data['headlines'].apply(lambda x : x + ' eostoken')\n",
    "data.head()"
   ]
  },
  {
   "cell_type": "code",
   "execution_count": 24,
   "id": "6052b447",
   "metadata": {},
   "outputs": [
    {
     "name": "stdout",
     "output_type": "stream",
     "text": [
      "🍨\n"
     ]
    }
   ],
   "source": [
    "encoder_input = np.array(data['text']) # 인코더의 입력\n",
    "decoder_input = np.array(data['decoder_input']) # 디코더의 입력\n",
    "decoder_target = np.array(data['decoder_target']) # 디코더의 레이블\n",
    "print('🍨')"
   ]
  },
  {
   "cell_type": "code",
   "execution_count": 25,
   "id": "40f0be8f",
   "metadata": {},
   "outputs": [
    {
     "name": "stdout",
     "output_type": "stream",
     "text": [
      "[16110 23597 13463 ... 22911  3538  9178]\n"
     ]
    }
   ],
   "source": [
    "indices = np.arange(encoder_input.shape[0])\n",
    "np.random.shuffle(indices)\n",
    "print(indices)"
   ]
  },
  {
   "cell_type": "code",
   "execution_count": 26,
   "id": "34610a13",
   "metadata": {},
   "outputs": [
    {
     "name": "stdout",
     "output_type": "stream",
     "text": [
      "🍨\n"
     ]
    }
   ],
   "source": [
    "encoder_input = encoder_input[indices]\n",
    "decoder_input = decoder_input[indices]\n",
    "decoder_target = decoder_target[indices]\n",
    "print('🍨')"
   ]
  },
  {
   "cell_type": "code",
   "execution_count": 27,
   "id": "9bcba259",
   "metadata": {},
   "outputs": [
    {
     "name": "stdout",
     "output_type": "stream",
     "text": [
      "테스트 데이터의 수 : 5421\n"
     ]
    }
   ],
   "source": [
    "n_of_val = int(len(encoder_input)*0.2)\n",
    "print('테스트 데이터의 수 :', n_of_val)"
   ]
  },
  {
   "cell_type": "markdown",
   "id": "b847d955",
   "metadata": {},
   "source": [
    "**:** 표시의 위치 주의⭐"
   ]
  },
  {
   "cell_type": "code",
   "execution_count": 28,
   "id": "60f8fb74",
   "metadata": {},
   "outputs": [
    {
     "name": "stdout",
     "output_type": "stream",
     "text": [
      "훈련 데이터의 개수 : 21684\n",
      "훈련 레이블의 개수 : 21684\n",
      "테스트 데이터의 개수 : 5421\n",
      "테스트 레이블의 개수 : 5421\n"
     ]
    }
   ],
   "source": [
    "encoder_input_train = encoder_input[:-n_of_val]\n",
    "decoder_input_train = decoder_input[:-n_of_val]\n",
    "decoder_target_train = decoder_target[:-n_of_val]\n",
    "\n",
    "encoder_input_test = encoder_input[-n_of_val:]\n",
    "decoder_input_test = decoder_input[-n_of_val:]\n",
    "decoder_target_test = decoder_target[-n_of_val:]\n",
    "\n",
    "print('훈련 데이터의 개수 :', len(encoder_input_train))\n",
    "print('훈련 레이블의 개수 :', len(decoder_input_train))\n",
    "print('테스트 데이터의 개수 :', len(encoder_input_test))\n",
    "print('테스트 레이블의 개수 :', len(decoder_input_test))"
   ]
  },
  {
   "cell_type": "markdown",
   "id": "02a15f6f",
   "metadata": {},
   "source": [
    "# 데이터 전처리하기 (3) 정수 인코딩\n",
    "\n",
    "**단어 집합(vocabulary) 만들기 및 정수 인코딩**"
   ]
  },
  {
   "cell_type": "code",
   "execution_count": 29,
   "id": "1ddfc128",
   "metadata": {},
   "outputs": [
    {
     "name": "stdout",
     "output_type": "stream",
     "text": [
      "🍨\n"
     ]
    }
   ],
   "source": [
    "src_tokenizer = Tokenizer() # 토크나이저 정의\n",
    "src_tokenizer.fit_on_texts(encoder_input_train) # 입력된 데이터로부터 단어 집합 생성\n",
    "print('🍨')"
   ]
  },
  {
   "cell_type": "code",
   "execution_count": 30,
   "id": "182d22ff",
   "metadata": {},
   "outputs": [
    {
     "name": "stdout",
     "output_type": "stream",
     "text": [
      "단어 집합(vocabulary)의 크기 : 42411\n",
      "등장 빈도가 6번 이하인 희귀 단어의 수: 30688\n",
      "단어 집합에서 희귀 단어를 제외시킬 경우의 단어 집합의 크기 11723\n",
      "단어 집합에서 희귀 단어의 비율: 72.35858621584022\n",
      "전체 등장 빈도에서 희귀 단어 등장 빈도 비율: 8.272366351219755\n"
     ]
    }
   ],
   "source": [
    "threshold = 7\n",
    "total_cnt = len(src_tokenizer.word_index) # 단어의 수\n",
    "rare_cnt = 0 # 등장 빈도수가 threshold보다 작은 단어의 개수를 카운트\n",
    "total_freq = 0 # 훈련 데이터의 전체 단어 빈도수 총 합\n",
    "rare_freq = 0 # 등장 빈도수가 threshold보다 작은 단어의 등장 빈도수의 총 합\n",
    "\n",
    "# 단어와 빈도수의 쌍(pair)을 key와 value로 받는다.\n",
    "for key, value in src_tokenizer.word_counts.items():\n",
    "    total_freq = total_freq + value\n",
    "\n",
    "    # 단어의 등장 빈도수가 threshold보다 작으면\n",
    "    if(value < threshold):\n",
    "        rare_cnt = rare_cnt + 1\n",
    "        rare_freq = rare_freq + value\n",
    "\n",
    "print('단어 집합(vocabulary)의 크기 :', total_cnt)\n",
    "print('등장 빈도가 %s번 이하인 희귀 단어의 수: %s'%(threshold - 1, rare_cnt))\n",
    "print('단어 집합에서 희귀 단어를 제외시킬 경우의 단어 집합의 크기 %s'%(total_cnt - rare_cnt))\n",
    "print(\"단어 집합에서 희귀 단어의 비율:\", (rare_cnt / total_cnt)*100)\n",
    "print(\"전체 등장 빈도에서 희귀 단어 등장 빈도 비율:\", (rare_freq / total_freq)*100)"
   ]
  },
  {
   "cell_type": "code",
   "execution_count": 31,
   "id": "38102b19",
   "metadata": {},
   "outputs": [
    {
     "name": "stdout",
     "output_type": "stream",
     "text": [
      "🍨\n"
     ]
    }
   ],
   "source": [
    "src_vocab = 8000\n",
    "src_tokenizer = Tokenizer(num_words=src_vocab) # 단어 집합의 크기를 8,000으로 제한\n",
    "src_tokenizer.fit_on_texts(encoder_input_train) # 단어 집합 재생성\n",
    "print('🍨')"
   ]
  },
  {
   "cell_type": "code",
   "execution_count": 32,
   "id": "1928d90b",
   "metadata": {},
   "outputs": [
    {
     "name": "stdout",
     "output_type": "stream",
     "text": [
      "[[9, 1305, 3391, 6222, 3796, 823, 3451, 6461, 883, 4395, 3452, 3203, 2522, 3973, 3974, 3620, 6222, 426, 9, 128, 1, 3391, 89, 9, 362, 5063, 487, 3796, 913, 2522, 866], [340, 387, 422, 4917, 155, 3621, 2923, 780, 120, 355, 5064, 225, 996, 441, 422, 1355, 84, 761, 3975, 1, 3622, 155, 3330, 2640, 804, 824, 422, 4, 942, 1379, 3392, 3393, 1727, 3269], [20, 143, 856, 71, 898, 4918, 107, 2490, 1429, 11, 136, 410, 1810, 414, 423, 293, 234, 4918, 218, 3453, 59, 84, 4056, 563, 856, 2490, 202, 143, 856, 1810]]\n"
     ]
    }
   ],
   "source": [
    "# 텍스트 시퀀스를 정수 시퀀스로 변환\n",
    "encoder_input_train = src_tokenizer.texts_to_sequences(encoder_input_train) \n",
    "encoder_input_test = src_tokenizer.texts_to_sequences(encoder_input_test)\n",
    "\n",
    "# 잘 진행되었는지 샘플 출력\n",
    "print(encoder_input_train[:3])"
   ]
  },
  {
   "cell_type": "code",
   "execution_count": 33,
   "id": "974b406d",
   "metadata": {},
   "outputs": [
    {
     "name": "stdout",
     "output_type": "stream",
     "text": [
      "🍨\n"
     ]
    }
   ],
   "source": [
    "tar_tokenizer = Tokenizer()\n",
    "tar_tokenizer.fit_on_texts(decoder_input_train)\n",
    "print('🍨')"
   ]
  },
  {
   "cell_type": "code",
   "execution_count": 34,
   "id": "f0b55d7d",
   "metadata": {},
   "outputs": [
    {
     "name": "stdout",
     "output_type": "stream",
     "text": [
      "단어 집합(vocabulary)의 크기 : 18908\n",
      "등장 빈도가 5번 이하인 희귀 단어의 수: 14287\n",
      "단어 집합에서 희귀 단어를 제외시킬 경우의 단어 집합의 크기 4621\n",
      "단어 집합에서 희귀 단어의 비율: 75.56060926591918\n",
      "전체 등장 빈도에서 희귀 단어 등장 빈도 비율: 14.134341971135791\n"
     ]
    }
   ],
   "source": [
    "threshold = 6\n",
    "total_cnt = len(tar_tokenizer.word_index) # 단어의 수\n",
    "rare_cnt = 0 # 등장 빈도수가 threshold보다 작은 단어의 개수를 카운트\n",
    "total_freq = 0 # 훈련 데이터의 전체 단어 빈도수 총 합\n",
    "rare_freq = 0 # 등장 빈도수가 threshold보다 작은 단어의 등장 빈도수의 총 합\n",
    "\n",
    "# 단어와 빈도수의 쌍(pair)을 key와 value로 받는다.\n",
    "for key, value in tar_tokenizer.word_counts.items():\n",
    "    total_freq = total_freq + value\n",
    "\n",
    "    # 단어의 등장 빈도수가 threshold보다 작으면\n",
    "    if(value < threshold):\n",
    "        rare_cnt = rare_cnt + 1\n",
    "        rare_freq = rare_freq + value\n",
    "\n",
    "print('단어 집합(vocabulary)의 크기 :', total_cnt)\n",
    "print('등장 빈도가 %s번 이하인 희귀 단어의 수: %s'%(threshold - 1, rare_cnt))\n",
    "print('단어 집합에서 희귀 단어를 제외시킬 경우의 단어 집합의 크기 %s'%(total_cnt - rare_cnt))\n",
    "print(\"단어 집합에서 희귀 단어의 비율:\", (rare_cnt / total_cnt)*100)\n",
    "print(\"전체 등장 빈도에서 희귀 단어 등장 빈도 비율:\", (rare_freq / total_freq)*100)"
   ]
  },
  {
   "cell_type": "code",
   "execution_count": 35,
   "id": "ab00a980",
   "metadata": {},
   "outputs": [
    {
     "name": "stdout",
     "output_type": "stream",
     "text": [
      "input\n",
      "input  [[1, 1837, 12, 1634, 39], [1, 260, 120, 640, 1635, 3, 407], [1, 25, 1343, 1156, 1554, 12, 324, 1076], [1, 1409, 1728, 1410, 3, 40, 195], [1, 363, 39, 665, 11, 40]]\n",
      "target\n",
      "decoder  [[1837, 12, 1634, 39, 2], [260, 120, 640, 1635, 3, 407, 2], [25, 1343, 1156, 1554, 12, 324, 1076, 2], [1409, 1728, 1410, 3, 40, 195, 2], [363, 39, 665, 11, 40, 2]]\n"
     ]
    }
   ],
   "source": [
    "tar_vocab = 2000\n",
    "tar_tokenizer = Tokenizer(num_words=tar_vocab) \n",
    "tar_tokenizer.fit_on_texts(decoder_input_train)\n",
    "tar_tokenizer.fit_on_texts(decoder_target_train)\n",
    "\n",
    "# 텍스트 시퀀스를 정수 시퀀스로 변환\n",
    "decoder_input_train = tar_tokenizer.texts_to_sequences(decoder_input_train) \n",
    "decoder_target_train = tar_tokenizer.texts_to_sequences(decoder_target_train)\n",
    "decoder_input_test = tar_tokenizer.texts_to_sequences(decoder_input_test)\n",
    "decoder_target_test = tar_tokenizer.texts_to_sequences(decoder_target_test)\n",
    "\n",
    "# 잘 변환되었는지 확인\n",
    "print('input')\n",
    "print('input ',decoder_input_train[:5])\n",
    "print('target')\n",
    "print('decoder ',decoder_target_train[:5])"
   ]
  },
  {
   "cell_type": "code",
   "execution_count": 36,
   "id": "8f36d557",
   "metadata": {},
   "outputs": [
    {
     "name": "stdout",
     "output_type": "stream",
     "text": [
      "삭제할 훈련 데이터의 개수 : 10\n",
      "삭제할 테스트 데이터의 개수 : 4\n",
      "훈련 데이터의 개수 : 21674\n",
      "훈련 레이블의 개수 : 21674\n",
      "테스트 데이터의 개수 : 5417\n",
      "테스트 레이블의 개수 : 5417\n"
     ]
    }
   ],
   "source": [
    "drop_train = [index for index, sentence in enumerate(decoder_input_train) if len(sentence) == 1]\n",
    "drop_test = [index for index, sentence in enumerate(decoder_input_test) if len(sentence) == 1]\n",
    "\n",
    "print('삭제할 훈련 데이터의 개수 :', len(drop_train))\n",
    "print('삭제할 테스트 데이터의 개수 :', len(drop_test))\n",
    "\n",
    "encoder_input_train = [sentence for index, sentence in enumerate(encoder_input_train) if index not in drop_train]\n",
    "decoder_input_train = [sentence for index, sentence in enumerate(decoder_input_train) if index not in drop_train]\n",
    "decoder_target_train = [sentence for index, sentence in enumerate(decoder_target_train) if index not in drop_train]\n",
    "\n",
    "encoder_input_test = [sentence for index, sentence in enumerate(encoder_input_test) if index not in drop_test]\n",
    "decoder_input_test = [sentence for index, sentence in enumerate(decoder_input_test) if index not in drop_test]\n",
    "decoder_target_test = [sentence for index, sentence in enumerate(decoder_target_test) if index not in drop_test]\n",
    "\n",
    "print('훈련 데이터의 개수 :', len(encoder_input_train))\n",
    "print('훈련 레이블의 개수 :', len(decoder_input_train))\n",
    "print('테스트 데이터의 개수 :', len(encoder_input_test))\n",
    "print('테스트 레이블의 개수 :', len(decoder_input_test))"
   ]
  },
  {
   "cell_type": "markdown",
   "id": "e5deff2c",
   "metadata": {},
   "source": [
    "# 패딩하기"
   ]
  },
  {
   "cell_type": "code",
   "execution_count": 37,
   "id": "0f95e31f",
   "metadata": {},
   "outputs": [
    {
     "name": "stdout",
     "output_type": "stream",
     "text": [
      "🍨\n"
     ]
    }
   ],
   "source": [
    "encoder_input_train = pad_sequences(encoder_input_train, maxlen=text_max_len, padding='post')\n",
    "encoder_input_test = pad_sequences(encoder_input_test, maxlen=text_max_len, padding='post')\n",
    "decoder_input_train = pad_sequences(decoder_input_train, maxlen=headlines_max_len, padding='post')\n",
    "decoder_target_train = pad_sequences(decoder_target_train, maxlen=headlines_max_len, padding='post')\n",
    "decoder_input_test = pad_sequences(decoder_input_test, maxlen=headlines_max_len, padding='post')\n",
    "decoder_target_test = pad_sequences(decoder_target_test, maxlen=headlines_max_len, padding='post')\n",
    "print('🍨')"
   ]
  },
  {
   "cell_type": "markdown",
   "id": "e9ecce14",
   "metadata": {},
   "source": [
    "# 모델 설계하기"
   ]
  },
  {
   "cell_type": "code",
   "execution_count": 38,
   "id": "371cba50",
   "metadata": {},
   "outputs": [
    {
     "name": "stdout",
     "output_type": "stream",
     "text": [
      "WARNING:tensorflow:Layer lstm will not use cuDNN kernels since it doesn't meet the criteria. It will use a generic GPU kernel as fallback when running on GPU.\n",
      "WARNING:tensorflow:Layer lstm_1 will not use cuDNN kernels since it doesn't meet the criteria. It will use a generic GPU kernel as fallback when running on GPU.\n",
      "WARNING:tensorflow:Layer lstm_2 will not use cuDNN kernels since it doesn't meet the criteria. It will use a generic GPU kernel as fallback when running on GPU.\n"
     ]
    }
   ],
   "source": [
    "from tensorflow.keras.layers import Input, LSTM, Embedding, Dense, Concatenate, TimeDistributed\n",
    "from tensorflow.keras.models import Model\n",
    "from tensorflow.keras.callbacks import EarlyStopping, ModelCheckpoint\n",
    "\n",
    "\n",
    "# 인코더 설계 시작\n",
    "embedding_dim = 128\n",
    "hidden_size = 256\n",
    "\n",
    "# 인코더\n",
    "encoder_inputs = Input(shape=(text_max_len,))\n",
    "\n",
    "# 인코더의 임베딩 층\n",
    "enc_emb = Embedding(src_vocab, embedding_dim)(encoder_inputs)\n",
    "\n",
    "# 인코더의 LSTM 1\n",
    "encoder_lstm1 = LSTM(hidden_size, return_sequences=True, return_state=True ,dropout = 0.4, recurrent_dropout = 0.4)\n",
    "encoder_output1, state_h1, state_c1 = encoder_lstm1(enc_emb)\n",
    "\n",
    "# 인코더의 LSTM 2\n",
    "encoder_lstm2 = LSTM(hidden_size, return_sequences=True, return_state=True, dropout=0.4, recurrent_dropout=0.4)\n",
    "encoder_output2, state_h2, state_c2 = encoder_lstm2(encoder_output1)\n",
    "\n",
    "# 인코더의 LSTM 3\n",
    "encoder_lstm3 = LSTM(hidden_size, return_state=True, return_sequences=True, dropout=0.4, recurrent_dropout=0.4)\n",
    "encoder_outputs, state_h, state_c= encoder_lstm3(encoder_output2)"
   ]
  },
  {
   "cell_type": "code",
   "execution_count": 39,
   "id": "d357ac2b",
   "metadata": {},
   "outputs": [
    {
     "name": "stdout",
     "output_type": "stream",
     "text": [
      "WARNING:tensorflow:Layer lstm_3 will not use cuDNN kernels since it doesn't meet the criteria. It will use a generic GPU kernel as fallback when running on GPU.\n"
     ]
    }
   ],
   "source": [
    "# 디코더 설계\n",
    "decoder_inputs = Input(shape=(None,))\n",
    "\n",
    "# 디코더의 임베딩 층\n",
    "dec_emb_layer = Embedding(tar_vocab, embedding_dim)\n",
    "dec_emb = dec_emb_layer(decoder_inputs)\n",
    "\n",
    "# 디코더의 LSTM\n",
    "decoder_lstm = LSTM(hidden_size, return_sequences=True, return_state=True, dropout=0.4, recurrent_dropout=0.2)\n",
    "decoder_outputs, _, _ = decoder_lstm(dec_emb, initial_state=[state_h, state_c])"
   ]
  },
  {
   "cell_type": "code",
   "execution_count": 40,
   "id": "fd240ceb",
   "metadata": {},
   "outputs": [
    {
     "name": "stdout",
     "output_type": "stream",
     "text": [
      "Model: \"model\"\n",
      "__________________________________________________________________________________________________\n",
      "Layer (type)                    Output Shape         Param #     Connected to                     \n",
      "==================================================================================================\n",
      "input_1 (InputLayer)            [(None, 50)]         0                                            \n",
      "__________________________________________________________________________________________________\n",
      "embedding (Embedding)           (None, 50, 128)      1024000     input_1[0][0]                    \n",
      "__________________________________________________________________________________________________\n",
      "lstm (LSTM)                     [(None, 50, 256), (N 394240      embedding[0][0]                  \n",
      "__________________________________________________________________________________________________\n",
      "input_2 (InputLayer)            [(None, None)]       0                                            \n",
      "__________________________________________________________________________________________________\n",
      "lstm_1 (LSTM)                   [(None, 50, 256), (N 525312      lstm[0][0]                       \n",
      "__________________________________________________________________________________________________\n",
      "embedding_1 (Embedding)         (None, None, 128)    256000      input_2[0][0]                    \n",
      "__________________________________________________________________________________________________\n",
      "lstm_2 (LSTM)                   [(None, 50, 256), (N 525312      lstm_1[0][0]                     \n",
      "__________________________________________________________________________________________________\n",
      "lstm_3 (LSTM)                   [(None, None, 256),  394240      embedding_1[0][0]                \n",
      "                                                                 lstm_2[0][1]                     \n",
      "                                                                 lstm_2[0][2]                     \n",
      "__________________________________________________________________________________________________\n",
      "dense (Dense)                   (None, None, 2000)   514000      lstm_3[0][0]                     \n",
      "==================================================================================================\n",
      "Total params: 3,633,104\n",
      "Trainable params: 3,633,104\n",
      "Non-trainable params: 0\n",
      "__________________________________________________________________________________________________\n"
     ]
    }
   ],
   "source": [
    "# 디코더의 출력층\n",
    "decoder_softmax_layer = Dense(tar_vocab, activation='softmax')\n",
    "decoder_softmax_outputs = decoder_softmax_layer(decoder_outputs) \n",
    "\n",
    "# 모델 정의\n",
    "model = Model([encoder_inputs, decoder_inputs], decoder_softmax_outputs)\n",
    "model.summary()"
   ]
  },
  {
   "cell_type": "markdown",
   "id": "e9c41e50",
   "metadata": {},
   "source": [
    "# 어텐션 메커니즘\n",
    "\n",
    "어텐션 메커니즘을 수행하는 어텐션 함수를 설계하는 것은 또 다른 새로운 신경망을 설계해야 한다는 뜻"
   ]
  },
  {
   "cell_type": "markdown",
   "id": "d484e2dd",
   "metadata": {},
   "source": [
    "디코더의 출력층 수정"
   ]
  },
  {
   "cell_type": "code",
   "execution_count": 41,
   "id": "60c54e71",
   "metadata": {},
   "outputs": [
    {
     "name": "stdout",
     "output_type": "stream",
     "text": [
      "Model: \"model_1\"\n",
      "__________________________________________________________________________________________________\n",
      "Layer (type)                    Output Shape         Param #     Connected to                     \n",
      "==================================================================================================\n",
      "input_1 (InputLayer)            [(None, 50)]         0                                            \n",
      "__________________________________________________________________________________________________\n",
      "embedding (Embedding)           (None, 50, 128)      1024000     input_1[0][0]                    \n",
      "__________________________________________________________________________________________________\n",
      "lstm (LSTM)                     [(None, 50, 256), (N 394240      embedding[0][0]                  \n",
      "__________________________________________________________________________________________________\n",
      "input_2 (InputLayer)            [(None, None)]       0                                            \n",
      "__________________________________________________________________________________________________\n",
      "lstm_1 (LSTM)                   [(None, 50, 256), (N 525312      lstm[0][0]                       \n",
      "__________________________________________________________________________________________________\n",
      "embedding_1 (Embedding)         (None, None, 128)    256000      input_2[0][0]                    \n",
      "__________________________________________________________________________________________________\n",
      "lstm_2 (LSTM)                   [(None, 50, 256), (N 525312      lstm_1[0][0]                     \n",
      "__________________________________________________________________________________________________\n",
      "lstm_3 (LSTM)                   [(None, None, 256),  394240      embedding_1[0][0]                \n",
      "                                                                 lstm_2[0][1]                     \n",
      "                                                                 lstm_2[0][2]                     \n",
      "__________________________________________________________________________________________________\n",
      "attention_layer (AdditiveAttent (None, None, 256)    256         lstm_3[0][0]                     \n",
      "                                                                 lstm_2[0][0]                     \n",
      "__________________________________________________________________________________________________\n",
      "concat_layer (Concatenate)      (None, None, 512)    0           lstm_3[0][0]                     \n",
      "                                                                 attention_layer[0][0]            \n",
      "__________________________________________________________________________________________________\n",
      "dense_1 (Dense)                 (None, None, 2000)   1026000     concat_layer[0][0]               \n",
      "==================================================================================================\n",
      "Total params: 4,145,360\n",
      "Trainable params: 4,145,360\n",
      "Non-trainable params: 0\n",
      "__________________________________________________________________________________________________\n"
     ]
    }
   ],
   "source": [
    "from tensorflow.keras.layers import AdditiveAttention\n",
    "\n",
    "# 어텐션 층(어텐션 함수)\n",
    "attn_layer = AdditiveAttention(name='attention_layer')\n",
    "\n",
    "# 인코더와 디코더의 모든 time step의 hidden state를 어텐션 층에 전달하고 결과를 리턴\n",
    "attn_out = attn_layer([decoder_outputs, encoder_outputs])\n",
    "\n",
    "\n",
    "# 어텐션의 결과와 디코더의 hidden state들을 연결\n",
    "decoder_concat_input = Concatenate(axis=-1, name='concat_layer')([decoder_outputs, attn_out])\n",
    "\n",
    "# 디코더의 출력층\n",
    "decoder_softmax_layer = Dense(tar_vocab, activation='softmax')\n",
    "decoder_softmax_outputs = decoder_softmax_layer(decoder_concat_input)\n",
    "\n",
    "# 모델 정의\n",
    "model = Model([encoder_inputs, decoder_inputs], decoder_softmax_outputs)\n",
    "model.summary()"
   ]
  },
  {
   "cell_type": "markdown",
   "id": "340c7349",
   "metadata": {},
   "source": [
    "# 모델 훈련하기"
   ]
  },
  {
   "cell_type": "markdown",
   "id": "e6719af5",
   "metadata": {},
   "source": [
    "설계한 모델을 가지고 훈련을 진행"
   ]
  },
  {
   "cell_type": "code",
   "execution_count": 42,
   "id": "7b238ab9",
   "metadata": {},
   "outputs": [
    {
     "name": "stdout",
     "output_type": "stream",
     "text": [
      "Epoch 1/50\n",
      "85/85 [==============================] - 65s 665ms/step - loss: 4.9273 - val_loss: 4.5245\n",
      "Epoch 2/50\n",
      "85/85 [==============================] - 56s 656ms/step - loss: 4.5312 - val_loss: 4.3691\n",
      "Epoch 3/50\n",
      "85/85 [==============================] - 56s 661ms/step - loss: 4.3496 - val_loss: 4.2526\n",
      "Epoch 4/50\n",
      "85/85 [==============================] - 56s 662ms/step - loss: 4.1831 - val_loss: 4.0615\n",
      "Epoch 5/50\n",
      "85/85 [==============================] - 56s 656ms/step - loss: 4.0311 - val_loss: 3.9775\n",
      "Epoch 6/50\n",
      "85/85 [==============================] - 56s 665ms/step - loss: 3.8970 - val_loss: 3.8655\n",
      "Epoch 7/50\n",
      "85/85 [==============================] - 56s 656ms/step - loss: 3.7675 - val_loss: 3.7789\n",
      "Epoch 8/50\n",
      "85/85 [==============================] - 56s 656ms/step - loss: 3.6415 - val_loss: 3.7121\n",
      "Epoch 9/50\n",
      "85/85 [==============================] - 56s 660ms/step - loss: 3.5321 - val_loss: 3.6326\n",
      "Epoch 10/50\n",
      "85/85 [==============================] - 56s 662ms/step - loss: 3.4371 - val_loss: 3.5913\n",
      "Epoch 11/50\n",
      "85/85 [==============================] - 56s 659ms/step - loss: 3.3509 - val_loss: 3.5472\n",
      "Epoch 12/50\n",
      "85/85 [==============================] - 56s 661ms/step - loss: 3.2714 - val_loss: 3.5083\n",
      "Epoch 13/50\n",
      "85/85 [==============================] - 56s 658ms/step - loss: 3.1913 - val_loss: 3.4735\n",
      "Epoch 14/50\n",
      "85/85 [==============================] - 56s 660ms/step - loss: 3.1154 - val_loss: 3.4404\n",
      "Epoch 15/50\n",
      "85/85 [==============================] - 56s 658ms/step - loss: 3.0426 - val_loss: 3.4295\n",
      "Epoch 16/50\n",
      "85/85 [==============================] - 56s 656ms/step - loss: 2.9762 - val_loss: 3.4062\n",
      "Epoch 17/50\n",
      "85/85 [==============================] - 56s 655ms/step - loss: 2.9088 - val_loss: 3.3861\n",
      "Epoch 18/50\n",
      "85/85 [==============================] - 56s 656ms/step - loss: 2.8466 - val_loss: 3.3923\n",
      "Epoch 19/50\n",
      "85/85 [==============================] - 56s 658ms/step - loss: 2.7867 - val_loss: 3.3668\n",
      "Epoch 20/50\n",
      "85/85 [==============================] - 56s 662ms/step - loss: 2.7268 - val_loss: 3.3550\n",
      "Epoch 21/50\n",
      "85/85 [==============================] - 56s 660ms/step - loss: 2.6726 - val_loss: 3.3500\n",
      "Epoch 22/50\n",
      "85/85 [==============================] - 56s 657ms/step - loss: 2.6179 - val_loss: 3.3414\n",
      "Epoch 23/50\n",
      "85/85 [==============================] - 55s 653ms/step - loss: 2.5624 - val_loss: 3.3497\n",
      "Epoch 24/50\n",
      "85/85 [==============================] - 56s 656ms/step - loss: 2.5147 - val_loss: 3.3396\n",
      "Epoch 25/50\n",
      "85/85 [==============================] - 56s 659ms/step - loss: 2.4642 - val_loss: 3.3455\n",
      "Epoch 26/50\n",
      "85/85 [==============================] - 56s 655ms/step - loss: 2.4189 - val_loss: 3.3520\n",
      "Epoch 00026: early stopping\n"
     ]
    }
   ],
   "source": [
    "model.compile(optimizer='rmsprop', loss='sparse_categorical_crossentropy')\n",
    "es = EarlyStopping(monitor='val_loss', patience=2, verbose=1)\n",
    "history = model.fit(x=[encoder_input_train, decoder_input_train], y=decoder_target_train, \\\n",
    "          validation_data=([encoder_input_test, decoder_input_test], decoder_target_test), \\\n",
    "          batch_size=256, callbacks=[es], epochs=50)"
   ]
  },
  {
   "cell_type": "code",
   "execution_count": 43,
   "id": "fc9933ba",
   "metadata": {},
   "outputs": [
    {
     "data": {
      "image/png": "[encoded data removed]",
      "text/plain": [
       "<Figure size 432x288 with 1 Axes>"
      ]
     },
     "metadata": {
      "needs_background": "light"
     },
     "output_type": "display_data"
    }
   ],
   "source": [
    "plt.plot(history.history['loss'], label='train')\n",
    "plt.plot(history.history['val_loss'], label='test')\n",
    "plt.legend()\n",
    "plt.show()"
   ]
  },
  {
   "cell_type": "markdown",
   "id": "b54254c3",
   "metadata": {},
   "source": [
    "# 인퍼런스 모델 구현하기"
   ]
  },
  {
   "cell_type": "code",
   "execution_count": 44,
   "id": "efcbe9a8",
   "metadata": {},
   "outputs": [
    {
     "name": "stdout",
     "output_type": "stream",
     "text": [
      "🍨\n"
     ]
    }
   ],
   "source": [
    "src_index_to_word = src_tokenizer.index_word # 원문 단어 집합에서 정수 -> 단어를 얻음\n",
    "tar_word_to_index = tar_tokenizer.word_index # 요약 단어 집합에서 단어 -> 정수를 얻음\n",
    "tar_index_to_word = tar_tokenizer.index_word # 요약 단어 집합에서 정수 -> 단어를 얻음\n",
    "\n",
    "print('🍨')"
   ]
  },
  {
   "cell_type": "code",
   "execution_count": 45,
   "id": "7b312792",
   "metadata": {},
   "outputs": [
    {
     "name": "stdout",
     "output_type": "stream",
     "text": [
      "🍨\n"
     ]
    }
   ],
   "source": [
    "# 인코더 설계\n",
    "encoder_model = Model(inputs=encoder_inputs, outputs=[encoder_outputs, state_h, state_c])\n",
    "\n",
    "# 이전 시점의 상태들을 저장하는 텐서\n",
    "decoder_state_input_h = Input(shape=(hidden_size,))\n",
    "decoder_state_input_c = Input(shape=(hidden_size,))\n",
    "\n",
    "dec_emb2 = dec_emb_layer(decoder_inputs)\n",
    "\n",
    "# 문장의 다음 단어를 예측하기 위해서 초기 상태(initial_state)를 이전 시점의 상태로 사용. 이는 뒤의 함수 decode_sequence()에 구현\n",
    "# 훈련 과정에서와 달리 LSTM의 리턴하는 은닉 상태와 셀 상태인 state_h와 state_c를 버리지 않음.\n",
    "decoder_outputs2, state_h2, state_c2 = decoder_lstm(dec_emb2, initial_state=[decoder_state_input_h, decoder_state_input_c])\n",
    "\n",
    "print('🍨')"
   ]
  },
  {
   "cell_type": "code",
   "execution_count": 46,
   "id": "4dce5fe9",
   "metadata": {},
   "outputs": [
    {
     "name": "stdout",
     "output_type": "stream",
     "text": [
      "🍨\n"
     ]
    }
   ],
   "source": [
    "# 어텐션 함수\n",
    "decoder_hidden_state_input = Input(shape=(text_max_len, hidden_size))\n",
    "attn_out_inf = attn_layer([decoder_outputs2, decoder_hidden_state_input])\n",
    "decoder_inf_concat = Concatenate(axis=-1, name='concat')([decoder_outputs2, attn_out_inf])\n",
    "\n",
    "# 디코더의 출력층\n",
    "decoder_outputs2 = decoder_softmax_layer(decoder_inf_concat) \n",
    "\n",
    "# 최종 디코더 모델\n",
    "decoder_model = Model(\n",
    "    [decoder_inputs] + [decoder_hidden_state_input,decoder_state_input_h, decoder_state_input_c],\n",
    "    [decoder_outputs2] + [state_h2, state_c2])\n",
    "\n",
    "print('🍨')"
   ]
  },
  {
   "cell_type": "code",
   "execution_count": 47,
   "id": "03fbfb2e",
   "metadata": {},
   "outputs": [
    {
     "name": "stdout",
     "output_type": "stream",
     "text": [
      "🍨\n"
     ]
    }
   ],
   "source": [
    "def decode_sequence(input_seq):\n",
    "    # 입력으로부터 인코더의 상태를 얻음\n",
    "    e_out, e_h, e_c = encoder_model.predict(input_seq)\n",
    "\n",
    "     # <SOS>에 해당하는 토큰 생성\n",
    "    target_seq = np.zeros((1,1))\n",
    "    target_seq[0, 0] = tar_word_to_index['sostoken']\n",
    "\n",
    "    stop_condition = False\n",
    "    decoded_sentence = ''\n",
    "    while not stop_condition: # stop_condition이 True가 될 때까지 루프 반복\n",
    "\n",
    "        output_tokens, h, c = decoder_model.predict([target_seq] + [e_out, e_h, e_c])\n",
    "        sampled_token_index = np.argmax(output_tokens[0, -1, :])\n",
    "        sampled_token = tar_index_to_word[sampled_token_index]\n",
    "\n",
    "        if (sampled_token!='eostoken'):\n",
    "            decoded_sentence += ' '+sampled_token\n",
    "\n",
    "        #  <eos>에 도달하거나 최대 길이를 넘으면 중단.\n",
    "        if (sampled_token == 'eostoken'  or len(decoded_sentence.split()) >= (headlines_max_len-1)):\n",
    "            stop_condition = True\n",
    "\n",
    "        # 길이가 1인 타겟 시퀀스를 업데이트\n",
    "        target_seq = np.zeros((1,1))\n",
    "        target_seq[0, 0] = sampled_token_index\n",
    "\n",
    "        # 상태를 업데이트 합니다.\n",
    "        e_h, e_c = h, c\n",
    "\n",
    "    return decoded_sentence\n",
    "print('🍨')"
   ]
  },
  {
   "cell_type": "markdown",
   "id": "05d75540",
   "metadata": {},
   "source": [
    "# 모델 테스트하기"
   ]
  },
  {
   "cell_type": "code",
   "execution_count": 48,
   "id": "f64fa278",
   "metadata": {},
   "outputs": [
    {
     "name": "stdout",
     "output_type": "stream",
     "text": [
      "🍨\n"
     ]
    }
   ],
   "source": [
    "# 원문의 정수 시퀀스를 텍스트 시퀀스로 변환\n",
    "def seq2text(input_seq):\n",
    "    temp=''\n",
    "    for i in input_seq:\n",
    "        if (i!=0):\n",
    "            temp = temp + src_index_to_word[i]+' '\n",
    "    return temp\n",
    "\n",
    "# 요약문의 정수 시퀀스를 텍스트 시퀀스로 변환\n",
    "def seq2summary(input_seq):\n",
    "    temp=''\n",
    "    for i in input_seq:\n",
    "        if ((i!=0 and i!=tar_word_to_index['sostoken']) and i!=tar_word_to_index['eostoken']):\n",
    "            temp = temp + tar_index_to_word[i] + ' '\n",
    "    return temp\n",
    "\n",
    "print('🍨')"
   ]
  },
  {
   "cell_type": "code",
   "execution_count": 49,
   "id": "024c0857",
   "metadata": {},
   "outputs": [
    {
     "name": "stdout",
     "output_type": "stream",
     "text": [
      "원문 : bus students gurugram public school attacked wednesday reportedly rajput group karni sena protest release padmaavat protestors pelted stones bus windows injuries reported incident earlier day protestors set fire bus gurugram road \n",
      "실제 요약 : protesting padmaavat attacks school bus in gurugram \n",
      "예측 요약 :  police station in uttarakhand\n",
      "\n",
      "\n",
      "원문 : agarwal played role domestic help named didi tv serial hai passed away tuesday brief illness suffering fever last days died bathroom per reports daughter reportedly sent voice messages co actors death \n",
      "실제 요약 : actress passes away \n",
      "예측 요약 :  man kills in days\n",
      "\n",
      "\n",
      "원문 : russia supplying oil taliban afghanistan counter operations nato according reports militant group sells fuel crore month carry operations reports added got three aims dealing us defeat islamic state afghan government nato taliban member said \n",
      "실제 요약 : russia funding taliban for anti operations reports \n",
      "예측 요약 :  us releases million from korea\n",
      "\n",
      "\n",
      "원문 : benchmark indices bse sensex nse nifty saw biggest single day fall two months thursday ahead second quarter gdp data sensex fell points nifty points kotak mahindra bank sbi reliance industries major whereas shares dr reddy labs rose \n",
      "실제 요약 : sensex nifty the most in two months \n",
      "예측 요약 :  sensex falls points at first time ever\n",
      "\n",
      "\n",
      "원문 : file hosting service india born chief technology officer aditya agarwal friday announced leaving company five year agarwal held role months previously engineering team culture built wrote facebook \n",
      "실제 요약 : india quits \n",
      "예측 요약 :  to get new\n",
      "\n",
      "\n",
      "원문 : sidharth malhotra neha said much single sidharth rumoured dating alia bhatt opposite made bollywood debut film student year neha asked pick one actor industry best describes good things come small package sidharth chose alia \n",
      "실제 요약 : am very single sidharth \n",
      "예측 요약 :  release date of sidharth film postponed\n",
      "\n",
      "\n",
      "원문 : academy motion picture arts sciences saturday expelled producer harvey weinstein immediate effect women including actresses like accused sexual assault academy oscars said decision taken send message sexually behaviour workplace harassment industry \n",
      "실제 요약 : oscars board weinstein over sexual assault allegations \n",
      "예측 요약 :  weinstein weinstein to sexual assault\n",
      "\n",
      "\n",
      "원문 : japan softbank announced first major close vision fund committed capital billion making world largest technology fund besides softbank fund investors include saudi arabia public fund apple qualcomm owned sharp fund targets total billion capital final close within six months \n",
      "실제 요약 : softbank saudi tech fund world largest with capital \n",
      "예측 요약 :  walmart to invest billion in\n",
      "\n",
      "\n",
      "원문 : bjp allies form ruling governments indian states party tripura elections entered ruling meghalaya nagaland states account india population bjp ruled seven states congress power reduced three states \n",
      "실제 요약 : bjp and now control of indian states \n",
      "예측 요약 :  congress should not for elections\n",
      "\n",
      "\n",
      "원문 : born maharashtra january first female teacher country victim child marriage known opened schools girls well care centre pregnant rape victims child marriage social \n",
      "실제 요약 : who was india first female teacher \n",
      "예측 요약 :  student gets for\n",
      "\n",
      "\n",
      "원문 : former world number one tennis player world cup winning german footballer took twitter announce birth first child baby boy couple got married july welcome world little boy words describe joy happiness feel tweeted \n",
      "실제 요약 : and welcome baby boy \n",
      "예측 요약 :  serena wins world first ever title\n",
      "\n",
      "\n",
      "원문 : supreme court monday directed real estate firm deposit crore money investors wanted towers project noida however told court already paid crore investors adding crore would much \n",
      "실제 요약 : pay crore to investors sc to \n",
      "예측 요약 :  sc orders of crore in\n",
      "\n",
      "\n",
      "원문 : indian army sunday killed three militants encounter assam east district army launched operation receiving specific intelligence regarding presence militants two militants killed encounter one succumbed injuries later notably large arms ammunition war like stores also recovered \n",
      "실제 요약 : army militants in assam \n",
      "예측 요약 :  militants killed in encounter in\n",
      "\n",
      "\n",
      "원문 : year old man drowned river jharkhand accepting bet could swim across river despite swim around could save since know swim either victim brother said man accompanied friend could \n",
      "실제 요약 : man to win in jharkhand \n",
      "예측 요약 :  man attacked after in\n",
      "\n",
      "\n",
      "원문 : uk based developed speaker based films powered amazon digital assistant alexa priced speaker inches tall connects via bluetooth wi fi cable also lets users answer phone calls using internal left eye skull high definition camera videos user smartphone \n",
      "실제 요약 : company makes themed smart speaker \n",
      "예측 요약 :  which startup makes device on\n",
      "\n",
      "\n",
      "원문 : th south africa innings final former india captain ms dhoni advised suresh raina fire ball stumps dhoni said thrice fifth ball however raina bowled kmph delivery towards leg hit four \n",
      "실제 요약 : dhoni in despite \n",
      "예측 요약 :  india first odi runs in india\n",
      "\n",
      "\n",
      "원문 : jammu kashmir government friday declared heavy snowfall earlier week state specific special natural official spokesperson said government also enhanced relief amount per per damage crops apple kashmir suffered losses worth around crore due snowfall \n",
      "실제 요약 : declares november as special \n",
      "예측 요약 :  govt declares of in\n",
      "\n",
      "\n",
      "원문 : israel government cyber security agency sent alert regarding method would allow hackers whatsapp accounts feature according report hacking system works users using services mobile service providers hacking method first documented last year ran bar israeli web developer oath \n",
      "실제 요약 : lets hackers whatsapp accounts via \n",
      "예측 요약 :  facebook launches global outage for hours\n",
      "\n",
      "\n",
      "원문 : bengaluru based home automation startup innovation labs raised crore bridge round equity platform crowd existing investor ventures crowd contributed crore rest came ventures investors founded startup creates internet things based automation solutions homes offices hotels \n",
      "실제 요약 : bengaluru home startup raises crore \n",
      "예측 요약 :  mumbai based startup raises crore\n",
      "\n",
      "\n",
      "원문 : new tier us based scientists earth hybrid class iv life forms started affecting scale changes class would affected advanced life forms class atmosphere less class ii planets class iii life forms planet \n",
      "실제 요약 : earth now planet as per new \n",
      "예측 요약 :  us school station in\n",
      "\n",
      "\n",
      "원문 : replying gst handle tweet simply stating user tweeted gst mean good simple tax another user replied tweet saying mean anything current government another tweet read half day boss another tweet read gst handle later deleted tweet \n",
      "실제 요약 : gst twitter account tweets no gets trolled \n",
      "예측 요약 :  tweets user on instagram\n",
      "\n",
      "\n",
      "원문 : voting municipal corporation delhi elections wards across three corporations took place sunday crore people including lakh first time voters expected vote counting held april first time voters given none option delhi municipal elections \n",
      "실제 요약 : for delhi election begins \n",
      "예측 요약 :  delhi gets crore from\n",
      "\n",
      "\n",
      "원문 : australia laws designed stop speaking alleged abuse asylum detention camps order restrict definition unauthorised information relating national public interest activists long criticised conditions camps hailed decision victory free speech \n",
      "실제 요약 : australia drops \n",
      "예측 요약 :  govt orders of bill\n",
      "\n",
      "\n",
      "원문 : dubai started testing world first self driving travel also couple together like bus designed travel short medium distances kmph seconds seconds carry riders last hours single charge \n",
      "실제 요약 : world first unveiled in dubai \n",
      "예측 요약 :  unveils world first ever\n",
      "\n",
      "\n",
      "원문 : earthquake magnitude hit islands belonging caribbean sea tuesday windows capital however casualties reported yet tsunami advisory initially issued authorities earthquake later model indicated tsunami threat region \n",
      "실제 요약 : earthquake hits sea \n",
      "예측 요약 :  indonesia earthquake earthquake hits missing\n",
      "\n",
      "\n",
      "원문 : eve second anniversary world record innings mumbai year old slammed runs inter college match thursday knock included fours three sixes helped side score last year returned scholarship given mumbai cricket association poor form \n",
      "실제 요약 : record slams on of record anniversary \n",
      "예측 요약 :  breaks record record record\n",
      "\n",
      "\n",
      "원문 : justice four supreme court judges overturned father justice ruling held law valid woman voice autonomy entering marriage section sexual freedom women dignity justice said thursday \n",
      "실제 요약 : justice father on \n",
      "예측 요약 :  sc to triple on\n",
      "\n",
      "\n",
      "원문 : whistleblower edward suggested government must criminal penalty anyone uses aadhaar data purposes public services added penalty must introduced indian government serious implementing aadhaar public good privacy issues helps said \n",
      "실제 요약 : govt must aadhaar data \n",
      "예측 요약 :  aadhaar not mandatory for aadhaar\n",
      "\n",
      "\n",
      "원문 : van dutch sales manager competition among participants become formula one driver year old started aged eight winning dutch junior championship quit due lack funding van said could dreams winning competition \n",
      "실제 요약 : wins competition gets by \n",
      "예측 요약 :  dies after\n",
      "\n",
      "\n",
      "원문 : according report new york times actors politicians television among bought millions fake social media followers report said accounts bought company called claims increase user social media presence statement twitter said working stop similar companies \n",
      "실제 요약 : politicians buy fake social media followers report \n",
      "예측 요약 :  snapchat files lakh for\n",
      "\n",
      "\n",
      "원문 : floods assam claimed five lives sunday taking total number deaths nine lakh people affected lakh displaced taking shelter relief camps disaster management officials said major rivers state still flowing danger mark reports said \n",
      "실제 요약 : lakh as assam floods death toll hits \n",
      "예측 요약 :  people affected in assam floods rises to\n",
      "\n",
      "\n",
      "원문 : female flight attendant suspended video footage showed eating passengers flight meals emerged online incident happened low cost chinese airline air flight staff follow standard handling food airline said confirming air video employee \n",
      "실제 요약 : flight suspended over eating passengers \n",
      "예측 요약 :  pilot makes emergency landing\n",
      "\n",
      "\n",
      "원문 : four sanitation workers died cleaning gujarat vadodara sunday police said apparently toxic fell unconscious inside police official said adding declared dead arrival hospital cause death believed though yet conducted added \n",
      "실제 요약 : workers die while in \n",
      "예측 요약 :  man killed in maharashtra in maharashtra\n",
      "\n",
      "\n",
      "원문 : us president donald trump friday signed executive order aimed reducing restrictions oil arctic atlantic trump said would create thousands jobs despite oil market order could ban put place former president barack obama order protect ocean development \n",
      "실제 요약 : trump signs order at \n",
      "예측 요약 :  trump signs us trade with\n",
      "\n",
      "\n",
      "원문 : islamic state claimed killed two chinese nationals abducted last month pakistan balochistan province couple studying urdu kidnapped last month men wearing police uniforms claim comes pakistan military announced carried successful operation isis affiliated militants held couple hostage \n",
      "실제 요약 : isis claims killing chinese couple abducted in pakistan \n",
      "예측 요약 :  bsf arrests pakistani for pakistani border\n",
      "\n",
      "\n",
      "원문 : propaganda poster released pro isis media foundation threatened attack vatican christmas poster obtained site intelligence group isis online activities earlier year pro isis group released video calling attacks pope francis catholic destroyed \n",
      "실제 요약 : isis poster threatens christmas attack on the \n",
      "예측 요약 :  musk shows syrian in us\n",
      "\n",
      "\n",
      "원문 : maker food services reportedly raised million funding led existing investor belgium based investment holding company manages billion assets across globe october food raised million series round capital \n",
      "실제 요약 : food services raises crore in funding \n",
      "예측 요약 :  raises mn in series funding\n",
      "\n",
      "\n",
      "원문 : india world cup winning coach rahul dravid reportedly questioned cash reward lakh lakh lakh support staff squad respectively per reports dravid told bcci everyone involved support staff players played equal part team success new zealand \n",
      "실제 요약 : dravid questions in for coach team \n",
      "예측 요약 :  bank files crore in\n",
      "\n",
      "\n",
      "원문 : bitcoin rival cryptocurrency hit fresh record high tuesday year date market capitalisation billion making fourth largest cryptocurrency value faster bitcoin started lee mit graduate former google engineer \n",
      "실제 요약 : bitcoin rival hits surges this year \n",
      "예측 요약 :  bitcoin hits the of billion in\n",
      "\n",
      "\n",
      "원문 : china tencent reported year year rise profit billion december quarter company revenues also rose billion driven mobile games advertisement business tencent world largest social media company market capitalisation billion closest rival facebook value billion \n",
      "실제 요약 : profit surges to bn in december quarter \n",
      "예측 요약 :  profit surges to billion in\n",
      "\n",
      "\n",
      "원문 : karnataka state tourism development corporation bengaluru international airport monday launched women taxi service called go pink trial basis airport stated women drivers multiple languages well local areas trained self defence tactics taxis equipped safety features like switch gps tracking \n",
      "실제 요약 : bengaluru airport gets women only service \n",
      "예측 요약 :  bengaluru to get pollution\n",
      "\n",
      "\n",
      "원문 : club bowler deliberately threw ball boundary deny opposition player chance score maiden hundred apologised actions left batsman jay stranded five runs latter team needed two runs win handed nine match ban \n",
      "실제 요약 : banned bowler apologises for batsman century \n",
      "예측 요약 :  serena goal from\n",
      "\n",
      "\n",
      "원문 : major cognizant technology solutions laid around senior employees director level reportedly month move targeted bring fresh talent digital requirements lay employees could want currently technological trends \n",
      "실제 요약 : fires senior employees for tech \n",
      "예측 요약 :  amazon firm to cryptocurrency\n",
      "\n",
      "\n",
      "원문 : australian researchers discovered year old spider recently died previous world record holder year old found mexico research project initiated york main long term spider population years region western australia said university researcher \n",
      "실제 요약 : world oldest dies aged in australia \n",
      "예측 요약 :  scientists world smallest ever\n",
      "\n",
      "\n",
      "원문 : submitting resignation bihar chief minister nitish kumar wednesday said several allegations levelled supported demonetisation kumar resigned earlier today citing crisis ruling congress rjd jd alliance possible work environment tried tried find solution kumar added \n",
      "실제 요약 : was for demonetisation nitish kumar \n",
      "예측 요약 :  sharad yadav resigns from aiadmk\n",
      "\n",
      "\n",
      "원문 : around total candidates nominated upcoming karnataka assembly elections women last elections bjp maximum number candidates ruling congress jd constituency highest number candidates one seat \n",
      "실제 요약 : only candidates in karnataka elections are women \n",
      "예측 요약 :  in karnataka mlas\n",
      "\n",
      "\n",
      "원문 : india singapore signed second protocol economic cooperation agreement boost trade ties two countries also exploring possibility launching third review india singapore september india largest trading partner singapore south asia bilateral trade billion \n",
      "실제 요약 : india singapore sign to trade \n",
      "예측 요약 :  india india sign to military\n",
      "\n",
      "\n",
      "원문 : aiadmk leader suggested late cm jayalalithaa name recommended nobel prize light scheme preventing female tamil nadu jayalalithaa baby scheme even nobel peace prize winner mother added scheme allowed women hand government \n",
      "실제 요약 : should jayalalithaa for nobel prize aiadmk leader \n",
      "예측 요약 :  singer gets from\n",
      "\n",
      "\n",
      "원문 : un general assembly wednesday picked foreign minister next president succeed ban ki moon un secretary general last year succeed diplomat peter serve people focus peace must priority us said \n",
      "실제 요약 : un general assembly as president \n",
      "예측 요약 :  maldives rejects of un un\n",
      "\n",
      "\n",
      "원문 : indian pacer kumar recently shared picture instagram dinner date partner added would reveal full picture soon per reports date telugu film actress model sarkar people spotted getting red car cricketer \n",
      "실제 요약 : kumar shares picture from date \n",
      "예측 요약 :  yuvraj singh shares picture with\n",
      "\n",
      "\n"
     ]
    }
   ],
   "source": [
    "for i in range(50, 100):\n",
    "    print(\"원문 :\", seq2text(encoder_input_test[i]))\n",
    "    print(\"실제 요약 :\", seq2summary(decoder_input_test[i]))\n",
    "    print(\"예측 요약 :\", decode_sequence(encoder_input_test[i].reshape(1, text_max_len)))\n",
    "    print(\"\\n\")"
   ]
  },
  {
   "cell_type": "markdown",
   "id": "a32b8ba8",
   "metadata": {},
   "source": [
    "# 추출적 요약 해보기"
   ]
  },
  {
   "cell_type": "markdown",
   "id": "eca56116",
   "metadata": {},
   "source": [
    "**패키지 설치**\n",
    "\n",
    "$ pip list | grep summa"
   ]
  },
  {
   "cell_type": "markdown",
   "id": "99c88c7b",
   "metadata": {},
   "source": [
    "데이터 다운로드"
   ]
  },
  {
   "cell_type": "code",
   "execution_count": 50,
   "id": "bda0c652",
   "metadata": {},
   "outputs": [],
   "source": [
    "import requests\n",
    "from summa.summarizer import summarize"
   ]
  },
  {
   "cell_type": "markdown",
   "id": "6ed0dda2",
   "metadata": {},
   "source": [
    "매트릭스 시놉시스 다운"
   ]
  },
  {
   "cell_type": "code",
   "execution_count": 51,
   "id": "30eaaeac",
   "metadata": {},
   "outputs": [],
   "source": [
    "text = requests.get('http://rare-technologies.com/the_matrix_synopsis.txt').text"
   ]
  },
  {
   "cell_type": "code",
   "execution_count": 52,
   "id": "52b880ee",
   "metadata": {},
   "outputs": [
    {
     "name": "stdout",
     "output_type": "stream",
     "text": [
      "The screen is filled with green, cascading code which gives way to the title, The Matrix.\r\n",
      "\r\n",
      "A phone rings and text appears on the screen: \"Call trans opt: received. 2-19-98 13:24:18 REC: Log>\" As a conversation takes place between Trinity (Carrie-Anne Moss) and Cypher (Joe Pantoliano), two free humans, a table of random green numbers are being scanned and individual numbers selected, creating a series of digits not unlike an ordinary phone number, as if a code is being deciphered or a call is being traced.\r\n",
      "\r\n",
      "Trinity discusses some unknown person. Cypher taunts Trinity, suggesting she enjoys watching him. Trinity counters that \"Morpheus (Laurence Fishburne) says he may be 'the One',\" just as the sound of a number being selected alerts Trinity that someone may be tracing their call. She ends the call.\r\n",
      "\r\n",
      "Armed policemen move down a darkened, decrepit hallway in the Heart O' the City Hotel, their flashlight beam bouncing just ahead of them. They come to room 303, kick down the door and find a woman dressed in black, facing away from them. It's Trinity. She brings her hands up from the laptop she's working on at their command.\r\n",
      "\r\n",
      "Outside the hotel a car drives up and three agents appear in neatly pressed black suits. They are Agent Smith (Hugo Weaving), Agent Brown (Paul Goddard), and Agent Jones (Robert Taylor). Agent Smith and the presiding police lieutenant argue. Agent Smith admonishes the policeman that they were given specific orders to contact the agents first, for their\n"
     ]
    }
   ],
   "source": [
    "print(text[:1500])"
   ]
  },
  {
   "cell_type": "markdown",
   "id": "d2f0a23f",
   "metadata": {},
   "source": [
    "**summarize 사용**\n",
    "\n",
    "Summa의 summarize는 문장 토큰화를 별도로 하지 않더라도 내부적으로 문장 토큰화를 수행\n",
    "\n",
    "그렇기 때문에 문장 구분이 되어있지 않은 원문을 바로 입력으로 넣을 수 있음"
   ]
  },
  {
   "cell_type": "code",
   "execution_count": 53,
   "id": "7b910704",
   "metadata": {},
   "outputs": [
    {
     "name": "stdout",
     "output_type": "stream",
     "text": [
      "headlines:\n",
      "Morpheus, Trinity, Neo, Apoc, Switch, Mouse and Cypher are jacked into the Matrix.\n",
      "Trinity brings the helicopter down to the floor that Morpheus is on and Neo opens fire on the three Agents.\n"
     ]
    }
   ],
   "source": [
    "print('headlines:')\n",
    "print(summarize(text, ratio=0.005))"
   ]
  },
  {
   "cell_type": "code",
   "execution_count": 54,
   "id": "120721c2",
   "metadata": {},
   "outputs": [
    {
     "name": "stdout",
     "output_type": "stream",
     "text": [
      "headlines:\n",
      "['Morpheus, Trinity, Neo, Apoc, Switch, Mouse and Cypher are jacked into the Matrix.', 'Trinity brings the helicopter down to the floor that Morpheus is on and Neo opens fire on the three Agents.']\n"
     ]
    }
   ],
   "source": [
    "print('headlines:')\n",
    "print(summarize(text, ratio=0.005, split=True))"
   ]
  },
  {
   "cell_type": "code",
   "execution_count": 55,
   "id": "500a606e",
   "metadata": {},
   "outputs": [
    {
     "name": "stdout",
     "output_type": "stream",
     "text": [
      "headlines:\n",
      "Trinity takes Neo to Morpheus.\n",
      "Morpheus, Trinity, Neo, Apoc, Switch, Mouse and Cypher are jacked into the Matrix.\n",
      "Trinity brings the helicopter down to the floor that Morpheus is on and Neo opens fire on the three Agents.\n"
     ]
    }
   ],
   "source": [
    "print('headlines:')\n",
    "print(summarize(text, words=50))"
   ]
  },
  {
   "cell_type": "markdown",
   "id": "48915898",
   "metadata": {},
   "source": []
  },
  {
   "cell_type": "markdown",
   "id": "ed97da06",
   "metadata": {},
   "source": [
    "# [E-08] 회고\n",
    "\n",
    "이번 익스도 만만치 않았는데요. 자연어쪽이라서 그런지 시간도 엄청 많이 걸렸습니다.\n",
    "그렇다보니 제발 오류가 안나기를 빌면서 하네요😂\n",
    "\n",
    "하지만 오류가 안나면 천상계 기업에 취직해서 일하고 있겠죠?\n",
    "그런의미에서 이번 익스8번도 엉망진창 이었습니다.\n",
    "\n",
    "데이터를 불러오고 전처리하는 과정까지는 LMS노드를 보면서 잘 따라가고 있었는데 중간에 어텐션 메커니즘에서 오류가 났었습니다.\n",
    "타입에러라고 장문의 오류가 떠서 구글링했는데 제가 자료를 찾아도 해석을 제대로 못해서 구글번역기를 돌렸는데도 뭐라하는지 모르겠더라고요.\n",
    "\n",
    "그래서 그냥 처음부터 다시 노드를 복붙하면서 가져오고 'Summry'를 'headlines'으로 바꾸니까 어텐션 메커니즘이 잘 돌아갔습니다.\n",
    "\n",
    "중간에 확인해보면서 했어야 했는데... 전처리 하는 과정이 너무 오래 걸리다 보니까 그냥 한 번에 해서 뭐가 문제인지 아직까지 모르네요😥\n",
    "\n",
    "그리고 학습하는 과정ㅎㅎ 에포크ㅎ... 하는 시간이 너무 오래걸려서 얼리스탑을 넣어줬습니다. 아니면 과제를 며칠동안 붙잡고 있어야할 것 같았거든요.\n",
    "\n",
    "이번에도 어찌저찌 익스8번 과제를 끝내게 되었는데요. 과제를 끝낼때마다 복잡미묘한 감정이 드는 것 같습니다. 아는데 모르겠고. 저저번주에 지영님이랑 대화를 하다가 지영님이 '조각 모음을 하고 있는 것 같다.'고 말씀하셨었는데, 진짜 그런 느낌이네요.\n",
    "\n",
    "결국 답은 공부뿐ㅎㅎ 아무것도 하지 않으면 아무것도 모르고 변하지 않으니까 꾸준히 힘들면 진득하게 앉아서 노력하려구요ㅎㅎ"
   ]
  }
 ],
 "metadata": {
  "kernelspec": {
   "display_name": "Python 3 (ipykernel)",
   "language": "python",
   "name": "python3"
  },
  "language_info": {
   "codemirror_mode": {
    "name": "ipython",
    "version": 3
   },
   "file_extension": ".py",
   "mimetype": "text/x-python",
   "name": "python",
   "nbconvert_exporter": "python",
   "pygments_lexer": "ipython3",
   "version": "3.9.7"
  }
 },
 "nbformat": 4,
 "nbformat_minor": 5
}
