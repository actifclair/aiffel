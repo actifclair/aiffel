{
 "cells": [
  {
   "cell_type": "markdown",
   "id": "aa7dd4bb",
   "metadata": {},
   "source": [
    "# EXPLORATION 14 아이유팬이 좋아할 만한 다른 아티스트 찾기"
   ]
  },
  {
   "cell_type": "markdown",
   "id": "a0072214",
   "metadata": {},
   "source": [
    "**데이터 준비와 전처리**"
   ]
  },
  {
   "cell_type": "code",
   "execution_count": 1,
   "id": "0782d1d4",
   "metadata": {},
   "outputs": [
    {
     "data": {
      "text/html": [
       "<div>\n",
       "<style scoped>\n",
       "    .dataframe tbody tr th:only-of-type {\n",
       "        vertical-align: middle;\n",
       "    }\n",
       "\n",
       "    .dataframe tbody tr th {\n",
       "        vertical-align: top;\n",
       "    }\n",
       "\n",
       "    .dataframe thead th {\n",
       "        text-align: right;\n",
       "    }\n",
       "</style>\n",
       "<table border=\"1\" class=\"dataframe\">\n",
       "  <thead>\n",
       "    <tr style=\"text-align: right;\">\n",
       "      <th></th>\n",
       "      <th>user_id</th>\n",
       "      <th>movie_id</th>\n",
       "      <th>rating</th>\n",
       "      <th>timestamp</th>\n",
       "    </tr>\n",
       "  </thead>\n",
       "  <tbody>\n",
       "    <tr>\n",
       "      <th>0</th>\n",
       "      <td>1</td>\n",
       "      <td>1193</td>\n",
       "      <td>5</td>\n",
       "      <td>978300760</td>\n",
       "    </tr>\n",
       "    <tr>\n",
       "      <th>1</th>\n",
       "      <td>1</td>\n",
       "      <td>661</td>\n",
       "      <td>3</td>\n",
       "      <td>978302109</td>\n",
       "    </tr>\n",
       "    <tr>\n",
       "      <th>2</th>\n",
       "      <td>1</td>\n",
       "      <td>914</td>\n",
       "      <td>3</td>\n",
       "      <td>978301968</td>\n",
       "    </tr>\n",
       "    <tr>\n",
       "      <th>3</th>\n",
       "      <td>1</td>\n",
       "      <td>3408</td>\n",
       "      <td>4</td>\n",
       "      <td>978300275</td>\n",
       "    </tr>\n",
       "    <tr>\n",
       "      <th>4</th>\n",
       "      <td>1</td>\n",
       "      <td>2355</td>\n",
       "      <td>5</td>\n",
       "      <td>978824291</td>\n",
       "    </tr>\n",
       "  </tbody>\n",
       "</table>\n",
       "</div>"
      ],
      "text/plain": [
       "   user_id  movie_id  rating  timestamp\n",
       "0        1      1193       5  978300760\n",
       "1        1       661       3  978302109\n",
       "2        1       914       3  978301968\n",
       "3        1      3408       4  978300275\n",
       "4        1      2355       5  978824291"
      ]
     },
     "execution_count": 1,
     "metadata": {},
     "output_type": "execute_result"
    }
   ],
   "source": [
    "import os\n",
    "import pandas as pd\n",
    "from scipy.sparse import csr_matrix\n",
    "from implicit.als import AlternatingLeastSquares\n",
    "import numpy as np\n",
    "\n",
    "rating_file_path=os.getenv('HOME') + '/aiffel/recommendata_iu/data/ml-1m/ratings.dat'\n",
    "ratings_cols = ['user_id', 'movie_id', 'rating', 'timestamp']\n",
    "ratings = pd.read_csv(rating_file_path, sep='::', names=ratings_cols, engine='python')\n",
    "orginal_data_size = len(ratings)\n",
    "ratings.head()"
   ]
  },
  {
   "cell_type": "code",
   "execution_count": 2,
   "id": "9111e921",
   "metadata": {},
   "outputs": [
    {
     "name": "stdout",
     "output_type": "stream",
     "text": [
      "orginal_data_size: 1000209, filtered_data_size: 836478\n",
      "Ratio of Remaining Data is 83.63%\n"
     ]
    }
   ],
   "source": [
    "# 3점 이상만 남깁니다.\n",
    "ratings = ratings[ratings['rating']>=3]\n",
    "filtered_data_size = len(ratings)\n",
    "\n",
    "print(f'orginal_data_size: {orginal_data_size}, filtered_data_size: {filtered_data_size}')\n",
    "print(f'Ratio of Remaining Data is {filtered_data_size / orginal_data_size:.2%}')"
   ]
  },
  {
   "cell_type": "code",
   "execution_count": 3,
   "id": "75d4637e",
   "metadata": {},
   "outputs": [],
   "source": [
    "# rating 컬럼의 이름을 count로 바꿉니다.\n",
    "ratings.rename(columns={'rating':'count'}, inplace=True)"
   ]
  },
  {
   "cell_type": "code",
   "execution_count": 4,
   "id": "b3d06fbf",
   "metadata": {},
   "outputs": [
    {
     "data": {
      "text/plain": [
       "0          5\n",
       "1          3\n",
       "2          3\n",
       "3          4\n",
       "4          5\n",
       "          ..\n",
       "1000203    3\n",
       "1000205    5\n",
       "1000206    5\n",
       "1000207    4\n",
       "1000208    4\n",
       "Name: count, Length: 836478, dtype: int64"
      ]
     },
     "execution_count": 4,
     "metadata": {},
     "output_type": "execute_result"
    }
   ],
   "source": [
    "ratings['count']"
   ]
  },
  {
   "cell_type": "code",
   "execution_count": 5,
   "id": "6abff4f4",
   "metadata": {},
   "outputs": [
    {
     "data": {
      "text/html": [
       "<div>\n",
       "<style scoped>\n",
       "    .dataframe tbody tr th:only-of-type {\n",
       "        vertical-align: middle;\n",
       "    }\n",
       "\n",
       "    .dataframe tbody tr th {\n",
       "        vertical-align: top;\n",
       "    }\n",
       "\n",
       "    .dataframe thead th {\n",
       "        text-align: right;\n",
       "    }\n",
       "</style>\n",
       "<table border=\"1\" class=\"dataframe\">\n",
       "  <thead>\n",
       "    <tr style=\"text-align: right;\">\n",
       "      <th></th>\n",
       "      <th>movie_id</th>\n",
       "      <th>title</th>\n",
       "      <th>genre</th>\n",
       "    </tr>\n",
       "  </thead>\n",
       "  <tbody>\n",
       "    <tr>\n",
       "      <th>0</th>\n",
       "      <td>1</td>\n",
       "      <td>Toy Story (1995)</td>\n",
       "      <td>Animation|Children's|Comedy</td>\n",
       "    </tr>\n",
       "    <tr>\n",
       "      <th>1</th>\n",
       "      <td>2</td>\n",
       "      <td>Jumanji (1995)</td>\n",
       "      <td>Adventure|Children's|Fantasy</td>\n",
       "    </tr>\n",
       "    <tr>\n",
       "      <th>2</th>\n",
       "      <td>3</td>\n",
       "      <td>Grumpier Old Men (1995)</td>\n",
       "      <td>Comedy|Romance</td>\n",
       "    </tr>\n",
       "    <tr>\n",
       "      <th>3</th>\n",
       "      <td>4</td>\n",
       "      <td>Waiting to Exhale (1995)</td>\n",
       "      <td>Comedy|Drama</td>\n",
       "    </tr>\n",
       "    <tr>\n",
       "      <th>4</th>\n",
       "      <td>5</td>\n",
       "      <td>Father of the Bride Part II (1995)</td>\n",
       "      <td>Comedy</td>\n",
       "    </tr>\n",
       "    <tr>\n",
       "      <th>5</th>\n",
       "      <td>6</td>\n",
       "      <td>Heat (1995)</td>\n",
       "      <td>Action|Crime|Thriller</td>\n",
       "    </tr>\n",
       "    <tr>\n",
       "      <th>6</th>\n",
       "      <td>7</td>\n",
       "      <td>Sabrina (1995)</td>\n",
       "      <td>Comedy|Romance</td>\n",
       "    </tr>\n",
       "    <tr>\n",
       "      <th>7</th>\n",
       "      <td>8</td>\n",
       "      <td>Tom and Huck (1995)</td>\n",
       "      <td>Adventure|Children's</td>\n",
       "    </tr>\n",
       "    <tr>\n",
       "      <th>8</th>\n",
       "      <td>9</td>\n",
       "      <td>Sudden Death (1995)</td>\n",
       "      <td>Action</td>\n",
       "    </tr>\n",
       "    <tr>\n",
       "      <th>9</th>\n",
       "      <td>10</td>\n",
       "      <td>GoldenEye (1995)</td>\n",
       "      <td>Action|Adventure|Thriller</td>\n",
       "    </tr>\n",
       "  </tbody>\n",
       "</table>\n",
       "</div>"
      ],
      "text/plain": [
       "   movie_id                               title                         genre\n",
       "0         1                    Toy Story (1995)   Animation|Children's|Comedy\n",
       "1         2                      Jumanji (1995)  Adventure|Children's|Fantasy\n",
       "2         3             Grumpier Old Men (1995)                Comedy|Romance\n",
       "3         4            Waiting to Exhale (1995)                  Comedy|Drama\n",
       "4         5  Father of the Bride Part II (1995)                        Comedy\n",
       "5         6                         Heat (1995)         Action|Crime|Thriller\n",
       "6         7                      Sabrina (1995)                Comedy|Romance\n",
       "7         8                 Tom and Huck (1995)          Adventure|Children's\n",
       "8         9                 Sudden Death (1995)                        Action\n",
       "9        10                    GoldenEye (1995)     Action|Adventure|Thriller"
      ]
     },
     "execution_count": 5,
     "metadata": {},
     "output_type": "execute_result"
    }
   ],
   "source": [
    "# 영화 제목을 보기 위해 메타 데이터를 읽어옵니다.\n",
    "movie_file_path=os.getenv('HOME') + '/aiffel/recommendata_iu/data/ml-1m/movies.dat'\n",
    "cols = ['movie_id', 'title', 'genre'] \n",
    "movies = pd.read_csv(movie_file_path, sep='::', names=cols, engine='python', encoding='ISO-8859-1')\n",
    "movies.head(10)"
   ]
  },
  {
   "cell_type": "code",
   "execution_count": 6,
   "id": "74ceef4b",
   "metadata": {},
   "outputs": [
    {
     "data": {
      "text/html": [
       "<div>\n",
       "<style scoped>\n",
       "    .dataframe tbody tr th:only-of-type {\n",
       "        vertical-align: middle;\n",
       "    }\n",
       "\n",
       "    .dataframe tbody tr th {\n",
       "        vertical-align: top;\n",
       "    }\n",
       "\n",
       "    .dataframe thead th {\n",
       "        text-align: right;\n",
       "    }\n",
       "</style>\n",
       "<table border=\"1\" class=\"dataframe\">\n",
       "  <thead>\n",
       "    <tr style=\"text-align: right;\">\n",
       "      <th></th>\n",
       "      <th>movie_id</th>\n",
       "      <th>movie_id_new</th>\n",
       "      <th>title</th>\n",
       "      <th>genre</th>\n",
       "    </tr>\n",
       "  </thead>\n",
       "  <tbody>\n",
       "    <tr>\n",
       "      <th>0</th>\n",
       "      <td>1</td>\n",
       "      <td>1</td>\n",
       "      <td>Toy Story (1995)</td>\n",
       "      <td>Animation|Children's|Comedy</td>\n",
       "    </tr>\n",
       "    <tr>\n",
       "      <th>1</th>\n",
       "      <td>2</td>\n",
       "      <td>2</td>\n",
       "      <td>Jumanji (1995)</td>\n",
       "      <td>Adventure|Children's|Fantasy</td>\n",
       "    </tr>\n",
       "    <tr>\n",
       "      <th>2</th>\n",
       "      <td>3</td>\n",
       "      <td>3</td>\n",
       "      <td>Grumpier Old Men (1995)</td>\n",
       "      <td>Comedy|Romance</td>\n",
       "    </tr>\n",
       "    <tr>\n",
       "      <th>3</th>\n",
       "      <td>4</td>\n",
       "      <td>4</td>\n",
       "      <td>Waiting to Exhale (1995)</td>\n",
       "      <td>Comedy|Drama</td>\n",
       "    </tr>\n",
       "    <tr>\n",
       "      <th>4</th>\n",
       "      <td>5</td>\n",
       "      <td>5</td>\n",
       "      <td>Father of the Bride Part II (1995)</td>\n",
       "      <td>Comedy</td>\n",
       "    </tr>\n",
       "    <tr>\n",
       "      <th>...</th>\n",
       "      <td>...</td>\n",
       "      <td>...</td>\n",
       "      <td>...</td>\n",
       "      <td>...</td>\n",
       "    </tr>\n",
       "    <tr>\n",
       "      <th>3878</th>\n",
       "      <td>3948</td>\n",
       "      <td>3879</td>\n",
       "      <td>Meet the Parents (2000)</td>\n",
       "      <td>Comedy</td>\n",
       "    </tr>\n",
       "    <tr>\n",
       "      <th>3879</th>\n",
       "      <td>3949</td>\n",
       "      <td>3880</td>\n",
       "      <td>Requiem for a Dream (2000)</td>\n",
       "      <td>Drama</td>\n",
       "    </tr>\n",
       "    <tr>\n",
       "      <th>3880</th>\n",
       "      <td>3950</td>\n",
       "      <td>3881</td>\n",
       "      <td>Tigerland (2000)</td>\n",
       "      <td>Drama</td>\n",
       "    </tr>\n",
       "    <tr>\n",
       "      <th>3881</th>\n",
       "      <td>3951</td>\n",
       "      <td>3882</td>\n",
       "      <td>Two Family House (2000)</td>\n",
       "      <td>Drama</td>\n",
       "    </tr>\n",
       "    <tr>\n",
       "      <th>3882</th>\n",
       "      <td>3952</td>\n",
       "      <td>3883</td>\n",
       "      <td>Contender, The (2000)</td>\n",
       "      <td>Drama|Thriller</td>\n",
       "    </tr>\n",
       "  </tbody>\n",
       "</table>\n",
       "<p>3883 rows × 4 columns</p>\n",
       "</div>"
      ],
      "text/plain": [
       "      movie_id  movie_id_new                               title  \\\n",
       "0            1             1                    Toy Story (1995)   \n",
       "1            2             2                      Jumanji (1995)   \n",
       "2            3             3             Grumpier Old Men (1995)   \n",
       "3            4             4            Waiting to Exhale (1995)   \n",
       "4            5             5  Father of the Bride Part II (1995)   \n",
       "...        ...           ...                                 ...   \n",
       "3878      3948          3879             Meet the Parents (2000)   \n",
       "3879      3949          3880          Requiem for a Dream (2000)   \n",
       "3880      3950          3881                    Tigerland (2000)   \n",
       "3881      3951          3882             Two Family House (2000)   \n",
       "3882      3952          3883               Contender, The (2000)   \n",
       "\n",
       "                             genre  \n",
       "0      Animation|Children's|Comedy  \n",
       "1     Adventure|Children's|Fantasy  \n",
       "2                   Comedy|Romance  \n",
       "3                     Comedy|Drama  \n",
       "4                           Comedy  \n",
       "...                            ...  \n",
       "3878                        Comedy  \n",
       "3879                         Drama  \n",
       "3880                         Drama  \n",
       "3881                         Drama  \n",
       "3882                Drama|Thriller  \n",
       "\n",
       "[3883 rows x 4 columns]"
      ]
     },
     "execution_count": 6,
     "metadata": {},
     "output_type": "execute_result"
    }
   ],
   "source": [
    "movies['movie_id_new'] = range(1,3884)\n",
    "movies = movies[['movie_id', 'movie_id_new', 'title', 'genre']]\n",
    "movies"
   ]
  },
  {
   "cell_type": "code",
   "execution_count": 7,
   "id": "1c65ee79",
   "metadata": {},
   "outputs": [
    {
     "data": {
      "text/plain": [
       "3883"
      ]
     },
     "execution_count": 7,
     "metadata": {},
     "output_type": "execute_result"
    }
   ],
   "source": [
    "movies['title'].nunique()"
   ]
  },
  {
   "cell_type": "markdown",
   "id": "99d59dfc",
   "metadata": {},
   "source": [
    "**분석**"
   ]
  },
  {
   "cell_type": "code",
   "execution_count": 8,
   "id": "02cc5dd5",
   "metadata": {},
   "outputs": [
    {
     "data": {
      "text/plain": [
       "3628"
      ]
     },
     "execution_count": 8,
     "metadata": {},
     "output_type": "execute_result"
    }
   ],
   "source": [
    "# ratings에 있는 유니크한 영화 개수\n",
    "ratings['movie_id'].nunique()"
   ]
  },
  {
   "cell_type": "code",
   "execution_count": 9,
   "id": "3028e38f",
   "metadata": {},
   "outputs": [
    {
     "data": {
      "text/plain": [
       "6039"
      ]
     },
     "execution_count": 9,
     "metadata": {},
     "output_type": "execute_result"
    }
   ],
   "source": [
    "# rating에 있는 유니크한 사용자 수\n",
    "ratings['user_id'].nunique()"
   ]
  },
  {
   "cell_type": "code",
   "execution_count": 10,
   "id": "78efabda",
   "metadata": {},
   "outputs": [
    {
     "data": {
      "text/plain": [
       "title\n",
       "American Beauty (1999)                                   3211\n",
       "Star Wars: Episode IV - A New Hope (1977)                2910\n",
       "Star Wars: Episode V - The Empire Strikes Back (1980)    2885\n",
       "Star Wars: Episode VI - Return of the Jedi (1983)        2716\n",
       "Saving Private Ryan (1998)                               2561\n",
       "Terminator 2: Judgment Day (1991)                        2509\n",
       "Silence of the Lambs, The (1991)                         2498\n",
       "Raiders of the Lost Ark (1981)                           2473\n",
       "Back to the Future (1985)                                2460\n",
       "Matrix, The (1999)                                       2434\n",
       "Jurassic Park (1993)                                     2413\n",
       "Sixth Sense, The (1999)                                  2385\n",
       "Fargo (1996)                                             2371\n",
       "Braveheart (1995)                                        2314\n",
       "Men in Black (1997)                                      2297\n",
       "Schindler's List (1993)                                  2257\n",
       "Princess Bride, The (1987)                               2252\n",
       "Shakespeare in Love (1998)                               2213\n",
       "L.A. Confidential (1997)                                 2210\n",
       "Shawshank Redemption, The (1994)                         2194\n",
       "Godfather, The (1972)                                    2167\n",
       "Groundhog Day (1993)                                     2121\n",
       "E.T. the Extra-Terrestrial (1982)                        2102\n",
       "Being John Malkovich (1999)                              2066\n",
       "Ghostbusters (1984)                                      2051\n",
       "Pulp Fiction (1994)                                      2030\n",
       "Forrest Gump (1994)                                      2022\n",
       "Terminator, The (1984)                                   2019\n",
       "Toy Story (1995)                                         2000\n",
       "Fugitive, The (1993)                                     1941\n",
       "Alien (1979)                                             1920\n",
       "Gladiator (2000)                                         1798\n",
       "Total Recall (1990)                                      1786\n",
       "Star Wars: Episode I - The Phantom Menace (1999)         1783\n",
       "Usual Suspects, The (1995)                               1744\n",
       "Stand by Me (1986)                                       1728\n",
       "Blade Runner (1982)                                      1722\n",
       "Aliens (1986)                                            1720\n",
       "One Flew Over the Cuckoo's Nest (1975)                   1680\n",
       "Wizard of Oz, The (1939)                                 1650\n",
       "Godfather: Part II, The (1974)                           1624\n",
       "Casablanca (1942)                                        1623\n",
       "Who Framed Roger Rabbit? (1988)                          1605\n",
       "Bug's Life, A (1998)                                     1599\n",
       "Jaws (1975)                                              1598\n",
       "GoodFellas (1990)                                        1595\n",
       "Die Hard (1988)                                          1593\n",
       "Hunt for Red October, The (1990)                         1587\n",
       "Airplane! (1980)                                         1586\n",
       "Babe (1995)                                              1574\n",
       "Name: count, dtype: int64"
      ]
     },
     "execution_count": 10,
     "metadata": {},
     "output_type": "execute_result"
    }
   ],
   "source": [
    "# 가장 인기있는 영화 50개(인기순)\n",
    "movie_data = pd.merge(ratings, movies)\n",
    "movie_count = movie_data.groupby('title')['count'].count()\n",
    "movie_count.sort_values(ascending=False).head(50)"
   ]
  },
  {
   "cell_type": "code",
   "execution_count": 11,
   "id": "b37ee3a6",
   "metadata": {},
   "outputs": [
    {
     "data": {
      "text/html": [
       "<div>\n",
       "<style scoped>\n",
       "    .dataframe tbody tr th:only-of-type {\n",
       "        vertical-align: middle;\n",
       "    }\n",
       "\n",
       "    .dataframe tbody tr th {\n",
       "        vertical-align: top;\n",
       "    }\n",
       "\n",
       "    .dataframe thead th {\n",
       "        text-align: right;\n",
       "    }\n",
       "</style>\n",
       "<table border=\"1\" class=\"dataframe\">\n",
       "  <thead>\n",
       "    <tr style=\"text-align: right;\">\n",
       "      <th></th>\n",
       "      <th>movie_id</th>\n",
       "      <th>movie_id_new</th>\n",
       "      <th>title</th>\n",
       "      <th>genre</th>\n",
       "    </tr>\n",
       "  </thead>\n",
       "  <tbody>\n",
       "    <tr>\n",
       "      <th>2052</th>\n",
       "      <td>2121</td>\n",
       "      <td>2053</td>\n",
       "      <td>Cujo (1983)</td>\n",
       "      <td>Horror|Thriller</td>\n",
       "    </tr>\n",
       "  </tbody>\n",
       "</table>\n",
       "</div>"
      ],
      "text/plain": [
       "      movie_id  movie_id_new        title            genre\n",
       "2052      2121          2053  Cujo (1983)  Horror|Thriller"
      ]
     },
     "execution_count": 11,
     "metadata": {},
     "output_type": "execute_result"
    }
   ],
   "source": [
    "movies[movies['movie_id'] == 2121]"
   ]
  },
  {
   "cell_type": "code",
   "execution_count": 12,
   "id": "c56f6ef5",
   "metadata": {},
   "outputs": [
    {
     "data": {
      "text/html": [
       "<div>\n",
       "<style scoped>\n",
       "    .dataframe tbody tr th:only-of-type {\n",
       "        vertical-align: middle;\n",
       "    }\n",
       "\n",
       "    .dataframe tbody tr th {\n",
       "        vertical-align: top;\n",
       "    }\n",
       "\n",
       "    .dataframe thead th {\n",
       "        text-align: right;\n",
       "    }\n",
       "</style>\n",
       "<table border=\"1\" class=\"dataframe\">\n",
       "  <thead>\n",
       "    <tr style=\"text-align: right;\">\n",
       "      <th></th>\n",
       "      <th>movie_id</th>\n",
       "      <th>movie_id_new</th>\n",
       "      <th>title</th>\n",
       "      <th>genre</th>\n",
       "    </tr>\n",
       "  </thead>\n",
       "  <tbody>\n",
       "    <tr>\n",
       "      <th>2144</th>\n",
       "      <td>2213</td>\n",
       "      <td>2145</td>\n",
       "      <td>Waltzes from Vienna (1933)</td>\n",
       "      <td>Comedy|Musical</td>\n",
       "    </tr>\n",
       "  </tbody>\n",
       "</table>\n",
       "</div>"
      ],
      "text/plain": [
       "      movie_id  movie_id_new                       title           genre\n",
       "2144      2213          2145  Waltzes from Vienna (1933)  Comedy|Musical"
      ]
     },
     "execution_count": 12,
     "metadata": {},
     "output_type": "execute_result"
    }
   ],
   "source": [
    "movies[movies['movie_id'] == 2213]"
   ]
  },
  {
   "cell_type": "code",
   "execution_count": 13,
   "id": "7fdabee1",
   "metadata": {},
   "outputs": [
    {
     "data": {
      "text/plain": [
       "count    6039.000000\n",
       "mean      138.512668\n",
       "std       156.241599\n",
       "min         1.000000\n",
       "25%        38.000000\n",
       "50%        81.000000\n",
       "75%       177.000000\n",
       "max      1968.000000\n",
       "Name: movie_id, dtype: float64"
      ]
     },
     "execution_count": 13,
     "metadata": {},
     "output_type": "execute_result"
    }
   ],
   "source": [
    "# 한 유저가 몇 개의 영화를 봤는지(통계)\n",
    "user_count = ratings.groupby('user_id')['movie_id'].count()\n",
    "user_count.describe()"
   ]
  },
  {
   "cell_type": "code",
   "execution_count": 14,
   "id": "b168641e",
   "metadata": {},
   "outputs": [
    {
     "data": {
      "text/html": [
       "<div>\n",
       "<style scoped>\n",
       "    .dataframe tbody tr th:only-of-type {\n",
       "        vertical-align: middle;\n",
       "    }\n",
       "\n",
       "    .dataframe tbody tr th {\n",
       "        vertical-align: top;\n",
       "    }\n",
       "\n",
       "    .dataframe thead th {\n",
       "        text-align: right;\n",
       "    }\n",
       "</style>\n",
       "<table border=\"1\" class=\"dataframe\">\n",
       "  <thead>\n",
       "    <tr style=\"text-align: right;\">\n",
       "      <th></th>\n",
       "      <th>user_id</th>\n",
       "      <th>movie_id</th>\n",
       "      <th>movie_id_new</th>\n",
       "      <th>count</th>\n",
       "      <th>title</th>\n",
       "      <th>genre</th>\n",
       "      <th>timestamp</th>\n",
       "    </tr>\n",
       "  </thead>\n",
       "  <tbody>\n",
       "    <tr>\n",
       "      <th>0</th>\n",
       "      <td>1</td>\n",
       "      <td>1193</td>\n",
       "      <td>1177</td>\n",
       "      <td>5</td>\n",
       "      <td>One Flew Over the Cuckoo's Nest (1975)</td>\n",
       "      <td>Drama</td>\n",
       "      <td>978300760</td>\n",
       "    </tr>\n",
       "    <tr>\n",
       "      <th>1</th>\n",
       "      <td>1</td>\n",
       "      <td>661</td>\n",
       "      <td>656</td>\n",
       "      <td>3</td>\n",
       "      <td>James and the Giant Peach (1996)</td>\n",
       "      <td>Animation|Children's|Musical</td>\n",
       "      <td>978302109</td>\n",
       "    </tr>\n",
       "    <tr>\n",
       "      <th>2</th>\n",
       "      <td>1</td>\n",
       "      <td>914</td>\n",
       "      <td>903</td>\n",
       "      <td>3</td>\n",
       "      <td>My Fair Lady (1964)</td>\n",
       "      <td>Musical|Romance</td>\n",
       "      <td>978301968</td>\n",
       "    </tr>\n",
       "    <tr>\n",
       "      <th>3</th>\n",
       "      <td>1</td>\n",
       "      <td>3408</td>\n",
       "      <td>3340</td>\n",
       "      <td>4</td>\n",
       "      <td>Erin Brockovich (2000)</td>\n",
       "      <td>Drama</td>\n",
       "      <td>978300275</td>\n",
       "    </tr>\n",
       "    <tr>\n",
       "      <th>4</th>\n",
       "      <td>1</td>\n",
       "      <td>2355</td>\n",
       "      <td>2287</td>\n",
       "      <td>5</td>\n",
       "      <td>Bug's Life, A (1998)</td>\n",
       "      <td>Animation|Children's|Comedy</td>\n",
       "      <td>978824291</td>\n",
       "    </tr>\n",
       "    <tr>\n",
       "      <th>5</th>\n",
       "      <td>1</td>\n",
       "      <td>1197</td>\n",
       "      <td>1180</td>\n",
       "      <td>3</td>\n",
       "      <td>Princess Bride, The (1987)</td>\n",
       "      <td>Action|Adventure|Comedy|Romance</td>\n",
       "      <td>978302268</td>\n",
       "    </tr>\n",
       "    <tr>\n",
       "      <th>6</th>\n",
       "      <td>1</td>\n",
       "      <td>1287</td>\n",
       "      <td>1268</td>\n",
       "      <td>5</td>\n",
       "      <td>Ben-Hur (1959)</td>\n",
       "      <td>Action|Adventure|Drama</td>\n",
       "      <td>978302039</td>\n",
       "    </tr>\n",
       "    <tr>\n",
       "      <th>7</th>\n",
       "      <td>1</td>\n",
       "      <td>2804</td>\n",
       "      <td>2736</td>\n",
       "      <td>5</td>\n",
       "      <td>Christmas Story, A (1983)</td>\n",
       "      <td>Comedy|Drama</td>\n",
       "      <td>978300719</td>\n",
       "    </tr>\n",
       "    <tr>\n",
       "      <th>8</th>\n",
       "      <td>1</td>\n",
       "      <td>594</td>\n",
       "      <td>591</td>\n",
       "      <td>4</td>\n",
       "      <td>Snow White and the Seven Dwarfs (1937)</td>\n",
       "      <td>Animation|Children's|Musical</td>\n",
       "      <td>978302268</td>\n",
       "    </tr>\n",
       "    <tr>\n",
       "      <th>9</th>\n",
       "      <td>1</td>\n",
       "      <td>919</td>\n",
       "      <td>908</td>\n",
       "      <td>4</td>\n",
       "      <td>Wizard of Oz, The (1939)</td>\n",
       "      <td>Adventure|Children's|Drama|Musical</td>\n",
       "      <td>978301368</td>\n",
       "    </tr>\n",
       "  </tbody>\n",
       "</table>\n",
       "</div>"
      ],
      "text/plain": [
       "   user_id  movie_id  movie_id_new  count  \\\n",
       "0        1      1193          1177      5   \n",
       "1        1       661           656      3   \n",
       "2        1       914           903      3   \n",
       "3        1      3408          3340      4   \n",
       "4        1      2355          2287      5   \n",
       "5        1      1197          1180      3   \n",
       "6        1      1287          1268      5   \n",
       "7        1      2804          2736      5   \n",
       "8        1       594           591      4   \n",
       "9        1       919           908      4   \n",
       "\n",
       "                                    title                               genre  \\\n",
       "0  One Flew Over the Cuckoo's Nest (1975)                               Drama   \n",
       "1        James and the Giant Peach (1996)        Animation|Children's|Musical   \n",
       "2                     My Fair Lady (1964)                     Musical|Romance   \n",
       "3                  Erin Brockovich (2000)                               Drama   \n",
       "4                    Bug's Life, A (1998)         Animation|Children's|Comedy   \n",
       "5              Princess Bride, The (1987)     Action|Adventure|Comedy|Romance   \n",
       "6                          Ben-Hur (1959)              Action|Adventure|Drama   \n",
       "7               Christmas Story, A (1983)                        Comedy|Drama   \n",
       "8  Snow White and the Seven Dwarfs (1937)        Animation|Children's|Musical   \n",
       "9                Wizard of Oz, The (1939)  Adventure|Children's|Drama|Musical   \n",
       "\n",
       "   timestamp  \n",
       "0  978300760  \n",
       "1  978302109  \n",
       "2  978301968  \n",
       "3  978300275  \n",
       "4  978824291  \n",
       "5  978302268  \n",
       "6  978302039  \n",
       "7  978300719  \n",
       "8  978302268  \n",
       "9  978301368  "
      ]
     },
     "execution_count": 14,
     "metadata": {},
     "output_type": "execute_result"
    }
   ],
   "source": [
    "data = pd.merge(ratings, movies, on='movie_id', how='left')\n",
    "data = data[['user_id', 'movie_id', 'movie_id_new', 'count', 'title', 'genre', 'timestamp']]\n",
    "data.head(10)"
   ]
  },
  {
   "cell_type": "code",
   "execution_count": 15,
   "id": "d1343d7a",
   "metadata": {},
   "outputs": [
    {
     "data": {
      "text/html": [
       "<div>\n",
       "<style scoped>\n",
       "    .dataframe tbody tr th:only-of-type {\n",
       "        vertical-align: middle;\n",
       "    }\n",
       "\n",
       "    .dataframe tbody tr th {\n",
       "        vertical-align: top;\n",
       "    }\n",
       "\n",
       "    .dataframe thead th {\n",
       "        text-align: right;\n",
       "    }\n",
       "</style>\n",
       "<table border=\"1\" class=\"dataframe\">\n",
       "  <thead>\n",
       "    <tr style=\"text-align: right;\">\n",
       "      <th></th>\n",
       "      <th>user_id</th>\n",
       "      <th>movie_id</th>\n",
       "      <th>movie_id_new</th>\n",
       "      <th>count</th>\n",
       "      <th>title</th>\n",
       "      <th>genre</th>\n",
       "      <th>timestamp</th>\n",
       "    </tr>\n",
       "  </thead>\n",
       "  <tbody>\n",
       "    <tr>\n",
       "      <th>38</th>\n",
       "      <td>1</td>\n",
       "      <td>2762</td>\n",
       "      <td>2694</td>\n",
       "      <td>4</td>\n",
       "      <td>Sixth Sense, The (1999)</td>\n",
       "      <td>Thriller</td>\n",
       "      <td>978302091</td>\n",
       "    </tr>\n",
       "    <tr>\n",
       "      <th>366</th>\n",
       "      <td>5</td>\n",
       "      <td>2762</td>\n",
       "      <td>2694</td>\n",
       "      <td>3</td>\n",
       "      <td>Sixth Sense, The (1999)</td>\n",
       "      <td>Thriller</td>\n",
       "      <td>978243054</td>\n",
       "    </tr>\n",
       "    <tr>\n",
       "      <th>702</th>\n",
       "      <td>9</td>\n",
       "      <td>2762</td>\n",
       "      <td>2694</td>\n",
       "      <td>4</td>\n",
       "      <td>Sixth Sense, The (1999)</td>\n",
       "      <td>Thriller</td>\n",
       "      <td>978225984</td>\n",
       "    </tr>\n",
       "    <tr>\n",
       "      <th>901</th>\n",
       "      <td>10</td>\n",
       "      <td>2762</td>\n",
       "      <td>2694</td>\n",
       "      <td>5</td>\n",
       "      <td>Sixth Sense, The (1999)</td>\n",
       "      <td>Thriller</td>\n",
       "      <td>978225541</td>\n",
       "    </tr>\n",
       "    <tr>\n",
       "      <th>1142</th>\n",
       "      <td>11</td>\n",
       "      <td>2762</td>\n",
       "      <td>2694</td>\n",
       "      <td>5</td>\n",
       "      <td>Sixth Sense, The (1999)</td>\n",
       "      <td>Thriller</td>\n",
       "      <td>978219815</td>\n",
       "    </tr>\n",
       "    <tr>\n",
       "      <th>...</th>\n",
       "      <td>...</td>\n",
       "      <td>...</td>\n",
       "      <td>...</td>\n",
       "      <td>...</td>\n",
       "      <td>...</td>\n",
       "      <td>...</td>\n",
       "      <td>...</td>\n",
       "    </tr>\n",
       "    <tr>\n",
       "      <th>834808</th>\n",
       "      <td>6030</td>\n",
       "      <td>2762</td>\n",
       "      <td>2694</td>\n",
       "      <td>5</td>\n",
       "      <td>Sixth Sense, The (1999)</td>\n",
       "      <td>Thriller</td>\n",
       "      <td>956718084</td>\n",
       "    </tr>\n",
       "    <tr>\n",
       "      <th>834853</th>\n",
       "      <td>6031</td>\n",
       "      <td>2762</td>\n",
       "      <td>2694</td>\n",
       "      <td>4</td>\n",
       "      <td>Sixth Sense, The (1999)</td>\n",
       "      <td>Thriller</td>\n",
       "      <td>956717709</td>\n",
       "    </tr>\n",
       "    <tr>\n",
       "      <th>835823</th>\n",
       "      <td>6036</td>\n",
       "      <td>2762</td>\n",
       "      <td>2694</td>\n",
       "      <td>5</td>\n",
       "      <td>Sixth Sense, The (1999)</td>\n",
       "      <td>Thriller</td>\n",
       "      <td>956710191</td>\n",
       "    </tr>\n",
       "    <tr>\n",
       "      <th>836054</th>\n",
       "      <td>6037</td>\n",
       "      <td>2762</td>\n",
       "      <td>2694</td>\n",
       "      <td>4</td>\n",
       "      <td>Sixth Sense, The (1999)</td>\n",
       "      <td>Thriller</td>\n",
       "      <td>956718658</td>\n",
       "    </tr>\n",
       "    <tr>\n",
       "      <th>836452</th>\n",
       "      <td>6040</td>\n",
       "      <td>2762</td>\n",
       "      <td>2694</td>\n",
       "      <td>4</td>\n",
       "      <td>Sixth Sense, The (1999)</td>\n",
       "      <td>Thriller</td>\n",
       "      <td>956704584</td>\n",
       "    </tr>\n",
       "  </tbody>\n",
       "</table>\n",
       "<p>2385 rows × 7 columns</p>\n",
       "</div>"
      ],
      "text/plain": [
       "        user_id  movie_id  movie_id_new  count                    title  \\\n",
       "38            1      2762          2694      4  Sixth Sense, The (1999)   \n",
       "366           5      2762          2694      3  Sixth Sense, The (1999)   \n",
       "702           9      2762          2694      4  Sixth Sense, The (1999)   \n",
       "901          10      2762          2694      5  Sixth Sense, The (1999)   \n",
       "1142         11      2762          2694      5  Sixth Sense, The (1999)   \n",
       "...         ...       ...           ...    ...                      ...   \n",
       "834808     6030      2762          2694      5  Sixth Sense, The (1999)   \n",
       "834853     6031      2762          2694      4  Sixth Sense, The (1999)   \n",
       "835823     6036      2762          2694      5  Sixth Sense, The (1999)   \n",
       "836054     6037      2762          2694      4  Sixth Sense, The (1999)   \n",
       "836452     6040      2762          2694      4  Sixth Sense, The (1999)   \n",
       "\n",
       "           genre  timestamp  \n",
       "38      Thriller  978302091  \n",
       "366     Thriller  978243054  \n",
       "702     Thriller  978225984  \n",
       "901     Thriller  978225541  \n",
       "1142    Thriller  978219815  \n",
       "...          ...        ...  \n",
       "834808  Thriller  956718084  \n",
       "834853  Thriller  956717709  \n",
       "835823  Thriller  956710191  \n",
       "836054  Thriller  956718658  \n",
       "836452  Thriller  956704584  \n",
       "\n",
       "[2385 rows x 7 columns]"
      ]
     },
     "execution_count": 15,
     "metadata": {},
     "output_type": "execute_result"
    }
   ],
   "source": [
    "data[data['movie_id'] == 2762]"
   ]
  },
  {
   "cell_type": "markdown",
   "id": "570eec29",
   "metadata": {},
   "source": [
    "**선호하는 영화 선정해서 rating에 추가**"
   ]
  },
  {
   "cell_type": "code",
   "execution_count": 16,
   "id": "47047d14",
   "metadata": {},
   "outputs": [],
   "source": [
    "import datetime as pydatetime\n",
    "\n",
    "def get_now():\n",
    "    \"\"\"\n",
    "        현재 시스템 시간을 datetime형으로 반환\n",
    "    \"\"\"\n",
    "    return pydatetime.datetime.now()\n",
    "\n",
    "def get_now_timestamp():\n",
    "    \"\"\"\n",
    "        현재 시스템 시간을 POSIX timestamp float형으로 반환\n",
    "    \"\"\"\n",
    "    return get_now().timestamp()"
   ]
  },
  {
   "cell_type": "code",
   "execution_count": 17,
   "id": "36a5f466",
   "metadata": {},
   "outputs": [],
   "source": [
    "timestamp = get_now_timestamp()"
   ]
  },
  {
   "cell_type": "code",
   "execution_count": 18,
   "id": "338448da",
   "metadata": {},
   "outputs": [
    {
     "data": {
      "text/html": [
       "<div>\n",
       "<style scoped>\n",
       "    .dataframe tbody tr th:only-of-type {\n",
       "        vertical-align: middle;\n",
       "    }\n",
       "\n",
       "    .dataframe tbody tr th {\n",
       "        vertical-align: top;\n",
       "    }\n",
       "\n",
       "    .dataframe thead th {\n",
       "        text-align: right;\n",
       "    }\n",
       "</style>\n",
       "<table border=\"1\" class=\"dataframe\">\n",
       "  <thead>\n",
       "    <tr style=\"text-align: right;\">\n",
       "      <th></th>\n",
       "      <th>user_id</th>\n",
       "      <th>movie_id</th>\n",
       "      <th>movie_id_new</th>\n",
       "      <th>count</th>\n",
       "      <th>title</th>\n",
       "      <th>genre</th>\n",
       "      <th>timestamp</th>\n",
       "    </tr>\n",
       "  </thead>\n",
       "  <tbody>\n",
       "    <tr>\n",
       "      <th>836473</th>\n",
       "      <td>6040</td>\n",
       "      <td>1090</td>\n",
       "      <td>1075</td>\n",
       "      <td>3</td>\n",
       "      <td>Platoon (1986)</td>\n",
       "      <td>Drama|War</td>\n",
       "      <td>9.567155e+08</td>\n",
       "    </tr>\n",
       "    <tr>\n",
       "      <th>836474</th>\n",
       "      <td>6040</td>\n",
       "      <td>1094</td>\n",
       "      <td>1079</td>\n",
       "      <td>5</td>\n",
       "      <td>Crying Game, The (1992)</td>\n",
       "      <td>Drama|Romance|War</td>\n",
       "      <td>9.567049e+08</td>\n",
       "    </tr>\n",
       "    <tr>\n",
       "      <th>836475</th>\n",
       "      <td>6040</td>\n",
       "      <td>562</td>\n",
       "      <td>559</td>\n",
       "      <td>5</td>\n",
       "      <td>Welcome to the Dollhouse (1995)</td>\n",
       "      <td>Comedy|Drama</td>\n",
       "      <td>9.567047e+08</td>\n",
       "    </tr>\n",
       "    <tr>\n",
       "      <th>836476</th>\n",
       "      <td>6040</td>\n",
       "      <td>1096</td>\n",
       "      <td>1081</td>\n",
       "      <td>4</td>\n",
       "      <td>Sophie's Choice (1982)</td>\n",
       "      <td>Drama</td>\n",
       "      <td>9.567156e+08</td>\n",
       "    </tr>\n",
       "    <tr>\n",
       "      <th>836477</th>\n",
       "      <td>6040</td>\n",
       "      <td>1097</td>\n",
       "      <td>1082</td>\n",
       "      <td>4</td>\n",
       "      <td>E.T. the Extra-Terrestrial (1982)</td>\n",
       "      <td>Children's|Drama|Fantasy|Sci-Fi</td>\n",
       "      <td>9.567156e+08</td>\n",
       "    </tr>\n",
       "    <tr>\n",
       "      <th>0</th>\n",
       "      <td>hyunnie</td>\n",
       "      <td>3404</td>\n",
       "      <td>3336</td>\n",
       "      <td>5</td>\n",
       "      <td>Titanic (1997)</td>\n",
       "      <td>Action|Drama</td>\n",
       "      <td>1.646366e+09</td>\n",
       "    </tr>\n",
       "    <tr>\n",
       "      <th>1</th>\n",
       "      <td>hyunnie</td>\n",
       "      <td>1</td>\n",
       "      <td>1</td>\n",
       "      <td>5</td>\n",
       "      <td>Toy Story (1995)</td>\n",
       "      <td>Animation|Children's|Comedy</td>\n",
       "      <td>1.646366e+09</td>\n",
       "    </tr>\n",
       "    <tr>\n",
       "      <th>2</th>\n",
       "      <td>hyunnie</td>\n",
       "      <td>1682</td>\n",
       "      <td>1637</td>\n",
       "      <td>5</td>\n",
       "      <td>Truman Show, The (1998)</td>\n",
       "      <td>Drama</td>\n",
       "      <td>1.646366e+09</td>\n",
       "    </tr>\n",
       "    <tr>\n",
       "      <th>3</th>\n",
       "      <td>hyunnie</td>\n",
       "      <td>586</td>\n",
       "      <td>583</td>\n",
       "      <td>5</td>\n",
       "      <td>Home Alone (1990)</td>\n",
       "      <td>Children's|Comedy</td>\n",
       "      <td>1.646366e+09</td>\n",
       "    </tr>\n",
       "    <tr>\n",
       "      <th>4</th>\n",
       "      <td>hyunnie</td>\n",
       "      <td>2762</td>\n",
       "      <td>2694</td>\n",
       "      <td>5</td>\n",
       "      <td>Sixth Sense, The (1999)</td>\n",
       "      <td>Thriller</td>\n",
       "      <td>1.646366e+09</td>\n",
       "    </tr>\n",
       "  </tbody>\n",
       "</table>\n",
       "</div>"
      ],
      "text/plain": [
       "        user_id movie_id movie_id_new  count  \\\n",
       "836473     6040     1090         1075      3   \n",
       "836474     6040     1094         1079      5   \n",
       "836475     6040      562          559      5   \n",
       "836476     6040     1096         1081      4   \n",
       "836477     6040     1097         1082      4   \n",
       "0       hyunnie     3404         3336      5   \n",
       "1       hyunnie        1            1      5   \n",
       "2       hyunnie     1682         1637      5   \n",
       "3       hyunnie      586          583      5   \n",
       "4       hyunnie     2762         2694      5   \n",
       "\n",
       "                                    title                            genre  \\\n",
       "836473                     Platoon (1986)                        Drama|War   \n",
       "836474            Crying Game, The (1992)                Drama|Romance|War   \n",
       "836475    Welcome to the Dollhouse (1995)                     Comedy|Drama   \n",
       "836476             Sophie's Choice (1982)                            Drama   \n",
       "836477  E.T. the Extra-Terrestrial (1982)  Children's|Drama|Fantasy|Sci-Fi   \n",
       "0                          Titanic (1997)                     Action|Drama   \n",
       "1                        Toy Story (1995)      Animation|Children's|Comedy   \n",
       "2                 Truman Show, The (1998)                            Drama   \n",
       "3                       Home Alone (1990)                Children's|Comedy   \n",
       "4                 Sixth Sense, The (1999)                         Thriller   \n",
       "\n",
       "           timestamp  \n",
       "836473  9.567155e+08  \n",
       "836474  9.567049e+08  \n",
       "836475  9.567047e+08  \n",
       "836476  9.567156e+08  \n",
       "836477  9.567156e+08  \n",
       "0       1.646366e+09  \n",
       "1       1.646366e+09  \n",
       "2       1.646366e+09  \n",
       "3       1.646366e+09  \n",
       "4       1.646366e+09  "
      ]
     },
     "execution_count": 18,
     "metadata": {},
     "output_type": "execute_result"
    }
   ],
   "source": [
    "my_fav = ['Titanic (1997)' , 'Toy Story (1995)' ,'Truman Show, The (1998)' ,'Home Alone (1990)' ,'Sixth Sense, The (1999)']\n",
    "my_fav_id = ['3404', '1', '1682', '586', '2762']\n",
    "my_fav_id_new = ['3336', '1', '1637', '583', '2694']\n",
    "my_fav_genre = ['Action|Drama', \"Animation|Children's|Comedy\", 'Drama', \"Children's|Comedy\",'Thriller']\n",
    "# hyunnie라는 user_id가 위 영화의 평점을 모두 5점을 주었다고 가정하겠습니다.\n",
    "my_playlist = pd.DataFrame({'user_id': ['hyunnie']*5, 'movie_id': my_fav_id, 'count':[5]*5, 'movie_id_new' : my_fav_id_new,\n",
    "                            'timestamp' : timestamp, 'title' : my_fav, 'genre' : my_fav_genre })\n",
    "\n",
    "if not ratings.isin({'user_id':['hyunnie']})['user_id'].any():  # user_id에 'hyunnie'이라는 데이터가 없다면\n",
    "    data = data.append(my_playlist)                           # 위에 임의로 만든 my_fav 데이터를 추가해 줍니다. \n",
    "\n",
    "data.tail(10)       # 잘 추가되었는지 확인해 봅시다."
   ]
  },
  {
   "cell_type": "markdown",
   "id": "4ae1fa9a",
   "metadata": {},
   "source": [
    "**전처리**"
   ]
  },
  {
   "cell_type": "code",
   "execution_count": 19,
   "id": "0fe62cef",
   "metadata": {},
   "outputs": [],
   "source": [
    "# 고유한 유저, 아티스트를 찾아내는 코드\n",
    "\n",
    "user_unique = data['user_id'].unique()\n",
    "movie_unique = data['title'].unique()\n",
    "\n",
    "# 유저, 영화 indexing 하는 코드. idx는 index의 약자입니다.\n",
    "user_to_idx = {v:k for k,v in enumerate(user_unique)}\n",
    "movie_to_idx = {v:k for k,v in enumerate(movie_unique)}"
   ]
  },
  {
   "cell_type": "code",
   "execution_count": 20,
   "id": "8ffea210",
   "metadata": {},
   "outputs": [
    {
     "name": "stdout",
     "output_type": "stream",
     "text": [
      "6039\n",
      "27\n"
     ]
    }
   ],
   "source": [
    "# 인덱싱이 잘 되었는지 확인\n",
    "print(user_to_idx['hyunnie'])    # 6039명의 유저 중 마지막으로 추가된 유저이니 6039이 나와야 합니다. \n",
    "print(movie_to_idx['Titanic (1997)'])"
   ]
  },
  {
   "cell_type": "code",
   "execution_count": 21,
   "id": "a31a5b90",
   "metadata": {},
   "outputs": [
    {
     "name": "stdout",
     "output_type": "stream",
     "text": [
      "user_id column indexing OK!!\n",
      "movie column indexing OK!!\n"
     ]
    },
    {
     "data": {
      "text/html": [
       "<div>\n",
       "<style scoped>\n",
       "    .dataframe tbody tr th:only-of-type {\n",
       "        vertical-align: middle;\n",
       "    }\n",
       "\n",
       "    .dataframe tbody tr th {\n",
       "        vertical-align: top;\n",
       "    }\n",
       "\n",
       "    .dataframe thead th {\n",
       "        text-align: right;\n",
       "    }\n",
       "</style>\n",
       "<table border=\"1\" class=\"dataframe\">\n",
       "  <thead>\n",
       "    <tr style=\"text-align: right;\">\n",
       "      <th></th>\n",
       "      <th>user_id</th>\n",
       "      <th>movie_id</th>\n",
       "      <th>movie_id_new</th>\n",
       "      <th>count</th>\n",
       "      <th>title</th>\n",
       "      <th>genre</th>\n",
       "      <th>timestamp</th>\n",
       "    </tr>\n",
       "  </thead>\n",
       "  <tbody>\n",
       "    <tr>\n",
       "      <th>0</th>\n",
       "      <td>0</td>\n",
       "      <td>1193</td>\n",
       "      <td>1177</td>\n",
       "      <td>5</td>\n",
       "      <td>0</td>\n",
       "      <td>Drama</td>\n",
       "      <td>9.783008e+08</td>\n",
       "    </tr>\n",
       "    <tr>\n",
       "      <th>1</th>\n",
       "      <td>0</td>\n",
       "      <td>661</td>\n",
       "      <td>656</td>\n",
       "      <td>3</td>\n",
       "      <td>1</td>\n",
       "      <td>Animation|Children's|Musical</td>\n",
       "      <td>9.783021e+08</td>\n",
       "    </tr>\n",
       "    <tr>\n",
       "      <th>2</th>\n",
       "      <td>0</td>\n",
       "      <td>914</td>\n",
       "      <td>903</td>\n",
       "      <td>3</td>\n",
       "      <td>2</td>\n",
       "      <td>Musical|Romance</td>\n",
       "      <td>9.783020e+08</td>\n",
       "    </tr>\n",
       "    <tr>\n",
       "      <th>3</th>\n",
       "      <td>0</td>\n",
       "      <td>3408</td>\n",
       "      <td>3340</td>\n",
       "      <td>4</td>\n",
       "      <td>3</td>\n",
       "      <td>Drama</td>\n",
       "      <td>9.783003e+08</td>\n",
       "    </tr>\n",
       "    <tr>\n",
       "      <th>4</th>\n",
       "      <td>0</td>\n",
       "      <td>2355</td>\n",
       "      <td>2287</td>\n",
       "      <td>5</td>\n",
       "      <td>4</td>\n",
       "      <td>Animation|Children's|Comedy</td>\n",
       "      <td>9.788243e+08</td>\n",
       "    </tr>\n",
       "    <tr>\n",
       "      <th>...</th>\n",
       "      <td>...</td>\n",
       "      <td>...</td>\n",
       "      <td>...</td>\n",
       "      <td>...</td>\n",
       "      <td>...</td>\n",
       "      <td>...</td>\n",
       "      <td>...</td>\n",
       "    </tr>\n",
       "    <tr>\n",
       "      <th>0</th>\n",
       "      <td>6039</td>\n",
       "      <td>3404</td>\n",
       "      <td>3336</td>\n",
       "      <td>5</td>\n",
       "      <td>27</td>\n",
       "      <td>Action|Drama</td>\n",
       "      <td>1.646366e+09</td>\n",
       "    </tr>\n",
       "    <tr>\n",
       "      <th>1</th>\n",
       "      <td>6039</td>\n",
       "      <td>1</td>\n",
       "      <td>1</td>\n",
       "      <td>5</td>\n",
       "      <td>40</td>\n",
       "      <td>Animation|Children's|Comedy</td>\n",
       "      <td>1.646366e+09</td>\n",
       "    </tr>\n",
       "    <tr>\n",
       "      <th>2</th>\n",
       "      <td>6039</td>\n",
       "      <td>1682</td>\n",
       "      <td>1637</td>\n",
       "      <td>5</td>\n",
       "      <td>385</td>\n",
       "      <td>Drama</td>\n",
       "      <td>1.646366e+09</td>\n",
       "    </tr>\n",
       "    <tr>\n",
       "      <th>3</th>\n",
       "      <td>6039</td>\n",
       "      <td>586</td>\n",
       "      <td>583</td>\n",
       "      <td>5</td>\n",
       "      <td>507</td>\n",
       "      <td>Children's|Comedy</td>\n",
       "      <td>1.646366e+09</td>\n",
       "    </tr>\n",
       "    <tr>\n",
       "      <th>4</th>\n",
       "      <td>6039</td>\n",
       "      <td>2762</td>\n",
       "      <td>2694</td>\n",
       "      <td>5</td>\n",
       "      <td>38</td>\n",
       "      <td>Thriller</td>\n",
       "      <td>1.646366e+09</td>\n",
       "    </tr>\n",
       "  </tbody>\n",
       "</table>\n",
       "<p>836483 rows × 7 columns</p>\n",
       "</div>"
      ],
      "text/plain": [
       "    user_id movie_id movie_id_new  count  title                         genre  \\\n",
       "0         0     1193         1177      5      0                         Drama   \n",
       "1         0      661          656      3      1  Animation|Children's|Musical   \n",
       "2         0      914          903      3      2               Musical|Romance   \n",
       "3         0     3408         3340      4      3                         Drama   \n",
       "4         0     2355         2287      5      4   Animation|Children's|Comedy   \n",
       "..      ...      ...          ...    ...    ...                           ...   \n",
       "0      6039     3404         3336      5     27                  Action|Drama   \n",
       "1      6039        1            1      5     40   Animation|Children's|Comedy   \n",
       "2      6039     1682         1637      5    385                         Drama   \n",
       "3      6039      586          583      5    507             Children's|Comedy   \n",
       "4      6039     2762         2694      5     38                      Thriller   \n",
       "\n",
       "       timestamp  \n",
       "0   9.783008e+08  \n",
       "1   9.783021e+08  \n",
       "2   9.783020e+08  \n",
       "3   9.783003e+08  \n",
       "4   9.788243e+08  \n",
       "..           ...  \n",
       "0   1.646366e+09  \n",
       "1   1.646366e+09  \n",
       "2   1.646366e+09  \n",
       "3   1.646366e+09  \n",
       "4   1.646366e+09  \n",
       "\n",
       "[836483 rows x 7 columns]"
      ]
     },
     "execution_count": 21,
     "metadata": {},
     "output_type": "execute_result"
    }
   ],
   "source": [
    "# indexing을 통해 데이터 컬럼 내 값을 바꾸는 코드\n",
    "\n",
    "# user_to_idx.get을 통해 user_id 컬럼의 모든 값을 인덱싱한 Series를 구해 봅시다. \n",
    "# 혹시 정상적으로 인덱싱되지 않은 row가 있다면 인덱스가 NaN이 될 테니 dropna()로 제거합니다. \n",
    "\n",
    "temp_user_data = data['user_id'].map(user_to_idx.get).dropna()\n",
    "if len(temp_user_data) == len(data):   # 모든 row가 정상적으로 인덱싱되었다면\n",
    "    print('user_id column indexing OK!!')\n",
    "    data['user_id'] = temp_user_data   # data['user_id']을 인덱싱된 Series로 교체해 줍니다. \n",
    "else:\n",
    "    print('user_id column indexing Fail!!')\n",
    "\n",
    "# movie_to_idx을 통해 movie_id 컬럼도 동일한 방식으로 인덱싱해 줍니다. \n",
    "temp_movie_data = data['title'].map(movie_to_idx.get).dropna()\n",
    "if len(temp_movie_data) == len(data):\n",
    "    print('movie column indexing OK!!')\n",
    "    data['title'] = temp_movie_data\n",
    "else:\n",
    "    print('movie column indexing Fail!!')\n",
    "\n",
    "data"
   ]
  },
  {
   "cell_type": "markdown",
   "id": "2ca53fec",
   "metadata": {},
   "source": [
    "**CSR(Compressed Sparse Row) Matrix**"
   ]
  },
  {
   "cell_type": "code",
   "execution_count": 22,
   "id": "b2643c34",
   "metadata": {},
   "outputs": [
    {
     "data": {
      "text/plain": [
       "<6040x3628 sparse matrix of type '<class 'numpy.int64'>'\n",
       "\twith 836483 stored elements in Compressed Sparse Row format>"
      ]
     },
     "execution_count": 22,
     "metadata": {},
     "output_type": "execute_result"
    }
   ],
   "source": [
    "from scipy.sparse import csr_matrix\n",
    "\n",
    "num_user = data['user_id'].nunique()\n",
    "num_movie = data['title'].nunique()\n",
    "\n",
    "csr_data = csr_matrix((data['count'], (data.user_id, data.title)), shape= (num_user, num_movie))\n",
    "csr_data"
   ]
  },
  {
   "cell_type": "markdown",
   "id": "2b10103e",
   "metadata": {},
   "source": [
    "**MF 모델 학습**"
   ]
  },
  {
   "cell_type": "code",
   "execution_count": 23,
   "id": "174d6ebb",
   "metadata": {},
   "outputs": [],
   "source": [
    "from implicit.als import AlternatingLeastSquares\n",
    "import os\n",
    "import numpy as np\n",
    "\n",
    "# implicit 라이브러리에서 권장하고 있는 부분입니다. 학습 내용과는 무관합니다.\n",
    "os.environ['OPENBLAS_NUM_THREADS']='1'\n",
    "os.environ['KMP_DUPLICATE_LIB_OK']='True'\n",
    "os.environ['MKL_NUM_THREADS']='1'"
   ]
  },
  {
   "cell_type": "code",
   "execution_count": 24,
   "id": "ab0f1bd2",
   "metadata": {},
   "outputs": [],
   "source": [
    "# Implicit AlternatingLeastSquares 모델의 선언\n",
    "als_model = AlternatingLeastSquares(factors=100, regularization=0.01, use_gpu=False, iterations=15, dtype=np.float32)"
   ]
  },
  {
   "cell_type": "code",
   "execution_count": 25,
   "id": "3b6e8e10",
   "metadata": {},
   "outputs": [
    {
     "data": {
      "text/plain": [
       "<3628x6040 sparse matrix of type '<class 'numpy.int64'>'\n",
       "\twith 836483 stored elements in Compressed Sparse Column format>"
      ]
     },
     "execution_count": 25,
     "metadata": {},
     "output_type": "execute_result"
    }
   ],
   "source": [
    "# als 모델은 input으로 (item X user 꼴의 matrix를 받기 때문에 Transpose해줍니다.)\n",
    "csr_data_transpose = csr_data.T\n",
    "csr_data_transpose"
   ]
  },
  {
   "cell_type": "code",
   "execution_count": 26,
   "id": "7a8bb7a0",
   "metadata": {},
   "outputs": [
    {
     "data": {
      "application/vnd.jupyter.widget-view+json": {
       "model_id": "276b4f02dfcd44f4b938acfba8ddb13b",
       "version_major": 2,
       "version_minor": 0
      },
      "text/plain": [
       "  0%|          | 0/15 [00:00<?, ?it/s]"
      ]
     },
     "metadata": {},
     "output_type": "display_data"
    }
   ],
   "source": [
    "# 모델 훈련\n",
    "als_model.fit(csr_data_transpose)"
   ]
  },
  {
   "cell_type": "markdown",
   "id": "d6b7e3c1",
   "metadata": {},
   "source": [
    "선호도 파악"
   ]
  },
  {
   "cell_type": "code",
   "execution_count": 27,
   "id": "8faf2391",
   "metadata": {},
   "outputs": [],
   "source": [
    "hyunnie, titanic = user_to_idx['hyunnie'], movie_to_idx['Titanic (1997)']\n",
    "hyunnie_vector, titanic_vector = als_model.user_factors[hyunnie], als_model.item_factors[titanic]"
   ]
  },
  {
   "cell_type": "code",
   "execution_count": 28,
   "id": "b1436cfe",
   "metadata": {},
   "outputs": [
    {
     "data": {
      "text/plain": [
       "array([ 0.34455156,  0.11663155,  0.06395967,  0.53875864,  0.19492836,\n",
       "       -0.34001607, -0.7803331 ,  0.69897074,  0.25156063,  0.21140458,\n",
       "        0.2982942 , -0.99522537,  0.34763923, -0.74622643,  0.28479773,\n",
       "        0.5705738 , -0.09749171,  0.40847015, -0.6232398 , -0.11780402,\n",
       "        0.20610298, -0.51196694,  0.300138  ,  0.19896969, -0.20879762,\n",
       "        0.0837528 ,  0.45284835, -0.29431146, -0.14738545,  0.4219651 ,\n",
       "       -0.7415141 , -0.28170848, -0.2524306 ,  0.4338533 ,  0.69808745,\n",
       "        0.31809494, -0.7070671 , -0.48433402,  0.5500907 ,  0.3578856 ,\n",
       "       -0.05385113, -1.0159854 , -1.3004214 ,  0.70244384,  0.48502222,\n",
       "        0.01138432, -0.20053574, -0.4417258 , -0.9925668 ,  0.43902823,\n",
       "       -0.73804116,  0.02621976,  1.0085506 , -0.19109751,  0.0951339 ,\n",
       "        0.96956277,  0.30991238, -0.24589579, -0.57762253, -0.01413967,\n",
       "        0.62308913,  0.7361463 , -0.05209895, -0.14319105, -0.66755867,\n",
       "        0.7373036 , -1.0712031 ,  0.7297358 , -0.4054102 , -0.21973288,\n",
       "       -0.29883906,  0.60736436,  0.622656  ,  0.4291848 ,  0.0673306 ,\n",
       "       -0.05770482,  0.536528  ,  0.00406413,  0.39832586, -0.12077282,\n",
       "        0.6606954 , -0.34226498, -1.1050667 ,  0.22472377,  0.00288593,\n",
       "        0.10298985,  0.58910984, -0.2415897 , -0.5383117 ,  0.33669907,\n",
       "       -0.6704329 ,  0.5683282 ,  0.5768831 ,  0.36078283, -1.206318  ,\n",
       "        0.24413443, -0.03690531,  0.68538016, -0.25076753,  0.18196243],\n",
       "      dtype=float32)"
      ]
     },
     "execution_count": 28,
     "metadata": {},
     "output_type": "execute_result"
    }
   ],
   "source": [
    "hyunnie_vector"
   ]
  },
  {
   "cell_type": "code",
   "execution_count": 29,
   "id": "0d823fb7",
   "metadata": {},
   "outputs": [
    {
     "data": {
      "text/plain": [
       "array([ 7.9247430e-03,  2.8357746e-02,  1.9904601e-03,  2.6503924e-02,\n",
       "        1.7554697e-02, -9.3892273e-03, -9.4182258e-03, -9.1013070e-03,\n",
       "        8.5367076e-03,  3.6469843e-02,  4.8549268e-03, -4.0463503e-02,\n",
       "        2.3302944e-02, -1.1559706e-02, -1.7304128e-02,  5.3405296e-02,\n",
       "        4.9116611e-03,  1.1741864e-02,  2.0842178e-02,  8.6382916e-03,\n",
       "        1.0955189e-02, -1.1470860e-02,  3.1120455e-02,  4.3315288e-02,\n",
       "       -9.1105672e-03, -1.4029897e-02, -9.0779616e-03, -1.1256085e-02,\n",
       "        2.7960453e-02,  4.4260775e-03,  2.9167648e-02,  4.3787775e-04,\n",
       "        4.6253274e-03,  2.4206134e-02,  2.8088478e-02,  3.3180036e-02,\n",
       "       -2.4319866e-03,  5.8944211e-03,  5.8035646e-03,  2.8947314e-02,\n",
       "       -4.8212958e-03, -1.9590519e-02, -3.2376017e-02,  4.2317901e-03,\n",
       "        1.3390104e-02,  3.2095406e-02, -1.9985659e-02,  1.5904818e-02,\n",
       "       -2.6114475e-02,  2.5555402e-02, -1.3684945e-02, -8.9823371e-03,\n",
       "        4.5177717e-02, -2.5450986e-02, -3.7214151e-04,  4.6312127e-02,\n",
       "        3.6980905e-02, -1.3181962e-02, -1.2077431e-02,  5.4837237e-03,\n",
       "        2.9558519e-02,  3.0032936e-02,  1.5299057e-02,  1.1255431e-02,\n",
       "       -3.2818839e-02,  4.2039338e-02, -4.4968586e-02, -1.3252844e-02,\n",
       "        2.1972585e-02, -6.2840371e-03, -3.6812961e-02,  1.1344463e-02,\n",
       "        3.2692533e-02,  6.4055054e-03, -1.6379531e-02,  4.8574992e-02,\n",
       "       -5.7422775e-03,  1.4599686e-02, -3.8257989e-05, -4.5851653e-04,\n",
       "        3.7969518e-02,  6.8119238e-03, -1.3632083e-02,  1.6979832e-02,\n",
       "        3.6033694e-02, -1.6801963e-02, -4.2861607e-03,  1.6544354e-03,\n",
       "       -2.3435323e-02,  4.5290396e-02, -1.4638310e-02,  1.4692937e-02,\n",
       "        9.5871501e-03,  6.7053619e-03,  1.1596201e-02,  1.1425471e-03,\n",
       "        7.4798457e-04,  3.0697830e-02,  1.5796419e-02, -2.7519954e-02],\n",
       "      dtype=float32)"
      ]
     },
     "execution_count": 29,
     "metadata": {},
     "output_type": "execute_result"
    }
   ],
   "source": [
    "titanic_vector"
   ]
  },
  {
   "cell_type": "code",
   "execution_count": 30,
   "id": "5a120343",
   "metadata": {},
   "outputs": [
    {
     "name": "stdout",
     "output_type": "stream",
     "text": [
      "0.64461124\n"
     ]
    }
   ],
   "source": [
    "# hyunnie와 titanic을 내적하는 코드\n",
    "np.set_printoptions(formatter={'float_kind': lambda x: \"{0:0.3f}\".format(x)})\n",
    "\n",
    "print(np.dot(hyunnie_vector, titanic_vector))"
   ]
  },
  {
   "cell_type": "markdown",
   "id": "af3b0de3",
   "metadata": {},
   "source": [
    "무작위로 영화 하나 선정"
   ]
  },
  {
   "cell_type": "code",
   "execution_count": 31,
   "id": "a23d5e29",
   "metadata": {},
   "outputs": [
    {
     "name": "stdout",
     "output_type": "stream",
     "text": [
      "526\n"
     ]
    }
   ],
   "source": [
    "print(movie_to_idx['Superman (1978)'])"
   ]
  },
  {
   "cell_type": "code",
   "execution_count": 32,
   "id": "f93e00e0",
   "metadata": {},
   "outputs": [],
   "source": [
    "hyunnie, superman = user_to_idx['hyunnie'], movie_to_idx['Superman (1978)']\n",
    "hyunnie_vector, superman_vector = als_model.user_factors[hyunnie], als_model.item_factors[superman]"
   ]
  },
  {
   "cell_type": "code",
   "execution_count": 33,
   "id": "d3e3c08b",
   "metadata": {},
   "outputs": [
    {
     "data": {
      "text/plain": [
       "array([0.345, 0.117, 0.064, 0.539, 0.195, -0.340, -0.780, 0.699, 0.252,\n",
       "       0.211, 0.298, -0.995, 0.348, -0.746, 0.285, 0.571, -0.097, 0.408,\n",
       "       -0.623, -0.118, 0.206, -0.512, 0.300, 0.199, -0.209, 0.084, 0.453,\n",
       "       -0.294, -0.147, 0.422, -0.742, -0.282, -0.252, 0.434, 0.698, 0.318,\n",
       "       -0.707, -0.484, 0.550, 0.358, -0.054, -1.016, -1.300, 0.702, 0.485,\n",
       "       0.011, -0.201, -0.442, -0.993, 0.439, -0.738, 0.026, 1.009, -0.191,\n",
       "       0.095, 0.970, 0.310, -0.246, -0.578, -0.014, 0.623, 0.736, -0.052,\n",
       "       -0.143, -0.668, 0.737, -1.071, 0.730, -0.405, -0.220, -0.299,\n",
       "       0.607, 0.623, 0.429, 0.067, -0.058, 0.537, 0.004, 0.398, -0.121,\n",
       "       0.661, -0.342, -1.105, 0.225, 0.003, 0.103, 0.589, -0.242, -0.538,\n",
       "       0.337, -0.670, 0.568, 0.577, 0.361, -1.206, 0.244, -0.037, 0.685,\n",
       "       -0.251, 0.182], dtype=float32)"
      ]
     },
     "execution_count": 33,
     "metadata": {},
     "output_type": "execute_result"
    }
   ],
   "source": [
    "hyunnie_vector"
   ]
  },
  {
   "cell_type": "code",
   "execution_count": 34,
   "id": "05b999f0",
   "metadata": {},
   "outputs": [
    {
     "data": {
      "text/plain": [
       "array([-0.006, 0.023, -0.004, 0.028, 0.027, 0.015, -0.003, -0.014, -0.016,\n",
       "       0.004, -0.014, -0.008, 0.013, 0.012, 0.009, -0.005, 0.020, -0.004,\n",
       "       -0.004, 0.010, 0.003, 0.018, 0.013, 0.007, 0.019, -0.004, 0.002,\n",
       "       0.020, 0.015, -0.011, 0.017, -0.025, 0.011, 0.001, -0.008, 0.014,\n",
       "       0.001, 0.014, 0.002, -0.000, 0.021, 0.004, 0.009, 0.016, -0.004,\n",
       "       0.027, 0.014, 0.020, 0.026, 0.003, 0.014, 0.014, -0.010, -0.016,\n",
       "       0.013, -0.005, -0.002, -0.011, 0.012, 0.024, 0.009, 0.000, 0.028,\n",
       "       0.030, 0.002, -0.005, 0.035, 0.002, -0.006, 0.006, -0.002, -0.001,\n",
       "       -0.003, 0.020, 0.003, -0.020, 0.019, 0.004, 0.008, 0.020, 0.005,\n",
       "       -0.008, 0.001, 0.015, -0.005, 0.009, 0.002, -0.009, -0.013, 0.004,\n",
       "       0.009, 0.013, 0.011, 0.022, -0.001, 0.005, 0.025, -0.012, 0.018,\n",
       "       -0.043], dtype=float32)"
      ]
     },
     "execution_count": 34,
     "metadata": {},
     "output_type": "execute_result"
    }
   ],
   "source": [
    "superman_vector"
   ]
  },
  {
   "cell_type": "code",
   "execution_count": 35,
   "id": "121f9a37",
   "metadata": {},
   "outputs": [
    {
     "name": "stdout",
     "output_type": "stream",
     "text": [
      "-0.10661157\n"
     ]
    }
   ],
   "source": [
    "print(np.dot(hyunnie_vector, superman_vector))"
   ]
  },
  {
   "cell_type": "markdown",
   "id": "0c02888f",
   "metadata": {},
   "source": [
    "**내가 선호하는 영화와 비슷한 영화 추천받기**"
   ]
  },
  {
   "cell_type": "code",
   "execution_count": 36,
   "id": "2603900e",
   "metadata": {},
   "outputs": [
    {
     "data": {
      "text/plain": [
       "[(38, 0.99999994),\n",
       " (233, 0.46680373),\n",
       " (121, 0.4323021),\n",
       " (243, 0.4221454),\n",
       " (141, 0.39640424),\n",
       " (273, 0.39327282),\n",
       " (1695, 0.38542134),\n",
       " (796, 0.384956),\n",
       " (170, 0.38211265),\n",
       " (832, 0.37681922),\n",
       " (670, 0.36678216),\n",
       " (235, 0.36478874),\n",
       " (124, 0.36329997),\n",
       " (3537, 0.36019614),\n",
       " (808, 0.35213405)]"
      ]
     },
     "execution_count": 36,
     "metadata": {},
     "output_type": "execute_result"
    }
   ],
   "source": [
    "favorite_movie = 'Sixth Sense, The (1999)'           # 식스센스\n",
    "movie_id =  movie_to_idx[favorite_movie]\n",
    "similar_movie = als_model.similar_items(movie_id, N=15)\n",
    "similar_movie"
   ]
  },
  {
   "cell_type": "code",
   "execution_count": 37,
   "id": "9156ccd2",
   "metadata": {},
   "outputs": [
    {
     "data": {
      "text/plain": [
       "['Sixth Sense, The (1999)',\n",
       " 'Usual Suspects, The (1995)',\n",
       " 'Silence of the Lambs, The (1991)',\n",
       " 'Ghostbusters (1984)',\n",
       " 'Fugitive, The (1993)',\n",
       " 'Fight Club (1999)',\n",
       " 'Messenger: The Story of Joan of Arc, The (1999)',\n",
       " 'Bone Collector, The (1999)',\n",
       " 'Being John Malkovich (1999)',\n",
       " 'Jakob the Liar (1999)',\n",
       " 'Galaxy Quest (1999)',\n",
       " 'Sleepy Hollow (1999)',\n",
       " 'Matrix, The (1999)',\n",
       " 'Regret to Inform (1998)',\n",
       " 'End of Days (1999)']"
      ]
     },
     "execution_count": 37,
     "metadata": {},
     "output_type": "execute_result"
    }
   ],
   "source": [
    "#artist_to_idx 를 뒤집어, index로부터 artist 이름을 얻는 dict를 생성합니다. \n",
    "idx_to_movie = {v:k for k,v in movie_to_idx.items()}\n",
    "[idx_to_movie[i[0]] for i in similar_movie]"
   ]
  },
  {
   "cell_type": "code",
   "execution_count": 38,
   "id": "0822141f",
   "metadata": {},
   "outputs": [],
   "source": [
    "def get_similar_movie(movie_name: str):\n",
    "    movie_id = movie_to_idx[movie_name]\n",
    "    similar_movie = als_model.similar_items(movie_id)\n",
    "    similar_movie = [idx_to_movie[i[0]] for i in similar_movie]\n",
    "    return similar_movie"
   ]
  },
  {
   "cell_type": "code",
   "execution_count": 39,
   "id": "1bf78b58",
   "metadata": {},
   "outputs": [
    {
     "data": {
      "text/plain": [
       "['Toy Story (1995)',\n",
       " 'Toy Story 2 (1999)',\n",
       " \"Bug's Life, A (1998)\",\n",
       " 'Babe (1995)',\n",
       " 'Aladdin (1992)',\n",
       " 'Groundhog Day (1993)',\n",
       " 'Lion King, The (1994)',\n",
       " \"There's Something About Mary (1998)\",\n",
       " 'Beauty and the Beast (1991)',\n",
       " 'Pleasantville (1998)']"
      ]
     },
     "execution_count": 39,
     "metadata": {},
     "output_type": "execute_result"
    }
   ],
   "source": [
    "get_similar_movie('Toy Story (1995)')"
   ]
  },
  {
   "cell_type": "code",
   "execution_count": 40,
   "id": "34540cde",
   "metadata": {},
   "outputs": [
    {
     "data": {
      "text/plain": [
       "['Titanic (1997)',\n",
       " 'Jerry Maguire (1996)',\n",
       " \"You've Got Mail (1998)\",\n",
       " 'Ever After: A Cinderella Story (1998)',\n",
       " 'Notting Hill (1999)',\n",
       " 'Held Up (2000)',\n",
       " 'Pretty Woman (1990)',\n",
       " 'Parent Trap, The (1998)',\n",
       " 'Far and Away (1992)',\n",
       " 'Quest for Fire (1981)']"
      ]
     },
     "execution_count": 40,
     "metadata": {},
     "output_type": "execute_result"
    }
   ],
   "source": [
    "get_similar_movie('Titanic (1997)')"
   ]
  },
  {
   "cell_type": "markdown",
   "id": "0f118df4",
   "metadata": {},
   "source": [
    "**사용자 기반 영화 추천**"
   ]
  },
  {
   "cell_type": "code",
   "execution_count": 41,
   "id": "99a30683",
   "metadata": {},
   "outputs": [
    {
     "data": {
      "text/plain": [
       "[(50, 0.571331),\n",
       " (248, 0.3117232),\n",
       " (39, 0.29456782),\n",
       " (330, 0.280908),\n",
       " (4, 0.26355714),\n",
       " (322, 0.26038045),\n",
       " (126, 0.2603704),\n",
       " (384, 0.24254578),\n",
       " (255, 0.23330697),\n",
       " (626, 0.23075086),\n",
       " (60, 0.22892232),\n",
       " (110, 0.22652979),\n",
       " (154, 0.21507877),\n",
       " (670, 0.21190444),\n",
       " (33, 0.20699811),\n",
       " (243, 0.20281395),\n",
       " (160, 0.19493315),\n",
       " (121, 0.18965612),\n",
       " (10, 0.18713492),\n",
       " (81, 0.186642)]"
      ]
     },
     "execution_count": 41,
     "metadata": {},
     "output_type": "execute_result"
    }
   ],
   "source": [
    "user = user_to_idx['hyunnie']\n",
    "# recommend에서는 user*item CSR Matrix를 받습니다.\n",
    "movie_recommended = als_model.recommend(user, csr_data, N=20, filter_already_liked_items=True)\n",
    "movie_recommended"
   ]
  },
  {
   "cell_type": "code",
   "execution_count": 42,
   "id": "b4d01361",
   "metadata": {},
   "outputs": [
    {
     "data": {
      "text/html": [
       "<div>\n",
       "<style scoped>\n",
       "    .dataframe tbody tr th:only-of-type {\n",
       "        vertical-align: middle;\n",
       "    }\n",
       "\n",
       "    .dataframe tbody tr th {\n",
       "        vertical-align: top;\n",
       "    }\n",
       "\n",
       "    .dataframe thead th {\n",
       "        text-align: right;\n",
       "    }\n",
       "</style>\n",
       "<table border=\"1\" class=\"dataframe\">\n",
       "  <thead>\n",
       "    <tr style=\"text-align: right;\">\n",
       "      <th></th>\n",
       "      <th>추천 영화 Top 20</th>\n",
       "    </tr>\n",
       "  </thead>\n",
       "  <tbody>\n",
       "    <tr>\n",
       "      <th>0</th>\n",
       "      <td>Toy Story 2 (1999)</td>\n",
       "    </tr>\n",
       "    <tr>\n",
       "      <th>1</th>\n",
       "      <td>Good Will Hunting (1997)</td>\n",
       "    </tr>\n",
       "    <tr>\n",
       "      <th>2</th>\n",
       "      <td>Apollo 13 (1995)</td>\n",
       "    </tr>\n",
       "    <tr>\n",
       "      <th>3</th>\n",
       "      <td>Lion King, The (1994)</td>\n",
       "    </tr>\n",
       "    <tr>\n",
       "      <th>4</th>\n",
       "      <td>Bug's Life, A (1998)</td>\n",
       "    </tr>\n",
       "    <tr>\n",
       "      <th>5</th>\n",
       "      <td>Babe (1995)</td>\n",
       "    </tr>\n",
       "    <tr>\n",
       "      <th>6</th>\n",
       "      <td>Shakespeare in Love (1998)</td>\n",
       "    </tr>\n",
       "    <tr>\n",
       "      <th>7</th>\n",
       "      <td>Jerry Maguire (1996)</td>\n",
       "    </tr>\n",
       "    <tr>\n",
       "      <th>8</th>\n",
       "      <td>There's Something About Mary (1998)</td>\n",
       "    </tr>\n",
       "    <tr>\n",
       "      <th>9</th>\n",
       "      <td>You've Got Mail (1998)</td>\n",
       "    </tr>\n",
       "    <tr>\n",
       "      <th>10</th>\n",
       "      <td>Star Wars: Episode I - The Phantom Menace (1999)</td>\n",
       "    </tr>\n",
       "    <tr>\n",
       "      <th>11</th>\n",
       "      <td>Groundhog Day (1993)</td>\n",
       "    </tr>\n",
       "    <tr>\n",
       "      <th>12</th>\n",
       "      <td>As Good As It Gets (1997)</td>\n",
       "    </tr>\n",
       "    <tr>\n",
       "      <th>13</th>\n",
       "      <td>Galaxy Quest (1999)</td>\n",
       "    </tr>\n",
       "    <tr>\n",
       "      <th>14</th>\n",
       "      <td>Aladdin (1992)</td>\n",
       "    </tr>\n",
       "    <tr>\n",
       "      <th>15</th>\n",
       "      <td>Ghostbusters (1984)</td>\n",
       "    </tr>\n",
       "    <tr>\n",
       "      <th>16</th>\n",
       "      <td>Forrest Gump (1994)</td>\n",
       "    </tr>\n",
       "    <tr>\n",
       "      <th>17</th>\n",
       "      <td>Silence of the Lambs, The (1991)</td>\n",
       "    </tr>\n",
       "    <tr>\n",
       "      <th>18</th>\n",
       "      <td>Beauty and the Beast (1991)</td>\n",
       "    </tr>\n",
       "    <tr>\n",
       "      <th>19</th>\n",
       "      <td>Green Mile, The (1999)</td>\n",
       "    </tr>\n",
       "  </tbody>\n",
       "</table>\n",
       "</div>"
      ],
      "text/plain": [
       "                                        추천 영화 Top 20\n",
       "0                                 Toy Story 2 (1999)\n",
       "1                           Good Will Hunting (1997)\n",
       "2                                   Apollo 13 (1995)\n",
       "3                              Lion King, The (1994)\n",
       "4                               Bug's Life, A (1998)\n",
       "5                                        Babe (1995)\n",
       "6                         Shakespeare in Love (1998)\n",
       "7                               Jerry Maguire (1996)\n",
       "8                There's Something About Mary (1998)\n",
       "9                             You've Got Mail (1998)\n",
       "10  Star Wars: Episode I - The Phantom Menace (1999)\n",
       "11                              Groundhog Day (1993)\n",
       "12                         As Good As It Gets (1997)\n",
       "13                               Galaxy Quest (1999)\n",
       "14                                    Aladdin (1992)\n",
       "15                               Ghostbusters (1984)\n",
       "16                               Forrest Gump (1994)\n",
       "17                  Silence of the Lambs, The (1991)\n",
       "18                       Beauty and the Beast (1991)\n",
       "19                            Green Mile, The (1999)"
      ]
     },
     "execution_count": 42,
     "metadata": {},
     "output_type": "execute_result"
    }
   ],
   "source": [
    "rec = [idx_to_movie[i[0]] for i in movie_recommended]\n",
    "recommendation = pd.DataFrame(rec)\n",
    "recommendation.columns = ['추천 영화 Top 20']\n",
    "recommendation"
   ]
  },
  {
   "cell_type": "code",
   "execution_count": 43,
   "id": "932fba2f",
   "metadata": {},
   "outputs": [],
   "source": [
    "Aladin = movie_to_idx['Aladdin (1992)']\n",
    "explain = als_model.explain(user, csr_data, itemid=Aladin)"
   ]
  },
  {
   "cell_type": "code",
   "execution_count": 44,
   "id": "5c552c8b",
   "metadata": {},
   "outputs": [
    {
     "data": {
      "text/plain": [
       "[('Toy Story (1995)', 0.18225603754616626),\n",
       " ('Home Alone (1990)', 0.04157306743575107),\n",
       " ('Titanic (1997)', 0.0023183695020264645),\n",
       " ('Truman Show, The (1998)', 0.0022379009489592403),\n",
       " ('Sixth Sense, The (1999)', -0.023052653669921673)]"
      ]
     },
     "execution_count": 44,
     "metadata": {},
     "output_type": "execute_result"
    }
   ],
   "source": [
    "[(idx_to_movie[i[0]], i[1]) for i in explain[1]]"
   ]
  },
  {
   "cell_type": "markdown",
   "id": "8e19b9e5",
   "metadata": {},
   "source": [
    "# [E-14] 회고\n",
    "\n",
    "이번 익스14번도 퍼즐을 끼워맞춰 넣는 것 처럼 과제를 수행했습니다😆\n",
    "\n",
    "틀에 맞는 퍼즐조각을 끼워 맞춰 넣는 것 처럼 노드에 있는 코드를 가지고와서 시행하고,\n",
    "데이터 전처리 과정에서 다른 분이 movies와 rating을 합친 데이터를 가지고 프로젝트를 수행했는데, 이 과정으로 숫자로 되어있는 movie_id를 직관적으로 영화 제목과 장르를 확인할 수 있어서 한 번 가지고 와봤습니다.\n",
    "\n",
    "보기편하려구요😁\n",
    "\n",
    "https://github.com/hyunnie94/AIFFEL\n",
    "\n",
    "\n",
    "그리고 빠지면 섭섭한 오류는 csr matrix를 생성할 때 차원이 초과되는 오류가 발생했었는데, movie_id가 연속적이지 않아 유니크한 값이 실제로는 더 적었기 때문이라고 하더라고요. 이 오류를 movie_id_new라는 새로운 영화 인덱스를 추가해서 해결하셨길래 이 역시ㅎㅎ 따라했는데😅\n",
    "너무나 실행이 잘 되더라고요.\n",
    "\n",
    "그 외의 오류는 역시나 철자 하나 빠트리거나 더 넣어서 생기는 오류였네요😅\n",
    "\n",
    "마지막에 추천영화에서 토이스토리2가 나와서 얼추 맞는 것 같아서 기분이 좋았습니다.\n",
    "다음에 조금 더 능숙해진다면ㅎ 최근에 나온 영화 데이터를 기반으로 영화를 추천 받는다면 어떤 영화를 추천 받을지 궁금하네용😎"
   ]
  }
 ],
 "metadata": {
  "kernelspec": {
   "display_name": "Python 3 (ipykernel)",
   "language": "python",
   "name": "python3"
  },
  "language_info": {
   "codemirror_mode": {
    "name": "ipython",
    "version": 3
   },
   "file_extension": ".py",
   "mimetype": "text/x-python",
   "name": "python",
   "nbconvert_exporter": "python",
   "pygments_lexer": "ipython3",
   "version": "3.9.7"
  }
 },
 "nbformat": 4,
 "nbformat_minor": 5
}
